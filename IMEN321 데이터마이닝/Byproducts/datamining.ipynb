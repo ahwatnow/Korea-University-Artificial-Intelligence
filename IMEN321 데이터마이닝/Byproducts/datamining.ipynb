{
 "cells": [
  {
   "cell_type": "code",
   "execution_count": 1,
   "metadata": {
    "colab": {
     "base_uri": "https://localhost:8080/"
    },
    "executionInfo": {
     "elapsed": 21796,
     "status": "ok",
     "timestamp": 1654313417452,
     "user": {
      "displayName": "‍황수연[ 학부재학 / 컴퓨터융합소프트웨어학과 ]",
      "userId": "03365621454974662117"
     },
     "user_tz": -540
    },
    "id": "bTQdL-PBIXVz",
    "outputId": "ac5a9978-44c8-42f5-aca4-0e820e0966ec"
   },
   "outputs": [
    {
     "name": "stdout",
     "output_type": "stream",
     "text": [
      "Mounted at /content/drive\n"
     ]
    }
   ],
   "source": [
    "from google.colab import drive\n",
    "drive.mount('/content/drive')"
   ]
  },
  {
   "cell_type": "code",
   "execution_count": 2,
   "metadata": {
    "executionInfo": {
     "elapsed": 1449,
     "status": "ok",
     "timestamp": 1654313418872,
     "user": {
      "displayName": "‍황수연[ 학부재학 / 컴퓨터융합소프트웨어학과 ]",
      "userId": "03365621454974662117"
     },
     "user_tz": -540
    },
    "id": "Hq6RLFpuJUyW"
   },
   "outputs": [],
   "source": [
    "import pandas as pd\n",
    "import numpy as np \n",
    "\n",
    "from sklearn.feature_extraction.text import CountVectorizer\n",
    "from sklearn.model_selection import train_test_split\n",
    "from sklearn.naive_bayes import MultinomialNB\n",
    "from sklearn.metrics import accuracy_score\n",
    "from sklearn.metrics import classification_report\n",
    "from sklearn.metrics import f1_score\n",
    "\n",
    "import seaborn as sns \n",
    "import matplotlib.pyplot as plt"
   ]
  },
  {
   "cell_type": "markdown",
   "metadata": {
    "id": "RewjLlB-Ko9j"
   },
   "source": [
    "# 1. load data"
   ]
  },
  {
   "cell_type": "code",
   "execution_count": 6,
   "metadata": {
    "executionInfo": {
     "elapsed": 324,
     "status": "ok",
     "timestamp": 1654313431162,
     "user": {
      "displayName": "‍황수연[ 학부재학 / 컴퓨터융합소프트웨어학과 ]",
      "userId": "03365621454974662117"
     },
     "user_tz": -540
    },
    "id": "HCFcIUj0uAif"
   },
   "outputs": [],
   "source": [
    "from sklearn.manifold import TSNE\n",
    "import matplotlib.font_manager as fm\n",
    "from sklearn.feature_extraction.text import TfidfVectorizer\n",
    "#from sklearn.feature_extraction.text import CountVectorizer"
   ]
  },
  {
   "cell_type": "code",
   "execution_count": 7,
   "metadata": {
    "executionInfo": {
     "elapsed": 1938,
     "status": "ok",
     "timestamp": 1654313433417,
     "user": {
      "displayName": "‍황수연[ 학부재학 / 컴퓨터융합소프트웨어학과 ]",
      "userId": "03365621454974662117"
     },
     "user_tz": -540
    },
    "id": "bxhDjocXmTBo"
   },
   "outputs": [],
   "source": [
    "label_tf_idf = pd.read_csv('/content/drive/Shareddrives/datamining_2022/merged.csv',encoding = 'cp949', index_col=0)"
   ]
  },
  {
   "cell_type": "code",
   "execution_count": 8,
   "metadata": {
    "colab": {
     "base_uri": "https://localhost:8080/",
     "height": 1000
    },
    "executionInfo": {
     "elapsed": 112,
     "status": "ok",
     "timestamp": 1654313433421,
     "user": {
      "displayName": "‍황수연[ 학부재학 / 컴퓨터융합소프트웨어학과 ]",
      "userId": "03365621454974662117"
     },
     "user_tz": -540
    },
    "id": "F6c_QpF8yNJH",
    "outputId": "e6560b1f-00c8-4b0b-c89a-f6b23536af88"
   },
   "outputs": [
    {
     "data": {
      "text/html": [
       "\n",
       "  <div id=\"df-fe18aa5a-6e93-4f18-99d8-ea47d77076c4\">\n",
       "    <div class=\"colab-df-container\">\n",
       "      <div>\n",
       "<style scoped>\n",
       "    .dataframe tbody tr th:only-of-type {\n",
       "        vertical-align: middle;\n",
       "    }\n",
       "\n",
       "    .dataframe tbody tr th {\n",
       "        vertical-align: top;\n",
       "    }\n",
       "\n",
       "    .dataframe thead th {\n",
       "        text-align: right;\n",
       "    }\n",
       "</style>\n",
       "<table border=\"1\" class=\"dataframe\">\n",
       "  <thead>\n",
       "    <tr style=\"text-align: right;\">\n",
       "      <th></th>\n",
       "      <th>index</th>\n",
       "      <th>big_category</th>\n",
       "      <th>small_category</th>\n",
       "      <th>ranking</th>\n",
       "      <th>name</th>\n",
       "      <th>price</th>\n",
       "      <th>sale_price</th>\n",
       "      <th>sale_ratio</th>\n",
       "      <th>delivery</th>\n",
       "      <th>morph</th>\n",
       "      <th>...</th>\n",
       "      <th>콘도</th>\n",
       "      <th>리본</th>\n",
       "      <th>공공기관</th>\n",
       "      <th>춘천</th>\n",
       "      <th>펜</th>\n",
       "      <th>하디</th>\n",
       "      <th>주년</th>\n",
       "      <th>프로젝터</th>\n",
       "      <th>방수</th>\n",
       "      <th>가야</th>\n",
       "    </tr>\n",
       "    <tr>\n",
       "      <th>Column2</th>\n",
       "      <th></th>\n",
       "      <th></th>\n",
       "      <th></th>\n",
       "      <th></th>\n",
       "      <th></th>\n",
       "      <th></th>\n",
       "      <th></th>\n",
       "      <th></th>\n",
       "      <th></th>\n",
       "      <th></th>\n",
       "      <th></th>\n",
       "      <th></th>\n",
       "      <th></th>\n",
       "      <th></th>\n",
       "      <th></th>\n",
       "      <th></th>\n",
       "      <th></th>\n",
       "      <th></th>\n",
       "      <th></th>\n",
       "      <th></th>\n",
       "      <th></th>\n",
       "    </tr>\n",
       "  </thead>\n",
       "  <tbody>\n",
       "    <tr>\n",
       "      <th>0</th>\n",
       "      <td>3</td>\n",
       "      <td>e쿠폰/티켓</td>\n",
       "      <td>외식</td>\n",
       "      <td>5</td>\n",
       "      <td>[스타벅스](스타벅스)(APP전용) e카드 3만원 교환권</td>\n",
       "      <td>30000</td>\n",
       "      <td>30000</td>\n",
       "      <td>0</td>\n",
       "      <td>해당사항없음</td>\n",
       "      <td>['[', '스타벅스', '](', '스타벅스', ')(', 'APP', '전용',...</td>\n",
       "      <td>...</td>\n",
       "      <td>0</td>\n",
       "      <td>0</td>\n",
       "      <td>0</td>\n",
       "      <td>0</td>\n",
       "      <td>0</td>\n",
       "      <td>0</td>\n",
       "      <td>0</td>\n",
       "      <td>0</td>\n",
       "      <td>0</td>\n",
       "      <td>0</td>\n",
       "    </tr>\n",
       "    <tr>\n",
       "      <th>1</th>\n",
       "      <td>8</td>\n",
       "      <td>e쿠폰/티켓</td>\n",
       "      <td>외식</td>\n",
       "      <td>10</td>\n",
       "      <td>[쿠우쿠우](쿠우쿠우) 기프티카드 7만원권</td>\n",
       "      <td>70000</td>\n",
       "      <td>67900</td>\n",
       "      <td>3</td>\n",
       "      <td>해당사항없음</td>\n",
       "      <td>['[', '쿠우', '쿠우', '](', '쿠우', '쿠우', ')', '기', ...</td>\n",
       "      <td>...</td>\n",
       "      <td>0</td>\n",
       "      <td>0</td>\n",
       "      <td>0</td>\n",
       "      <td>0</td>\n",
       "      <td>0</td>\n",
       "      <td>0</td>\n",
       "      <td>0</td>\n",
       "      <td>0</td>\n",
       "      <td>0</td>\n",
       "      <td>0</td>\n",
       "    </tr>\n",
       "    <tr>\n",
       "      <th>2</th>\n",
       "      <td>9</td>\n",
       "      <td>e쿠폰/티켓</td>\n",
       "      <td>외식</td>\n",
       "      <td>11</td>\n",
       "      <td>[아웃백스테이크하우스](아웃백/이디야) 페이즈 기프트 외식 5만원권</td>\n",
       "      <td>50000</td>\n",
       "      <td>47000</td>\n",
       "      <td>6</td>\n",
       "      <td>해당사항없음</td>\n",
       "      <td>['[', '아웃백', '스테이크하우스', '](', '아웃백', '/', '이디야...</td>\n",
       "      <td>...</td>\n",
       "      <td>0</td>\n",
       "      <td>0</td>\n",
       "      <td>0</td>\n",
       "      <td>0</td>\n",
       "      <td>0</td>\n",
       "      <td>0</td>\n",
       "      <td>0</td>\n",
       "      <td>0</td>\n",
       "      <td>0</td>\n",
       "      <td>0</td>\n",
       "    </tr>\n",
       "    <tr>\n",
       "      <th>3</th>\n",
       "      <td>11</td>\n",
       "      <td>e쿠폰/티켓</td>\n",
       "      <td>외식</td>\n",
       "      <td>13</td>\n",
       "      <td>[아웃백스테이크하우스]아웃백 디지털 3만원권</td>\n",
       "      <td>30000</td>\n",
       "      <td>27870</td>\n",
       "      <td>7</td>\n",
       "      <td>해당사항없음</td>\n",
       "      <td>['[', '아웃백', '스테이크하우스', ']', '아웃백', '디지털', '3만...</td>\n",
       "      <td>...</td>\n",
       "      <td>0</td>\n",
       "      <td>0</td>\n",
       "      <td>0</td>\n",
       "      <td>0</td>\n",
       "      <td>0</td>\n",
       "      <td>0</td>\n",
       "      <td>0</td>\n",
       "      <td>0</td>\n",
       "      <td>0</td>\n",
       "      <td>0</td>\n",
       "    </tr>\n",
       "    <tr>\n",
       "      <th>4</th>\n",
       "      <td>16</td>\n",
       "      <td>e쿠폰/티켓</td>\n",
       "      <td>외식</td>\n",
       "      <td>18</td>\n",
       "      <td>[맥도날드](맥도날드) 디지털 1만원권</td>\n",
       "      <td>10000</td>\n",
       "      <td>9700</td>\n",
       "      <td>3</td>\n",
       "      <td>해당사항없음</td>\n",
       "      <td>['[', '맥도날드', '](', '맥도날드', ')', '디지털', '1만원',...</td>\n",
       "      <td>...</td>\n",
       "      <td>0</td>\n",
       "      <td>0</td>\n",
       "      <td>0</td>\n",
       "      <td>0</td>\n",
       "      <td>0</td>\n",
       "      <td>0</td>\n",
       "      <td>0</td>\n",
       "      <td>0</td>\n",
       "      <td>0</td>\n",
       "      <td>0</td>\n",
       "    </tr>\n",
       "  </tbody>\n",
       "</table>\n",
       "<p>5 rows × 4321 columns</p>\n",
       "</div>\n",
       "      <button class=\"colab-df-convert\" onclick=\"convertToInteractive('df-fe18aa5a-6e93-4f18-99d8-ea47d77076c4')\"\n",
       "              title=\"Convert this dataframe to an interactive table.\"\n",
       "              style=\"display:none;\">\n",
       "        \n",
       "  <svg xmlns=\"http://www.w3.org/2000/svg\" height=\"24px\"viewBox=\"0 0 24 24\"\n",
       "       width=\"24px\">\n",
       "    <path d=\"M0 0h24v24H0V0z\" fill=\"none\"/>\n",
       "    <path d=\"M18.56 5.44l.94 2.06.94-2.06 2.06-.94-2.06-.94-.94-2.06-.94 2.06-2.06.94zm-11 1L8.5 8.5l.94-2.06 2.06-.94-2.06-.94L8.5 2.5l-.94 2.06-2.06.94zm10 10l.94 2.06.94-2.06 2.06-.94-2.06-.94-.94-2.06-.94 2.06-2.06.94z\"/><path d=\"M17.41 7.96l-1.37-1.37c-.4-.4-.92-.59-1.43-.59-.52 0-1.04.2-1.43.59L10.3 9.45l-7.72 7.72c-.78.78-.78 2.05 0 2.83L4 21.41c.39.39.9.59 1.41.59.51 0 1.02-.2 1.41-.59l7.78-7.78 2.81-2.81c.8-.78.8-2.07 0-2.86zM5.41 20L4 18.59l7.72-7.72 1.47 1.35L5.41 20z\"/>\n",
       "  </svg>\n",
       "      </button>\n",
       "      \n",
       "  <style>\n",
       "    .colab-df-container {\n",
       "      display:flex;\n",
       "      flex-wrap:wrap;\n",
       "      gap: 12px;\n",
       "    }\n",
       "\n",
       "    .colab-df-convert {\n",
       "      background-color: #E8F0FE;\n",
       "      border: none;\n",
       "      border-radius: 50%;\n",
       "      cursor: pointer;\n",
       "      display: none;\n",
       "      fill: #1967D2;\n",
       "      height: 32px;\n",
       "      padding: 0 0 0 0;\n",
       "      width: 32px;\n",
       "    }\n",
       "\n",
       "    .colab-df-convert:hover {\n",
       "      background-color: #E2EBFA;\n",
       "      box-shadow: 0px 1px 2px rgba(60, 64, 67, 0.3), 0px 1px 3px 1px rgba(60, 64, 67, 0.15);\n",
       "      fill: #174EA6;\n",
       "    }\n",
       "\n",
       "    [theme=dark] .colab-df-convert {\n",
       "      background-color: #3B4455;\n",
       "      fill: #D2E3FC;\n",
       "    }\n",
       "\n",
       "    [theme=dark] .colab-df-convert:hover {\n",
       "      background-color: #434B5C;\n",
       "      box-shadow: 0px 1px 3px 1px rgba(0, 0, 0, 0.15);\n",
       "      filter: drop-shadow(0px 1px 2px rgba(0, 0, 0, 0.3));\n",
       "      fill: #FFFFFF;\n",
       "    }\n",
       "  </style>\n",
       "\n",
       "      <script>\n",
       "        const buttonEl =\n",
       "          document.querySelector('#df-fe18aa5a-6e93-4f18-99d8-ea47d77076c4 button.colab-df-convert');\n",
       "        buttonEl.style.display =\n",
       "          google.colab.kernel.accessAllowed ? 'block' : 'none';\n",
       "\n",
       "        async function convertToInteractive(key) {\n",
       "          const element = document.querySelector('#df-fe18aa5a-6e93-4f18-99d8-ea47d77076c4');\n",
       "          const dataTable =\n",
       "            await google.colab.kernel.invokeFunction('convertToInteractive',\n",
       "                                                     [key], {});\n",
       "          if (!dataTable) return;\n",
       "\n",
       "          const docLinkHtml = 'Like what you see? Visit the ' +\n",
       "            '<a target=\"_blank\" href=https://colab.research.google.com/notebooks/data_table.ipynb>data table notebook</a>'\n",
       "            + ' to learn more about interactive tables.';\n",
       "          element.innerHTML = '';\n",
       "          dataTable['output_type'] = 'display_data';\n",
       "          await google.colab.output.renderOutput(dataTable, element);\n",
       "          const docLink = document.createElement('div');\n",
       "          docLink.innerHTML = docLinkHtml;\n",
       "          element.appendChild(docLink);\n",
       "        }\n",
       "      </script>\n",
       "    </div>\n",
       "  </div>\n",
       "  "
      ],
      "text/plain": [
       "         index big_category small_category  ranking  \\\n",
       "Column2                                               \n",
       "0            3       e쿠폰/티켓             외식        5   \n",
       "1            8       e쿠폰/티켓             외식       10   \n",
       "2            9       e쿠폰/티켓             외식       11   \n",
       "3           11       e쿠폰/티켓             외식       13   \n",
       "4           16       e쿠폰/티켓             외식       18   \n",
       "\n",
       "                                          name  price  sale_price  sale_ratio  \\\n",
       "Column2                                                                         \n",
       "0              [스타벅스](스타벅스)(APP전용) e카드 3만원 교환권  30000       30000           0   \n",
       "1                      [쿠우쿠우](쿠우쿠우) 기프티카드 7만원권  70000       67900           3   \n",
       "2        [아웃백스테이크하우스](아웃백/이디야) 페이즈 기프트 외식 5만원권  50000       47000           6   \n",
       "3                     [아웃백스테이크하우스]아웃백 디지털 3만원권  30000       27870           7   \n",
       "4                        [맥도날드](맥도날드) 디지털 1만원권  10000        9700           3   \n",
       "\n",
       "        delivery                                              morph  ... 콘도  \\\n",
       "Column2                                                              ...      \n",
       "0         해당사항없음  ['[', '스타벅스', '](', '스타벅스', ')(', 'APP', '전용',...  ...  0   \n",
       "1         해당사항없음  ['[', '쿠우', '쿠우', '](', '쿠우', '쿠우', ')', '기', ...  ...  0   \n",
       "2         해당사항없음  ['[', '아웃백', '스테이크하우스', '](', '아웃백', '/', '이디야...  ...  0   \n",
       "3         해당사항없음  ['[', '아웃백', '스테이크하우스', ']', '아웃백', '디지털', '3만...  ...  0   \n",
       "4         해당사항없음  ['[', '맥도날드', '](', '맥도날드', ')', '디지털', '1만원',...  ...  0   \n",
       "\n",
       "         리본  공공기관  춘천  펜  하디  주년  프로젝터  방수  가야  \n",
       "Column2                                         \n",
       "0         0     0   0  0   0   0     0   0   0  \n",
       "1         0     0   0  0   0   0     0   0   0  \n",
       "2         0     0   0  0   0   0     0   0   0  \n",
       "3         0     0   0  0   0   0     0   0   0  \n",
       "4         0     0   0  0   0   0     0   0   0  \n",
       "\n",
       "[5 rows x 4321 columns]"
      ]
     },
     "execution_count": 8,
     "metadata": {},
     "output_type": "execute_result"
    }
   ],
   "source": [
    "label_tf_idf.head()"
   ]
  },
  {
   "cell_type": "code",
   "execution_count": 9,
   "metadata": {
    "colab": {
     "base_uri": "https://localhost:8080/"
    },
    "executionInfo": {
     "elapsed": 89,
     "status": "ok",
     "timestamp": 1654313433424,
     "user": {
      "displayName": "‍황수연[ 학부재학 / 컴퓨터융합소프트웨어학과 ]",
      "userId": "03365621454974662117"
     },
     "user_tz": -540
    },
    "id": "5FkonHrHmxUe",
    "outputId": "0d9466b9-62d3-4958-dd70-c9113f2cc496"
   },
   "outputs": [
    {
     "data": {
      "text/plain": [
       "(2000, 4321)"
      ]
     },
     "execution_count": 9,
     "metadata": {},
     "output_type": "execute_result"
    }
   ],
   "source": [
    "label_tf_idf.shape"
   ]
  },
  {
   "cell_type": "code",
   "execution_count": 10,
   "metadata": {
    "executionInfo": {
     "elapsed": 83,
     "status": "ok",
     "timestamp": 1654313433428,
     "user": {
      "displayName": "‍황수연[ 학부재학 / 컴퓨터융합소프트웨어학과 ]",
      "userId": "03365621454974662117"
     },
     "user_tz": -540
    },
    "id": "jquygzt3m5iw"
   },
   "outputs": [],
   "source": [
    "label = label_tf_idf['big_category']"
   ]
  },
  {
   "cell_type": "code",
   "execution_count": 11,
   "metadata": {
    "executionInfo": {
     "elapsed": 78,
     "status": "ok",
     "timestamp": 1654313433430,
     "user": {
      "displayName": "‍황수연[ 학부재학 / 컴퓨터융합소프트웨어학과 ]",
      "userId": "03365621454974662117"
     },
     "user_tz": -540
    },
    "id": "PMHI7ZXVgPf-"
   },
   "outputs": [],
   "source": [
    "categories = set(label)"
   ]
  },
  {
   "cell_type": "code",
   "execution_count": 12,
   "metadata": {
    "colab": {
     "base_uri": "https://localhost:8080/"
    },
    "executionInfo": {
     "elapsed": 77,
     "status": "ok",
     "timestamp": 1654313433432,
     "user": {
      "displayName": "‍황수연[ 학부재학 / 컴퓨터융합소프트웨어학과 ]",
      "userId": "03365621454974662117"
     },
     "user_tz": -540
    },
    "id": "JGH6hK4NgVVb",
    "outputId": "dd087824-7a26-4e9d-b7ae-fc5918526492"
   },
   "outputs": [
    {
     "data": {
      "text/plain": [
       "{'e쿠폰/티켓',\n",
       " '가구/침구',\n",
       " '도서/음반',\n",
       " '생활/주방/건강',\n",
       " '스포츠/자동차',\n",
       " '식품',\n",
       " '신발/잡화',\n",
       " '여행',\n",
       " '유아동/출산',\n",
       " '컴퓨터/전자',\n",
       " '패션의류',\n",
       " '화장품/헤어'}"
      ]
     },
     "execution_count": 12,
     "metadata": {},
     "output_type": "execute_result"
    }
   ],
   "source": [
    "categories"
   ]
  },
  {
   "cell_type": "code",
   "execution_count": 13,
   "metadata": {
    "colab": {
     "base_uri": "https://localhost:8080/"
    },
    "executionInfo": {
     "elapsed": 77,
     "status": "ok",
     "timestamp": 1654313433435,
     "user": {
      "displayName": "‍황수연[ 학부재학 / 컴퓨터융합소프트웨어학과 ]",
      "userId": "03365621454974662117"
     },
     "user_tz": -540
    },
    "id": "R6hswjwPzHgq",
    "outputId": "1fe62d27-2764-4d5e-a7ee-aa67fa998a09"
   },
   "outputs": [
    {
     "data": {
      "text/plain": [
       "Index(['index', 'big_category', 'small_category', 'ranking', 'name', 'price',\n",
       "       'sale_price', 'sale_ratio', 'delivery', 'morph',\n",
       "       ...\n",
       "       '콘도', '리본', '공공기관', '춘천', '펜', '하디', '주년', '프로젝터', '방수', '가야'],\n",
       "      dtype='object', length=4321)"
      ]
     },
     "execution_count": 13,
     "metadata": {},
     "output_type": "execute_result"
    }
   ],
   "source": [
    "label_tf_idf.columns"
   ]
  },
  {
   "cell_type": "code",
   "execution_count": 14,
   "metadata": {
    "colab": {
     "base_uri": "https://localhost:8080/",
     "height": 35
    },
    "executionInfo": {
     "elapsed": 75,
     "status": "ok",
     "timestamp": 1654313433438,
     "user": {
      "displayName": "‍황수연[ 학부재학 / 컴퓨터융합소프트웨어학과 ]",
      "userId": "03365621454974662117"
     },
     "user_tz": -540
    },
    "id": "Vwp3E6UB1mZt",
    "outputId": "b37473ae-4e4d-4481-d0f6-084f18434bef"
   },
   "outputs": [
    {
     "data": {
      "application/vnd.google.colaboratory.intrinsic+json": {
       "type": "string"
      },
      "text/plain": [
       "'big_category'"
      ]
     },
     "execution_count": 14,
     "metadata": {},
     "output_type": "execute_result"
    }
   ],
   "source": [
    "label_tf_idf.columns[1]"
   ]
  },
  {
   "cell_type": "code",
   "execution_count": 15,
   "metadata": {
    "executionInfo": {
     "elapsed": 76,
     "status": "ok",
     "timestamp": 1654313433442,
     "user": {
      "displayName": "‍황수연[ 학부재학 / 컴퓨터융합소프트웨어학과 ]",
      "userId": "03365621454974662117"
     },
     "user_tz": -540
    },
    "id": "Xqw-bmnDjisg"
   },
   "outputs": [],
   "source": [
    "tf_idf_table = label_tf_idf[label_tf_idf.columns[11:4321]]"
   ]
  },
  {
   "cell_type": "code",
   "execution_count": 16,
   "metadata": {
    "colab": {
     "base_uri": "https://localhost:8080/",
     "height": 534
    },
    "executionInfo": {
     "elapsed": 76,
     "status": "ok",
     "timestamp": 1654313433443,
     "user": {
      "displayName": "‍황수연[ 학부재학 / 컴퓨터융합소프트웨어학과 ]",
      "userId": "03365621454974662117"
     },
     "user_tz": -540
    },
    "id": "nVvXOgx4iqKB",
    "outputId": "16e919b5-9658-4cef-fc4a-3f41ad5cc495"
   },
   "outputs": [
    {
     "data": {
      "text/html": [
       "\n",
       "  <div id=\"df-24d077e6-14c4-404d-a9fd-12287fad255d\">\n",
       "    <div class=\"colab-df-container\">\n",
       "      <div>\n",
       "<style scoped>\n",
       "    .dataframe tbody tr th:only-of-type {\n",
       "        vertical-align: middle;\n",
       "    }\n",
       "\n",
       "    .dataframe tbody tr th {\n",
       "        vertical-align: top;\n",
       "    }\n",
       "\n",
       "    .dataframe thead th {\n",
       "        text-align: right;\n",
       "    }\n",
       "</style>\n",
       "<table border=\"1\" class=\"dataframe\">\n",
       "  <thead>\n",
       "    <tr style=\"text-align: right;\">\n",
       "      <th></th>\n",
       "      <th>잔꽃</th>\n",
       "      <th>용품</th>\n",
       "      <th>렛</th>\n",
       "      <th>아유</th>\n",
       "      <th>날</th>\n",
       "      <th>라코스테</th>\n",
       "      <th>장군</th>\n",
       "      <th>토너</th>\n",
       "      <th>디파이</th>\n",
       "      <th>얼마나</th>\n",
       "      <th>...</th>\n",
       "      <th>콘도</th>\n",
       "      <th>리본</th>\n",
       "      <th>공공기관</th>\n",
       "      <th>춘천</th>\n",
       "      <th>펜</th>\n",
       "      <th>하디</th>\n",
       "      <th>주년</th>\n",
       "      <th>프로젝터</th>\n",
       "      <th>방수</th>\n",
       "      <th>가야</th>\n",
       "    </tr>\n",
       "    <tr>\n",
       "      <th>Column2</th>\n",
       "      <th></th>\n",
       "      <th></th>\n",
       "      <th></th>\n",
       "      <th></th>\n",
       "      <th></th>\n",
       "      <th></th>\n",
       "      <th></th>\n",
       "      <th></th>\n",
       "      <th></th>\n",
       "      <th></th>\n",
       "      <th></th>\n",
       "      <th></th>\n",
       "      <th></th>\n",
       "      <th></th>\n",
       "      <th></th>\n",
       "      <th></th>\n",
       "      <th></th>\n",
       "      <th></th>\n",
       "      <th></th>\n",
       "      <th></th>\n",
       "      <th></th>\n",
       "    </tr>\n",
       "  </thead>\n",
       "  <tbody>\n",
       "    <tr>\n",
       "      <th>0</th>\n",
       "      <td>0</td>\n",
       "      <td>0</td>\n",
       "      <td>0</td>\n",
       "      <td>0</td>\n",
       "      <td>0</td>\n",
       "      <td>0.0</td>\n",
       "      <td>0</td>\n",
       "      <td>0.0</td>\n",
       "      <td>0</td>\n",
       "      <td>0</td>\n",
       "      <td>...</td>\n",
       "      <td>0</td>\n",
       "      <td>0</td>\n",
       "      <td>0</td>\n",
       "      <td>0</td>\n",
       "      <td>0</td>\n",
       "      <td>0</td>\n",
       "      <td>0</td>\n",
       "      <td>0</td>\n",
       "      <td>0</td>\n",
       "      <td>0</td>\n",
       "    </tr>\n",
       "    <tr>\n",
       "      <th>1</th>\n",
       "      <td>0</td>\n",
       "      <td>0</td>\n",
       "      <td>0</td>\n",
       "      <td>0</td>\n",
       "      <td>0</td>\n",
       "      <td>0.0</td>\n",
       "      <td>0</td>\n",
       "      <td>0.0</td>\n",
       "      <td>0</td>\n",
       "      <td>0</td>\n",
       "      <td>...</td>\n",
       "      <td>0</td>\n",
       "      <td>0</td>\n",
       "      <td>0</td>\n",
       "      <td>0</td>\n",
       "      <td>0</td>\n",
       "      <td>0</td>\n",
       "      <td>0</td>\n",
       "      <td>0</td>\n",
       "      <td>0</td>\n",
       "      <td>0</td>\n",
       "    </tr>\n",
       "    <tr>\n",
       "      <th>2</th>\n",
       "      <td>0</td>\n",
       "      <td>0</td>\n",
       "      <td>0</td>\n",
       "      <td>0</td>\n",
       "      <td>0</td>\n",
       "      <td>0.0</td>\n",
       "      <td>0</td>\n",
       "      <td>0.0</td>\n",
       "      <td>0</td>\n",
       "      <td>0</td>\n",
       "      <td>...</td>\n",
       "      <td>0</td>\n",
       "      <td>0</td>\n",
       "      <td>0</td>\n",
       "      <td>0</td>\n",
       "      <td>0</td>\n",
       "      <td>0</td>\n",
       "      <td>0</td>\n",
       "      <td>0</td>\n",
       "      <td>0</td>\n",
       "      <td>0</td>\n",
       "    </tr>\n",
       "    <tr>\n",
       "      <th>3</th>\n",
       "      <td>0</td>\n",
       "      <td>0</td>\n",
       "      <td>0</td>\n",
       "      <td>0</td>\n",
       "      <td>0</td>\n",
       "      <td>0.0</td>\n",
       "      <td>0</td>\n",
       "      <td>0.0</td>\n",
       "      <td>0</td>\n",
       "      <td>0</td>\n",
       "      <td>...</td>\n",
       "      <td>0</td>\n",
       "      <td>0</td>\n",
       "      <td>0</td>\n",
       "      <td>0</td>\n",
       "      <td>0</td>\n",
       "      <td>0</td>\n",
       "      <td>0</td>\n",
       "      <td>0</td>\n",
       "      <td>0</td>\n",
       "      <td>0</td>\n",
       "    </tr>\n",
       "    <tr>\n",
       "      <th>4</th>\n",
       "      <td>0</td>\n",
       "      <td>0</td>\n",
       "      <td>0</td>\n",
       "      <td>0</td>\n",
       "      <td>0</td>\n",
       "      <td>0.0</td>\n",
       "      <td>0</td>\n",
       "      <td>0.0</td>\n",
       "      <td>0</td>\n",
       "      <td>0</td>\n",
       "      <td>...</td>\n",
       "      <td>0</td>\n",
       "      <td>0</td>\n",
       "      <td>0</td>\n",
       "      <td>0</td>\n",
       "      <td>0</td>\n",
       "      <td>0</td>\n",
       "      <td>0</td>\n",
       "      <td>0</td>\n",
       "      <td>0</td>\n",
       "      <td>0</td>\n",
       "    </tr>\n",
       "    <tr>\n",
       "      <th>...</th>\n",
       "      <td>...</td>\n",
       "      <td>...</td>\n",
       "      <td>...</td>\n",
       "      <td>...</td>\n",
       "      <td>...</td>\n",
       "      <td>...</td>\n",
       "      <td>...</td>\n",
       "      <td>...</td>\n",
       "      <td>...</td>\n",
       "      <td>...</td>\n",
       "      <td>...</td>\n",
       "      <td>...</td>\n",
       "      <td>...</td>\n",
       "      <td>...</td>\n",
       "      <td>...</td>\n",
       "      <td>...</td>\n",
       "      <td>...</td>\n",
       "      <td>...</td>\n",
       "      <td>...</td>\n",
       "      <td>...</td>\n",
       "      <td>...</td>\n",
       "    </tr>\n",
       "    <tr>\n",
       "      <th>1995</th>\n",
       "      <td>0</td>\n",
       "      <td>0</td>\n",
       "      <td>0</td>\n",
       "      <td>0</td>\n",
       "      <td>0</td>\n",
       "      <td>0.0</td>\n",
       "      <td>0</td>\n",
       "      <td>0.0</td>\n",
       "      <td>0</td>\n",
       "      <td>0</td>\n",
       "      <td>...</td>\n",
       "      <td>0</td>\n",
       "      <td>0</td>\n",
       "      <td>0</td>\n",
       "      <td>0</td>\n",
       "      <td>0</td>\n",
       "      <td>0</td>\n",
       "      <td>0</td>\n",
       "      <td>0</td>\n",
       "      <td>0</td>\n",
       "      <td>0</td>\n",
       "    </tr>\n",
       "    <tr>\n",
       "      <th>1996</th>\n",
       "      <td>0</td>\n",
       "      <td>0</td>\n",
       "      <td>0</td>\n",
       "      <td>0</td>\n",
       "      <td>0</td>\n",
       "      <td>0.0</td>\n",
       "      <td>0</td>\n",
       "      <td>0.0</td>\n",
       "      <td>0</td>\n",
       "      <td>0</td>\n",
       "      <td>...</td>\n",
       "      <td>0</td>\n",
       "      <td>0</td>\n",
       "      <td>0</td>\n",
       "      <td>0</td>\n",
       "      <td>0</td>\n",
       "      <td>0</td>\n",
       "      <td>0</td>\n",
       "      <td>0</td>\n",
       "      <td>0</td>\n",
       "      <td>0</td>\n",
       "    </tr>\n",
       "    <tr>\n",
       "      <th>1997</th>\n",
       "      <td>0</td>\n",
       "      <td>0</td>\n",
       "      <td>0</td>\n",
       "      <td>0</td>\n",
       "      <td>0</td>\n",
       "      <td>0.0</td>\n",
       "      <td>0</td>\n",
       "      <td>0.0</td>\n",
       "      <td>0</td>\n",
       "      <td>0</td>\n",
       "      <td>...</td>\n",
       "      <td>0</td>\n",
       "      <td>0</td>\n",
       "      <td>0</td>\n",
       "      <td>0</td>\n",
       "      <td>0</td>\n",
       "      <td>0</td>\n",
       "      <td>0</td>\n",
       "      <td>0</td>\n",
       "      <td>0</td>\n",
       "      <td>0</td>\n",
       "    </tr>\n",
       "    <tr>\n",
       "      <th>1998</th>\n",
       "      <td>0</td>\n",
       "      <td>0</td>\n",
       "      <td>0</td>\n",
       "      <td>0</td>\n",
       "      <td>0</td>\n",
       "      <td>0.0</td>\n",
       "      <td>0</td>\n",
       "      <td>0.0</td>\n",
       "      <td>0</td>\n",
       "      <td>0</td>\n",
       "      <td>...</td>\n",
       "      <td>0</td>\n",
       "      <td>0</td>\n",
       "      <td>0</td>\n",
       "      <td>0</td>\n",
       "      <td>0</td>\n",
       "      <td>0</td>\n",
       "      <td>0</td>\n",
       "      <td>0</td>\n",
       "      <td>0</td>\n",
       "      <td>0</td>\n",
       "    </tr>\n",
       "    <tr>\n",
       "      <th>1999</th>\n",
       "      <td>0</td>\n",
       "      <td>0</td>\n",
       "      <td>0</td>\n",
       "      <td>0</td>\n",
       "      <td>0</td>\n",
       "      <td>0.0</td>\n",
       "      <td>0</td>\n",
       "      <td>0.0</td>\n",
       "      <td>0</td>\n",
       "      <td>0</td>\n",
       "      <td>...</td>\n",
       "      <td>0</td>\n",
       "      <td>0</td>\n",
       "      <td>0</td>\n",
       "      <td>0</td>\n",
       "      <td>0</td>\n",
       "      <td>0</td>\n",
       "      <td>0</td>\n",
       "      <td>0</td>\n",
       "      <td>0</td>\n",
       "      <td>0</td>\n",
       "    </tr>\n",
       "  </tbody>\n",
       "</table>\n",
       "<p>2000 rows × 4310 columns</p>\n",
       "</div>\n",
       "      <button class=\"colab-df-convert\" onclick=\"convertToInteractive('df-24d077e6-14c4-404d-a9fd-12287fad255d')\"\n",
       "              title=\"Convert this dataframe to an interactive table.\"\n",
       "              style=\"display:none;\">\n",
       "        \n",
       "  <svg xmlns=\"http://www.w3.org/2000/svg\" height=\"24px\"viewBox=\"0 0 24 24\"\n",
       "       width=\"24px\">\n",
       "    <path d=\"M0 0h24v24H0V0z\" fill=\"none\"/>\n",
       "    <path d=\"M18.56 5.44l.94 2.06.94-2.06 2.06-.94-2.06-.94-.94-2.06-.94 2.06-2.06.94zm-11 1L8.5 8.5l.94-2.06 2.06-.94-2.06-.94L8.5 2.5l-.94 2.06-2.06.94zm10 10l.94 2.06.94-2.06 2.06-.94-2.06-.94-.94-2.06-.94 2.06-2.06.94z\"/><path d=\"M17.41 7.96l-1.37-1.37c-.4-.4-.92-.59-1.43-.59-.52 0-1.04.2-1.43.59L10.3 9.45l-7.72 7.72c-.78.78-.78 2.05 0 2.83L4 21.41c.39.39.9.59 1.41.59.51 0 1.02-.2 1.41-.59l7.78-7.78 2.81-2.81c.8-.78.8-2.07 0-2.86zM5.41 20L4 18.59l7.72-7.72 1.47 1.35L5.41 20z\"/>\n",
       "  </svg>\n",
       "      </button>\n",
       "      \n",
       "  <style>\n",
       "    .colab-df-container {\n",
       "      display:flex;\n",
       "      flex-wrap:wrap;\n",
       "      gap: 12px;\n",
       "    }\n",
       "\n",
       "    .colab-df-convert {\n",
       "      background-color: #E8F0FE;\n",
       "      border: none;\n",
       "      border-radius: 50%;\n",
       "      cursor: pointer;\n",
       "      display: none;\n",
       "      fill: #1967D2;\n",
       "      height: 32px;\n",
       "      padding: 0 0 0 0;\n",
       "      width: 32px;\n",
       "    }\n",
       "\n",
       "    .colab-df-convert:hover {\n",
       "      background-color: #E2EBFA;\n",
       "      box-shadow: 0px 1px 2px rgba(60, 64, 67, 0.3), 0px 1px 3px 1px rgba(60, 64, 67, 0.15);\n",
       "      fill: #174EA6;\n",
       "    }\n",
       "\n",
       "    [theme=dark] .colab-df-convert {\n",
       "      background-color: #3B4455;\n",
       "      fill: #D2E3FC;\n",
       "    }\n",
       "\n",
       "    [theme=dark] .colab-df-convert:hover {\n",
       "      background-color: #434B5C;\n",
       "      box-shadow: 0px 1px 3px 1px rgba(0, 0, 0, 0.15);\n",
       "      filter: drop-shadow(0px 1px 2px rgba(0, 0, 0, 0.3));\n",
       "      fill: #FFFFFF;\n",
       "    }\n",
       "  </style>\n",
       "\n",
       "      <script>\n",
       "        const buttonEl =\n",
       "          document.querySelector('#df-24d077e6-14c4-404d-a9fd-12287fad255d button.colab-df-convert');\n",
       "        buttonEl.style.display =\n",
       "          google.colab.kernel.accessAllowed ? 'block' : 'none';\n",
       "\n",
       "        async function convertToInteractive(key) {\n",
       "          const element = document.querySelector('#df-24d077e6-14c4-404d-a9fd-12287fad255d');\n",
       "          const dataTable =\n",
       "            await google.colab.kernel.invokeFunction('convertToInteractive',\n",
       "                                                     [key], {});\n",
       "          if (!dataTable) return;\n",
       "\n",
       "          const docLinkHtml = 'Like what you see? Visit the ' +\n",
       "            '<a target=\"_blank\" href=https://colab.research.google.com/notebooks/data_table.ipynb>data table notebook</a>'\n",
       "            + ' to learn more about interactive tables.';\n",
       "          element.innerHTML = '';\n",
       "          dataTable['output_type'] = 'display_data';\n",
       "          await google.colab.output.renderOutput(dataTable, element);\n",
       "          const docLink = document.createElement('div');\n",
       "          docLink.innerHTML = docLinkHtml;\n",
       "          element.appendChild(docLink);\n",
       "        }\n",
       "      </script>\n",
       "    </div>\n",
       "  </div>\n",
       "  "
      ],
      "text/plain": [
       "         잔꽃  용품  렛  아유  날  라코스테  장군   토너  디파이  얼마나  ...  콘도  리본  공공기관  춘천  펜  \\\n",
       "Column2                                             ...                        \n",
       "0         0   0  0   0  0   0.0   0  0.0    0    0  ...   0   0     0   0  0   \n",
       "1         0   0  0   0  0   0.0   0  0.0    0    0  ...   0   0     0   0  0   \n",
       "2         0   0  0   0  0   0.0   0  0.0    0    0  ...   0   0     0   0  0   \n",
       "3         0   0  0   0  0   0.0   0  0.0    0    0  ...   0   0     0   0  0   \n",
       "4         0   0  0   0  0   0.0   0  0.0    0    0  ...   0   0     0   0  0   \n",
       "...      ..  .. ..  .. ..   ...  ..  ...  ...  ...  ...  ..  ..   ...  .. ..   \n",
       "1995      0   0  0   0  0   0.0   0  0.0    0    0  ...   0   0     0   0  0   \n",
       "1996      0   0  0   0  0   0.0   0  0.0    0    0  ...   0   0     0   0  0   \n",
       "1997      0   0  0   0  0   0.0   0  0.0    0    0  ...   0   0     0   0  0   \n",
       "1998      0   0  0   0  0   0.0   0  0.0    0    0  ...   0   0     0   0  0   \n",
       "1999      0   0  0   0  0   0.0   0  0.0    0    0  ...   0   0     0   0  0   \n",
       "\n",
       "         하디  주년  프로젝터  방수  가야  \n",
       "Column2                        \n",
       "0         0   0     0   0   0  \n",
       "1         0   0     0   0   0  \n",
       "2         0   0     0   0   0  \n",
       "3         0   0     0   0   0  \n",
       "4         0   0     0   0   0  \n",
       "...      ..  ..   ...  ..  ..  \n",
       "1995      0   0     0   0   0  \n",
       "1996      0   0     0   0   0  \n",
       "1997      0   0     0   0   0  \n",
       "1998      0   0     0   0   0  \n",
       "1999      0   0     0   0   0  \n",
       "\n",
       "[2000 rows x 4310 columns]"
      ]
     },
     "execution_count": 16,
     "metadata": {},
     "output_type": "execute_result"
    }
   ],
   "source": [
    "tf_idf_table"
   ]
  },
  {
   "cell_type": "code",
   "execution_count": 17,
   "metadata": {
    "colab": {
     "base_uri": "https://localhost:8080/",
     "height": 534
    },
    "executionInfo": {
     "elapsed": 74,
     "status": "ok",
     "timestamp": 1654313433445,
     "user": {
      "displayName": "‍황수연[ 학부재학 / 컴퓨터융합소프트웨어학과 ]",
      "userId": "03365621454974662117"
     },
     "user_tz": -540
    },
    "id": "HM0Rei4-nAH7",
    "outputId": "cd13db33-f6d4-4edf-a011-916093f52f3a"
   },
   "outputs": [
    {
     "data": {
      "text/html": [
       "\n",
       "  <div id=\"df-33726b98-832e-4944-8777-60ff870084b3\">\n",
       "    <div class=\"colab-df-container\">\n",
       "      <div>\n",
       "<style scoped>\n",
       "    .dataframe tbody tr th:only-of-type {\n",
       "        vertical-align: middle;\n",
       "    }\n",
       "\n",
       "    .dataframe tbody tr th {\n",
       "        vertical-align: top;\n",
       "    }\n",
       "\n",
       "    .dataframe thead th {\n",
       "        text-align: right;\n",
       "    }\n",
       "</style>\n",
       "<table border=\"1\" class=\"dataframe\">\n",
       "  <thead>\n",
       "    <tr style=\"text-align: right;\">\n",
       "      <th></th>\n",
       "      <th>잔꽃</th>\n",
       "      <th>용품</th>\n",
       "      <th>렛</th>\n",
       "      <th>아유</th>\n",
       "      <th>날</th>\n",
       "      <th>라코스테</th>\n",
       "      <th>장군</th>\n",
       "      <th>토너</th>\n",
       "      <th>디파이</th>\n",
       "      <th>얼마나</th>\n",
       "      <th>...</th>\n",
       "      <th>콘도</th>\n",
       "      <th>리본</th>\n",
       "      <th>공공기관</th>\n",
       "      <th>춘천</th>\n",
       "      <th>펜</th>\n",
       "      <th>하디</th>\n",
       "      <th>주년</th>\n",
       "      <th>프로젝터</th>\n",
       "      <th>방수</th>\n",
       "      <th>가야</th>\n",
       "    </tr>\n",
       "    <tr>\n",
       "      <th>Column2</th>\n",
       "      <th></th>\n",
       "      <th></th>\n",
       "      <th></th>\n",
       "      <th></th>\n",
       "      <th></th>\n",
       "      <th></th>\n",
       "      <th></th>\n",
       "      <th></th>\n",
       "      <th></th>\n",
       "      <th></th>\n",
       "      <th></th>\n",
       "      <th></th>\n",
       "      <th></th>\n",
       "      <th></th>\n",
       "      <th></th>\n",
       "      <th></th>\n",
       "      <th></th>\n",
       "      <th></th>\n",
       "      <th></th>\n",
       "      <th></th>\n",
       "      <th></th>\n",
       "    </tr>\n",
       "  </thead>\n",
       "  <tbody>\n",
       "    <tr>\n",
       "      <th>0</th>\n",
       "      <td>0</td>\n",
       "      <td>0</td>\n",
       "      <td>0</td>\n",
       "      <td>0</td>\n",
       "      <td>0</td>\n",
       "      <td>0.0</td>\n",
       "      <td>0</td>\n",
       "      <td>0.0</td>\n",
       "      <td>0</td>\n",
       "      <td>0</td>\n",
       "      <td>...</td>\n",
       "      <td>0</td>\n",
       "      <td>0</td>\n",
       "      <td>0</td>\n",
       "      <td>0</td>\n",
       "      <td>0</td>\n",
       "      <td>0</td>\n",
       "      <td>0</td>\n",
       "      <td>0</td>\n",
       "      <td>0</td>\n",
       "      <td>0</td>\n",
       "    </tr>\n",
       "    <tr>\n",
       "      <th>1</th>\n",
       "      <td>0</td>\n",
       "      <td>0</td>\n",
       "      <td>0</td>\n",
       "      <td>0</td>\n",
       "      <td>0</td>\n",
       "      <td>0.0</td>\n",
       "      <td>0</td>\n",
       "      <td>0.0</td>\n",
       "      <td>0</td>\n",
       "      <td>0</td>\n",
       "      <td>...</td>\n",
       "      <td>0</td>\n",
       "      <td>0</td>\n",
       "      <td>0</td>\n",
       "      <td>0</td>\n",
       "      <td>0</td>\n",
       "      <td>0</td>\n",
       "      <td>0</td>\n",
       "      <td>0</td>\n",
       "      <td>0</td>\n",
       "      <td>0</td>\n",
       "    </tr>\n",
       "    <tr>\n",
       "      <th>2</th>\n",
       "      <td>0</td>\n",
       "      <td>0</td>\n",
       "      <td>0</td>\n",
       "      <td>0</td>\n",
       "      <td>0</td>\n",
       "      <td>0.0</td>\n",
       "      <td>0</td>\n",
       "      <td>0.0</td>\n",
       "      <td>0</td>\n",
       "      <td>0</td>\n",
       "      <td>...</td>\n",
       "      <td>0</td>\n",
       "      <td>0</td>\n",
       "      <td>0</td>\n",
       "      <td>0</td>\n",
       "      <td>0</td>\n",
       "      <td>0</td>\n",
       "      <td>0</td>\n",
       "      <td>0</td>\n",
       "      <td>0</td>\n",
       "      <td>0</td>\n",
       "    </tr>\n",
       "    <tr>\n",
       "      <th>3</th>\n",
       "      <td>0</td>\n",
       "      <td>0</td>\n",
       "      <td>0</td>\n",
       "      <td>0</td>\n",
       "      <td>0</td>\n",
       "      <td>0.0</td>\n",
       "      <td>0</td>\n",
       "      <td>0.0</td>\n",
       "      <td>0</td>\n",
       "      <td>0</td>\n",
       "      <td>...</td>\n",
       "      <td>0</td>\n",
       "      <td>0</td>\n",
       "      <td>0</td>\n",
       "      <td>0</td>\n",
       "      <td>0</td>\n",
       "      <td>0</td>\n",
       "      <td>0</td>\n",
       "      <td>0</td>\n",
       "      <td>0</td>\n",
       "      <td>0</td>\n",
       "    </tr>\n",
       "    <tr>\n",
       "      <th>4</th>\n",
       "      <td>0</td>\n",
       "      <td>0</td>\n",
       "      <td>0</td>\n",
       "      <td>0</td>\n",
       "      <td>0</td>\n",
       "      <td>0.0</td>\n",
       "      <td>0</td>\n",
       "      <td>0.0</td>\n",
       "      <td>0</td>\n",
       "      <td>0</td>\n",
       "      <td>...</td>\n",
       "      <td>0</td>\n",
       "      <td>0</td>\n",
       "      <td>0</td>\n",
       "      <td>0</td>\n",
       "      <td>0</td>\n",
       "      <td>0</td>\n",
       "      <td>0</td>\n",
       "      <td>0</td>\n",
       "      <td>0</td>\n",
       "      <td>0</td>\n",
       "    </tr>\n",
       "    <tr>\n",
       "      <th>...</th>\n",
       "      <td>...</td>\n",
       "      <td>...</td>\n",
       "      <td>...</td>\n",
       "      <td>...</td>\n",
       "      <td>...</td>\n",
       "      <td>...</td>\n",
       "      <td>...</td>\n",
       "      <td>...</td>\n",
       "      <td>...</td>\n",
       "      <td>...</td>\n",
       "      <td>...</td>\n",
       "      <td>...</td>\n",
       "      <td>...</td>\n",
       "      <td>...</td>\n",
       "      <td>...</td>\n",
       "      <td>...</td>\n",
       "      <td>...</td>\n",
       "      <td>...</td>\n",
       "      <td>...</td>\n",
       "      <td>...</td>\n",
       "      <td>...</td>\n",
       "    </tr>\n",
       "    <tr>\n",
       "      <th>1995</th>\n",
       "      <td>0</td>\n",
       "      <td>0</td>\n",
       "      <td>0</td>\n",
       "      <td>0</td>\n",
       "      <td>0</td>\n",
       "      <td>0.0</td>\n",
       "      <td>0</td>\n",
       "      <td>0.0</td>\n",
       "      <td>0</td>\n",
       "      <td>0</td>\n",
       "      <td>...</td>\n",
       "      <td>0</td>\n",
       "      <td>0</td>\n",
       "      <td>0</td>\n",
       "      <td>0</td>\n",
       "      <td>0</td>\n",
       "      <td>0</td>\n",
       "      <td>0</td>\n",
       "      <td>0</td>\n",
       "      <td>0</td>\n",
       "      <td>0</td>\n",
       "    </tr>\n",
       "    <tr>\n",
       "      <th>1996</th>\n",
       "      <td>0</td>\n",
       "      <td>0</td>\n",
       "      <td>0</td>\n",
       "      <td>0</td>\n",
       "      <td>0</td>\n",
       "      <td>0.0</td>\n",
       "      <td>0</td>\n",
       "      <td>0.0</td>\n",
       "      <td>0</td>\n",
       "      <td>0</td>\n",
       "      <td>...</td>\n",
       "      <td>0</td>\n",
       "      <td>0</td>\n",
       "      <td>0</td>\n",
       "      <td>0</td>\n",
       "      <td>0</td>\n",
       "      <td>0</td>\n",
       "      <td>0</td>\n",
       "      <td>0</td>\n",
       "      <td>0</td>\n",
       "      <td>0</td>\n",
       "    </tr>\n",
       "    <tr>\n",
       "      <th>1997</th>\n",
       "      <td>0</td>\n",
       "      <td>0</td>\n",
       "      <td>0</td>\n",
       "      <td>0</td>\n",
       "      <td>0</td>\n",
       "      <td>0.0</td>\n",
       "      <td>0</td>\n",
       "      <td>0.0</td>\n",
       "      <td>0</td>\n",
       "      <td>0</td>\n",
       "      <td>...</td>\n",
       "      <td>0</td>\n",
       "      <td>0</td>\n",
       "      <td>0</td>\n",
       "      <td>0</td>\n",
       "      <td>0</td>\n",
       "      <td>0</td>\n",
       "      <td>0</td>\n",
       "      <td>0</td>\n",
       "      <td>0</td>\n",
       "      <td>0</td>\n",
       "    </tr>\n",
       "    <tr>\n",
       "      <th>1998</th>\n",
       "      <td>0</td>\n",
       "      <td>0</td>\n",
       "      <td>0</td>\n",
       "      <td>0</td>\n",
       "      <td>0</td>\n",
       "      <td>0.0</td>\n",
       "      <td>0</td>\n",
       "      <td>0.0</td>\n",
       "      <td>0</td>\n",
       "      <td>0</td>\n",
       "      <td>...</td>\n",
       "      <td>0</td>\n",
       "      <td>0</td>\n",
       "      <td>0</td>\n",
       "      <td>0</td>\n",
       "      <td>0</td>\n",
       "      <td>0</td>\n",
       "      <td>0</td>\n",
       "      <td>0</td>\n",
       "      <td>0</td>\n",
       "      <td>0</td>\n",
       "    </tr>\n",
       "    <tr>\n",
       "      <th>1999</th>\n",
       "      <td>0</td>\n",
       "      <td>0</td>\n",
       "      <td>0</td>\n",
       "      <td>0</td>\n",
       "      <td>0</td>\n",
       "      <td>0.0</td>\n",
       "      <td>0</td>\n",
       "      <td>0.0</td>\n",
       "      <td>0</td>\n",
       "      <td>0</td>\n",
       "      <td>...</td>\n",
       "      <td>0</td>\n",
       "      <td>0</td>\n",
       "      <td>0</td>\n",
       "      <td>0</td>\n",
       "      <td>0</td>\n",
       "      <td>0</td>\n",
       "      <td>0</td>\n",
       "      <td>0</td>\n",
       "      <td>0</td>\n",
       "      <td>0</td>\n",
       "    </tr>\n",
       "  </tbody>\n",
       "</table>\n",
       "<p>2000 rows × 4310 columns</p>\n",
       "</div>\n",
       "      <button class=\"colab-df-convert\" onclick=\"convertToInteractive('df-33726b98-832e-4944-8777-60ff870084b3')\"\n",
       "              title=\"Convert this dataframe to an interactive table.\"\n",
       "              style=\"display:none;\">\n",
       "        \n",
       "  <svg xmlns=\"http://www.w3.org/2000/svg\" height=\"24px\"viewBox=\"0 0 24 24\"\n",
       "       width=\"24px\">\n",
       "    <path d=\"M0 0h24v24H0V0z\" fill=\"none\"/>\n",
       "    <path d=\"M18.56 5.44l.94 2.06.94-2.06 2.06-.94-2.06-.94-.94-2.06-.94 2.06-2.06.94zm-11 1L8.5 8.5l.94-2.06 2.06-.94-2.06-.94L8.5 2.5l-.94 2.06-2.06.94zm10 10l.94 2.06.94-2.06 2.06-.94-2.06-.94-.94-2.06-.94 2.06-2.06.94z\"/><path d=\"M17.41 7.96l-1.37-1.37c-.4-.4-.92-.59-1.43-.59-.52 0-1.04.2-1.43.59L10.3 9.45l-7.72 7.72c-.78.78-.78 2.05 0 2.83L4 21.41c.39.39.9.59 1.41.59.51 0 1.02-.2 1.41-.59l7.78-7.78 2.81-2.81c.8-.78.8-2.07 0-2.86zM5.41 20L4 18.59l7.72-7.72 1.47 1.35L5.41 20z\"/>\n",
       "  </svg>\n",
       "      </button>\n",
       "      \n",
       "  <style>\n",
       "    .colab-df-container {\n",
       "      display:flex;\n",
       "      flex-wrap:wrap;\n",
       "      gap: 12px;\n",
       "    }\n",
       "\n",
       "    .colab-df-convert {\n",
       "      background-color: #E8F0FE;\n",
       "      border: none;\n",
       "      border-radius: 50%;\n",
       "      cursor: pointer;\n",
       "      display: none;\n",
       "      fill: #1967D2;\n",
       "      height: 32px;\n",
       "      padding: 0 0 0 0;\n",
       "      width: 32px;\n",
       "    }\n",
       "\n",
       "    .colab-df-convert:hover {\n",
       "      background-color: #E2EBFA;\n",
       "      box-shadow: 0px 1px 2px rgba(60, 64, 67, 0.3), 0px 1px 3px 1px rgba(60, 64, 67, 0.15);\n",
       "      fill: #174EA6;\n",
       "    }\n",
       "\n",
       "    [theme=dark] .colab-df-convert {\n",
       "      background-color: #3B4455;\n",
       "      fill: #D2E3FC;\n",
       "    }\n",
       "\n",
       "    [theme=dark] .colab-df-convert:hover {\n",
       "      background-color: #434B5C;\n",
       "      box-shadow: 0px 1px 3px 1px rgba(0, 0, 0, 0.15);\n",
       "      filter: drop-shadow(0px 1px 2px rgba(0, 0, 0, 0.3));\n",
       "      fill: #FFFFFF;\n",
       "    }\n",
       "  </style>\n",
       "\n",
       "      <script>\n",
       "        const buttonEl =\n",
       "          document.querySelector('#df-33726b98-832e-4944-8777-60ff870084b3 button.colab-df-convert');\n",
       "        buttonEl.style.display =\n",
       "          google.colab.kernel.accessAllowed ? 'block' : 'none';\n",
       "\n",
       "        async function convertToInteractive(key) {\n",
       "          const element = document.querySelector('#df-33726b98-832e-4944-8777-60ff870084b3');\n",
       "          const dataTable =\n",
       "            await google.colab.kernel.invokeFunction('convertToInteractive',\n",
       "                                                     [key], {});\n",
       "          if (!dataTable) return;\n",
       "\n",
       "          const docLinkHtml = 'Like what you see? Visit the ' +\n",
       "            '<a target=\"_blank\" href=https://colab.research.google.com/notebooks/data_table.ipynb>data table notebook</a>'\n",
       "            + ' to learn more about interactive tables.';\n",
       "          element.innerHTML = '';\n",
       "          dataTable['output_type'] = 'display_data';\n",
       "          await google.colab.output.renderOutput(dataTable, element);\n",
       "          const docLink = document.createElement('div');\n",
       "          docLink.innerHTML = docLinkHtml;\n",
       "          element.appendChild(docLink);\n",
       "        }\n",
       "      </script>\n",
       "    </div>\n",
       "  </div>\n",
       "  "
      ],
      "text/plain": [
       "         잔꽃  용품  렛  아유  날  라코스테  장군   토너  디파이  얼마나  ...  콘도  리본  공공기관  춘천  펜  \\\n",
       "Column2                                             ...                        \n",
       "0         0   0  0   0  0   0.0   0  0.0    0    0  ...   0   0     0   0  0   \n",
       "1         0   0  0   0  0   0.0   0  0.0    0    0  ...   0   0     0   0  0   \n",
       "2         0   0  0   0  0   0.0   0  0.0    0    0  ...   0   0     0   0  0   \n",
       "3         0   0  0   0  0   0.0   0  0.0    0    0  ...   0   0     0   0  0   \n",
       "4         0   0  0   0  0   0.0   0  0.0    0    0  ...   0   0     0   0  0   \n",
       "...      ..  .. ..  .. ..   ...  ..  ...  ...  ...  ...  ..  ..   ...  .. ..   \n",
       "1995      0   0  0   0  0   0.0   0  0.0    0    0  ...   0   0     0   0  0   \n",
       "1996      0   0  0   0  0   0.0   0  0.0    0    0  ...   0   0     0   0  0   \n",
       "1997      0   0  0   0  0   0.0   0  0.0    0    0  ...   0   0     0   0  0   \n",
       "1998      0   0  0   0  0   0.0   0  0.0    0    0  ...   0   0     0   0  0   \n",
       "1999      0   0  0   0  0   0.0   0  0.0    0    0  ...   0   0     0   0  0   \n",
       "\n",
       "         하디  주년  프로젝터  방수  가야  \n",
       "Column2                        \n",
       "0         0   0     0   0   0  \n",
       "1         0   0     0   0   0  \n",
       "2         0   0     0   0   0  \n",
       "3         0   0     0   0   0  \n",
       "4         0   0     0   0   0  \n",
       "...      ..  ..   ...  ..  ..  \n",
       "1995      0   0     0   0   0  \n",
       "1996      0   0     0   0   0  \n",
       "1997      0   0     0   0   0  \n",
       "1998      0   0     0   0   0  \n",
       "1999      0   0     0   0   0  \n",
       "\n",
       "[2000 rows x 4310 columns]"
      ]
     },
     "execution_count": 17,
     "metadata": {},
     "output_type": "execute_result"
    }
   ],
   "source": [
    "pd.DataFrame(tf_idf_table)"
   ]
  },
  {
   "cell_type": "code",
   "execution_count": 19,
   "metadata": {
    "executionInfo": {
     "elapsed": 80,
     "status": "ok",
     "timestamp": 1654313433454,
     "user": {
      "displayName": "‍황수연[ 학부재학 / 컴퓨터융합소프트웨어학과 ]",
      "userId": "03365621454974662117"
     },
     "user_tz": -540
    },
    "id": "bIE0jSDT0YxD"
   },
   "outputs": [],
   "source": [
    "import pandas as pd\n",
    "import numpy as np\n",
    "from sklearn.model_selection import train_test_split\n",
    "X_train,X_test,y_train,y_test  = train_test_split(tf_idf_table,label,test_size=0.2)"
   ]
  },
  {
   "cell_type": "markdown",
   "metadata": {
    "id": "zIRQNCHqvnGI"
   },
   "source": [
    "# 카테고리에 따른 키워드들 시각화"
   ]
  },
  {
   "cell_type": "code",
   "execution_count": 25,
   "metadata": {
    "executionInfo": {
     "elapsed": 329,
     "status": "ok",
     "timestamp": 1654313616571,
     "user": {
      "displayName": "‍황수연[ 학부재학 / 컴퓨터융합소프트웨어학과 ]",
      "userId": "03365621454974662117"
     },
     "user_tz": -540
    },
    "id": "pqcAMyydxg7a"
   },
   "outputs": [],
   "source": [
    "from wordcloud import WordCloud\n",
    "# 폰트 지정\n",
    "wordcloud = WordCloud(font_path = r'C:\\Windows\\Fonts\\Daum_SemiBold.ttf')"
   ]
  },
  {
   "cell_type": "code",
   "execution_count": 32,
   "metadata": {
    "colab": {
     "base_uri": "https://localhost:8080/"
    },
    "executionInfo": {
     "elapsed": 509,
     "status": "ok",
     "timestamp": 1654314059665,
     "user": {
      "displayName": "‍황수연[ 학부재학 / 컴퓨터융합소프트웨어학과 ]",
      "userId": "03365621454974662117"
     },
     "user_tz": -540
    },
    "id": "knyJ1DwjzSwZ",
    "outputId": "e0950ac7-3301-44ae-de0b-b0b99763115e"
   },
   "outputs": [
    {
     "data": {
      "text/plain": [
       "12"
      ]
     },
     "execution_count": 32,
     "metadata": {},
     "output_type": "execute_result"
    }
   ],
   "source": [
    "len(categories)"
   ]
  },
  {
   "cell_type": "code",
   "execution_count": 41,
   "metadata": {
    "executionInfo": {
     "elapsed": 322,
     "status": "ok",
     "timestamp": 1654314607450,
     "user": {
      "displayName": "‍황수연[ 학부재학 / 컴퓨터융합소프트웨어학과 ]",
      "userId": "03365621454974662117"
     },
     "user_tz": -540
    },
    "id": "xsegaXcXwtYm"
   },
   "outputs": [],
   "source": [
    "count_dict = {}\n",
    "for category in categories: \n",
    "  for label_ in label:\n",
    "    if label_ == category: \n",
    "      count_dict[category] =  count_dict.get(category,0)+1"
   ]
  },
  {
   "cell_type": "code",
   "execution_count": 47,
   "metadata": {
    "colab": {
     "base_uri": "https://localhost:8080/"
    },
    "executionInfo": {
     "elapsed": 325,
     "status": "ok",
     "timestamp": 1654314637986,
     "user": {
      "displayName": "‍황수연[ 학부재학 / 컴퓨터융합소프트웨어학과 ]",
      "userId": "03365621454974662117"
     },
     "user_tz": -540
    },
    "id": "byoNaUlKz_jl",
    "outputId": "549681ca-40db-4562-b35b-13c37918c372"
   },
   "outputs": [
    {
     "data": {
      "text/plain": [
       "{'e쿠폰/티켓': 72,\n",
       " '가구/침구': 83,\n",
       " '도서/음반': 177,\n",
       " '생활/주방/건강': 260,\n",
       " '스포츠/자동차': 153,\n",
       " '식품': 221,\n",
       " '신발/잡화': 187,\n",
       " '여행': 56,\n",
       " '유아동/출산': 245,\n",
       " '컴퓨터/전자': 291,\n",
       " '패션의류': 102,\n",
       " '화장품/헤어': 153}"
      ]
     },
     "execution_count": 47,
     "metadata": {},
     "output_type": "execute_result"
    }
   ],
   "source": [
    "count_dict"
   ]
  },
  {
   "cell_type": "code",
   "execution_count": 103,
   "metadata": {
    "executionInfo": {
     "elapsed": 8,
     "status": "ok",
     "timestamp": 1654316527035,
     "user": {
      "displayName": "‍황수연[ 학부재학 / 컴퓨터융합소프트웨어학과 ]",
      "userId": "03365621454974662117"
     },
     "user_tz": -540
    },
    "id": "q8TpiW5k2p6T"
   },
   "outputs": [],
   "source": [
    "import matplotlib.pyplot as plt\n",
    "from matplotlib import font_manager, rc"
   ]
  },
  {
   "cell_type": "code",
   "execution_count": 109,
   "metadata": {
    "colab": {
     "base_uri": "https://localhost:8080/",
     "height": 300
    },
    "executionInfo": {
     "elapsed": 936,
     "status": "ok",
     "timestamp": 1654316613298,
     "user": {
      "displayName": "‍황수연[ 학부재학 / 컴퓨터융합소프트웨어학과 ]",
      "userId": "03365621454974662117"
     },
     "user_tz": -540
    },
    "id": "RNkQAkeS1rHL",
    "outputId": "5376085d-783d-4cb8-e070-b09ae319a24f"
   },
   "outputs": [
    {
     "data": {
      "image/png": "[encoded data removed]",
      "text/plain": [
       "<Figure size 432x288 with 1 Axes>"
      ]
     },
     "metadata": {
      "needs_background": "light"
     },
     "output_type": "display_data"
    },
    {
     "data": {
      "text/plain": [
       "<Figure size 2880x2160 with 0 Axes>"
      ]
     },
     "metadata": {},
     "output_type": "display_data"
    }
   ],
   "source": [
    "font_path = '/content/drive/Shareddrives/datamining_2022/NanumMyeongjo-Regular.ttf'\n",
    "fontprop = fm.FontProperties(fname=font_path, size=13)\n",
    "cnt_dict = count_dict.items()\n",
    "cnt_dict = sorted(cnt_dict)\n",
    "plt.xlabel('카테고리',fontproperties=fontprop) # x label\n",
    "plt.ylabel('각 카테고리에 포함된 데이터 수', fontproperties=fontprop) # y label\n",
    "x, y = zip(*cnt_dict)\n",
    "fontprop = fm.FontProperties(fname=font_path, size=5).get_name()\n",
    "plt.rc('font', family=fontprop)\n",
    "plt.bar(x, y)\n",
    "plt.figure(figsize=(40,30))\n",
    "plt.show()"
   ]
  },
  {
   "cell_type": "code",
   "execution_count": 110,
   "metadata": {
    "executionInfo": {
     "elapsed": 904,
     "status": "ok",
     "timestamp": 1654316761850,
     "user": {
      "displayName": "‍황수연[ 학부재학 / 컴퓨터융합소프트웨어학과 ]",
      "userId": "03365621454974662117"
     },
     "user_tz": -540
    },
    "id": "Sdaa837a9nZ0"
   },
   "outputs": [],
   "source": [
    "from nltk.probability import FreqDist\n",
    "from wordcloud import WordCloud"
   ]
  },
  {
   "cell_type": "code",
   "execution_count": 113,
   "metadata": {
    "colab": {
     "base_uri": "https://localhost:8080/"
    },
    "executionInfo": {
     "elapsed": 471,
     "status": "ok",
     "timestamp": 1654316998191,
     "user": {
      "displayName": "‍황수연[ 학부재학 / 컴퓨터융합소프트웨어학과 ]",
      "userId": "03365621454974662117"
     },
     "user_tz": -540
    },
    "id": "aoSoEEUq-Plz",
    "outputId": "cc5bd3ac-0b9c-4502-e3d2-7061340a3372"
   },
   "outputs": [
    {
     "name": "stdout",
     "output_type": "stream",
     "text": [
      "         잔꽃  용품  렛  아유  날  라코스테  장군   토너  디파이  얼마나  ...  리본  공공기관  춘천  펜  하디  \\\n",
      "Column2                                             ...                        \n",
      "0         0   0  0   0  0   0.0   0  0.0    0    0  ...   0     0   0  0   0   \n",
      "1         0   0  0   0  0   0.0   0  0.0    0    0  ...   0     0   0  0   0   \n",
      "2         0   0  0   0  0   0.0   0  0.0    0    0  ...   0     0   0  0   0   \n",
      "3         0   0  0   0  0   0.0   0  0.0    0    0  ...   0     0   0  0   0   \n",
      "4         0   0  0   0  0   0.0   0  0.0    0    0  ...   0     0   0  0   0   \n",
      "...      ..  .. ..  .. ..   ...  ..  ...  ...  ...  ...  ..   ...  .. ..  ..   \n",
      "1995      0   0  0   0  0   0.0   0  0.0    0    0  ...   0     0   0  0   0   \n",
      "1996      0   0  0   0  0   0.0   0  0.0    0    0  ...   0     0   0  0   0   \n",
      "1997      0   0  0   0  0   0.0   0  0.0    0    0  ...   0     0   0  0   0   \n",
      "1998      0   0  0   0  0   0.0   0  0.0    0    0  ...   0     0   0  0   0   \n",
      "1999      0   0  0   0  0   0.0   0  0.0    0    0  ...   0     0   0  0   0   \n",
      "\n",
      "         주년  프로젝터  방수  가야  big_category  \n",
      "Column2                                  \n",
      "0         0     0   0   0        e쿠폰/티켓  \n",
      "1         0     0   0   0        e쿠폰/티켓  \n",
      "2         0     0   0   0        e쿠폰/티켓  \n",
      "3         0     0   0   0        e쿠폰/티켓  \n",
      "4         0     0   0   0        e쿠폰/티켓  \n",
      "...      ..   ...  ..  ..           ...  \n",
      "1995      0     0   0   0         가구/침구  \n",
      "1996      0     0   0   0         가구/침구  \n",
      "1997      0     0   0   0         가구/침구  \n",
      "1998      0     0   0   0         가구/침구  \n",
      "1999      0     0   0   0         가구/침구  \n",
      "\n",
      "[2000 rows x 4311 columns]\n"
     ]
    }
   ],
   "source": [
    "tfidf_df = pd.concat([tf_idf_table, label], axis=1)\n",
    "print(tfidf_df)"
   ]
  },
  {
   "cell_type": "code",
   "execution_count": 118,
   "metadata": {
    "colab": {
     "base_uri": "https://localhost:8080/",
     "height": 413
    },
    "executionInfo": {
     "elapsed": 301,
     "status": "error",
     "timestamp": 1654317206130,
     "user": {
      "displayName": "‍황수연[ 학부재학 / 컴퓨터융합소프트웨어학과 ]",
      "userId": "03365621454974662117"
     },
     "user_tz": -540
    },
    "id": "fETtDZz59GRe",
    "outputId": "d042d654-6e47-4fd0-f36b-8f53c4962131"
   },
   "outputs": [
    {
     "ename": "AttributeError",
     "evalue": "ignored",
     "output_type": "error",
     "traceback": [
      "\u001b[0;31m---------------------------------------------------------------------------\u001b[0m",
      "\u001b[0;31mAttributeError\u001b[0m                            Traceback (most recent call last)",
      "\u001b[0;32m<ipython-input-118-6ac35ee048f7>\u001b[0m in \u001b[0;36m<module>\u001b[0;34m()\u001b[0m\n\u001b[1;32m      1\u001b[0m \u001b[0mplt\u001b[0m\u001b[0;34m.\u001b[0m\u001b[0mfigure\u001b[0m\u001b[0;34m(\u001b[0m\u001b[0mfigsize\u001b[0m\u001b[0;34m=\u001b[0m\u001b[0;34m(\u001b[0m\u001b[0;36m20\u001b[0m\u001b[0;34m,\u001b[0m\u001b[0;36m20\u001b[0m\u001b[0;34m)\u001b[0m\u001b[0;34m)\u001b[0m\u001b[0;34m\u001b[0m\u001b[0;34m\u001b[0m\u001b[0m\n\u001b[0;32m----> 2\u001b[0;31m \u001b[0mpos_freq\u001b[0m \u001b[0;34m=\u001b[0m \u001b[0mFreqDist\u001b[0m\u001b[0;34m(\u001b[0m\u001b[0;34m' '\u001b[0m\u001b[0;34m.\u001b[0m\u001b[0mjoin\u001b[0m\u001b[0;34m(\u001b[0m\u001b[0mtfidf_df\u001b[0m\u001b[0;34m[\u001b[0m\u001b[0mtfidf_df\u001b[0m\u001b[0;34m[\u001b[0m\u001b[0;34m'big_category'\u001b[0m\u001b[0;34m]\u001b[0m \u001b[0;34m==\u001b[0m \u001b[0;34m'e쿠폰/티켓'\u001b[0m\u001b[0;34m]\u001b[0m\u001b[0;34m.\u001b[0m\u001b[0mastpe\u001b[0m\u001b[0;34m(\u001b[0m\u001b[0mstr\u001b[0m\u001b[0;34m)\u001b[0m\u001b[0;34m.\u001b[0m\u001b[0mapply\u001b[0m\u001b[0;34m(\u001b[0m\u001b[0mstop\u001b[0m\u001b[0;34m)\u001b[0m\u001b[0;34m)\u001b[0m\u001b[0;34m.\u001b[0m\u001b[0msplit\u001b[0m\u001b[0;34m(\u001b[0m\u001b[0;34m' '\u001b[0m\u001b[0;34m)\u001b[0m\u001b[0;34m)\u001b[0m\u001b[0;34m\u001b[0m\u001b[0;34m\u001b[0m\u001b[0m\n\u001b[0m\u001b[1;32m      3\u001b[0m \u001b[0mwc\u001b[0m \u001b[0;34m=\u001b[0m \u001b[0mWordCloud\u001b[0m\u001b[0;34m(\u001b[0m\u001b[0;34m)\u001b[0m\u001b[0;34m.\u001b[0m\u001b[0mgenerate_from_frequencies\u001b[0m\u001b[0;34m(\u001b[0m\u001b[0mfrequencies\u001b[0m\u001b[0;34m=\u001b[0m\u001b[0mpos_freq\u001b[0m\u001b[0;34m)\u001b[0m\u001b[0;34m\u001b[0m\u001b[0;34m\u001b[0m\u001b[0m\n\u001b[1;32m      4\u001b[0m \u001b[0mplt\u001b[0m\u001b[0;34m.\u001b[0m\u001b[0mimshow\u001b[0m\u001b[0;34m(\u001b[0m\u001b[0mwc\u001b[0m\u001b[0;34m,\u001b[0m\u001b[0minterpolation\u001b[0m\u001b[0;34m=\u001b[0m\u001b[0;34m'bilinear'\u001b[0m\u001b[0;34m)\u001b[0m\u001b[0;34m\u001b[0m\u001b[0;34m\u001b[0m\u001b[0m\n\u001b[1;32m      5\u001b[0m \u001b[0mplt\u001b[0m\u001b[0;34m.\u001b[0m\u001b[0mtitle\u001b[0m\u001b[0;34m(\u001b[0m\u001b[0;34m'Positive Review Common Text'\u001b[0m\u001b[0;34m)\u001b[0m\u001b[0;34m\u001b[0m\u001b[0;34m\u001b[0m\u001b[0m\n",
      "\u001b[0;32m/usr/local/lib/python3.7/dist-packages/pandas/core/generic.py\u001b[0m in \u001b[0;36m__getattr__\u001b[0;34m(self, name)\u001b[0m\n\u001b[1;32m   5485\u001b[0m         ):\n\u001b[1;32m   5486\u001b[0m             \u001b[0;32mreturn\u001b[0m \u001b[0mself\u001b[0m\u001b[0;34m[\u001b[0m\u001b[0mname\u001b[0m\u001b[0;34m]\u001b[0m\u001b[0;34m\u001b[0m\u001b[0;34m\u001b[0m\u001b[0m\n\u001b[0;32m-> 5487\u001b[0;31m         \u001b[0;32mreturn\u001b[0m \u001b[0mobject\u001b[0m\u001b[0;34m.\u001b[0m\u001b[0m__getattribute__\u001b[0m\u001b[0;34m(\u001b[0m\u001b[0mself\u001b[0m\u001b[0;34m,\u001b[0m \u001b[0mname\u001b[0m\u001b[0;34m)\u001b[0m\u001b[0;34m\u001b[0m\u001b[0;34m\u001b[0m\u001b[0m\n\u001b[0m\u001b[1;32m   5488\u001b[0m \u001b[0;34m\u001b[0m\u001b[0m\n\u001b[1;32m   5489\u001b[0m     \u001b[0;32mdef\u001b[0m \u001b[0m__setattr__\u001b[0m\u001b[0;34m(\u001b[0m\u001b[0mself\u001b[0m\u001b[0;34m,\u001b[0m \u001b[0mname\u001b[0m\u001b[0;34m:\u001b[0m \u001b[0mstr\u001b[0m\u001b[0;34m,\u001b[0m \u001b[0mvalue\u001b[0m\u001b[0;34m)\u001b[0m \u001b[0;34m->\u001b[0m \u001b[0;32mNone\u001b[0m\u001b[0;34m:\u001b[0m\u001b[0;34m\u001b[0m\u001b[0;34m\u001b[0m\u001b[0m\n",
      "\u001b[0;31mAttributeError\u001b[0m: 'DataFrame' object has no attribute 'astpe'"
     ]
    },
    {
     "data": {
      "text/plain": [
       "<Figure size 1440x1440 with 0 Axes>"
      ]
     },
     "metadata": {},
     "output_type": "display_data"
    }
   ],
   "source": [
    "plt.figure(figsize=(20,20))\n",
    "pos_freq = FreqDist(' '.join(tfidf_df[tfidf_df['big_category'] == 'e쿠폰/티켓'].astpe(str).apply(stop)).split(' '))\n",
    "wc = WordCloud().generate_from_frequencies(frequencies=pos_freq)\n",
    "plt.imshow(wc,interpolation='bilinear')\n",
    "plt.title('Positive Review Common Text')\n",
    "plt.axis('off')\n",
    "plt.show()"
   ]
  },
  {
   "cell_type": "markdown",
   "metadata": {
    "id": "995dbf0d"
   },
   "source": [
    "### 나이브 베이즈 분류기(Naive Bayse Classifier)를 이용한 문서 분류\n",
    "http://scikit-learn.org/stable/modules/generated/sklearn.naive_bayes.MultinomialNB.html"
   ]
  },
  {
   "cell_type": "code",
   "execution_count": null,
   "metadata": {
    "colab": {
     "base_uri": "https://localhost:8080/"
    },
    "executionInfo": {
     "elapsed": 538,
     "status": "ok",
     "timestamp": 1654243886299,
     "user": {
      "displayName": "‍황수연[ 학부재학 / 컴퓨터융합소프트웨어학과 ]",
      "userId": "03365621454974662117"
     },
     "user_tz": -540
    },
    "id": "88784fa8",
    "outputId": "00697e1b-0d4d-423d-92da-c32ab5b24aee"
   },
   "outputs": [
    {
     "name": "stdout",
     "output_type": "stream",
     "text": [
      "Train set score: 0.988\n",
      "Test set score: 0.730\n"
     ]
    }
   ],
   "source": [
    "from sklearn.naive_bayes import MultinomialNB #sklearn이 제공하는 MultinomialNB 를 사용\n",
    "NB_clf = MultinomialNB() # 분류기 선언\n",
    "\n",
    "NB_clf.fit(X_train, y_train) #train set을 이용하여 분류기(classifier)를 학습\n",
    "\n",
    "print('Train set score: {:.3f}'.format(NB_clf.score(X_train, y_train))) #train set에 대한 예측정확도를 확인\n",
    "print('Test set score: {:.3f}'.format(NB_clf.score(X_test, y_test))) #test set에 대한 예측정확도를 확인"
   ]
  },
  {
   "cell_type": "markdown",
   "metadata": {
    "id": "5c076c52"
   },
   "source": [
    "### 의사결정나무를 이용한 문서 분류"
   ]
  },
  {
   "cell_type": "code",
   "execution_count": null,
   "metadata": {
    "colab": {
     "base_uri": "https://localhost:8080/"
    },
    "executionInfo": {
     "elapsed": 1115,
     "status": "ok",
     "timestamp": 1654243887407,
     "user": {
      "displayName": "‍황수연[ 학부재학 / 컴퓨터융합소프트웨어학과 ]",
      "userId": "03365621454974662117"
     },
     "user_tz": -540
    },
    "id": "6304f209",
    "outputId": "35a532cf-1c55-44b8-eef6-8b88535a4f18"
   },
   "outputs": [
    {
     "name": "stdout",
     "output_type": "stream",
     "text": [
      "#Decision Tree train set score: 0.999\n",
      "#Decision Tree test set score: 0.557\n"
     ]
    }
   ],
   "source": [
    "from sklearn.tree import DecisionTreeClassifier\n",
    "\n",
    "\n",
    "tree = DecisionTreeClassifier(random_state=7)\n",
    "tree.fit(X_train, y_train)\n",
    "print('#Decision Tree train set score: {:.3f}'.format(tree.score(X_train, y_train)))\n",
    "print('#Decision Tree test set score: {:.3f}'.format(tree.score(X_test, y_test)))"
   ]
  },
  {
   "cell_type": "markdown",
   "metadata": {
    "id": "vo2601Ov3vlP"
   },
   "source": [
    "# PCA 결과 LogisticRegression에 넣음"
   ]
  },
  {
   "cell_type": "code",
   "execution_count": null,
   "metadata": {
    "id": "GIIAcYJFm34M"
   },
   "outputs": [],
   "source": [
    "from sklearn.decomposition import PCA"
   ]
  },
  {
   "cell_type": "code",
   "execution_count": null,
   "metadata": {
    "colab": {
     "base_uri": "https://localhost:8080/"
    },
    "executionInfo": {
     "elapsed": 8987,
     "status": "ok",
     "timestamp": 1654245014286,
     "user": {
      "displayName": "‍황수연[ 학부재학 / 컴퓨터융합소프트웨어학과 ]",
      "userId": "03365621454974662117"
     },
     "user_tz": -540
    },
    "id": "iF6jR2nsrT1k",
    "outputId": "51157d33-8727-4caa-a3a7-ace01168d81e"
   },
   "outputs": [
    {
     "name": "stdout",
     "output_type": "stream",
     "text": [
      "#Train set score: 0.999\n",
      "#Test set score: 0.698\n"
     ]
    }
   ],
   "source": [
    "from sklearn.linear_model import LogisticRegression \n",
    "LR_clf = LogisticRegression() #분류기 선언\n",
    "LR_clf.fit(X_train, y_train) # train data를 이용하여 분류기를 학습\n",
    "print('#Train set score: {:.3f}'.format(LR_clf.score(X_train, y_train)))\n",
    "print('#Test set score: {:.3f}'.format(LR_clf.score(X_test, y_test))) "
   ]
  },
  {
   "cell_type": "code",
   "execution_count": null,
   "metadata": {
    "colab": {
     "base_uri": "https://localhost:8080/"
    },
    "executionInfo": {
     "elapsed": 11021,
     "status": "ok",
     "timestamp": 1654245088139,
     "user": {
      "displayName": "‍황수연[ 학부재학 / 컴퓨터융합소프트웨어학과 ]",
      "userId": "03365621454974662117"
     },
     "user_tz": -540
    },
    "id": "qFKmpbdDrab_",
    "outputId": "070e5eb4-1da3-4f04-bb34-8139b8b6fbc4"
   },
   "outputs": [
    {
     "name": "stdout",
     "output_type": "stream",
     "text": [
      "Original tfidf matrix shape: (1600, 4310)\n",
      "PCA Converted matrix shape: (1600, 1000)\n",
      "Sum of explained variance ratio: 0.923\n",
      "#Train set score: 0.997\n",
      "#Test set score: 0.713\n"
     ]
    }
   ],
   "source": [
    "from sklearn.decomposition import PCA\n",
    "\n",
    "pca = PCA(n_components=1000, random_state=7)\n",
    "X_train_pca = pca.fit_transform(X_train)\n",
    "X_test_pca = pca.transform(X_test)\n",
    "\n",
    "print('Original tfidf matrix shape:', X_train.shape)\n",
    "print('PCA Converted matrix shape:', X_train_pca.shape)\n",
    "print('Sum of explained variance ratio: {:.3f}'.format(pca.explained_variance_ratio_.sum()))\n",
    "\n",
    "LR_clf.fit(X_train_pca, y_train)\n",
    "print('#Train set score: {:.3f}'.format(LR_clf.score(X_train_pca, y_train)))\n",
    "print('#Test set score: {:.3f}'.format(LR_clf.score(X_test_pca, y_test)))"
   ]
  },
  {
   "cell_type": "code",
   "execution_count": null,
   "metadata": {
    "colab": {
     "base_uri": "https://localhost:8080/"
    },
    "executionInfo": {
     "elapsed": 8527,
     "status": "ok",
     "timestamp": 1654245418187,
     "user": {
      "displayName": "‍황수연[ 학부재학 / 컴퓨터융합소프트웨어학과 ]",
      "userId": "03365621454974662117"
     },
     "user_tz": -540
    },
    "id": "agzFf8OgsSgn",
    "outputId": "deaf040f-0c12-4936-e169-4fc1a387daef"
   },
   "outputs": [
    {
     "name": "stdout",
     "output_type": "stream",
     "text": [
      "Original tfidf matrix shape: (1600, 4310)\n",
      "PCA Converted matrix shape: (1600, 1500)\n",
      "Sum of explained variance ratio: 0.999\n",
      "#Train set score: 0.999\n",
      "#Test set score: 0.708\n"
     ]
    }
   ],
   "source": [
    "pca = PCA(n_components=1500, random_state=7)\n",
    "X_train_pca = pca.fit_transform(X_train)\n",
    "X_test_pca = pca.transform(X_test)\n",
    "\n",
    "print('Original tfidf matrix shape:', X_train.shape)\n",
    "print('PCA Converted matrix shape:', X_train_pca.shape)\n",
    "print('Sum of explained variance ratio: {:.3f}'.format(pca.explained_variance_ratio_.sum()))\n",
    "\n",
    "LR_clf.fit(X_train_pca, y_train)\n",
    "print('#Train set score: {:.3f}'.format(LR_clf.score(X_train_pca, y_train)))\n",
    "print('#Test set score: {:.3f}'.format(LR_clf.score(X_test_pca, y_test)))"
   ]
  },
  {
   "cell_type": "code",
   "execution_count": null,
   "metadata": {
    "colab": {
     "base_uri": "https://localhost:8080/"
    },
    "executionInfo": {
     "elapsed": 10889,
     "status": "ok",
     "timestamp": 1654245904986,
     "user": {
      "displayName": "‍황수연[ 학부재학 / 컴퓨터융합소프트웨어학과 ]",
      "userId": "03365621454974662117"
     },
     "user_tz": -540
    },
    "id": "VvzYmb5WvRWI",
    "outputId": "b0251fb4-5eb8-4192-aeb5-7b6ebcd1108d"
   },
   "outputs": [
    {
     "name": "stdout",
     "output_type": "stream",
     "text": [
      "Original tfidf matrix shape: (1600, 4310)\n",
      "PCA Converted matrix shape: (1600, 500)\n",
      "Sum of explained variance ratio: 0.687\n",
      "#Train set score: 0.991\n",
      "#Test set score: 0.690\n"
     ]
    }
   ],
   "source": [
    "pca = PCA(n_components=500, random_state=7)\n",
    "X_train_pca = pca.fit_transform(X_train)\n",
    "X_test_pca = pca.transform(X_test)\n",
    "\n",
    "print('Original tfidf matrix shape:', X_train.shape)\n",
    "print('PCA Converted matrix shape:', X_train_pca.shape)\n",
    "print('Sum of explained variance ratio: {:.3f}'.format(pca.explained_variance_ratio_.sum()))\n",
    "\n",
    "LR_clf.fit(X_train_pca, y_train)\n",
    "print('#Train set score: {:.3f}'.format(LR_clf.score(X_train_pca, y_train)))\n",
    "print('#Test set score: {:.3f}'.format(LR_clf.score(X_test_pca, y_test)))"
   ]
  },
  {
   "cell_type": "markdown",
   "metadata": {
    "id": "DUvMRs6zsB0Y"
   },
   "source": [
    "# PCA 결과 NB에 넣음( MinMax Scaler 이용)  -> 아님!"
   ]
  },
  {
   "cell_type": "code",
   "execution_count": null,
   "metadata": {
    "id": "3kYy7BE7tA07"
   },
   "outputs": [],
   "source": [
    "from sklearn.preprocessing import MinMaxScaler #fixed import\n",
    "\n",
    "#ValueError: Negative values in data passed to MultinomialNB (input X) 에러 방지\n",
    "scaler = MinMaxScaler()\n",
    "#X_train = scaler.fit_transform(X_train)\n",
    "#X_test = scaler.transform(X_test)"
   ]
  },
  {
   "cell_type": "code",
   "execution_count": null,
   "metadata": {
    "colab": {
     "base_uri": "https://localhost:8080/"
    },
    "executionInfo": {
     "elapsed": 8797,
     "status": "ok",
     "timestamp": 1654243896192,
     "user": {
      "displayName": "‍황수연[ 학부재학 / 컴퓨터융합소프트웨어학과 ]",
      "userId": "03365621454974662117"
     },
     "user_tz": -540
    },
    "id": "Ri1F5G8L20ti",
    "outputId": "2f69190a-dd30-4cec-8232-c07ec261ab64"
   },
   "outputs": [
    {
     "name": "stdout",
     "output_type": "stream",
     "text": [
      "Original tfidf matrix shape: (1600, 4310)\n",
      "PCA Converted matrix shape: (1600, 1000)\n",
      "Sum of explained variance ratio: 0.923\n",
      "#Train set score: 0.290\n",
      "#Test set score: 0.225\n"
     ]
    }
   ],
   "source": [
    "pca = PCA(n_components=1000, random_state=7)\n",
    "X_train_pca = pca.fit_transform(X_train)\n",
    "X_test_pca = pca.transform(X_test)\n",
    "\n",
    "X_train_pca = scaler.fit_transform(X_train_pca)\n",
    "X_test_pca = scaler.transform(X_test_pca)\n",
    "print('Original tfidf matrix shape:', X_train.shape)\n",
    "print('PCA Converted matrix shape:', X_train_pca.shape)\n",
    "print('Sum of explained variance ratio: {:.3f}'.format(pca.explained_variance_ratio_.sum()))\n",
    "\n",
    "NB_clf.fit(X_train_pca, y_train)\n",
    "print('#Train set score: {:.3f}'.format(NB_clf.score(X_train_pca, y_train)))\n",
    "print('#Test set score: {:.3f}'.format(NB_clf.score(X_test_pca, y_test)))"
   ]
  },
  {
   "cell_type": "code",
   "execution_count": null,
   "metadata": {
    "colab": {
     "base_uri": "https://localhost:8080/"
    },
    "executionInfo": {
     "elapsed": 3815,
     "status": "ok",
     "timestamp": 1654243899993,
     "user": {
      "displayName": "‍황수연[ 학부재학 / 컴퓨터융합소프트웨어학과 ]",
      "userId": "03365621454974662117"
     },
     "user_tz": -540
    },
    "id": "h6mNE3IW55pb",
    "outputId": "b5711885-15d1-40ef-b248-2b0e94ab929f"
   },
   "outputs": [
    {
     "name": "stdout",
     "output_type": "stream",
     "text": [
      "Original tfidf matrix shape: (1600, 4310)\n",
      "PCA Converted matrix shape: (1600, 500)\n",
      "Sum of explained variance ratio: 0.687\n",
      "#Train set score: 0.246\n",
      "#Test set score: 0.223\n"
     ]
    }
   ],
   "source": [
    "pca = PCA(n_components=500, random_state=7)\n",
    "X_train_pca = pca.fit_transform(X_train)\n",
    "X_test_pca = pca.transform(X_test)\n",
    "\n",
    "X_train_pca = scaler.fit_transform(X_train_pca)\n",
    "X_test_pca = scaler.transform(X_test_pca)\n",
    "print('Original tfidf matrix shape:', X_train.shape)\n",
    "print('PCA Converted matrix shape:', X_train_pca.shape)\n",
    "print('Sum of explained variance ratio: {:.3f}'.format(pca.explained_variance_ratio_.sum()))\n",
    "\n",
    "NB_clf.fit(X_train_pca, y_train)\n",
    "print('#Train set score: {:.3f}'.format(NB_clf.score(X_train_pca, y_train)))\n",
    "print('#Test set score: {:.3f}'.format(NB_clf.score(X_test_pca, y_test)))"
   ]
  },
  {
   "cell_type": "code",
   "execution_count": null,
   "metadata": {
    "colab": {
     "base_uri": "https://localhost:8080/"
    },
    "executionInfo": {
     "elapsed": 6087,
     "status": "ok",
     "timestamp": 1654243906056,
     "user": {
      "displayName": "‍황수연[ 학부재학 / 컴퓨터융합소프트웨어학과 ]",
      "userId": "03365621454974662117"
     },
     "user_tz": -540
    },
    "id": "QMfxpsvx8doQ",
    "outputId": "172d484b-1e6c-46dd-a673-eaaf35b2378b"
   },
   "outputs": [
    {
     "name": "stdout",
     "output_type": "stream",
     "text": [
      "Original tfidf matrix shape: (1600, 4310)\n",
      "PCA Converted matrix shape: (1600, 1500)\n",
      "Sum of explained variance ratio: 0.999\n",
      "#Train set score: 0.306\n",
      "#Test set score: 0.235\n"
     ]
    }
   ],
   "source": [
    "pca = PCA(n_components=1500, random_state=7)\n",
    "X_train_pca = pca.fit_transform(X_train)\n",
    "X_test_pca = pca.transform(X_test)\n",
    "\n",
    "X_train_pca = scaler.fit_transform(X_train_pca)\n",
    "X_test_pca = scaler.transform(X_test_pca)\n",
    "print('Original tfidf matrix shape:', X_train.shape)\n",
    "print('PCA Converted matrix shape:', X_train_pca.shape)\n",
    "print('Sum of explained variance ratio: {:.3f}'.format(pca.explained_variance_ratio_.sum()))\n",
    "\n",
    "NB_clf.fit(X_train_pca, y_train)\n",
    "print('#Train set score: {:.3f}'.format(NB_clf.score(X_train_pca, y_train)))\n",
    "print('#Test set score: {:.3f}'.format(NB_clf.score(X_test_pca, y_test)))"
   ]
  },
  {
   "cell_type": "code",
   "execution_count": null,
   "metadata": {
    "colab": {
     "base_uri": "https://localhost:8080/",
     "height": 400
    },
    "executionInfo": {
     "elapsed": 443,
     "status": "error",
     "timestamp": 1654243935078,
     "user": {
      "displayName": "‍황수연[ 학부재학 / 컴퓨터융합소프트웨어학과 ]",
      "userId": "03365621454974662117"
     },
     "user_tz": -540
    },
    "id": "QI-pJxZwiYDH",
    "outputId": "7123b364-47af-427f-c977-9b8b9cad02cb"
   },
   "outputs": [
    {
     "ename": "ValueError",
     "evalue": "ignored",
     "output_type": "error",
     "traceback": [
      "\u001b[0;31m---------------------------------------------------------------------------\u001b[0m",
      "\u001b[0;31mValueError\u001b[0m                                Traceback (most recent call last)",
      "\u001b[0;32m<ipython-input-41-c0070331cdde>\u001b[0m in \u001b[0;36m<module>\u001b[0;34m()\u001b[0m\n\u001b[1;32m      1\u001b[0m \u001b[0mpca\u001b[0m \u001b[0;34m=\u001b[0m \u001b[0mPCA\u001b[0m\u001b[0;34m(\u001b[0m\u001b[0mn_components\u001b[0m\u001b[0;34m=\u001b[0m\u001b[0;36m1700\u001b[0m\u001b[0;34m,\u001b[0m \u001b[0mrandom_state\u001b[0m\u001b[0;34m=\u001b[0m\u001b[0;36m7\u001b[0m\u001b[0;34m)\u001b[0m\u001b[0;34m\u001b[0m\u001b[0;34m\u001b[0m\u001b[0m\n\u001b[0;32m----> 2\u001b[0;31m \u001b[0mX_train_pca\u001b[0m \u001b[0;34m=\u001b[0m \u001b[0mpca\u001b[0m\u001b[0;34m.\u001b[0m\u001b[0mfit_transform\u001b[0m\u001b[0;34m(\u001b[0m\u001b[0mX_train\u001b[0m\u001b[0;34m)\u001b[0m\u001b[0;34m\u001b[0m\u001b[0;34m\u001b[0m\u001b[0m\n\u001b[0m\u001b[1;32m      3\u001b[0m \u001b[0mX_test_pca\u001b[0m \u001b[0;34m=\u001b[0m \u001b[0mpca\u001b[0m\u001b[0;34m.\u001b[0m\u001b[0mtransform\u001b[0m\u001b[0;34m(\u001b[0m\u001b[0mX_test\u001b[0m\u001b[0;34m)\u001b[0m\u001b[0;34m\u001b[0m\u001b[0;34m\u001b[0m\u001b[0m\n\u001b[1;32m      4\u001b[0m \u001b[0;34m\u001b[0m\u001b[0m\n\u001b[1;32m      5\u001b[0m \u001b[0mX_train_pca\u001b[0m \u001b[0;34m=\u001b[0m \u001b[0mscaler\u001b[0m\u001b[0;34m.\u001b[0m\u001b[0mfit_transform\u001b[0m\u001b[0;34m(\u001b[0m\u001b[0mX_train_pca\u001b[0m\u001b[0;34m)\u001b[0m\u001b[0;34m\u001b[0m\u001b[0;34m\u001b[0m\u001b[0m\n",
      "\u001b[0;32m/usr/local/lib/python3.7/dist-packages/sklearn/decomposition/_pca.py\u001b[0m in \u001b[0;36mfit_transform\u001b[0;34m(self, X, y)\u001b[0m\n\u001b[1;32m    405\u001b[0m         \u001b[0mC\u001b[0m\u001b[0;34m-\u001b[0m\u001b[0mordered\u001b[0m \u001b[0marray\u001b[0m\u001b[0;34m,\u001b[0m \u001b[0muse\u001b[0m \u001b[0;34m'np.ascontiguousarray'\u001b[0m\u001b[0;34m.\u001b[0m\u001b[0;34m\u001b[0m\u001b[0;34m\u001b[0m\u001b[0m\n\u001b[1;32m    406\u001b[0m         \"\"\"\n\u001b[0;32m--> 407\u001b[0;31m         \u001b[0mU\u001b[0m\u001b[0;34m,\u001b[0m \u001b[0mS\u001b[0m\u001b[0;34m,\u001b[0m \u001b[0mVt\u001b[0m \u001b[0;34m=\u001b[0m \u001b[0mself\u001b[0m\u001b[0;34m.\u001b[0m\u001b[0m_fit\u001b[0m\u001b[0;34m(\u001b[0m\u001b[0mX\u001b[0m\u001b[0;34m)\u001b[0m\u001b[0;34m\u001b[0m\u001b[0;34m\u001b[0m\u001b[0m\n\u001b[0m\u001b[1;32m    408\u001b[0m         \u001b[0mU\u001b[0m \u001b[0;34m=\u001b[0m \u001b[0mU\u001b[0m\u001b[0;34m[\u001b[0m\u001b[0;34m:\u001b[0m\u001b[0;34m,\u001b[0m \u001b[0;34m:\u001b[0m \u001b[0mself\u001b[0m\u001b[0;34m.\u001b[0m\u001b[0mn_components_\u001b[0m\u001b[0;34m]\u001b[0m\u001b[0;34m\u001b[0m\u001b[0;34m\u001b[0m\u001b[0m\n\u001b[1;32m    409\u001b[0m \u001b[0;34m\u001b[0m\u001b[0m\n",
      "\u001b[0;32m/usr/local/lib/python3.7/dist-packages/sklearn/decomposition/_pca.py\u001b[0m in \u001b[0;36m_fit\u001b[0;34m(self, X)\u001b[0m\n\u001b[1;32m    455\u001b[0m         \u001b[0;31m# Call different fits for either full or truncated SVD\u001b[0m\u001b[0;34m\u001b[0m\u001b[0;34m\u001b[0m\u001b[0;34m\u001b[0m\u001b[0m\n\u001b[1;32m    456\u001b[0m         \u001b[0;32mif\u001b[0m \u001b[0mself\u001b[0m\u001b[0;34m.\u001b[0m\u001b[0m_fit_svd_solver\u001b[0m \u001b[0;34m==\u001b[0m \u001b[0;34m\"full\"\u001b[0m\u001b[0;34m:\u001b[0m\u001b[0;34m\u001b[0m\u001b[0;34m\u001b[0m\u001b[0m\n\u001b[0;32m--> 457\u001b[0;31m             \u001b[0;32mreturn\u001b[0m \u001b[0mself\u001b[0m\u001b[0;34m.\u001b[0m\u001b[0m_fit_full\u001b[0m\u001b[0;34m(\u001b[0m\u001b[0mX\u001b[0m\u001b[0;34m,\u001b[0m \u001b[0mn_components\u001b[0m\u001b[0;34m)\u001b[0m\u001b[0;34m\u001b[0m\u001b[0;34m\u001b[0m\u001b[0m\n\u001b[0m\u001b[1;32m    458\u001b[0m         \u001b[0;32melif\u001b[0m \u001b[0mself\u001b[0m\u001b[0;34m.\u001b[0m\u001b[0m_fit_svd_solver\u001b[0m \u001b[0;32min\u001b[0m \u001b[0;34m[\u001b[0m\u001b[0;34m\"arpack\"\u001b[0m\u001b[0;34m,\u001b[0m \u001b[0;34m\"randomized\"\u001b[0m\u001b[0;34m]\u001b[0m\u001b[0;34m:\u001b[0m\u001b[0;34m\u001b[0m\u001b[0;34m\u001b[0m\u001b[0m\n\u001b[1;32m    459\u001b[0m             \u001b[0;32mreturn\u001b[0m \u001b[0mself\u001b[0m\u001b[0;34m.\u001b[0m\u001b[0m_fit_truncated\u001b[0m\u001b[0;34m(\u001b[0m\u001b[0mX\u001b[0m\u001b[0;34m,\u001b[0m \u001b[0mn_components\u001b[0m\u001b[0;34m,\u001b[0m \u001b[0mself\u001b[0m\u001b[0;34m.\u001b[0m\u001b[0m_fit_svd_solver\u001b[0m\u001b[0;34m)\u001b[0m\u001b[0;34m\u001b[0m\u001b[0;34m\u001b[0m\u001b[0m\n",
      "\u001b[0;32m/usr/local/lib/python3.7/dist-packages/sklearn/decomposition/_pca.py\u001b[0m in \u001b[0;36m_fit_full\u001b[0;34m(self, X, n_components)\u001b[0m\n\u001b[1;32m    476\u001b[0m                 \u001b[0;34m\"n_components=%r must be between 0 and \"\u001b[0m\u001b[0;34m\u001b[0m\u001b[0;34m\u001b[0m\u001b[0m\n\u001b[1;32m    477\u001b[0m                 \u001b[0;34m\"min(n_samples, n_features)=%r with \"\u001b[0m\u001b[0;34m\u001b[0m\u001b[0;34m\u001b[0m\u001b[0m\n\u001b[0;32m--> 478\u001b[0;31m                 \u001b[0;34m\"svd_solver='full'\"\u001b[0m \u001b[0;34m%\u001b[0m \u001b[0;34m(\u001b[0m\u001b[0mn_components\u001b[0m\u001b[0;34m,\u001b[0m \u001b[0mmin\u001b[0m\u001b[0;34m(\u001b[0m\u001b[0mn_samples\u001b[0m\u001b[0;34m,\u001b[0m \u001b[0mn_features\u001b[0m\u001b[0;34m)\u001b[0m\u001b[0;34m)\u001b[0m\u001b[0;34m\u001b[0m\u001b[0;34m\u001b[0m\u001b[0m\n\u001b[0m\u001b[1;32m    479\u001b[0m             )\n\u001b[1;32m    480\u001b[0m         \u001b[0;32melif\u001b[0m \u001b[0mn_components\u001b[0m \u001b[0;34m>=\u001b[0m \u001b[0;36m1\u001b[0m\u001b[0;34m:\u001b[0m\u001b[0;34m\u001b[0m\u001b[0;34m\u001b[0m\u001b[0m\n",
      "\u001b[0;31mValueError\u001b[0m: n_components=1700 must be between 0 and min(n_samples, n_features)=1600 with svd_solver='full'"
     ]
    }
   ],
   "source": [
    "pca = PCA(n_components=1700, random_state=7)\n",
    "X_train_pca = pca.fit_transform(X_train)\n",
    "X_test_pca = pca.transform(X_test)\n",
    "\n",
    "X_train_pca = scaler.fit_transform(X_train_pca)\n",
    "X_test_pca = scaler.transform(X_test_pca)\n",
    "print('Original tfidf matrix shape:', X_train.shape)\n",
    "print('PCA Converted matrix shape:', X_train_pca.shape)\n",
    "print('Sum of explained variance ratio: {:.3f}'.format(pca.explained_variance_ratio_.sum()))\n",
    "\n",
    "NB_clf.fit(X_train_pca, y_train)\n",
    "print('#Train set score: {:.3f}'.format(NB_clf.score(X_train_pca, y_train)))\n",
    "print('#Test set score: {:.3f}'.format(NB_clf.score(X_test_pca, y_test)))"
   ]
  },
  {
   "cell_type": "markdown",
   "metadata": {
    "id": "0hQMnJ6Kk48w"
   },
   "source": [
    "# label이 없을 때"
   ]
  },
  {
   "cell_type": "markdown",
   "metadata": {
    "id": "AlJjxaekmTdJ"
   },
   "source": [
    "** label이 없었음"
   ]
  },
  {
   "cell_type": "code",
   "execution_count": null,
   "metadata": {
    "id": "QT2msXuem-oM"
   },
   "outputs": [],
   "source": [
    "tf_idf = pd.read_csv('/content/drive/Shareddrives/datamining_2022/tfidf.csv',encoding = 'cp949', index_col=0)"
   ]
  },
  {
   "cell_type": "code",
   "execution_count": null,
   "metadata": {
    "id": "fBMUX4XsuP7Y"
   },
   "outputs": [],
   "source": [
    "tfidf = TfidfVectorizer(max_features = 100, max_df=0.95, min_df=0)"
   ]
  },
  {
   "cell_type": "code",
   "execution_count": null,
   "metadata": {
    "colab": {
     "base_uri": "https://localhost:8080/",
     "height": 455
    },
    "executionInfo": {
     "elapsed": 25,
     "status": "ok",
     "timestamp": 1654083902515,
     "user": {
      "displayName": "‍황수연[ 학부재학 / 컴퓨터융합소프트웨어학과 ]",
      "userId": "03365621454974662117"
     },
     "user_tz": -540
    },
    "id": "lom64_KEwIri",
    "outputId": "4d5b6265-f7c6-4c77-f8c8-c0ba471024c4"
   },
   "outputs": [
    {
     "data": {
      "text/html": [
       "\n",
       "  <div id=\"df-d624a419-05e1-4f92-8e0a-875b613ec200\">\n",
       "    <div class=\"colab-df-container\">\n",
       "      <div>\n",
       "<style scoped>\n",
       "    .dataframe tbody tr th:only-of-type {\n",
       "        vertical-align: middle;\n",
       "    }\n",
       "\n",
       "    .dataframe tbody tr th {\n",
       "        vertical-align: top;\n",
       "    }\n",
       "\n",
       "    .dataframe thead th {\n",
       "        text-align: right;\n",
       "    }\n",
       "</style>\n",
       "<table border=\"1\" class=\"dataframe\">\n",
       "  <thead>\n",
       "    <tr style=\"text-align: right;\">\n",
       "      <th></th>\n",
       "      <th>잔꽃</th>\n",
       "      <th>용품</th>\n",
       "      <th>렛</th>\n",
       "      <th>아유</th>\n",
       "      <th>날</th>\n",
       "      <th>라코스테</th>\n",
       "      <th>장군</th>\n",
       "      <th>토너</th>\n",
       "      <th>디파이</th>\n",
       "      <th>얼마나</th>\n",
       "      <th>...</th>\n",
       "      <th>콘도</th>\n",
       "      <th>리본</th>\n",
       "      <th>공공기관</th>\n",
       "      <th>춘천</th>\n",
       "      <th>펜</th>\n",
       "      <th>하디</th>\n",
       "      <th>주년</th>\n",
       "      <th>프로젝터</th>\n",
       "      <th>방수</th>\n",
       "      <th>가야</th>\n",
       "    </tr>\n",
       "    <tr>\n",
       "      <th>Column1</th>\n",
       "      <th></th>\n",
       "      <th></th>\n",
       "      <th></th>\n",
       "      <th></th>\n",
       "      <th></th>\n",
       "      <th></th>\n",
       "      <th></th>\n",
       "      <th></th>\n",
       "      <th></th>\n",
       "      <th></th>\n",
       "      <th></th>\n",
       "      <th></th>\n",
       "      <th></th>\n",
       "      <th></th>\n",
       "      <th></th>\n",
       "      <th></th>\n",
       "      <th></th>\n",
       "      <th></th>\n",
       "      <th></th>\n",
       "      <th></th>\n",
       "      <th></th>\n",
       "    </tr>\n",
       "  </thead>\n",
       "  <tbody>\n",
       "    <tr>\n",
       "      <th>0</th>\n",
       "      <td>0</td>\n",
       "      <td>0</td>\n",
       "      <td>0</td>\n",
       "      <td>0</td>\n",
       "      <td>0</td>\n",
       "      <td>0.0</td>\n",
       "      <td>0</td>\n",
       "      <td>0.0</td>\n",
       "      <td>0</td>\n",
       "      <td>0</td>\n",
       "      <td>...</td>\n",
       "      <td>0</td>\n",
       "      <td>0</td>\n",
       "      <td>0</td>\n",
       "      <td>0</td>\n",
       "      <td>0</td>\n",
       "      <td>0</td>\n",
       "      <td>0</td>\n",
       "      <td>0</td>\n",
       "      <td>0</td>\n",
       "      <td>0</td>\n",
       "    </tr>\n",
       "    <tr>\n",
       "      <th>1</th>\n",
       "      <td>0</td>\n",
       "      <td>0</td>\n",
       "      <td>0</td>\n",
       "      <td>0</td>\n",
       "      <td>0</td>\n",
       "      <td>0.0</td>\n",
       "      <td>0</td>\n",
       "      <td>0.0</td>\n",
       "      <td>0</td>\n",
       "      <td>0</td>\n",
       "      <td>...</td>\n",
       "      <td>0</td>\n",
       "      <td>0</td>\n",
       "      <td>0</td>\n",
       "      <td>0</td>\n",
       "      <td>0</td>\n",
       "      <td>0</td>\n",
       "      <td>0</td>\n",
       "      <td>0</td>\n",
       "      <td>0</td>\n",
       "      <td>0</td>\n",
       "    </tr>\n",
       "    <tr>\n",
       "      <th>2</th>\n",
       "      <td>0</td>\n",
       "      <td>0</td>\n",
       "      <td>0</td>\n",
       "      <td>0</td>\n",
       "      <td>0</td>\n",
       "      <td>0.0</td>\n",
       "      <td>0</td>\n",
       "      <td>0.0</td>\n",
       "      <td>0</td>\n",
       "      <td>0</td>\n",
       "      <td>...</td>\n",
       "      <td>0</td>\n",
       "      <td>0</td>\n",
       "      <td>0</td>\n",
       "      <td>0</td>\n",
       "      <td>0</td>\n",
       "      <td>0</td>\n",
       "      <td>0</td>\n",
       "      <td>0</td>\n",
       "      <td>0</td>\n",
       "      <td>0</td>\n",
       "    </tr>\n",
       "    <tr>\n",
       "      <th>3</th>\n",
       "      <td>0</td>\n",
       "      <td>0</td>\n",
       "      <td>0</td>\n",
       "      <td>0</td>\n",
       "      <td>0</td>\n",
       "      <td>0.0</td>\n",
       "      <td>0</td>\n",
       "      <td>0.0</td>\n",
       "      <td>0</td>\n",
       "      <td>0</td>\n",
       "      <td>...</td>\n",
       "      <td>0</td>\n",
       "      <td>0</td>\n",
       "      <td>0</td>\n",
       "      <td>0</td>\n",
       "      <td>0</td>\n",
       "      <td>0</td>\n",
       "      <td>0</td>\n",
       "      <td>0</td>\n",
       "      <td>0</td>\n",
       "      <td>0</td>\n",
       "    </tr>\n",
       "    <tr>\n",
       "      <th>4</th>\n",
       "      <td>0</td>\n",
       "      <td>0</td>\n",
       "      <td>0</td>\n",
       "      <td>0</td>\n",
       "      <td>0</td>\n",
       "      <td>0.0</td>\n",
       "      <td>0</td>\n",
       "      <td>0.0</td>\n",
       "      <td>0</td>\n",
       "      <td>0</td>\n",
       "      <td>...</td>\n",
       "      <td>0</td>\n",
       "      <td>0</td>\n",
       "      <td>0</td>\n",
       "      <td>0</td>\n",
       "      <td>0</td>\n",
       "      <td>0</td>\n",
       "      <td>0</td>\n",
       "      <td>0</td>\n",
       "      <td>0</td>\n",
       "      <td>0</td>\n",
       "    </tr>\n",
       "    <tr>\n",
       "      <th>...</th>\n",
       "      <td>...</td>\n",
       "      <td>...</td>\n",
       "      <td>...</td>\n",
       "      <td>...</td>\n",
       "      <td>...</td>\n",
       "      <td>...</td>\n",
       "      <td>...</td>\n",
       "      <td>...</td>\n",
       "      <td>...</td>\n",
       "      <td>...</td>\n",
       "      <td>...</td>\n",
       "      <td>...</td>\n",
       "      <td>...</td>\n",
       "      <td>...</td>\n",
       "      <td>...</td>\n",
       "      <td>...</td>\n",
       "      <td>...</td>\n",
       "      <td>...</td>\n",
       "      <td>...</td>\n",
       "      <td>...</td>\n",
       "      <td>...</td>\n",
       "    </tr>\n",
       "    <tr>\n",
       "      <th>1995</th>\n",
       "      <td>0</td>\n",
       "      <td>0</td>\n",
       "      <td>0</td>\n",
       "      <td>0</td>\n",
       "      <td>0</td>\n",
       "      <td>0.0</td>\n",
       "      <td>0</td>\n",
       "      <td>0.0</td>\n",
       "      <td>0</td>\n",
       "      <td>0</td>\n",
       "      <td>...</td>\n",
       "      <td>0</td>\n",
       "      <td>0</td>\n",
       "      <td>0</td>\n",
       "      <td>0</td>\n",
       "      <td>0</td>\n",
       "      <td>0</td>\n",
       "      <td>0</td>\n",
       "      <td>0</td>\n",
       "      <td>0</td>\n",
       "      <td>0</td>\n",
       "    </tr>\n",
       "    <tr>\n",
       "      <th>1996</th>\n",
       "      <td>0</td>\n",
       "      <td>0</td>\n",
       "      <td>0</td>\n",
       "      <td>0</td>\n",
       "      <td>0</td>\n",
       "      <td>0.0</td>\n",
       "      <td>0</td>\n",
       "      <td>0.0</td>\n",
       "      <td>0</td>\n",
       "      <td>0</td>\n",
       "      <td>...</td>\n",
       "      <td>0</td>\n",
       "      <td>0</td>\n",
       "      <td>0</td>\n",
       "      <td>0</td>\n",
       "      <td>0</td>\n",
       "      <td>0</td>\n",
       "      <td>0</td>\n",
       "      <td>0</td>\n",
       "      <td>0</td>\n",
       "      <td>0</td>\n",
       "    </tr>\n",
       "    <tr>\n",
       "      <th>1997</th>\n",
       "      <td>0</td>\n",
       "      <td>0</td>\n",
       "      <td>0</td>\n",
       "      <td>0</td>\n",
       "      <td>0</td>\n",
       "      <td>0.0</td>\n",
       "      <td>0</td>\n",
       "      <td>0.0</td>\n",
       "      <td>0</td>\n",
       "      <td>0</td>\n",
       "      <td>...</td>\n",
       "      <td>0</td>\n",
       "      <td>0</td>\n",
       "      <td>0</td>\n",
       "      <td>0</td>\n",
       "      <td>0</td>\n",
       "      <td>0</td>\n",
       "      <td>0</td>\n",
       "      <td>0</td>\n",
       "      <td>0</td>\n",
       "      <td>0</td>\n",
       "    </tr>\n",
       "    <tr>\n",
       "      <th>1998</th>\n",
       "      <td>0</td>\n",
       "      <td>0</td>\n",
       "      <td>0</td>\n",
       "      <td>0</td>\n",
       "      <td>0</td>\n",
       "      <td>0.0</td>\n",
       "      <td>0</td>\n",
       "      <td>0.0</td>\n",
       "      <td>0</td>\n",
       "      <td>0</td>\n",
       "      <td>...</td>\n",
       "      <td>0</td>\n",
       "      <td>0</td>\n",
       "      <td>0</td>\n",
       "      <td>0</td>\n",
       "      <td>0</td>\n",
       "      <td>0</td>\n",
       "      <td>0</td>\n",
       "      <td>0</td>\n",
       "      <td>0</td>\n",
       "      <td>0</td>\n",
       "    </tr>\n",
       "    <tr>\n",
       "      <th>1999</th>\n",
       "      <td>0</td>\n",
       "      <td>0</td>\n",
       "      <td>0</td>\n",
       "      <td>0</td>\n",
       "      <td>0</td>\n",
       "      <td>0.0</td>\n",
       "      <td>0</td>\n",
       "      <td>0.0</td>\n",
       "      <td>0</td>\n",
       "      <td>0</td>\n",
       "      <td>...</td>\n",
       "      <td>0</td>\n",
       "      <td>0</td>\n",
       "      <td>0</td>\n",
       "      <td>0</td>\n",
       "      <td>0</td>\n",
       "      <td>0</td>\n",
       "      <td>0</td>\n",
       "      <td>0</td>\n",
       "      <td>0</td>\n",
       "      <td>0</td>\n",
       "    </tr>\n",
       "  </tbody>\n",
       "</table>\n",
       "<p>2000 rows × 4310 columns</p>\n",
       "</div>\n",
       "      <button class=\"colab-df-convert\" onclick=\"convertToInteractive('df-d624a419-05e1-4f92-8e0a-875b613ec200')\"\n",
       "              title=\"Convert this dataframe to an interactive table.\"\n",
       "              style=\"display:none;\">\n",
       "        \n",
       "  <svg xmlns=\"http://www.w3.org/2000/svg\" height=\"24px\"viewBox=\"0 0 24 24\"\n",
       "       width=\"24px\">\n",
       "    <path d=\"M0 0h24v24H0V0z\" fill=\"none\"/>\n",
       "    <path d=\"M18.56 5.44l.94 2.06.94-2.06 2.06-.94-2.06-.94-.94-2.06-.94 2.06-2.06.94zm-11 1L8.5 8.5l.94-2.06 2.06-.94-2.06-.94L8.5 2.5l-.94 2.06-2.06.94zm10 10l.94 2.06.94-2.06 2.06-.94-2.06-.94-.94-2.06-.94 2.06-2.06.94z\"/><path d=\"M17.41 7.96l-1.37-1.37c-.4-.4-.92-.59-1.43-.59-.52 0-1.04.2-1.43.59L10.3 9.45l-7.72 7.72c-.78.78-.78 2.05 0 2.83L4 21.41c.39.39.9.59 1.41.59.51 0 1.02-.2 1.41-.59l7.78-7.78 2.81-2.81c.8-.78.8-2.07 0-2.86zM5.41 20L4 18.59l7.72-7.72 1.47 1.35L5.41 20z\"/>\n",
       "  </svg>\n",
       "      </button>\n",
       "      \n",
       "  <style>\n",
       "    .colab-df-container {\n",
       "      display:flex;\n",
       "      flex-wrap:wrap;\n",
       "      gap: 12px;\n",
       "    }\n",
       "\n",
       "    .colab-df-convert {\n",
       "      background-color: #E8F0FE;\n",
       "      border: none;\n",
       "      border-radius: 50%;\n",
       "      cursor: pointer;\n",
       "      display: none;\n",
       "      fill: #1967D2;\n",
       "      height: 32px;\n",
       "      padding: 0 0 0 0;\n",
       "      width: 32px;\n",
       "    }\n",
       "\n",
       "    .colab-df-convert:hover {\n",
       "      background-color: #E2EBFA;\n",
       "      box-shadow: 0px 1px 2px rgba(60, 64, 67, 0.3), 0px 1px 3px 1px rgba(60, 64, 67, 0.15);\n",
       "      fill: #174EA6;\n",
       "    }\n",
       "\n",
       "    [theme=dark] .colab-df-convert {\n",
       "      background-color: #3B4455;\n",
       "      fill: #D2E3FC;\n",
       "    }\n",
       "\n",
       "    [theme=dark] .colab-df-convert:hover {\n",
       "      background-color: #434B5C;\n",
       "      box-shadow: 0px 1px 3px 1px rgba(0, 0, 0, 0.15);\n",
       "      filter: drop-shadow(0px 1px 2px rgba(0, 0, 0, 0.3));\n",
       "      fill: #FFFFFF;\n",
       "    }\n",
       "  </style>\n",
       "\n",
       "      <script>\n",
       "        const buttonEl =\n",
       "          document.querySelector('#df-d624a419-05e1-4f92-8e0a-875b613ec200 button.colab-df-convert');\n",
       "        buttonEl.style.display =\n",
       "          google.colab.kernel.accessAllowed ? 'block' : 'none';\n",
       "\n",
       "        async function convertToInteractive(key) {\n",
       "          const element = document.querySelector('#df-d624a419-05e1-4f92-8e0a-875b613ec200');\n",
       "          const dataTable =\n",
       "            await google.colab.kernel.invokeFunction('convertToInteractive',\n",
       "                                                     [key], {});\n",
       "          if (!dataTable) return;\n",
       "\n",
       "          const docLinkHtml = 'Like what you see? Visit the ' +\n",
       "            '<a target=\"_blank\" href=https://colab.research.google.com/notebooks/data_table.ipynb>data table notebook</a>'\n",
       "            + ' to learn more about interactive tables.';\n",
       "          element.innerHTML = '';\n",
       "          dataTable['output_type'] = 'display_data';\n",
       "          await google.colab.output.renderOutput(dataTable, element);\n",
       "          const docLink = document.createElement('div');\n",
       "          docLink.innerHTML = docLinkHtml;\n",
       "          element.appendChild(docLink);\n",
       "        }\n",
       "      </script>\n",
       "    </div>\n",
       "  </div>\n",
       "  "
      ],
      "text/plain": [
       "         잔꽃  용품  렛  아유  날  라코스테  장군   토너  디파이  얼마나  ...  콘도  리본  공공기관  춘천  펜  \\\n",
       "Column1                                             ...                        \n",
       "0         0   0  0   0  0   0.0   0  0.0    0    0  ...   0   0     0   0  0   \n",
       "1         0   0  0   0  0   0.0   0  0.0    0    0  ...   0   0     0   0  0   \n",
       "2         0   0  0   0  0   0.0   0  0.0    0    0  ...   0   0     0   0  0   \n",
       "3         0   0  0   0  0   0.0   0  0.0    0    0  ...   0   0     0   0  0   \n",
       "4         0   0  0   0  0   0.0   0  0.0    0    0  ...   0   0     0   0  0   \n",
       "...      ..  .. ..  .. ..   ...  ..  ...  ...  ...  ...  ..  ..   ...  .. ..   \n",
       "1995      0   0  0   0  0   0.0   0  0.0    0    0  ...   0   0     0   0  0   \n",
       "1996      0   0  0   0  0   0.0   0  0.0    0    0  ...   0   0     0   0  0   \n",
       "1997      0   0  0   0  0   0.0   0  0.0    0    0  ...   0   0     0   0  0   \n",
       "1998      0   0  0   0  0   0.0   0  0.0    0    0  ...   0   0     0   0  0   \n",
       "1999      0   0  0   0  0   0.0   0  0.0    0    0  ...   0   0     0   0  0   \n",
       "\n",
       "         하디  주년  프로젝터  방수  가야  \n",
       "Column1                        \n",
       "0         0   0     0   0   0  \n",
       "1         0   0     0   0   0  \n",
       "2         0   0     0   0   0  \n",
       "3         0   0     0   0   0  \n",
       "4         0   0     0   0   0  \n",
       "...      ..  ..   ...  ..  ..  \n",
       "1995      0   0     0   0   0  \n",
       "1996      0   0     0   0   0  \n",
       "1997      0   0     0   0   0  \n",
       "1998      0   0     0   0   0  \n",
       "1999      0   0     0   0   0  \n",
       "\n",
       "[2000 rows x 4310 columns]"
      ]
     },
     "execution_count": 118,
     "metadata": {},
     "output_type": "execute_result"
    }
   ],
   "source": [
    "tf_idf"
   ]
  },
  {
   "cell_type": "markdown",
   "metadata": {
    "id": "7pCj5ZhGvK0C"
   },
   "source": [
    "칼럼명 확인하기"
   ]
  },
  {
   "cell_type": "code",
   "execution_count": null,
   "metadata": {
    "colab": {
     "base_uri": "https://localhost:8080/"
    },
    "executionInfo": {
     "elapsed": 22,
     "status": "ok",
     "timestamp": 1654083902517,
     "user": {
      "displayName": "‍황수연[ 학부재학 / 컴퓨터융합소프트웨어학과 ]",
      "userId": "03365621454974662117"
     },
     "user_tz": -540
    },
    "id": "fjIF1iuuu9UW",
    "outputId": "9b5b699e-5b71-4ccd-9f87-04d330395757"
   },
   "outputs": [
    {
     "data": {
      "text/plain": [
       "Index(['잔꽃', '용품', '렛', '아유', '날', '라코스테', '장군', '토너', '디파이', '얼마나',\n",
       "       ...\n",
       "       '콘도', '리본', '공공기관', '춘천', '펜', '하디', '주년', '프로젝터', '방수', '가야'],\n",
       "      dtype='object', length=4310)"
      ]
     },
     "execution_count": 119,
     "metadata": {},
     "output_type": "execute_result"
    }
   ],
   "source": [
    "tf_idf.columns"
   ]
  },
  {
   "cell_type": "code",
   "execution_count": null,
   "metadata": {
    "colab": {
     "base_uri": "https://localhost:8080/"
    },
    "executionInfo": {
     "elapsed": 20,
     "status": "ok",
     "timestamp": 1654083902518,
     "user": {
      "displayName": "‍황수연[ 학부재학 / 컴퓨터융합소프트웨어학과 ]",
      "userId": "03365621454974662117"
     },
     "user_tz": -540
    },
    "id": "9dx4EiMEvOGY",
    "outputId": "47e29bf4-9435-47d4-82f9-687a7a407ef3"
   },
   "outputs": [
    {
     "data": {
      "text/plain": [
       "(2000, 4310)"
      ]
     },
     "execution_count": 120,
     "metadata": {},
     "output_type": "execute_result"
    }
   ],
   "source": [
    "tf_idf.shape"
   ]
  },
  {
   "cell_type": "code",
   "execution_count": null,
   "metadata": {
    "colab": {
     "base_uri": "https://localhost:8080/"
    },
    "executionInfo": {
     "elapsed": 324,
     "status": "ok",
     "timestamp": 1654083902823,
     "user": {
      "displayName": "‍황수연[ 학부재학 / 컴퓨터융합소프트웨어학과 ]",
      "userId": "03365621454974662117"
     },
     "user_tz": -540
    },
    "id": "9iULsg0dvR2p",
    "outputId": "980dfc84-896b-41d3-d3c3-767a81c8b4af"
   },
   "outputs": [
    {
     "name": "stdout",
     "output_type": "stream",
     "text": [
      "<class 'pandas.core.frame.DataFrame'>\n",
      "Int64Index: 2000 entries, 0 to 1999\n",
      "Columns: 4310 entries, 잔꽃 to 가야\n",
      "dtypes: float64(657), int64(3653)\n",
      "memory usage: 65.8 MB\n"
     ]
    }
   ],
   "source": [
    "tf_idf.info()"
   ]
  },
  {
   "cell_type": "code",
   "execution_count": null,
   "metadata": {
    "colab": {
     "base_uri": "https://localhost:8080/",
     "height": 394
    },
    "executionInfo": {
     "elapsed": 7465,
     "status": "ok",
     "timestamp": 1654083910285,
     "user": {
      "displayName": "‍황수연[ 학부재학 / 컴퓨터융합소프트웨어학과 ]",
      "userId": "03365621454974662117"
     },
     "user_tz": -540
    },
    "id": "qS9ax2dXvZDh",
    "outputId": "a4a5a804-414c-4f6d-c457-e8e31af047fc"
   },
   "outputs": [
    {
     "data": {
      "text/html": [
       "\n",
       "  <div id=\"df-2c17ffbf-6bd2-4208-8029-95591c70da9a\">\n",
       "    <div class=\"colab-df-container\">\n",
       "      <div>\n",
       "<style scoped>\n",
       "    .dataframe tbody tr th:only-of-type {\n",
       "        vertical-align: middle;\n",
       "    }\n",
       "\n",
       "    .dataframe tbody tr th {\n",
       "        vertical-align: top;\n",
       "    }\n",
       "\n",
       "    .dataframe thead th {\n",
       "        text-align: right;\n",
       "    }\n",
       "</style>\n",
       "<table border=\"1\" class=\"dataframe\">\n",
       "  <thead>\n",
       "    <tr style=\"text-align: right;\">\n",
       "      <th></th>\n",
       "      <th>잔꽃</th>\n",
       "      <th>용품</th>\n",
       "      <th>렛</th>\n",
       "      <th>아유</th>\n",
       "      <th>날</th>\n",
       "      <th>라코스테</th>\n",
       "      <th>장군</th>\n",
       "      <th>토너</th>\n",
       "      <th>디파이</th>\n",
       "      <th>얼마나</th>\n",
       "      <th>...</th>\n",
       "      <th>콘도</th>\n",
       "      <th>리본</th>\n",
       "      <th>공공기관</th>\n",
       "      <th>춘천</th>\n",
       "      <th>펜</th>\n",
       "      <th>하디</th>\n",
       "      <th>주년</th>\n",
       "      <th>프로젝터</th>\n",
       "      <th>방수</th>\n",
       "      <th>가야</th>\n",
       "    </tr>\n",
       "  </thead>\n",
       "  <tbody>\n",
       "    <tr>\n",
       "      <th>count</th>\n",
       "      <td>2000.000000</td>\n",
       "      <td>2000.000000</td>\n",
       "      <td>2000.000000</td>\n",
       "      <td>2000.000000</td>\n",
       "      <td>2000.000000</td>\n",
       "      <td>2000.000000</td>\n",
       "      <td>2000.000000</td>\n",
       "      <td>2000.000000</td>\n",
       "      <td>2000.000000</td>\n",
       "      <td>2000.000000</td>\n",
       "      <td>...</td>\n",
       "      <td>2000.000000</td>\n",
       "      <td>2000.000000</td>\n",
       "      <td>2000.000000</td>\n",
       "      <td>2000.00000</td>\n",
       "      <td>2000.000000</td>\n",
       "      <td>2000.00000</td>\n",
       "      <td>2000.000000</td>\n",
       "      <td>2000.000000</td>\n",
       "      <td>2000.000000</td>\n",
       "      <td>2000.000000</td>\n",
       "    </tr>\n",
       "    <tr>\n",
       "      <th>mean</th>\n",
       "      <td>0.003500</td>\n",
       "      <td>0.027500</td>\n",
       "      <td>0.007000</td>\n",
       "      <td>0.014000</td>\n",
       "      <td>0.009000</td>\n",
       "      <td>0.015537</td>\n",
       "      <td>0.003500</td>\n",
       "      <td>0.014523</td>\n",
       "      <td>0.003500</td>\n",
       "      <td>0.003500</td>\n",
       "      <td>...</td>\n",
       "      <td>0.003500</td>\n",
       "      <td>0.009000</td>\n",
       "      <td>0.003500</td>\n",
       "      <td>0.00700</td>\n",
       "      <td>0.023500</td>\n",
       "      <td>0.00700</td>\n",
       "      <td>0.003500</td>\n",
       "      <td>0.003500</td>\n",
       "      <td>0.023500</td>\n",
       "      <td>0.003500</td>\n",
       "    </tr>\n",
       "    <tr>\n",
       "      <th>std</th>\n",
       "      <td>0.156525</td>\n",
       "      <td>0.369881</td>\n",
       "      <td>0.221304</td>\n",
       "      <td>0.626099</td>\n",
       "      <td>0.232263</td>\n",
       "      <td>0.416703</td>\n",
       "      <td>0.156525</td>\n",
       "      <td>0.290166</td>\n",
       "      <td>0.156525</td>\n",
       "      <td>0.156525</td>\n",
       "      <td>...</td>\n",
       "      <td>0.156525</td>\n",
       "      <td>0.232263</td>\n",
       "      <td>0.156525</td>\n",
       "      <td>0.31305</td>\n",
       "      <td>0.409917</td>\n",
       "      <td>0.31305</td>\n",
       "      <td>0.156525</td>\n",
       "      <td>0.156525</td>\n",
       "      <td>0.409917</td>\n",
       "      <td>0.156525</td>\n",
       "    </tr>\n",
       "    <tr>\n",
       "      <th>min</th>\n",
       "      <td>0.000000</td>\n",
       "      <td>0.000000</td>\n",
       "      <td>0.000000</td>\n",
       "      <td>0.000000</td>\n",
       "      <td>0.000000</td>\n",
       "      <td>0.000000</td>\n",
       "      <td>0.000000</td>\n",
       "      <td>0.000000</td>\n",
       "      <td>0.000000</td>\n",
       "      <td>0.000000</td>\n",
       "      <td>...</td>\n",
       "      <td>0.000000</td>\n",
       "      <td>0.000000</td>\n",
       "      <td>0.000000</td>\n",
       "      <td>0.00000</td>\n",
       "      <td>0.000000</td>\n",
       "      <td>0.00000</td>\n",
       "      <td>0.000000</td>\n",
       "      <td>0.000000</td>\n",
       "      <td>0.000000</td>\n",
       "      <td>0.000000</td>\n",
       "    </tr>\n",
       "    <tr>\n",
       "      <th>25%</th>\n",
       "      <td>0.000000</td>\n",
       "      <td>0.000000</td>\n",
       "      <td>0.000000</td>\n",
       "      <td>0.000000</td>\n",
       "      <td>0.000000</td>\n",
       "      <td>0.000000</td>\n",
       "      <td>0.000000</td>\n",
       "      <td>0.000000</td>\n",
       "      <td>0.000000</td>\n",
       "      <td>0.000000</td>\n",
       "      <td>...</td>\n",
       "      <td>0.000000</td>\n",
       "      <td>0.000000</td>\n",
       "      <td>0.000000</td>\n",
       "      <td>0.00000</td>\n",
       "      <td>0.000000</td>\n",
       "      <td>0.00000</td>\n",
       "      <td>0.000000</td>\n",
       "      <td>0.000000</td>\n",
       "      <td>0.000000</td>\n",
       "      <td>0.000000</td>\n",
       "    </tr>\n",
       "    <tr>\n",
       "      <th>50%</th>\n",
       "      <td>0.000000</td>\n",
       "      <td>0.000000</td>\n",
       "      <td>0.000000</td>\n",
       "      <td>0.000000</td>\n",
       "      <td>0.000000</td>\n",
       "      <td>0.000000</td>\n",
       "      <td>0.000000</td>\n",
       "      <td>0.000000</td>\n",
       "      <td>0.000000</td>\n",
       "      <td>0.000000</td>\n",
       "      <td>...</td>\n",
       "      <td>0.000000</td>\n",
       "      <td>0.000000</td>\n",
       "      <td>0.000000</td>\n",
       "      <td>0.00000</td>\n",
       "      <td>0.000000</td>\n",
       "      <td>0.00000</td>\n",
       "      <td>0.000000</td>\n",
       "      <td>0.000000</td>\n",
       "      <td>0.000000</td>\n",
       "      <td>0.000000</td>\n",
       "    </tr>\n",
       "    <tr>\n",
       "      <th>75%</th>\n",
       "      <td>0.000000</td>\n",
       "      <td>0.000000</td>\n",
       "      <td>0.000000</td>\n",
       "      <td>0.000000</td>\n",
       "      <td>0.000000</td>\n",
       "      <td>0.000000</td>\n",
       "      <td>0.000000</td>\n",
       "      <td>0.000000</td>\n",
       "      <td>0.000000</td>\n",
       "      <td>0.000000</td>\n",
       "      <td>...</td>\n",
       "      <td>0.000000</td>\n",
       "      <td>0.000000</td>\n",
       "      <td>0.000000</td>\n",
       "      <td>0.00000</td>\n",
       "      <td>0.000000</td>\n",
       "      <td>0.00000</td>\n",
       "      <td>0.000000</td>\n",
       "      <td>0.000000</td>\n",
       "      <td>0.000000</td>\n",
       "      <td>0.000000</td>\n",
       "    </tr>\n",
       "    <tr>\n",
       "      <th>max</th>\n",
       "      <td>7.000000</td>\n",
       "      <td>5.000000</td>\n",
       "      <td>7.000000</td>\n",
       "      <td>28.000000</td>\n",
       "      <td>6.000000</td>\n",
       "      <td>12.429216</td>\n",
       "      <td>7.000000</td>\n",
       "      <td>5.809143</td>\n",
       "      <td>7.000000</td>\n",
       "      <td>7.000000</td>\n",
       "      <td>...</td>\n",
       "      <td>7.000000</td>\n",
       "      <td>6.000000</td>\n",
       "      <td>7.000000</td>\n",
       "      <td>14.00000</td>\n",
       "      <td>11.000000</td>\n",
       "      <td>14.00000</td>\n",
       "      <td>7.000000</td>\n",
       "      <td>7.000000</td>\n",
       "      <td>11.000000</td>\n",
       "      <td>7.000000</td>\n",
       "    </tr>\n",
       "  </tbody>\n",
       "</table>\n",
       "<p>8 rows × 4310 columns</p>\n",
       "</div>\n",
       "      <button class=\"colab-df-convert\" onclick=\"convertToInteractive('df-2c17ffbf-6bd2-4208-8029-95591c70da9a')\"\n",
       "              title=\"Convert this dataframe to an interactive table.\"\n",
       "              style=\"display:none;\">\n",
       "        \n",
       "  <svg xmlns=\"http://www.w3.org/2000/svg\" height=\"24px\"viewBox=\"0 0 24 24\"\n",
       "       width=\"24px\">\n",
       "    <path d=\"M0 0h24v24H0V0z\" fill=\"none\"/>\n",
       "    <path d=\"M18.56 5.44l.94 2.06.94-2.06 2.06-.94-2.06-.94-.94-2.06-.94 2.06-2.06.94zm-11 1L8.5 8.5l.94-2.06 2.06-.94-2.06-.94L8.5 2.5l-.94 2.06-2.06.94zm10 10l.94 2.06.94-2.06 2.06-.94-2.06-.94-.94-2.06-.94 2.06-2.06.94z\"/><path d=\"M17.41 7.96l-1.37-1.37c-.4-.4-.92-.59-1.43-.59-.52 0-1.04.2-1.43.59L10.3 9.45l-7.72 7.72c-.78.78-.78 2.05 0 2.83L4 21.41c.39.39.9.59 1.41.59.51 0 1.02-.2 1.41-.59l7.78-7.78 2.81-2.81c.8-.78.8-2.07 0-2.86zM5.41 20L4 18.59l7.72-7.72 1.47 1.35L5.41 20z\"/>\n",
       "  </svg>\n",
       "      </button>\n",
       "      \n",
       "  <style>\n",
       "    .colab-df-container {\n",
       "      display:flex;\n",
       "      flex-wrap:wrap;\n",
       "      gap: 12px;\n",
       "    }\n",
       "\n",
       "    .colab-df-convert {\n",
       "      background-color: #E8F0FE;\n",
       "      border: none;\n",
       "      border-radius: 50%;\n",
       "      cursor: pointer;\n",
       "      display: none;\n",
       "      fill: #1967D2;\n",
       "      height: 32px;\n",
       "      padding: 0 0 0 0;\n",
       "      width: 32px;\n",
       "    }\n",
       "\n",
       "    .colab-df-convert:hover {\n",
       "      background-color: #E2EBFA;\n",
       "      box-shadow: 0px 1px 2px rgba(60, 64, 67, 0.3), 0px 1px 3px 1px rgba(60, 64, 67, 0.15);\n",
       "      fill: #174EA6;\n",
       "    }\n",
       "\n",
       "    [theme=dark] .colab-df-convert {\n",
       "      background-color: #3B4455;\n",
       "      fill: #D2E3FC;\n",
       "    }\n",
       "\n",
       "    [theme=dark] .colab-df-convert:hover {\n",
       "      background-color: #434B5C;\n",
       "      box-shadow: 0px 1px 3px 1px rgba(0, 0, 0, 0.15);\n",
       "      filter: drop-shadow(0px 1px 2px rgba(0, 0, 0, 0.3));\n",
       "      fill: #FFFFFF;\n",
       "    }\n",
       "  </style>\n",
       "\n",
       "      <script>\n",
       "        const buttonEl =\n",
       "          document.querySelector('#df-2c17ffbf-6bd2-4208-8029-95591c70da9a button.colab-df-convert');\n",
       "        buttonEl.style.display =\n",
       "          google.colab.kernel.accessAllowed ? 'block' : 'none';\n",
       "\n",
       "        async function convertToInteractive(key) {\n",
       "          const element = document.querySelector('#df-2c17ffbf-6bd2-4208-8029-95591c70da9a');\n",
       "          const dataTable =\n",
       "            await google.colab.kernel.invokeFunction('convertToInteractive',\n",
       "                                                     [key], {});\n",
       "          if (!dataTable) return;\n",
       "\n",
       "          const docLinkHtml = 'Like what you see? Visit the ' +\n",
       "            '<a target=\"_blank\" href=https://colab.research.google.com/notebooks/data_table.ipynb>data table notebook</a>'\n",
       "            + ' to learn more about interactive tables.';\n",
       "          element.innerHTML = '';\n",
       "          dataTable['output_type'] = 'display_data';\n",
       "          await google.colab.output.renderOutput(dataTable, element);\n",
       "          const docLink = document.createElement('div');\n",
       "          docLink.innerHTML = docLinkHtml;\n",
       "          element.appendChild(docLink);\n",
       "        }\n",
       "      </script>\n",
       "    </div>\n",
       "  </div>\n",
       "  "
      ],
      "text/plain": [
       "                잔꽃           용품            렛           아유            날  \\\n",
       "count  2000.000000  2000.000000  2000.000000  2000.000000  2000.000000   \n",
       "mean      0.003500     0.027500     0.007000     0.014000     0.009000   \n",
       "std       0.156525     0.369881     0.221304     0.626099     0.232263   \n",
       "min       0.000000     0.000000     0.000000     0.000000     0.000000   \n",
       "25%       0.000000     0.000000     0.000000     0.000000     0.000000   \n",
       "50%       0.000000     0.000000     0.000000     0.000000     0.000000   \n",
       "75%       0.000000     0.000000     0.000000     0.000000     0.000000   \n",
       "max       7.000000     5.000000     7.000000    28.000000     6.000000   \n",
       "\n",
       "              라코스테           장군           토너          디파이          얼마나  ...  \\\n",
       "count  2000.000000  2000.000000  2000.000000  2000.000000  2000.000000  ...   \n",
       "mean      0.015537     0.003500     0.014523     0.003500     0.003500  ...   \n",
       "std       0.416703     0.156525     0.290166     0.156525     0.156525  ...   \n",
       "min       0.000000     0.000000     0.000000     0.000000     0.000000  ...   \n",
       "25%       0.000000     0.000000     0.000000     0.000000     0.000000  ...   \n",
       "50%       0.000000     0.000000     0.000000     0.000000     0.000000  ...   \n",
       "75%       0.000000     0.000000     0.000000     0.000000     0.000000  ...   \n",
       "max      12.429216     7.000000     5.809143     7.000000     7.000000  ...   \n",
       "\n",
       "                콘도           리본         공공기관          춘천            펜  \\\n",
       "count  2000.000000  2000.000000  2000.000000  2000.00000  2000.000000   \n",
       "mean      0.003500     0.009000     0.003500     0.00700     0.023500   \n",
       "std       0.156525     0.232263     0.156525     0.31305     0.409917   \n",
       "min       0.000000     0.000000     0.000000     0.00000     0.000000   \n",
       "25%       0.000000     0.000000     0.000000     0.00000     0.000000   \n",
       "50%       0.000000     0.000000     0.000000     0.00000     0.000000   \n",
       "75%       0.000000     0.000000     0.000000     0.00000     0.000000   \n",
       "max       7.000000     6.000000     7.000000    14.00000    11.000000   \n",
       "\n",
       "               하디           주년         프로젝터           방수           가야  \n",
       "count  2000.00000  2000.000000  2000.000000  2000.000000  2000.000000  \n",
       "mean      0.00700     0.003500     0.003500     0.023500     0.003500  \n",
       "std       0.31305     0.156525     0.156525     0.409917     0.156525  \n",
       "min       0.00000     0.000000     0.000000     0.000000     0.000000  \n",
       "25%       0.00000     0.000000     0.000000     0.000000     0.000000  \n",
       "50%       0.00000     0.000000     0.000000     0.000000     0.000000  \n",
       "75%       0.00000     0.000000     0.000000     0.000000     0.000000  \n",
       "max      14.00000     7.000000     7.000000    11.000000     7.000000  \n",
       "\n",
       "[8 rows x 4310 columns]"
      ]
     },
     "execution_count": 122,
     "metadata": {},
     "output_type": "execute_result"
    }
   ],
   "source": [
    "tf_idf.describe()"
   ]
  },
  {
   "cell_type": "code",
   "execution_count": null,
   "metadata": {
    "colab": {
     "base_uri": "https://localhost:8080/",
     "height": 424
    },
    "executionInfo": {
     "elapsed": 52,
     "status": "ok",
     "timestamp": 1654083910288,
     "user": {
      "displayName": "‍황수연[ 학부재학 / 컴퓨터융합소프트웨어학과 ]",
      "userId": "03365621454974662117"
     },
     "user_tz": -540
    },
    "id": "T9d77X4dDU0r",
    "outputId": "08a79819-1291-4436-fcda-5057eacc03fe"
   },
   "outputs": [
    {
     "data": {
      "text/html": [
       "\n",
       "  <div id=\"df-219bcb99-c09a-4c81-9ee2-073b773caba6\">\n",
       "    <div class=\"colab-df-container\">\n",
       "      <div>\n",
       "<style scoped>\n",
       "    .dataframe tbody tr th:only-of-type {\n",
       "        vertical-align: middle;\n",
       "    }\n",
       "\n",
       "    .dataframe tbody tr th {\n",
       "        vertical-align: top;\n",
       "    }\n",
       "\n",
       "    .dataframe thead th {\n",
       "        text-align: right;\n",
       "    }\n",
       "</style>\n",
       "<table border=\"1\" class=\"dataframe\">\n",
       "  <thead>\n",
       "    <tr style=\"text-align: right;\">\n",
       "      <th></th>\n",
       "      <th>max_val</th>\n",
       "    </tr>\n",
       "  </thead>\n",
       "  <tbody>\n",
       "    <tr>\n",
       "      <th>잔꽃</th>\n",
       "      <td>7.0</td>\n",
       "    </tr>\n",
       "    <tr>\n",
       "      <th>용품</th>\n",
       "      <td>5.0</td>\n",
       "    </tr>\n",
       "    <tr>\n",
       "      <th>렛</th>\n",
       "      <td>7.0</td>\n",
       "    </tr>\n",
       "    <tr>\n",
       "      <th>아유</th>\n",
       "      <td>28.0</td>\n",
       "    </tr>\n",
       "    <tr>\n",
       "      <th>날</th>\n",
       "      <td>6.0</td>\n",
       "    </tr>\n",
       "    <tr>\n",
       "      <th>...</th>\n",
       "      <td>...</td>\n",
       "    </tr>\n",
       "    <tr>\n",
       "      <th>하디</th>\n",
       "      <td>14.0</td>\n",
       "    </tr>\n",
       "    <tr>\n",
       "      <th>주년</th>\n",
       "      <td>7.0</td>\n",
       "    </tr>\n",
       "    <tr>\n",
       "      <th>프로젝터</th>\n",
       "      <td>7.0</td>\n",
       "    </tr>\n",
       "    <tr>\n",
       "      <th>방수</th>\n",
       "      <td>11.0</td>\n",
       "    </tr>\n",
       "    <tr>\n",
       "      <th>가야</th>\n",
       "      <td>7.0</td>\n",
       "    </tr>\n",
       "  </tbody>\n",
       "</table>\n",
       "<p>4310 rows × 1 columns</p>\n",
       "</div>\n",
       "      <button class=\"colab-df-convert\" onclick=\"convertToInteractive('df-219bcb99-c09a-4c81-9ee2-073b773caba6')\"\n",
       "              title=\"Convert this dataframe to an interactive table.\"\n",
       "              style=\"display:none;\">\n",
       "        \n",
       "  <svg xmlns=\"http://www.w3.org/2000/svg\" height=\"24px\"viewBox=\"0 0 24 24\"\n",
       "       width=\"24px\">\n",
       "    <path d=\"M0 0h24v24H0V0z\" fill=\"none\"/>\n",
       "    <path d=\"M18.56 5.44l.94 2.06.94-2.06 2.06-.94-2.06-.94-.94-2.06-.94 2.06-2.06.94zm-11 1L8.5 8.5l.94-2.06 2.06-.94-2.06-.94L8.5 2.5l-.94 2.06-2.06.94zm10 10l.94 2.06.94-2.06 2.06-.94-2.06-.94-.94-2.06-.94 2.06-2.06.94z\"/><path d=\"M17.41 7.96l-1.37-1.37c-.4-.4-.92-.59-1.43-.59-.52 0-1.04.2-1.43.59L10.3 9.45l-7.72 7.72c-.78.78-.78 2.05 0 2.83L4 21.41c.39.39.9.59 1.41.59.51 0 1.02-.2 1.41-.59l7.78-7.78 2.81-2.81c.8-.78.8-2.07 0-2.86zM5.41 20L4 18.59l7.72-7.72 1.47 1.35L5.41 20z\"/>\n",
       "  </svg>\n",
       "      </button>\n",
       "      \n",
       "  <style>\n",
       "    .colab-df-container {\n",
       "      display:flex;\n",
       "      flex-wrap:wrap;\n",
       "      gap: 12px;\n",
       "    }\n",
       "\n",
       "    .colab-df-convert {\n",
       "      background-color: #E8F0FE;\n",
       "      border: none;\n",
       "      border-radius: 50%;\n",
       "      cursor: pointer;\n",
       "      display: none;\n",
       "      fill: #1967D2;\n",
       "      height: 32px;\n",
       "      padding: 0 0 0 0;\n",
       "      width: 32px;\n",
       "    }\n",
       "\n",
       "    .colab-df-convert:hover {\n",
       "      background-color: #E2EBFA;\n",
       "      box-shadow: 0px 1px 2px rgba(60, 64, 67, 0.3), 0px 1px 3px 1px rgba(60, 64, 67, 0.15);\n",
       "      fill: #174EA6;\n",
       "    }\n",
       "\n",
       "    [theme=dark] .colab-df-convert {\n",
       "      background-color: #3B4455;\n",
       "      fill: #D2E3FC;\n",
       "    }\n",
       "\n",
       "    [theme=dark] .colab-df-convert:hover {\n",
       "      background-color: #434B5C;\n",
       "      box-shadow: 0px 1px 3px 1px rgba(0, 0, 0, 0.15);\n",
       "      filter: drop-shadow(0px 1px 2px rgba(0, 0, 0, 0.3));\n",
       "      fill: #FFFFFF;\n",
       "    }\n",
       "  </style>\n",
       "\n",
       "      <script>\n",
       "        const buttonEl =\n",
       "          document.querySelector('#df-219bcb99-c09a-4c81-9ee2-073b773caba6 button.colab-df-convert');\n",
       "        buttonEl.style.display =\n",
       "          google.colab.kernel.accessAllowed ? 'block' : 'none';\n",
       "\n",
       "        async function convertToInteractive(key) {\n",
       "          const element = document.querySelector('#df-219bcb99-c09a-4c81-9ee2-073b773caba6');\n",
       "          const dataTable =\n",
       "            await google.colab.kernel.invokeFunction('convertToInteractive',\n",
       "                                                     [key], {});\n",
       "          if (!dataTable) return;\n",
       "\n",
       "          const docLinkHtml = 'Like what you see? Visit the ' +\n",
       "            '<a target=\"_blank\" href=https://colab.research.google.com/notebooks/data_table.ipynb>data table notebook</a>'\n",
       "            + ' to learn more about interactive tables.';\n",
       "          element.innerHTML = '';\n",
       "          dataTable['output_type'] = 'display_data';\n",
       "          await google.colab.output.renderOutput(dataTable, element);\n",
       "          const docLink = document.createElement('div');\n",
       "          docLink.innerHTML = docLinkHtml;\n",
       "          element.appendChild(docLink);\n",
       "        }\n",
       "      </script>\n",
       "    </div>\n",
       "  </div>\n",
       "  "
      ],
      "text/plain": [
       "      max_val\n",
       "잔꽃        7.0\n",
       "용품        5.0\n",
       "렛         7.0\n",
       "아유       28.0\n",
       "날         6.0\n",
       "...       ...\n",
       "하디       14.0\n",
       "주년        7.0\n",
       "프로젝터      7.0\n",
       "방수       11.0\n",
       "가야        7.0\n",
       "\n",
       "[4310 rows x 1 columns]"
      ]
     },
     "execution_count": 123,
     "metadata": {},
     "output_type": "execute_result"
    }
   ],
   "source": [
    "max_val_df=pd.DataFrame(tf_idf.max(axis=0),columns=['max_val'])\n",
    "max_val_df"
   ]
  },
  {
   "cell_type": "code",
   "execution_count": null,
   "metadata": {
    "colab": {
     "base_uri": "https://localhost:8080/"
    },
    "executionInfo": {
     "elapsed": 50,
     "status": "ok",
     "timestamp": 1654083910289,
     "user": {
      "displayName": "‍황수연[ 학부재학 / 컴퓨터융합소프트웨어학과 ]",
      "userId": "03365621454974662117"
     },
     "user_tz": -540
    },
    "id": "Cv4nntwmDcGR",
    "outputId": "7f801ae1-f7cf-480e-e484-fa819ba6d042"
   },
   "outputs": [
    {
     "data": {
      "text/plain": [
       "Index(['노트', '아유', '쿠우', '텐트', '니', '의자', '요미', '비치', '안', '치즈', '매트', '끈',\n",
       "       '보험', '토퍼', '타투', '츠비', '신라', '잔나비', '색연필', '미샤', '쏠', '꿈', '아치', '버',\n",
       "       '길벗', '독', '비룡소', '토시', '부산', '김해', '선반', '커피', '이디야', '베드', '파크', '노마',\n",
       "       '숲', '말', '이불', '우유', '지갑', '정장', '가방', '레', '박스', '골프', '홍삼', '형',\n",
       "       '더페이스샵', '다리'],\n",
       "      dtype='object')"
      ]
     },
     "execution_count": 124,
     "metadata": {},
     "output_type": "execute_result"
    }
   ],
   "source": [
    "max_val_df.sort_values(by=['max_val'],ascending=False)[:50].index #TF-IDF 값 상위 50개 단어"
   ]
  },
  {
   "cell_type": "code",
   "execution_count": null,
   "metadata": {
    "colab": {
     "base_uri": "https://localhost:8080/"
    },
    "executionInfo": {
     "elapsed": 48,
     "status": "ok",
     "timestamp": 1654083910290,
     "user": {
      "displayName": "‍황수연[ 학부재학 / 컴퓨터융합소프트웨어학과 ]",
      "userId": "03365621454974662117"
     },
     "user_tz": -540
    },
    "id": "kED31gMjDgMN",
    "outputId": "f99af259-fe93-44f3-e2c0-1322e58cc72f"
   },
   "outputs": [
    {
     "data": {
      "text/plain": [
       "Index(['여름', '여성', '상품', '증정', '카드', '할인', '아기', '프리미엄', '행사', '팬츠', '산', '단계',\n",
       "       '용량', '품', '워시', '캡', '신상', '쿠폰', '무선', '국내', '미니', '스니커즈', '특', '백화점',\n",
       "       '케이스', '스마트', '여자', '컬러', '전', '라이트', '막', '외', '온', '판', '중형', '틴',\n",
       "       '공용', '울트라', '멀티', '가능', '리지', '플러스', '최신', '가정', '당일', '스위치', '소형',\n",
       "       '핸드폰', '널', '밍'],\n",
       "      dtype='object')"
      ]
     },
     "execution_count": 125,
     "metadata": {},
     "output_type": "execute_result"
    }
   ],
   "source": [
    "max_val_df.sort_values(by=['max_val'])[:50].index  #TF-IDF 값 하위 50개 단어"
   ]
  },
  {
   "cell_type": "code",
   "execution_count": null,
   "metadata": {
    "id": "cvaFXZXoDjYD"
   },
   "outputs": [],
   "source": [
    "max_index_50 = max_val_df.sort_values(by=['max_val'],ascending=False)[:50].index"
   ]
  },
  {
   "cell_type": "code",
   "execution_count": null,
   "metadata": {
    "colab": {
     "base_uri": "https://localhost:8080/"
    },
    "executionInfo": {
     "elapsed": 45,
     "status": "ok",
     "timestamp": 1654083910294,
     "user": {
      "displayName": "‍황수연[ 학부재학 / 컴퓨터융합소프트웨어학과 ]",
      "userId": "03365621454974662117"
     },
     "user_tz": -540
    },
    "id": "TiKt0_KyD8x8",
    "outputId": "3771285c-dee3-4fac-ba4a-02e1cef0460a"
   },
   "outputs": [
    {
     "data": {
      "text/plain": [
       "Index(['노트', '아유', '쿠우', '텐트', '니', '의자', '요미', '비치', '안', '치즈', '매트', '끈',\n",
       "       '보험', '토퍼', '타투', '츠비', '신라', '잔나비', '색연필', '미샤', '쏠', '꿈', '아치', '버',\n",
       "       '길벗', '독', '비룡소', '토시', '부산', '김해', '선반', '커피', '이디야', '베드', '파크', '노마',\n",
       "       '숲', '말', '이불', '우유', '지갑', '정장', '가방', '레', '박스', '골프', '홍삼', '형',\n",
       "       '더페이스샵', '다리'],\n",
       "      dtype='object')"
      ]
     },
     "execution_count": 127,
     "metadata": {},
     "output_type": "execute_result"
    }
   ],
   "source": [
    "max_index_50"
   ]
  },
  {
   "cell_type": "code",
   "execution_count": null,
   "metadata": {
    "id": "_82ogxvlD_-F"
   },
   "outputs": [],
   "source": [
    "max_50_tf_idf = tf_idf[max_index_50]"
   ]
  },
  {
   "cell_type": "code",
   "execution_count": null,
   "metadata": {
    "colab": {
     "base_uri": "https://localhost:8080/"
    },
    "executionInfo": {
     "elapsed": 46,
     "status": "ok",
     "timestamp": 1654083910298,
     "user": {
      "displayName": "‍황수연[ 학부재학 / 컴퓨터융합소프트웨어학과 ]",
      "userId": "03365621454974662117"
     },
     "user_tz": -540
    },
    "id": "mCD325dbENb5",
    "outputId": "59bc27bc-5ea2-4d55-bd51-5810c55a04a4"
   },
   "outputs": [
    {
     "data": {
      "text/plain": [
       "(2000, 50)"
      ]
     },
     "execution_count": 129,
     "metadata": {},
     "output_type": "execute_result"
    }
   ],
   "source": [
    "max_50_tf_idf.shape"
   ]
  },
  {
   "cell_type": "code",
   "execution_count": null,
   "metadata": {
    "id": "KAIbdiGSERPx"
   },
   "outputs": [],
   "source": [
    "tsne = TSNE(n_components=2, n_iter=10000, verbose=1)"
   ]
  },
  {
   "cell_type": "code",
   "execution_count": null,
   "metadata": {
    "colab": {
     "base_uri": "https://localhost:8080/"
    },
    "executionInfo": {
     "elapsed": 777,
     "status": "ok",
     "timestamp": 1654083911031,
     "user": {
      "displayName": "‍황수연[ 학부재학 / 컴퓨터융합소프트웨어학과 ]",
      "userId": "03365621454974662117"
     },
     "user_tz": -540
    },
    "id": "IhGuH1IfEVK9",
    "outputId": "f1293a0f-9fc0-4106-ab24-523c01239b3f"
   },
   "outputs": [
    {
     "name": "stderr",
     "output_type": "stream",
     "text": [
      "/usr/local/lib/python3.7/dist-packages/sklearn/manifold/_t_sne.py:783: FutureWarning: The default initialization in TSNE will change from 'random' to 'pca' in 1.2.\n",
      "  FutureWarning,\n",
      "/usr/local/lib/python3.7/dist-packages/sklearn/manifold/_t_sne.py:793: FutureWarning: The default learning rate in TSNE will change from 200.0 to 'auto' in 1.2.\n",
      "  FutureWarning,\n"
     ]
    },
    {
     "name": "stdout",
     "output_type": "stream",
     "text": [
      "[t-SNE] Computing 49 nearest neighbors...\n",
      "[t-SNE] Indexed 50 samples in 0.001s...\n",
      "[t-SNE] Computed neighbors for 50 samples in 0.007s...\n",
      "[t-SNE] Computed conditional probabilities for sample 50 / 50\n",
      "[t-SNE] Mean sigma: 14.291236\n",
      "[t-SNE] KL divergence after 250 iterations with early exaggeration: 66.931839\n",
      "[t-SNE] KL divergence after 1750 iterations: 0.544327\n"
     ]
    }
   ],
   "source": [
    "Z = tsne.fit_transform(max_50_tf_idf.T)"
   ]
  },
  {
   "cell_type": "code",
   "execution_count": null,
   "metadata": {
    "colab": {
     "base_uri": "https://localhost:8080/"
    },
    "executionInfo": {
     "elapsed": 9,
     "status": "ok",
     "timestamp": 1654083911032,
     "user": {
      "displayName": "‍황수연[ 학부재학 / 컴퓨터융합소프트웨어학과 ]",
      "userId": "03365621454974662117"
     },
     "user_tz": -540
    },
    "id": "PG1fkO9uEYzL",
    "outputId": "99fe79f0-5cf2-4d2b-8c32-996c66fd0047"
   },
   "outputs": [
    {
     "name": "stdout",
     "output_type": "stream",
     "text": [
      "[[ 227.3618     82.59951 ]\n",
      " [  59.904987 -202.53186 ]\n",
      " [ 150.85687   141.48737 ]\n",
      " [ 180.33452   -36.982594]\n",
      " [-179.40361   -13.466768]]\n",
      "Top words:  50\n"
     ]
    }
   ],
   "source": [
    "print(Z[0:5])\n",
    "print('Top words: ',len(Z))"
   ]
  },
  {
   "cell_type": "code",
   "execution_count": null,
   "metadata": {
    "colab": {
     "base_uri": "https://localhost:8080/",
     "height": 265
    },
    "executionInfo": {
     "elapsed": 526,
     "status": "ok",
     "timestamp": 1654083911553,
     "user": {
      "displayName": "‍황수연[ 학부재학 / 컴퓨터융합소프트웨어학과 ]",
      "userId": "03365621454974662117"
     },
     "user_tz": -540
    },
    "id": "14xo-4BKEcfo",
    "outputId": "16040bc4-18a0-4f57-d8ed-74b5bbe05836"
   },
   "outputs": [
    {
     "data": {
      "image/png": "[encoded data removed]",
      "text/plain": [
       "<Figure size 432x288 with 1 Axes>"
      ]
     },
     "metadata": {
      "needs_background": "light"
     },
     "output_type": "display_data"
    }
   ],
   "source": [
    "path = '/content/drive/Shareddrives/datamining_2022/NanumMyeongjo-Regular.ttf'\n",
    "fontprop = fm.FontProperties(fname=path, size=5)\n",
    "plt.scatter(Z[:,0], Z[:,1])\n",
    "for i in range(len(max_index_50)):\n",
    "    plt.annotate(s=max_index_50[i].encode(\"utf8\").decode(\"utf8\"), xy=(Z[i,0], Z[i,1]),fontProperties =fontprop)\n",
    "\n",
    "plt.draw()"
   ]
  },
  {
   "cell_type": "markdown",
   "metadata": {
    "id": "vwkE5zB8-owz"
   },
   "source": [
    "# TF-IDF score **top 100** 단어를 시각화 시키기"
   ]
  },
  {
   "cell_type": "code",
   "execution_count": null,
   "metadata": {
    "id": "Ub4upH7d93_Q"
   },
   "outputs": [],
   "source": [
    "tfidf = TfidfVectorizer(max_features = 100, max_df=0.95, min_df=0)\n",
    "\n",
    "#generate tf-idf term-document matrix\n",
    "A_tfidf_sp = tfidf.fit_transform(tf_idf)"
   ]
  },
  {
   "cell_type": "code",
   "execution_count": null,
   "metadata": {
    "colab": {
     "base_uri": "https://localhost:8080/"
    },
    "executionInfo": {
     "elapsed": 30,
     "status": "ok",
     "timestamp": 1654083911557,
     "user": {
      "displayName": "‍황수연[ 학부재학 / 컴퓨터융합소프트웨어학과 ]",
      "userId": "03365621454974662117"
     },
     "user_tz": -540
    },
    "id": "mmFjUkbg-V5q",
    "outputId": "e95d77ce-a0e9-41c6-9006-d8b01820023d"
   },
   "outputs": [
    {
     "name": "stdout",
     "output_type": "stream",
     "text": [
      "['가게', '이끼', '이나', '이노', '이니셜', '이동식', '이드', '이디야', '이랜드', '이레', '이론', '이마트', '이모티콘', '이목', '이문열', '이뮨', '이민', '이벤트', '이불', '이브', '이블', '이상', '이솝', '이스', '이스트', '이승조', '이야기', '이어폰', '이엠', '이온', '이용', '이용권', '이용호', '이월', '이유', '이유식', '이은경', '이임', '이제훈', '이즈', '이지', '이징', '이철', '이케아', '이콘', '이크', '이탈', '이태리', '이편', '이프', '이후', '익스플로러', '익일', '인견', '인공', '인기', '인덕션', '인도', '인디고', '인물', '인바디', '인버터', '인사', '인생', '인솔', '인쇄', '인스탁', '인스탁스', '인스피', '인용', '일드', '일력', '일루', '일리', '일반', '일반인', '일본', '일상', '일일', '일주', '일품', '일회용', '임박', '임부', '임부복', '임산부', '임실', '임영웅', '입봉', '입시', '입자', '입장권', '입체', '잉어', '잉크', '잉크젯', '자가', '자가진단', '자극', '자급']\n"
     ]
    },
    {
     "name": "stderr",
     "output_type": "stream",
     "text": [
      "/usr/local/lib/python3.7/dist-packages/sklearn/utils/deprecation.py:87: FutureWarning: Function get_feature_names is deprecated; get_feature_names is deprecated in 1.0 and will be removed in 1.2. Please use get_feature_names_out instead.\n",
      "  warnings.warn(msg, category=FutureWarning)\n"
     ]
    }
   ],
   "source": [
    "tfidf_dict = tfidf.get_feature_names()\n",
    "print(tfidf_dict)"
   ]
  },
  {
   "cell_type": "code",
   "execution_count": null,
   "metadata": {
    "colab": {
     "base_uri": "https://localhost:8080/"
    },
    "executionInfo": {
     "elapsed": 26,
     "status": "ok",
     "timestamp": 1654083911563,
     "user": {
      "displayName": "‍황수연[ 학부재학 / 컴퓨터융합소프트웨어학과 ]",
      "userId": "03365621454974662117"
     },
     "user_tz": -540
    },
    "id": "JWiVFOohE4-3",
    "outputId": "6f180990-710a-420d-998c-2bcfb8368285"
   },
   "outputs": [
    {
     "data": {
      "text/plain": [
       "100"
      ]
     },
     "execution_count": 136,
     "metadata": {},
     "output_type": "execute_result"
    }
   ],
   "source": [
    "len(tfidf_dict)"
   ]
  },
  {
   "cell_type": "code",
   "execution_count": null,
   "metadata": {
    "colab": {
     "base_uri": "https://localhost:8080/"
    },
    "executionInfo": {
     "elapsed": 28,
     "status": "ok",
     "timestamp": 1654083911567,
     "user": {
      "displayName": "‍황수연[ 학부재학 / 컴퓨터융합소프트웨어학과 ]",
      "userId": "03365621454974662117"
     },
     "user_tz": -540
    },
    "id": "YumsJV5x-7UN",
    "outputId": "c53e9533-7e6b-4bbd-cfd0-f581e64cca4a"
   },
   "outputs": [
    {
     "data": {
      "text/plain": [
       "(4310, 100)"
      ]
     },
     "execution_count": 137,
     "metadata": {},
     "output_type": "execute_result"
    }
   ],
   "source": [
    "data_array = A_tfidf_sp.toarray()\n",
    "data = pd.DataFrame(data_array, columns=tfidf_dict)\n",
    "data.shape"
   ]
  },
  {
   "cell_type": "code",
   "execution_count": null,
   "metadata": {
    "id": "bbYmzPGr-1DL"
   },
   "outputs": [],
   "source": [
    "tsne = TSNE(n_components=2, n_iter=10000, verbose=1)"
   ]
  },
  {
   "cell_type": "code",
   "execution_count": null,
   "metadata": {
    "colab": {
     "base_uri": "https://localhost:8080/"
    },
    "executionInfo": {
     "elapsed": 323,
     "status": "ok",
     "timestamp": 1654083911864,
     "user": {
      "displayName": "‍황수연[ 학부재학 / 컴퓨터융합소프트웨어학과 ]",
      "userId": "03365621454974662117"
     },
     "user_tz": -540
    },
    "id": "Ph8hpMlV-1gl",
    "outputId": "9b0f86f6-949a-4143-e666-09f21cf67848"
   },
   "outputs": [
    {
     "name": "stdout",
     "output_type": "stream",
     "text": [
      "(4310, 100)\n",
      "(100, 4310)\n"
     ]
    }
   ],
   "source": [
    "print(data_array.shape)\n",
    "print(data_array.T.shape)"
   ]
  },
  {
   "cell_type": "markdown",
   "metadata": {
    "id": "hDnZjO2H_Dxg"
   },
   "source": [
    "우리는 100차원에 존재하는 2000개의 상품들을 2차원에 2000개의 상품으로 표현하려고 함 (2x2000)"
   ]
  },
  {
   "cell_type": "code",
   "execution_count": null,
   "metadata": {
    "colab": {
     "base_uri": "https://localhost:8080/"
    },
    "executionInfo": {
     "elapsed": 1401,
     "status": "ok",
     "timestamp": 1654083913253,
     "user": {
      "displayName": "‍황수연[ 학부재학 / 컴퓨터융합소프트웨어학과 ]",
      "userId": "03365621454974662117"
     },
     "user_tz": -540
    },
    "id": "ABP-Mu6G_A5m",
    "outputId": "1628b960-fdcc-4192-b856-452249ea5d45"
   },
   "outputs": [
    {
     "name": "stderr",
     "output_type": "stream",
     "text": [
      "/usr/local/lib/python3.7/dist-packages/sklearn/manifold/_t_sne.py:783: FutureWarning: The default initialization in TSNE will change from 'random' to 'pca' in 1.2.\n",
      "  FutureWarning,\n",
      "/usr/local/lib/python3.7/dist-packages/sklearn/manifold/_t_sne.py:793: FutureWarning: The default learning rate in TSNE will change from 200.0 to 'auto' in 1.2.\n",
      "  FutureWarning,\n"
     ]
    },
    {
     "name": "stdout",
     "output_type": "stream",
     "text": [
      "[t-SNE] Computing 91 nearest neighbors...\n",
      "[t-SNE] Indexed 100 samples in 0.001s...\n",
      "[t-SNE] Computed neighbors for 100 samples in 0.013s...\n",
      "[t-SNE] Computed conditional probabilities for sample 100 / 100\n",
      "[t-SNE] Mean sigma: 0.051808\n",
      "[t-SNE] KL divergence after 250 iterations with early exaggeration: 0.000000\n",
      "[t-SNE] KL divergence after 650 iterations: 0.000000\n"
     ]
    }
   ],
   "source": [
    "Z = tsne.fit_transform(data_array.T)"
   ]
  },
  {
   "cell_type": "code",
   "execution_count": null,
   "metadata": {
    "colab": {
     "base_uri": "https://localhost:8080/"
    },
    "executionInfo": {
     "elapsed": 18,
     "status": "ok",
     "timestamp": 1654083913254,
     "user": {
      "displayName": "‍황수연[ 학부재학 / 컴퓨터융합소프트웨어학과 ]",
      "userId": "03365621454974662117"
     },
     "user_tz": -540
    },
    "id": "m_LetmP3_LUv",
    "outputId": "7a0a4607-1700-4101-a9f8-c74a0fae5009"
   },
   "outputs": [
    {
     "name": "stdout",
     "output_type": "stream",
     "text": [
      "[[ -751.74664     53.364777]\n",
      " [   24.327814 -1177.6184  ]\n",
      " [  892.7051     794.2768  ]\n",
      " [ -231.96474    454.0022  ]\n",
      " [  605.85156    736.01874 ]]\n",
      "Top words:  100\n"
     ]
    }
   ],
   "source": [
    "print(Z[0:5])\n",
    "print('Top words: ',len(Z))"
   ]
  },
  {
   "cell_type": "code",
   "execution_count": null,
   "metadata": {
    "colab": {
     "base_uri": "https://localhost:8080/",
     "height": 265
    },
    "executionInfo": {
     "elapsed": 434,
     "status": "ok",
     "timestamp": 1654083913674,
     "user": {
      "displayName": "‍황수연[ 학부재학 / 컴퓨터융합소프트웨어학과 ]",
      "userId": "03365621454974662117"
     },
     "user_tz": -540
    },
    "id": "2sdQMCWf_NrY",
    "outputId": "aefce83f-e2c1-447a-f398-a42fb2d2f811"
   },
   "outputs": [
    {
     "data": {
      "image/png": "[encoded data removed]",
      "text/plain": [
       "<Figure size 432x288 with 1 Axes>"
      ]
     },
     "metadata": {
      "needs_background": "light"
     },
     "output_type": "display_data"
    }
   ],
   "source": [
    "path = '/content/drive/Shareddrives/datamining_2022/NanumMyeongjo-Regular.ttf'\n",
    "fontprop = fm.FontProperties(fname=path, size=5)\n",
    "plt.scatter(Z[:,0], Z[:,1])\n",
    "for i in range(len(tfidf_dict)):\n",
    "    plt.annotate(s=tfidf_dict[i].encode(\"utf8\").decode(\"utf8\"), xy=(Z[i,0], Z[i,1]),fontProperties =fontprop)\n",
    "\n",
    "plt.draw()"
   ]
  },
  {
   "cell_type": "markdown",
   "metadata": {
    "id": "67Ht4Wv_-hLp"
   },
   "source": [
    "# TF-IDF 전체 2000개 상품간 관계 2차원에 모두 표현한 것"
   ]
  },
  {
   "cell_type": "code",
   "execution_count": null,
   "metadata": {
    "id": "PCQliVWf4Q1r"
   },
   "outputs": [],
   "source": [
    "tsne = TSNE(n_components=2, n_iter=10000, verbose=1)"
   ]
  },
  {
   "cell_type": "markdown",
   "metadata": {
    "id": "R6wbMm6F4tbh"
   },
   "source": [
    "4310차원에 존재하는 2000개의 상품들을 2차원에 2000개의 상품으로 표현하려고 함 (2x2000)"
   ]
  },
  {
   "cell_type": "code",
   "execution_count": null,
   "metadata": {
    "colab": {
     "base_uri": "https://localhost:8080/"
    },
    "executionInfo": {
     "elapsed": 399428,
     "status": "ok",
     "timestamp": 1654084313082,
     "user": {
      "displayName": "‍황수연[ 학부재학 / 컴퓨터융합소프트웨어학과 ]",
      "userId": "03365621454974662117"
     },
     "user_tz": -540
    },
    "id": "J4YW2IXZ4jxi",
    "outputId": "b9d726ac-6861-4709-cca6-8ab0bd575dba"
   },
   "outputs": [
    {
     "name": "stderr",
     "output_type": "stream",
     "text": [
      "/usr/local/lib/python3.7/dist-packages/sklearn/manifold/_t_sne.py:783: FutureWarning: The default initialization in TSNE will change from 'random' to 'pca' in 1.2.\n",
      "  FutureWarning,\n",
      "/usr/local/lib/python3.7/dist-packages/sklearn/manifold/_t_sne.py:793: FutureWarning: The default learning rate in TSNE will change from 200.0 to 'auto' in 1.2.\n",
      "  FutureWarning,\n"
     ]
    },
    {
     "name": "stdout",
     "output_type": "stream",
     "text": [
      "[t-SNE] Computing 91 nearest neighbors...\n",
      "[t-SNE] Indexed 4310 samples in 0.011s...\n",
      "[t-SNE] Computed neighbors for 4310 samples in 1.713s...\n",
      "[t-SNE] Computed conditional probabilities for sample 1000 / 4310\n",
      "[t-SNE] Computed conditional probabilities for sample 2000 / 4310\n",
      "[t-SNE] Computed conditional probabilities for sample 3000 / 4310\n",
      "[t-SNE] Computed conditional probabilities for sample 4000 / 4310\n",
      "[t-SNE] Computed conditional probabilities for sample 4310 / 4310\n",
      "[t-SNE] Mean sigma: 1.512221\n",
      "[t-SNE] KL divergence after 250 iterations with early exaggeration: 104.700417\n",
      "[t-SNE] KL divergence after 10000 iterations: 1.285061\n"
     ]
    }
   ],
   "source": [
    "Z = tsne.fit_transform(tf_idf.T)"
   ]
  },
  {
   "cell_type": "code",
   "execution_count": null,
   "metadata": {
    "colab": {
     "base_uri": "https://localhost:8080/"
    },
    "executionInfo": {
     "elapsed": 21,
     "status": "ok",
     "timestamp": 1654084313083,
     "user": {
      "displayName": "‍황수연[ 학부재학 / 컴퓨터융합소프트웨어학과 ]",
      "userId": "03365621454974662117"
     },
     "user_tz": -540
    },
    "id": "PidLZD6L484g",
    "outputId": "c109846c-5659-4e08-a02f-16701421a751"
   },
   "outputs": [
    {
     "name": "stdout",
     "output_type": "stream",
     "text": [
      "[[ 500.2493   774.78534]\n",
      " [ 100.76863  386.1505 ]\n",
      " [ 218.3181  -962.9169 ]\n",
      " [-239.87257  509.10245]\n",
      " [ 431.55777  272.23425]]\n",
      "Top words:  4310\n"
     ]
    }
   ],
   "source": [
    "print(Z[0:5])\n",
    "print('Top words: ',len(Z))"
   ]
  },
  {
   "cell_type": "code",
   "execution_count": null,
   "metadata": {
    "id": "0q8PZ0lE6tS1"
   },
   "outputs": [],
   "source": [
    "columns = tf_idf.columns"
   ]
  },
  {
   "cell_type": "code",
   "execution_count": null,
   "metadata": {
    "colab": {
     "base_uri": "https://localhost:8080/",
     "height": 265
    },
    "executionInfo": {
     "elapsed": 22677,
     "status": "ok",
     "timestamp": 1654084335747,
     "user": {
      "displayName": "‍황수연[ 학부재학 / 컴퓨터융합소프트웨어학과 ]",
      "userId": "03365621454974662117"
     },
     "user_tz": -540
    },
    "id": "jIjFmzoWnuDl",
    "outputId": "ce116707-952e-4566-a13a-2771dd705bc4"
   },
   "outputs": [
    {
     "data": {
      "image/png": "[encoded data removed]",
      "text/plain": [
       "<Figure size 432x288 with 1 Axes>"
      ]
     },
     "metadata": {
      "needs_background": "light"
     },
     "output_type": "display_data"
    }
   ],
   "source": [
    "path = '/content/drive/Shareddrives/datamining_2022/NanumMyeongjo-Regular.ttf'\n",
    "fontprop = fm.FontProperties(fname=path, size=5)\n",
    "plt.scatter(Z[:,0], Z[:,1])\n",
    "for i in range(len(columns)):\n",
    "    plt.annotate(s=columns[i].encode(\"utf8\").decode(\"utf8\"), xy=(Z[i,0], Z[i,1]), fontProperties =fontprop)\n",
    "\n",
    "plt.draw()"
   ]
  },
  {
   "cell_type": "markdown",
   "metadata": {
    "id": "_re_dr0lFopN"
   },
   "source": [
    "# 그래프 그리기"
   ]
  },
  {
   "cell_type": "code",
   "execution_count": null,
   "metadata": {
    "id": "rOof_qbZGq5e"
   },
   "outputs": [],
   "source": [
    "import seaborn as sns"
   ]
  },
  {
   "cell_type": "code",
   "execution_count": null,
   "metadata": {
    "colab": {
     "base_uri": "https://localhost:8080/",
     "height": 455
    },
    "executionInfo": {
     "elapsed": 364,
     "status": "ok",
     "timestamp": 1654084680635,
     "user": {
      "displayName": "‍황수연[ 학부재학 / 컴퓨터융합소프트웨어학과 ]",
      "userId": "03365621454974662117"
     },
     "user_tz": -540
    },
    "id": "cS4EeaKhID44",
    "outputId": "c4f75f7c-e1ff-4b94-fe68-f4cb3153f3e2"
   },
   "outputs": [
    {
     "data": {
      "text/html": [
       "\n",
       "  <div id=\"df-84139482-f083-4a35-ae3a-26a3385b58c5\">\n",
       "    <div class=\"colab-df-container\">\n",
       "      <div>\n",
       "<style scoped>\n",
       "    .dataframe tbody tr th:only-of-type {\n",
       "        vertical-align: middle;\n",
       "    }\n",
       "\n",
       "    .dataframe tbody tr th {\n",
       "        vertical-align: top;\n",
       "    }\n",
       "\n",
       "    .dataframe thead th {\n",
       "        text-align: right;\n",
       "    }\n",
       "</style>\n",
       "<table border=\"1\" class=\"dataframe\">\n",
       "  <thead>\n",
       "    <tr style=\"text-align: right;\">\n",
       "      <th></th>\n",
       "      <th>노트</th>\n",
       "      <th>아유</th>\n",
       "      <th>쿠우</th>\n",
       "      <th>텐트</th>\n",
       "      <th>니</th>\n",
       "      <th>의자</th>\n",
       "      <th>요미</th>\n",
       "      <th>비치</th>\n",
       "      <th>안</th>\n",
       "      <th>치즈</th>\n",
       "      <th>...</th>\n",
       "      <th>지갑</th>\n",
       "      <th>정장</th>\n",
       "      <th>가방</th>\n",
       "      <th>레</th>\n",
       "      <th>박스</th>\n",
       "      <th>골프</th>\n",
       "      <th>홍삼</th>\n",
       "      <th>형</th>\n",
       "      <th>더페이스샵</th>\n",
       "      <th>다리</th>\n",
       "    </tr>\n",
       "    <tr>\n",
       "      <th>Column1</th>\n",
       "      <th></th>\n",
       "      <th></th>\n",
       "      <th></th>\n",
       "      <th></th>\n",
       "      <th></th>\n",
       "      <th></th>\n",
       "      <th></th>\n",
       "      <th></th>\n",
       "      <th></th>\n",
       "      <th></th>\n",
       "      <th></th>\n",
       "      <th></th>\n",
       "      <th></th>\n",
       "      <th></th>\n",
       "      <th></th>\n",
       "      <th></th>\n",
       "      <th></th>\n",
       "      <th></th>\n",
       "      <th></th>\n",
       "      <th></th>\n",
       "      <th></th>\n",
       "    </tr>\n",
       "  </thead>\n",
       "  <tbody>\n",
       "    <tr>\n",
       "      <th>0</th>\n",
       "      <td>0.0</td>\n",
       "      <td>0</td>\n",
       "      <td>0.000000</td>\n",
       "      <td>0</td>\n",
       "      <td>0</td>\n",
       "      <td>0.0</td>\n",
       "      <td>0</td>\n",
       "      <td>0</td>\n",
       "      <td>0</td>\n",
       "      <td>0.0</td>\n",
       "      <td>...</td>\n",
       "      <td>0.0</td>\n",
       "      <td>0</td>\n",
       "      <td>0.0</td>\n",
       "      <td>0.0</td>\n",
       "      <td>0.0</td>\n",
       "      <td>0</td>\n",
       "      <td>0</td>\n",
       "      <td>0.0</td>\n",
       "      <td>0</td>\n",
       "      <td>0</td>\n",
       "    </tr>\n",
       "    <tr>\n",
       "      <th>1</th>\n",
       "      <td>0.0</td>\n",
       "      <td>0</td>\n",
       "      <td>27.631021</td>\n",
       "      <td>0</td>\n",
       "      <td>0</td>\n",
       "      <td>0.0</td>\n",
       "      <td>0</td>\n",
       "      <td>0</td>\n",
       "      <td>0</td>\n",
       "      <td>0.0</td>\n",
       "      <td>...</td>\n",
       "      <td>0.0</td>\n",
       "      <td>0</td>\n",
       "      <td>0.0</td>\n",
       "      <td>0.0</td>\n",
       "      <td>0.0</td>\n",
       "      <td>0</td>\n",
       "      <td>0</td>\n",
       "      <td>0.0</td>\n",
       "      <td>0</td>\n",
       "      <td>0</td>\n",
       "    </tr>\n",
       "    <tr>\n",
       "      <th>2</th>\n",
       "      <td>0.0</td>\n",
       "      <td>0</td>\n",
       "      <td>0.000000</td>\n",
       "      <td>0</td>\n",
       "      <td>0</td>\n",
       "      <td>0.0</td>\n",
       "      <td>0</td>\n",
       "      <td>0</td>\n",
       "      <td>0</td>\n",
       "      <td>0.0</td>\n",
       "      <td>...</td>\n",
       "      <td>0.0</td>\n",
       "      <td>0</td>\n",
       "      <td>0.0</td>\n",
       "      <td>0.0</td>\n",
       "      <td>0.0</td>\n",
       "      <td>0</td>\n",
       "      <td>0</td>\n",
       "      <td>0.0</td>\n",
       "      <td>0</td>\n",
       "      <td>0</td>\n",
       "    </tr>\n",
       "    <tr>\n",
       "      <th>3</th>\n",
       "      <td>0.0</td>\n",
       "      <td>0</td>\n",
       "      <td>0.000000</td>\n",
       "      <td>0</td>\n",
       "      <td>0</td>\n",
       "      <td>0.0</td>\n",
       "      <td>0</td>\n",
       "      <td>0</td>\n",
       "      <td>0</td>\n",
       "      <td>0.0</td>\n",
       "      <td>...</td>\n",
       "      <td>0.0</td>\n",
       "      <td>0</td>\n",
       "      <td>0.0</td>\n",
       "      <td>0.0</td>\n",
       "      <td>0.0</td>\n",
       "      <td>0</td>\n",
       "      <td>0</td>\n",
       "      <td>0.0</td>\n",
       "      <td>0</td>\n",
       "      <td>0</td>\n",
       "    </tr>\n",
       "    <tr>\n",
       "      <th>4</th>\n",
       "      <td>0.0</td>\n",
       "      <td>0</td>\n",
       "      <td>0.000000</td>\n",
       "      <td>0</td>\n",
       "      <td>0</td>\n",
       "      <td>0.0</td>\n",
       "      <td>0</td>\n",
       "      <td>0</td>\n",
       "      <td>0</td>\n",
       "      <td>0.0</td>\n",
       "      <td>...</td>\n",
       "      <td>0.0</td>\n",
       "      <td>0</td>\n",
       "      <td>0.0</td>\n",
       "      <td>0.0</td>\n",
       "      <td>0.0</td>\n",
       "      <td>0</td>\n",
       "      <td>0</td>\n",
       "      <td>0.0</td>\n",
       "      <td>0</td>\n",
       "      <td>0</td>\n",
       "    </tr>\n",
       "    <tr>\n",
       "      <th>...</th>\n",
       "      <td>...</td>\n",
       "      <td>...</td>\n",
       "      <td>...</td>\n",
       "      <td>...</td>\n",
       "      <td>...</td>\n",
       "      <td>...</td>\n",
       "      <td>...</td>\n",
       "      <td>...</td>\n",
       "      <td>...</td>\n",
       "      <td>...</td>\n",
       "      <td>...</td>\n",
       "      <td>...</td>\n",
       "      <td>...</td>\n",
       "      <td>...</td>\n",
       "      <td>...</td>\n",
       "      <td>...</td>\n",
       "      <td>...</td>\n",
       "      <td>...</td>\n",
       "      <td>...</td>\n",
       "      <td>...</td>\n",
       "      <td>...</td>\n",
       "    </tr>\n",
       "    <tr>\n",
       "      <th>1995</th>\n",
       "      <td>0.0</td>\n",
       "      <td>0</td>\n",
       "      <td>0.000000</td>\n",
       "      <td>0</td>\n",
       "      <td>0</td>\n",
       "      <td>0.0</td>\n",
       "      <td>0</td>\n",
       "      <td>0</td>\n",
       "      <td>0</td>\n",
       "      <td>0.0</td>\n",
       "      <td>...</td>\n",
       "      <td>0.0</td>\n",
       "      <td>0</td>\n",
       "      <td>0.0</td>\n",
       "      <td>0.0</td>\n",
       "      <td>0.0</td>\n",
       "      <td>0</td>\n",
       "      <td>0</td>\n",
       "      <td>0.0</td>\n",
       "      <td>0</td>\n",
       "      <td>0</td>\n",
       "    </tr>\n",
       "    <tr>\n",
       "      <th>1996</th>\n",
       "      <td>0.0</td>\n",
       "      <td>0</td>\n",
       "      <td>0.000000</td>\n",
       "      <td>0</td>\n",
       "      <td>0</td>\n",
       "      <td>0.0</td>\n",
       "      <td>0</td>\n",
       "      <td>0</td>\n",
       "      <td>0</td>\n",
       "      <td>0.0</td>\n",
       "      <td>...</td>\n",
       "      <td>0.0</td>\n",
       "      <td>0</td>\n",
       "      <td>0.0</td>\n",
       "      <td>0.0</td>\n",
       "      <td>0.0</td>\n",
       "      <td>0</td>\n",
       "      <td>0</td>\n",
       "      <td>0.0</td>\n",
       "      <td>0</td>\n",
       "      <td>0</td>\n",
       "    </tr>\n",
       "    <tr>\n",
       "      <th>1997</th>\n",
       "      <td>0.0</td>\n",
       "      <td>0</td>\n",
       "      <td>0.000000</td>\n",
       "      <td>0</td>\n",
       "      <td>0</td>\n",
       "      <td>0.0</td>\n",
       "      <td>0</td>\n",
       "      <td>0</td>\n",
       "      <td>0</td>\n",
       "      <td>0.0</td>\n",
       "      <td>...</td>\n",
       "      <td>0.0</td>\n",
       "      <td>0</td>\n",
       "      <td>0.0</td>\n",
       "      <td>0.0</td>\n",
       "      <td>0.0</td>\n",
       "      <td>0</td>\n",
       "      <td>0</td>\n",
       "      <td>0.0</td>\n",
       "      <td>0</td>\n",
       "      <td>0</td>\n",
       "    </tr>\n",
       "    <tr>\n",
       "      <th>1998</th>\n",
       "      <td>0.0</td>\n",
       "      <td>0</td>\n",
       "      <td>0.000000</td>\n",
       "      <td>0</td>\n",
       "      <td>0</td>\n",
       "      <td>0.0</td>\n",
       "      <td>0</td>\n",
       "      <td>0</td>\n",
       "      <td>0</td>\n",
       "      <td>0.0</td>\n",
       "      <td>...</td>\n",
       "      <td>0.0</td>\n",
       "      <td>0</td>\n",
       "      <td>0.0</td>\n",
       "      <td>0.0</td>\n",
       "      <td>0.0</td>\n",
       "      <td>0</td>\n",
       "      <td>0</td>\n",
       "      <td>0.0</td>\n",
       "      <td>0</td>\n",
       "      <td>0</td>\n",
       "    </tr>\n",
       "    <tr>\n",
       "      <th>1999</th>\n",
       "      <td>0.0</td>\n",
       "      <td>0</td>\n",
       "      <td>0.000000</td>\n",
       "      <td>0</td>\n",
       "      <td>0</td>\n",
       "      <td>0.0</td>\n",
       "      <td>0</td>\n",
       "      <td>0</td>\n",
       "      <td>0</td>\n",
       "      <td>0.0</td>\n",
       "      <td>...</td>\n",
       "      <td>0.0</td>\n",
       "      <td>0</td>\n",
       "      <td>0.0</td>\n",
       "      <td>0.0</td>\n",
       "      <td>0.0</td>\n",
       "      <td>0</td>\n",
       "      <td>0</td>\n",
       "      <td>0.0</td>\n",
       "      <td>0</td>\n",
       "      <td>0</td>\n",
       "    </tr>\n",
       "  </tbody>\n",
       "</table>\n",
       "<p>2000 rows × 50 columns</p>\n",
       "</div>\n",
       "      <button class=\"colab-df-convert\" onclick=\"convertToInteractive('df-84139482-f083-4a35-ae3a-26a3385b58c5')\"\n",
       "              title=\"Convert this dataframe to an interactive table.\"\n",
       "              style=\"display:none;\">\n",
       "        \n",
       "  <svg xmlns=\"http://www.w3.org/2000/svg\" height=\"24px\"viewBox=\"0 0 24 24\"\n",
       "       width=\"24px\">\n",
       "    <path d=\"M0 0h24v24H0V0z\" fill=\"none\"/>\n",
       "    <path d=\"M18.56 5.44l.94 2.06.94-2.06 2.06-.94-2.06-.94-.94-2.06-.94 2.06-2.06.94zm-11 1L8.5 8.5l.94-2.06 2.06-.94-2.06-.94L8.5 2.5l-.94 2.06-2.06.94zm10 10l.94 2.06.94-2.06 2.06-.94-2.06-.94-.94-2.06-.94 2.06-2.06.94z\"/><path d=\"M17.41 7.96l-1.37-1.37c-.4-.4-.92-.59-1.43-.59-.52 0-1.04.2-1.43.59L10.3 9.45l-7.72 7.72c-.78.78-.78 2.05 0 2.83L4 21.41c.39.39.9.59 1.41.59.51 0 1.02-.2 1.41-.59l7.78-7.78 2.81-2.81c.8-.78.8-2.07 0-2.86zM5.41 20L4 18.59l7.72-7.72 1.47 1.35L5.41 20z\"/>\n",
       "  </svg>\n",
       "      </button>\n",
       "      \n",
       "  <style>\n",
       "    .colab-df-container {\n",
       "      display:flex;\n",
       "      flex-wrap:wrap;\n",
       "      gap: 12px;\n",
       "    }\n",
       "\n",
       "    .colab-df-convert {\n",
       "      background-color: #E8F0FE;\n",
       "      border: none;\n",
       "      border-radius: 50%;\n",
       "      cursor: pointer;\n",
       "      display: none;\n",
       "      fill: #1967D2;\n",
       "      height: 32px;\n",
       "      padding: 0 0 0 0;\n",
       "      width: 32px;\n",
       "    }\n",
       "\n",
       "    .colab-df-convert:hover {\n",
       "      background-color: #E2EBFA;\n",
       "      box-shadow: 0px 1px 2px rgba(60, 64, 67, 0.3), 0px 1px 3px 1px rgba(60, 64, 67, 0.15);\n",
       "      fill: #174EA6;\n",
       "    }\n",
       "\n",
       "    [theme=dark] .colab-df-convert {\n",
       "      background-color: #3B4455;\n",
       "      fill: #D2E3FC;\n",
       "    }\n",
       "\n",
       "    [theme=dark] .colab-df-convert:hover {\n",
       "      background-color: #434B5C;\n",
       "      box-shadow: 0px 1px 3px 1px rgba(0, 0, 0, 0.15);\n",
       "      filter: drop-shadow(0px 1px 2px rgba(0, 0, 0, 0.3));\n",
       "      fill: #FFFFFF;\n",
       "    }\n",
       "  </style>\n",
       "\n",
       "      <script>\n",
       "        const buttonEl =\n",
       "          document.querySelector('#df-84139482-f083-4a35-ae3a-26a3385b58c5 button.colab-df-convert');\n",
       "        buttonEl.style.display =\n",
       "          google.colab.kernel.accessAllowed ? 'block' : 'none';\n",
       "\n",
       "        async function convertToInteractive(key) {\n",
       "          const element = document.querySelector('#df-84139482-f083-4a35-ae3a-26a3385b58c5');\n",
       "          const dataTable =\n",
       "            await google.colab.kernel.invokeFunction('convertToInteractive',\n",
       "                                                     [key], {});\n",
       "          if (!dataTable) return;\n",
       "\n",
       "          const docLinkHtml = 'Like what you see? Visit the ' +\n",
       "            '<a target=\"_blank\" href=https://colab.research.google.com/notebooks/data_table.ipynb>data table notebook</a>'\n",
       "            + ' to learn more about interactive tables.';\n",
       "          element.innerHTML = '';\n",
       "          dataTable['output_type'] = 'display_data';\n",
       "          await google.colab.output.renderOutput(dataTable, element);\n",
       "          const docLink = document.createElement('div');\n",
       "          docLink.innerHTML = docLinkHtml;\n",
       "          element.appendChild(docLink);\n",
       "        }\n",
       "      </script>\n",
       "    </div>\n",
       "  </div>\n",
       "  "
      ],
      "text/plain": [
       "          노트  아유         쿠우  텐트  니   의자  요미  비치  안   치즈  ...   지갑  정장   가방  \\\n",
       "Column1                                                  ...                 \n",
       "0        0.0   0   0.000000   0  0  0.0   0   0  0  0.0  ...  0.0   0  0.0   \n",
       "1        0.0   0  27.631021   0  0  0.0   0   0  0  0.0  ...  0.0   0  0.0   \n",
       "2        0.0   0   0.000000   0  0  0.0   0   0  0  0.0  ...  0.0   0  0.0   \n",
       "3        0.0   0   0.000000   0  0  0.0   0   0  0  0.0  ...  0.0   0  0.0   \n",
       "4        0.0   0   0.000000   0  0  0.0   0   0  0  0.0  ...  0.0   0  0.0   \n",
       "...      ...  ..        ...  .. ..  ...  ..  .. ..  ...  ...  ...  ..  ...   \n",
       "1995     0.0   0   0.000000   0  0  0.0   0   0  0  0.0  ...  0.0   0  0.0   \n",
       "1996     0.0   0   0.000000   0  0  0.0   0   0  0  0.0  ...  0.0   0  0.0   \n",
       "1997     0.0   0   0.000000   0  0  0.0   0   0  0  0.0  ...  0.0   0  0.0   \n",
       "1998     0.0   0   0.000000   0  0  0.0   0   0  0  0.0  ...  0.0   0  0.0   \n",
       "1999     0.0   0   0.000000   0  0  0.0   0   0  0  0.0  ...  0.0   0  0.0   \n",
       "\n",
       "           레   박스  골프  홍삼    형  더페이스샵  다리  \n",
       "Column1                                    \n",
       "0        0.0  0.0   0   0  0.0      0   0  \n",
       "1        0.0  0.0   0   0  0.0      0   0  \n",
       "2        0.0  0.0   0   0  0.0      0   0  \n",
       "3        0.0  0.0   0   0  0.0      0   0  \n",
       "4        0.0  0.0   0   0  0.0      0   0  \n",
       "...      ...  ...  ..  ..  ...    ...  ..  \n",
       "1995     0.0  0.0   0   0  0.0      0   0  \n",
       "1996     0.0  0.0   0   0  0.0      0   0  \n",
       "1997     0.0  0.0   0   0  0.0      0   0  \n",
       "1998     0.0  0.0   0   0  0.0      0   0  \n",
       "1999     0.0  0.0   0   0  0.0      0   0  \n",
       "\n",
       "[2000 rows x 50 columns]"
      ]
     },
     "execution_count": 151,
     "metadata": {},
     "output_type": "execute_result"
    }
   ],
   "source": [
    "max_50_tf_idf"
   ]
  },
  {
   "cell_type": "code",
   "execution_count": null,
   "metadata": {
    "colab": {
     "base_uri": "https://localhost:8080/",
     "height": 1000
    },
    "executionInfo": {
     "elapsed": 794,
     "status": "ok",
     "timestamp": 1654085662569,
     "user": {
      "displayName": "‍황수연[ 학부재학 / 컴퓨터융합소프트웨어학과 ]",
      "userId": "03365621454974662117"
     },
     "user_tz": -540
    },
    "id": "5gsZrq_nIJkJ",
    "outputId": "c300eeb9-ce3a-4d65-eb35-905b6a675461"
   },
   "outputs": [
    {
     "name": "stderr",
     "output_type": "stream",
     "text": [
      "/usr/local/lib/python3.7/dist-packages/matplotlib/backends/backend_agg.py:214: RuntimeWarning: Glyph 45432 missing from current font.\n",
      "  font.set_text(s, 0.0, flags=flags)\n",
      "/usr/local/lib/python3.7/dist-packages/matplotlib/backends/backend_agg.py:214: RuntimeWarning: Glyph 53944 missing from current font.\n",
      "  font.set_text(s, 0.0, flags=flags)\n",
      "/usr/local/lib/python3.7/dist-packages/matplotlib/backends/backend_agg.py:214: RuntimeWarning: Glyph 50500 missing from current font.\n",
      "  font.set_text(s, 0.0, flags=flags)\n",
      "/usr/local/lib/python3.7/dist-packages/matplotlib/backends/backend_agg.py:214: RuntimeWarning: Glyph 50976 missing from current font.\n",
      "  font.set_text(s, 0.0, flags=flags)\n",
      "/usr/local/lib/python3.7/dist-packages/matplotlib/backends/backend_agg.py:214: RuntimeWarning: Glyph 53216 missing from current font.\n",
      "  font.set_text(s, 0.0, flags=flags)\n",
      "/usr/local/lib/python3.7/dist-packages/matplotlib/backends/backend_agg.py:214: RuntimeWarning: Glyph 50864 missing from current font.\n",
      "  font.set_text(s, 0.0, flags=flags)\n",
      "/usr/local/lib/python3.7/dist-packages/matplotlib/backends/backend_agg.py:214: RuntimeWarning: Glyph 53584 missing from current font.\n",
      "  font.set_text(s, 0.0, flags=flags)\n",
      "/usr/local/lib/python3.7/dist-packages/matplotlib/backends/backend_agg.py:214: RuntimeWarning: Glyph 45768 missing from current font.\n",
      "  font.set_text(s, 0.0, flags=flags)\n",
      "/usr/local/lib/python3.7/dist-packages/matplotlib/backends/backend_agg.py:214: RuntimeWarning: Glyph 51032 missing from current font.\n",
      "  font.set_text(s, 0.0, flags=flags)\n",
      "/usr/local/lib/python3.7/dist-packages/matplotlib/backends/backend_agg.py:214: RuntimeWarning: Glyph 51088 missing from current font.\n",
      "  font.set_text(s, 0.0, flags=flags)\n",
      "/usr/local/lib/python3.7/dist-packages/matplotlib/backends/backend_agg.py:214: RuntimeWarning: Glyph 50836 missing from current font.\n",
      "  font.set_text(s, 0.0, flags=flags)\n",
      "/usr/local/lib/python3.7/dist-packages/matplotlib/backends/backend_agg.py:214: RuntimeWarning: Glyph 48120 missing from current font.\n",
      "  font.set_text(s, 0.0, flags=flags)\n",
      "/usr/local/lib/python3.7/dist-packages/matplotlib/backends/backend_agg.py:214: RuntimeWarning: Glyph 48708 missing from current font.\n",
      "  font.set_text(s, 0.0, flags=flags)\n",
      "/usr/local/lib/python3.7/dist-packages/matplotlib/backends/backend_agg.py:214: RuntimeWarning: Glyph 52824 missing from current font.\n",
      "  font.set_text(s, 0.0, flags=flags)\n",
      "/usr/local/lib/python3.7/dist-packages/matplotlib/backends/backend_agg.py:214: RuntimeWarning: Glyph 50504 missing from current font.\n",
      "  font.set_text(s, 0.0, flags=flags)\n",
      "/usr/local/lib/python3.7/dist-packages/matplotlib/backends/backend_agg.py:214: RuntimeWarning: Glyph 51592 missing from current font.\n",
      "  font.set_text(s, 0.0, flags=flags)\n",
      "/usr/local/lib/python3.7/dist-packages/matplotlib/backends/backend_agg.py:214: RuntimeWarning: Glyph 47588 missing from current font.\n",
      "  font.set_text(s, 0.0, flags=flags)\n",
      "/usr/local/lib/python3.7/dist-packages/matplotlib/backends/backend_agg.py:214: RuntimeWarning: Glyph 45128 missing from current font.\n",
      "  font.set_text(s, 0.0, flags=flags)\n",
      "/usr/local/lib/python3.7/dist-packages/matplotlib/backends/backend_agg.py:214: RuntimeWarning: Glyph 48372 missing from current font.\n",
      "  font.set_text(s, 0.0, flags=flags)\n",
      "/usr/local/lib/python3.7/dist-packages/matplotlib/backends/backend_agg.py:214: RuntimeWarning: Glyph 54744 missing from current font.\n",
      "  font.set_text(s, 0.0, flags=flags)\n",
      "/usr/local/lib/python3.7/dist-packages/matplotlib/backends/backend_agg.py:214: RuntimeWarning: Glyph 53664 missing from current font.\n",
      "  font.set_text(s, 0.0, flags=flags)\n",
      "/usr/local/lib/python3.7/dist-packages/matplotlib/backends/backend_agg.py:214: RuntimeWarning: Glyph 54140 missing from current font.\n",
      "  font.set_text(s, 0.0, flags=flags)\n",
      "/usr/local/lib/python3.7/dist-packages/matplotlib/backends/backend_agg.py:214: RuntimeWarning: Glyph 53440 missing from current font.\n",
      "  font.set_text(s, 0.0, flags=flags)\n",
      "/usr/local/lib/python3.7/dist-packages/matplotlib/backends/backend_agg.py:214: RuntimeWarning: Glyph 53804 missing from current font.\n",
      "  font.set_text(s, 0.0, flags=flags)\n",
      "/usr/local/lib/python3.7/dist-packages/matplotlib/backends/backend_agg.py:214: RuntimeWarning: Glyph 52768 missing from current font.\n",
      "  font.set_text(s, 0.0, flags=flags)\n",
      "/usr/local/lib/python3.7/dist-packages/matplotlib/backends/backend_agg.py:214: RuntimeWarning: Glyph 49888 missing from current font.\n",
      "  font.set_text(s, 0.0, flags=flags)\n",
      "/usr/local/lib/python3.7/dist-packages/matplotlib/backends/backend_agg.py:214: RuntimeWarning: Glyph 46972 missing from current font.\n",
      "  font.set_text(s, 0.0, flags=flags)\n",
      "/usr/local/lib/python3.7/dist-packages/matplotlib/backends/backend_agg.py:214: RuntimeWarning: Glyph 51092 missing from current font.\n",
      "  font.set_text(s, 0.0, flags=flags)\n",
      "/usr/local/lib/python3.7/dist-packages/matplotlib/backends/backend_agg.py:214: RuntimeWarning: Glyph 45208 missing from current font.\n",
      "  font.set_text(s, 0.0, flags=flags)\n",
      "/usr/local/lib/python3.7/dist-packages/matplotlib/backends/backend_agg.py:214: RuntimeWarning: Glyph 49353 missing from current font.\n",
      "  font.set_text(s, 0.0, flags=flags)\n",
      "/usr/local/lib/python3.7/dist-packages/matplotlib/backends/backend_agg.py:214: RuntimeWarning: Glyph 50672 missing from current font.\n",
      "  font.set_text(s, 0.0, flags=flags)\n",
      "/usr/local/lib/python3.7/dist-packages/matplotlib/backends/backend_agg.py:214: RuntimeWarning: Glyph 54596 missing from current font.\n",
      "  font.set_text(s, 0.0, flags=flags)\n",
      "/usr/local/lib/python3.7/dist-packages/matplotlib/backends/backend_agg.py:214: RuntimeWarning: Glyph 49380 missing from current font.\n",
      "  font.set_text(s, 0.0, flags=flags)\n",
      "/usr/local/lib/python3.7/dist-packages/matplotlib/backends/backend_agg.py:214: RuntimeWarning: Glyph 50144 missing from current font.\n",
      "  font.set_text(s, 0.0, flags=flags)\n",
      "/usr/local/lib/python3.7/dist-packages/matplotlib/backends/backend_agg.py:214: RuntimeWarning: Glyph 45000 missing from current font.\n",
      "  font.set_text(s, 0.0, flags=flags)\n",
      "/usr/local/lib/python3.7/dist-packages/matplotlib/backends/backend_agg.py:214: RuntimeWarning: Glyph 48260 missing from current font.\n",
      "  font.set_text(s, 0.0, flags=flags)\n",
      "/usr/local/lib/python3.7/dist-packages/matplotlib/backends/backend_agg.py:214: RuntimeWarning: Glyph 44600 missing from current font.\n",
      "  font.set_text(s, 0.0, flags=flags)\n",
      "/usr/local/lib/python3.7/dist-packages/matplotlib/backends/backend_agg.py:214: RuntimeWarning: Glyph 48279 missing from current font.\n",
      "  font.set_text(s, 0.0, flags=flags)\n",
      "/usr/local/lib/python3.7/dist-packages/matplotlib/backends/backend_agg.py:214: RuntimeWarning: Glyph 46021 missing from current font.\n",
      "  font.set_text(s, 0.0, flags=flags)\n",
      "/usr/local/lib/python3.7/dist-packages/matplotlib/backends/backend_agg.py:214: RuntimeWarning: Glyph 47329 missing from current font.\n",
      "  font.set_text(s, 0.0, flags=flags)\n",
      "/usr/local/lib/python3.7/dist-packages/matplotlib/backends/backend_agg.py:214: RuntimeWarning: Glyph 49548 missing from current font.\n",
      "  font.set_text(s, 0.0, flags=flags)\n",
      "/usr/local/lib/python3.7/dist-packages/matplotlib/backends/backend_agg.py:214: RuntimeWarning: Glyph 49884 missing from current font.\n",
      "  font.set_text(s, 0.0, flags=flags)\n",
      "/usr/local/lib/python3.7/dist-packages/matplotlib/backends/backend_agg.py:214: RuntimeWarning: Glyph 48512 missing from current font.\n",
      "  font.set_text(s, 0.0, flags=flags)\n",
      "/usr/local/lib/python3.7/dist-packages/matplotlib/backends/backend_agg.py:214: RuntimeWarning: Glyph 49328 missing from current font.\n",
      "  font.set_text(s, 0.0, flags=flags)\n",
      "/usr/local/lib/python3.7/dist-packages/matplotlib/backends/backend_agg.py:214: RuntimeWarning: Glyph 44608 missing from current font.\n",
      "  font.set_text(s, 0.0, flags=flags)\n",
      "/usr/local/lib/python3.7/dist-packages/matplotlib/backends/backend_agg.py:214: RuntimeWarning: Glyph 54644 missing from current font.\n",
      "  font.set_text(s, 0.0, flags=flags)\n",
      "/usr/local/lib/python3.7/dist-packages/matplotlib/backends/backend_agg.py:214: RuntimeWarning: Glyph 49440 missing from current font.\n",
      "  font.set_text(s, 0.0, flags=flags)\n",
      "/usr/local/lib/python3.7/dist-packages/matplotlib/backends/backend_agg.py:214: RuntimeWarning: Glyph 48152 missing from current font.\n",
      "  font.set_text(s, 0.0, flags=flags)\n",
      "/usr/local/lib/python3.7/dist-packages/matplotlib/backends/backend_agg.py:214: RuntimeWarning: Glyph 52964 missing from current font.\n",
      "  font.set_text(s, 0.0, flags=flags)\n",
      "/usr/local/lib/python3.7/dist-packages/matplotlib/backends/backend_agg.py:214: RuntimeWarning: Glyph 54588 missing from current font.\n",
      "  font.set_text(s, 0.0, flags=flags)\n",
      "/usr/local/lib/python3.7/dist-packages/matplotlib/backends/backend_agg.py:214: RuntimeWarning: Glyph 51060 missing from current font.\n",
      "  font.set_text(s, 0.0, flags=flags)\n",
      "/usr/local/lib/python3.7/dist-packages/matplotlib/backends/backend_agg.py:214: RuntimeWarning: Glyph 46356 missing from current font.\n",
      "  font.set_text(s, 0.0, flags=flags)\n",
      "/usr/local/lib/python3.7/dist-packages/matplotlib/backends/backend_agg.py:214: RuntimeWarning: Glyph 50556 missing from current font.\n",
      "  font.set_text(s, 0.0, flags=flags)\n",
      "/usr/local/lib/python3.7/dist-packages/matplotlib/backends/backend_agg.py:214: RuntimeWarning: Glyph 48288 missing from current font.\n",
      "  font.set_text(s, 0.0, flags=flags)\n",
      "/usr/local/lib/python3.7/dist-packages/matplotlib/backends/backend_agg.py:214: RuntimeWarning: Glyph 46300 missing from current font.\n",
      "  font.set_text(s, 0.0, flags=flags)\n",
      "/usr/local/lib/python3.7/dist-packages/matplotlib/backends/backend_agg.py:214: RuntimeWarning: Glyph 54028 missing from current font.\n",
      "  font.set_text(s, 0.0, flags=flags)\n",
      "/usr/local/lib/python3.7/dist-packages/matplotlib/backends/backend_agg.py:214: RuntimeWarning: Glyph 53356 missing from current font.\n",
      "  font.set_text(s, 0.0, flags=flags)\n",
      "/usr/local/lib/python3.7/dist-packages/matplotlib/backends/backend_agg.py:214: RuntimeWarning: Glyph 47560 missing from current font.\n",
      "  font.set_text(s, 0.0, flags=flags)\n",
      "/usr/local/lib/python3.7/dist-packages/matplotlib/backends/backend_agg.py:214: RuntimeWarning: Glyph 49714 missing from current font.\n",
      "  font.set_text(s, 0.0, flags=flags)\n",
      "/usr/local/lib/python3.7/dist-packages/matplotlib/backends/backend_agg.py:214: RuntimeWarning: Glyph 47568 missing from current font.\n",
      "  font.set_text(s, 0.0, flags=flags)\n",
      "/usr/local/lib/python3.7/dist-packages/matplotlib/backends/backend_agg.py:214: RuntimeWarning: Glyph 48520 missing from current font.\n",
      "  font.set_text(s, 0.0, flags=flags)\n",
      "/usr/local/lib/python3.7/dist-packages/matplotlib/backends/backend_agg.py:214: RuntimeWarning: Glyph 51648 missing from current font.\n",
      "  font.set_text(s, 0.0, flags=flags)\n",
      "/usr/local/lib/python3.7/dist-packages/matplotlib/backends/backend_agg.py:214: RuntimeWarning: Glyph 44049 missing from current font.\n",
      "  font.set_text(s, 0.0, flags=flags)\n",
      "/usr/local/lib/python3.7/dist-packages/matplotlib/backends/backend_agg.py:214: RuntimeWarning: Glyph 51221 missing from current font.\n",
      "  font.set_text(s, 0.0, flags=flags)\n",
      "/usr/local/lib/python3.7/dist-packages/matplotlib/backends/backend_agg.py:214: RuntimeWarning: Glyph 51109 missing from current font.\n",
      "  font.set_text(s, 0.0, flags=flags)\n",
      "/usr/local/lib/python3.7/dist-packages/matplotlib/backends/backend_agg.py:214: RuntimeWarning: Glyph 44032 missing from current font.\n",
      "  font.set_text(s, 0.0, flags=flags)\n",
      "/usr/local/lib/python3.7/dist-packages/matplotlib/backends/backend_agg.py:214: RuntimeWarning: Glyph 48169 missing from current font.\n",
      "  font.set_text(s, 0.0, flags=flags)\n",
      "/usr/local/lib/python3.7/dist-packages/matplotlib/backends/backend_agg.py:214: RuntimeWarning: Glyph 47112 missing from current font.\n",
      "  font.set_text(s, 0.0, flags=flags)\n",
      "/usr/local/lib/python3.7/dist-packages/matplotlib/backends/backend_agg.py:214: RuntimeWarning: Glyph 48149 missing from current font.\n",
      "  font.set_text(s, 0.0, flags=flags)\n",
      "/usr/local/lib/python3.7/dist-packages/matplotlib/backends/backend_agg.py:214: RuntimeWarning: Glyph 49828 missing from current font.\n",
      "  font.set_text(s, 0.0, flags=flags)\n",
      "/usr/local/lib/python3.7/dist-packages/matplotlib/backends/backend_agg.py:214: RuntimeWarning: Glyph 44264 missing from current font.\n",
      "  font.set_text(s, 0.0, flags=flags)\n",
      "/usr/local/lib/python3.7/dist-packages/matplotlib/backends/backend_agg.py:214: RuntimeWarning: Glyph 54532 missing from current font.\n",
      "  font.set_text(s, 0.0, flags=flags)\n",
      "/usr/local/lib/python3.7/dist-packages/matplotlib/backends/backend_agg.py:214: RuntimeWarning: Glyph 54861 missing from current font.\n",
      "  font.set_text(s, 0.0, flags=flags)\n",
      "/usr/local/lib/python3.7/dist-packages/matplotlib/backends/backend_agg.py:214: RuntimeWarning: Glyph 49340 missing from current font.\n",
      "  font.set_text(s, 0.0, flags=flags)\n",
      "/usr/local/lib/python3.7/dist-packages/matplotlib/backends/backend_agg.py:214: RuntimeWarning: Glyph 54805 missing from current font.\n",
      "  font.set_text(s, 0.0, flags=flags)\n",
      "/usr/local/lib/python3.7/dist-packages/matplotlib/backends/backend_agg.py:214: RuntimeWarning: Glyph 45908 missing from current font.\n",
      "  font.set_text(s, 0.0, flags=flags)\n",
      "/usr/local/lib/python3.7/dist-packages/matplotlib/backends/backend_agg.py:214: RuntimeWarning: Glyph 54168 missing from current font.\n",
      "  font.set_text(s, 0.0, flags=flags)\n",
      "/usr/local/lib/python3.7/dist-packages/matplotlib/backends/backend_agg.py:214: RuntimeWarning: Glyph 49397 missing from current font.\n",
      "  font.set_text(s, 0.0, flags=flags)\n",
      "/usr/local/lib/python3.7/dist-packages/matplotlib/backends/backend_agg.py:214: RuntimeWarning: Glyph 45796 missing from current font.\n",
      "  font.set_text(s, 0.0, flags=flags)\n",
      "/usr/local/lib/python3.7/dist-packages/matplotlib/backends/backend_agg.py:214: RuntimeWarning: Glyph 47532 missing from current font.\n",
      "  font.set_text(s, 0.0, flags=flags)\n",
      "/usr/local/lib/python3.7/dist-packages/matplotlib/backends/backend_agg.py:183: RuntimeWarning: Glyph 45432 missing from current font.\n",
      "  font.set_text(s, 0, flags=flags)\n",
      "/usr/local/lib/python3.7/dist-packages/matplotlib/backends/backend_agg.py:183: RuntimeWarning: Glyph 53944 missing from current font.\n",
      "  font.set_text(s, 0, flags=flags)\n",
      "/usr/local/lib/python3.7/dist-packages/matplotlib/backends/backend_agg.py:183: RuntimeWarning: Glyph 50500 missing from current font.\n",
      "  font.set_text(s, 0, flags=flags)\n",
      "/usr/local/lib/python3.7/dist-packages/matplotlib/backends/backend_agg.py:183: RuntimeWarning: Glyph 50976 missing from current font.\n",
      "  font.set_text(s, 0, flags=flags)\n",
      "/usr/local/lib/python3.7/dist-packages/matplotlib/backends/backend_agg.py:183: RuntimeWarning: Glyph 53216 missing from current font.\n",
      "  font.set_text(s, 0, flags=flags)\n",
      "/usr/local/lib/python3.7/dist-packages/matplotlib/backends/backend_agg.py:183: RuntimeWarning: Glyph 50864 missing from current font.\n",
      "  font.set_text(s, 0, flags=flags)\n",
      "/usr/local/lib/python3.7/dist-packages/matplotlib/backends/backend_agg.py:183: RuntimeWarning: Glyph 53584 missing from current font.\n",
      "  font.set_text(s, 0, flags=flags)\n",
      "/usr/local/lib/python3.7/dist-packages/matplotlib/backends/backend_agg.py:183: RuntimeWarning: Glyph 45768 missing from current font.\n",
      "  font.set_text(s, 0, flags=flags)\n",
      "/usr/local/lib/python3.7/dist-packages/matplotlib/backends/backend_agg.py:183: RuntimeWarning: Glyph 51032 missing from current font.\n",
      "  font.set_text(s, 0, flags=flags)\n",
      "/usr/local/lib/python3.7/dist-packages/matplotlib/backends/backend_agg.py:183: RuntimeWarning: Glyph 51088 missing from current font.\n",
      "  font.set_text(s, 0, flags=flags)\n",
      "/usr/local/lib/python3.7/dist-packages/matplotlib/backends/backend_agg.py:183: RuntimeWarning: Glyph 50836 missing from current font.\n",
      "  font.set_text(s, 0, flags=flags)\n",
      "/usr/local/lib/python3.7/dist-packages/matplotlib/backends/backend_agg.py:183: RuntimeWarning: Glyph 48120 missing from current font.\n",
      "  font.set_text(s, 0, flags=flags)\n",
      "/usr/local/lib/python3.7/dist-packages/matplotlib/backends/backend_agg.py:183: RuntimeWarning: Glyph 48708 missing from current font.\n",
      "  font.set_text(s, 0, flags=flags)\n",
      "/usr/local/lib/python3.7/dist-packages/matplotlib/backends/backend_agg.py:183: RuntimeWarning: Glyph 52824 missing from current font.\n",
      "  font.set_text(s, 0, flags=flags)\n",
      "/usr/local/lib/python3.7/dist-packages/matplotlib/backends/backend_agg.py:183: RuntimeWarning: Glyph 50504 missing from current font.\n",
      "  font.set_text(s, 0, flags=flags)\n",
      "/usr/local/lib/python3.7/dist-packages/matplotlib/backends/backend_agg.py:183: RuntimeWarning: Glyph 51592 missing from current font.\n",
      "  font.set_text(s, 0, flags=flags)\n",
      "/usr/local/lib/python3.7/dist-packages/matplotlib/backends/backend_agg.py:183: RuntimeWarning: Glyph 47588 missing from current font.\n",
      "  font.set_text(s, 0, flags=flags)\n",
      "/usr/local/lib/python3.7/dist-packages/matplotlib/backends/backend_agg.py:183: RuntimeWarning: Glyph 45128 missing from current font.\n",
      "  font.set_text(s, 0, flags=flags)\n",
      "/usr/local/lib/python3.7/dist-packages/matplotlib/backends/backend_agg.py:183: RuntimeWarning: Glyph 48372 missing from current font.\n",
      "  font.set_text(s, 0, flags=flags)\n",
      "/usr/local/lib/python3.7/dist-packages/matplotlib/backends/backend_agg.py:183: RuntimeWarning: Glyph 54744 missing from current font.\n",
      "  font.set_text(s, 0, flags=flags)\n",
      "/usr/local/lib/python3.7/dist-packages/matplotlib/backends/backend_agg.py:183: RuntimeWarning: Glyph 53664 missing from current font.\n",
      "  font.set_text(s, 0, flags=flags)\n",
      "/usr/local/lib/python3.7/dist-packages/matplotlib/backends/backend_agg.py:183: RuntimeWarning: Glyph 54140 missing from current font.\n",
      "  font.set_text(s, 0, flags=flags)\n",
      "/usr/local/lib/python3.7/dist-packages/matplotlib/backends/backend_agg.py:183: RuntimeWarning: Glyph 53440 missing from current font.\n",
      "  font.set_text(s, 0, flags=flags)\n",
      "/usr/local/lib/python3.7/dist-packages/matplotlib/backends/backend_agg.py:183: RuntimeWarning: Glyph 53804 missing from current font.\n",
      "  font.set_text(s, 0, flags=flags)\n",
      "/usr/local/lib/python3.7/dist-packages/matplotlib/backends/backend_agg.py:183: RuntimeWarning: Glyph 52768 missing from current font.\n",
      "  font.set_text(s, 0, flags=flags)\n",
      "/usr/local/lib/python3.7/dist-packages/matplotlib/backends/backend_agg.py:183: RuntimeWarning: Glyph 49888 missing from current font.\n",
      "  font.set_text(s, 0, flags=flags)\n",
      "/usr/local/lib/python3.7/dist-packages/matplotlib/backends/backend_agg.py:183: RuntimeWarning: Glyph 46972 missing from current font.\n",
      "  font.set_text(s, 0, flags=flags)\n",
      "/usr/local/lib/python3.7/dist-packages/matplotlib/backends/backend_agg.py:183: RuntimeWarning: Glyph 51092 missing from current font.\n",
      "  font.set_text(s, 0, flags=flags)\n",
      "/usr/local/lib/python3.7/dist-packages/matplotlib/backends/backend_agg.py:183: RuntimeWarning: Glyph 45208 missing from current font.\n",
      "  font.set_text(s, 0, flags=flags)\n",
      "/usr/local/lib/python3.7/dist-packages/matplotlib/backends/backend_agg.py:183: RuntimeWarning: Glyph 49353 missing from current font.\n",
      "  font.set_text(s, 0, flags=flags)\n",
      "/usr/local/lib/python3.7/dist-packages/matplotlib/backends/backend_agg.py:183: RuntimeWarning: Glyph 50672 missing from current font.\n",
      "  font.set_text(s, 0, flags=flags)\n",
      "/usr/local/lib/python3.7/dist-packages/matplotlib/backends/backend_agg.py:183: RuntimeWarning: Glyph 54596 missing from current font.\n",
      "  font.set_text(s, 0, flags=flags)\n",
      "/usr/local/lib/python3.7/dist-packages/matplotlib/backends/backend_agg.py:183: RuntimeWarning: Glyph 49380 missing from current font.\n",
      "  font.set_text(s, 0, flags=flags)\n",
      "/usr/local/lib/python3.7/dist-packages/matplotlib/backends/backend_agg.py:183: RuntimeWarning: Glyph 50144 missing from current font.\n",
      "  font.set_text(s, 0, flags=flags)\n",
      "/usr/local/lib/python3.7/dist-packages/matplotlib/backends/backend_agg.py:183: RuntimeWarning: Glyph 45000 missing from current font.\n",
      "  font.set_text(s, 0, flags=flags)\n",
      "/usr/local/lib/python3.7/dist-packages/matplotlib/backends/backend_agg.py:183: RuntimeWarning: Glyph 48260 missing from current font.\n",
      "  font.set_text(s, 0, flags=flags)\n",
      "/usr/local/lib/python3.7/dist-packages/matplotlib/backends/backend_agg.py:183: RuntimeWarning: Glyph 44600 missing from current font.\n",
      "  font.set_text(s, 0, flags=flags)\n",
      "/usr/local/lib/python3.7/dist-packages/matplotlib/backends/backend_agg.py:183: RuntimeWarning: Glyph 48279 missing from current font.\n",
      "  font.set_text(s, 0, flags=flags)\n",
      "/usr/local/lib/python3.7/dist-packages/matplotlib/backends/backend_agg.py:183: RuntimeWarning: Glyph 46021 missing from current font.\n",
      "  font.set_text(s, 0, flags=flags)\n",
      "/usr/local/lib/python3.7/dist-packages/matplotlib/backends/backend_agg.py:183: RuntimeWarning: Glyph 47329 missing from current font.\n",
      "  font.set_text(s, 0, flags=flags)\n",
      "/usr/local/lib/python3.7/dist-packages/matplotlib/backends/backend_agg.py:183: RuntimeWarning: Glyph 49548 missing from current font.\n",
      "  font.set_text(s, 0, flags=flags)\n",
      "/usr/local/lib/python3.7/dist-packages/matplotlib/backends/backend_agg.py:183: RuntimeWarning: Glyph 49884 missing from current font.\n",
      "  font.set_text(s, 0, flags=flags)\n",
      "/usr/local/lib/python3.7/dist-packages/matplotlib/backends/backend_agg.py:183: RuntimeWarning: Glyph 48512 missing from current font.\n",
      "  font.set_text(s, 0, flags=flags)\n",
      "/usr/local/lib/python3.7/dist-packages/matplotlib/backends/backend_agg.py:183: RuntimeWarning: Glyph 49328 missing from current font.\n",
      "  font.set_text(s, 0, flags=flags)\n",
      "/usr/local/lib/python3.7/dist-packages/matplotlib/backends/backend_agg.py:183: RuntimeWarning: Glyph 44608 missing from current font.\n",
      "  font.set_text(s, 0, flags=flags)\n",
      "/usr/local/lib/python3.7/dist-packages/matplotlib/backends/backend_agg.py:183: RuntimeWarning: Glyph 54644 missing from current font.\n",
      "  font.set_text(s, 0, flags=flags)\n",
      "/usr/local/lib/python3.7/dist-packages/matplotlib/backends/backend_agg.py:183: RuntimeWarning: Glyph 49440 missing from current font.\n",
      "  font.set_text(s, 0, flags=flags)\n",
      "/usr/local/lib/python3.7/dist-packages/matplotlib/backends/backend_agg.py:183: RuntimeWarning: Glyph 48152 missing from current font.\n",
      "  font.set_text(s, 0, flags=flags)\n",
      "/usr/local/lib/python3.7/dist-packages/matplotlib/backends/backend_agg.py:183: RuntimeWarning: Glyph 52964 missing from current font.\n",
      "  font.set_text(s, 0, flags=flags)\n",
      "/usr/local/lib/python3.7/dist-packages/matplotlib/backends/backend_agg.py:183: RuntimeWarning: Glyph 54588 missing from current font.\n",
      "  font.set_text(s, 0, flags=flags)\n",
      "/usr/local/lib/python3.7/dist-packages/matplotlib/backends/backend_agg.py:183: RuntimeWarning: Glyph 51060 missing from current font.\n",
      "  font.set_text(s, 0, flags=flags)\n",
      "/usr/local/lib/python3.7/dist-packages/matplotlib/backends/backend_agg.py:183: RuntimeWarning: Glyph 46356 missing from current font.\n",
      "  font.set_text(s, 0, flags=flags)\n",
      "/usr/local/lib/python3.7/dist-packages/matplotlib/backends/backend_agg.py:183: RuntimeWarning: Glyph 50556 missing from current font.\n",
      "  font.set_text(s, 0, flags=flags)\n",
      "/usr/local/lib/python3.7/dist-packages/matplotlib/backends/backend_agg.py:183: RuntimeWarning: Glyph 48288 missing from current font.\n",
      "  font.set_text(s, 0, flags=flags)\n",
      "/usr/local/lib/python3.7/dist-packages/matplotlib/backends/backend_agg.py:183: RuntimeWarning: Glyph 46300 missing from current font.\n",
      "  font.set_text(s, 0, flags=flags)\n",
      "/usr/local/lib/python3.7/dist-packages/matplotlib/backends/backend_agg.py:183: RuntimeWarning: Glyph 54028 missing from current font.\n",
      "  font.set_text(s, 0, flags=flags)\n",
      "/usr/local/lib/python3.7/dist-packages/matplotlib/backends/backend_agg.py:183: RuntimeWarning: Glyph 53356 missing from current font.\n",
      "  font.set_text(s, 0, flags=flags)\n",
      "/usr/local/lib/python3.7/dist-packages/matplotlib/backends/backend_agg.py:183: RuntimeWarning: Glyph 47560 missing from current font.\n",
      "  font.set_text(s, 0, flags=flags)\n",
      "/usr/local/lib/python3.7/dist-packages/matplotlib/backends/backend_agg.py:183: RuntimeWarning: Glyph 49714 missing from current font.\n",
      "  font.set_text(s, 0, flags=flags)\n",
      "/usr/local/lib/python3.7/dist-packages/matplotlib/backends/backend_agg.py:183: RuntimeWarning: Glyph 47568 missing from current font.\n",
      "  font.set_text(s, 0, flags=flags)\n",
      "/usr/local/lib/python3.7/dist-packages/matplotlib/backends/backend_agg.py:183: RuntimeWarning: Glyph 48520 missing from current font.\n",
      "  font.set_text(s, 0, flags=flags)\n",
      "/usr/local/lib/python3.7/dist-packages/matplotlib/backends/backend_agg.py:183: RuntimeWarning: Glyph 51648 missing from current font.\n",
      "  font.set_text(s, 0, flags=flags)\n",
      "/usr/local/lib/python3.7/dist-packages/matplotlib/backends/backend_agg.py:183: RuntimeWarning: Glyph 44049 missing from current font.\n",
      "  font.set_text(s, 0, flags=flags)\n",
      "/usr/local/lib/python3.7/dist-packages/matplotlib/backends/backend_agg.py:183: RuntimeWarning: Glyph 51221 missing from current font.\n",
      "  font.set_text(s, 0, flags=flags)\n",
      "/usr/local/lib/python3.7/dist-packages/matplotlib/backends/backend_agg.py:183: RuntimeWarning: Glyph 51109 missing from current font.\n",
      "  font.set_text(s, 0, flags=flags)\n",
      "/usr/local/lib/python3.7/dist-packages/matplotlib/backends/backend_agg.py:183: RuntimeWarning: Glyph 44032 missing from current font.\n",
      "  font.set_text(s, 0, flags=flags)\n",
      "/usr/local/lib/python3.7/dist-packages/matplotlib/backends/backend_agg.py:183: RuntimeWarning: Glyph 48169 missing from current font.\n",
      "  font.set_text(s, 0, flags=flags)\n",
      "/usr/local/lib/python3.7/dist-packages/matplotlib/backends/backend_agg.py:183: RuntimeWarning: Glyph 47112 missing from current font.\n",
      "  font.set_text(s, 0, flags=flags)\n",
      "/usr/local/lib/python3.7/dist-packages/matplotlib/backends/backend_agg.py:183: RuntimeWarning: Glyph 48149 missing from current font.\n",
      "  font.set_text(s, 0, flags=flags)\n",
      "/usr/local/lib/python3.7/dist-packages/matplotlib/backends/backend_agg.py:183: RuntimeWarning: Glyph 49828 missing from current font.\n",
      "  font.set_text(s, 0, flags=flags)\n",
      "/usr/local/lib/python3.7/dist-packages/matplotlib/backends/backend_agg.py:183: RuntimeWarning: Glyph 44264 missing from current font.\n",
      "  font.set_text(s, 0, flags=flags)\n",
      "/usr/local/lib/python3.7/dist-packages/matplotlib/backends/backend_agg.py:183: RuntimeWarning: Glyph 54532 missing from current font.\n",
      "  font.set_text(s, 0, flags=flags)\n",
      "/usr/local/lib/python3.7/dist-packages/matplotlib/backends/backend_agg.py:183: RuntimeWarning: Glyph 54861 missing from current font.\n",
      "  font.set_text(s, 0, flags=flags)\n",
      "/usr/local/lib/python3.7/dist-packages/matplotlib/backends/backend_agg.py:183: RuntimeWarning: Glyph 49340 missing from current font.\n",
      "  font.set_text(s, 0, flags=flags)\n",
      "/usr/local/lib/python3.7/dist-packages/matplotlib/backends/backend_agg.py:183: RuntimeWarning: Glyph 54805 missing from current font.\n",
      "  font.set_text(s, 0, flags=flags)\n",
      "/usr/local/lib/python3.7/dist-packages/matplotlib/backends/backend_agg.py:183: RuntimeWarning: Glyph 45908 missing from current font.\n",
      "  font.set_text(s, 0, flags=flags)\n",
      "/usr/local/lib/python3.7/dist-packages/matplotlib/backends/backend_agg.py:183: RuntimeWarning: Glyph 54168 missing from current font.\n",
      "  font.set_text(s, 0, flags=flags)\n",
      "/usr/local/lib/python3.7/dist-packages/matplotlib/backends/backend_agg.py:183: RuntimeWarning: Glyph 49397 missing from current font.\n",
      "  font.set_text(s, 0, flags=flags)\n",
      "/usr/local/lib/python3.7/dist-packages/matplotlib/backends/backend_agg.py:183: RuntimeWarning: Glyph 45796 missing from current font.\n",
      "  font.set_text(s, 0, flags=flags)\n",
      "/usr/local/lib/python3.7/dist-packages/matplotlib/backends/backend_agg.py:183: RuntimeWarning: Glyph 47532 missing from current font.\n",
      "  font.set_text(s, 0, flags=flags)\n"
     ]
    },
    {
     "data": {
      "image/png": "[encoded data removed]",
      "text/plain": [
       "<Figure size 432x288 with 1 Axes>"
      ]
     },
     "metadata": {
      "needs_background": "light"
     },
     "output_type": "display_data"
    }
   ],
   "source": [
    "import matplotlib.pyplot as plt\n",
    "fontprop = fm.FontProperties(fname=path, size=5)\n",
    "\n",
    "plt.plot(max_index_50, max_val_df.sort_values(by=['max_val'],ascending=False)[:50])\n",
    "plt.xlabel('top 50 index')\n",
    "plt.ylabel('max val')\n",
    "\n",
    "plt.show()"
   ]
  },
  {
   "cell_type": "markdown",
   "metadata": {
    "id": "u2vkTXwxpKvj"
   },
   "source": [
    "# 1. remove csv 파일 만들기"
   ]
  },
  {
   "cell_type": "code",
   "execution_count": null,
   "metadata": {
    "id": "j-vJam63KmR5"
   },
   "outputs": [],
   "source": [
    "df = pd.read_csv('/content/drive/Shareddrives/datamining_2022/delivery_href.csv')"
   ]
  },
  {
   "cell_type": "code",
   "execution_count": null,
   "metadata": {
    "colab": {
     "base_uri": "https://localhost:8080/",
     "height": 791
    },
    "executionInfo": {
     "elapsed": 299,
     "status": "ok",
     "timestamp": 1653990498458,
     "user": {
      "displayName": "‍황수연[ 학부재학 / 컴퓨터융합소프트웨어학과 ]",
      "userId": "03365621454974662117"
     },
     "user_tz": -540
    },
    "id": "Gol_tXEcKtm-",
    "outputId": "0dc16521-0047-4a2b-e744-4646dc19ee11"
   },
   "outputs": [
    {
     "data": {
      "text/html": [
       "\n",
       "  <div id=\"df-3d92fc1a-c78d-40b9-a66c-dc66b3ec0b23\">\n",
       "    <div class=\"colab-df-container\">\n",
       "      <div>\n",
       "<style scoped>\n",
       "    .dataframe tbody tr th:only-of-type {\n",
       "        vertical-align: middle;\n",
       "    }\n",
       "\n",
       "    .dataframe tbody tr th {\n",
       "        vertical-align: top;\n",
       "    }\n",
       "\n",
       "    .dataframe thead th {\n",
       "        text-align: right;\n",
       "    }\n",
       "</style>\n",
       "<table border=\"1\" class=\"dataframe\">\n",
       "  <thead>\n",
       "    <tr style=\"text-align: right;\">\n",
       "      <th></th>\n",
       "      <th>main_category_name</th>\n",
       "      <th>sub_category_name</th>\n",
       "      <th>ranking</th>\n",
       "      <th>title</th>\n",
       "      <th>ori_price</th>\n",
       "      <th>dis_price</th>\n",
       "      <th>discount_percent</th>\n",
       "      <th>free_delivery</th>\n",
       "      <th>delivery_href</th>\n",
       "    </tr>\n",
       "  </thead>\n",
       "  <tbody>\n",
       "    <tr>\n",
       "      <th>0</th>\n",
       "      <td>ALL</td>\n",
       "      <td>ALL</td>\n",
       "      <td>1.0</td>\n",
       "      <td>[이마트24](빅스마일데이) 이마트24 디지털 1만원권</td>\n",
       "      <td>10000.0</td>\n",
       "      <td>7600.0</td>\n",
       "      <td>24.0</td>\n",
       "      <td>해당사항없음</td>\n",
       "      <td>http://item.gmarket.co.kr/Item?goodscode=24313...</td>\n",
       "    </tr>\n",
       "    <tr>\n",
       "      <th>1</th>\n",
       "      <td>여행</td>\n",
       "      <td>ALL</td>\n",
       "      <td>1.0</td>\n",
       "      <td>경주월드 5월 자유이용권 종일/오후 주말야간개장 (5/1~5/31)</td>\n",
       "      <td>20900.0</td>\n",
       "      <td>20900.0</td>\n",
       "      <td>0.0</td>\n",
       "      <td>해당사항없음</td>\n",
       "      <td>http://item.gmarket.co.kr/Item?goodscode=24231...</td>\n",
       "    </tr>\n",
       "    <tr>\n",
       "      <th>2</th>\n",
       "      <td>e쿠폰/티켓</td>\n",
       "      <td>ALL</td>\n",
       "      <td>1.0</td>\n",
       "      <td>[컬쳐랜드문화상품권](스마일클럽) 컬쳐랜드 온라인 문화상품권 5만원</td>\n",
       "      <td>50000.0</td>\n",
       "      <td>46500.0</td>\n",
       "      <td>7.0</td>\n",
       "      <td>해당사항없음</td>\n",
       "      <td>http://item.gmarket.co.kr/Item?goodscode=24299...</td>\n",
       "    </tr>\n",
       "    <tr>\n",
       "      <th>3</th>\n",
       "      <td>도서/음반</td>\n",
       "      <td>ALL</td>\n",
       "      <td>1.0</td>\n",
       "      <td>아람키즈- 말하는 첫 발견 시리즈 (50권 전권 필름책 + 활동북20권 + QR활용...</td>\n",
       "      <td>600000.0</td>\n",
       "      <td>478700.0</td>\n",
       "      <td>20.0</td>\n",
       "      <td>무료배송</td>\n",
       "      <td>http://item.gmarket.co.kr/Item?goodscode=24377...</td>\n",
       "    </tr>\n",
       "    <tr>\n",
       "      <th>4</th>\n",
       "      <td>스포츠/자동차</td>\n",
       "      <td>ALL</td>\n",
       "      <td>1.0</td>\n",
       "      <td>[MLB]MLB 캠핑샌들 EVA샌들 슬리퍼 남성 여성 아동 여름</td>\n",
       "      <td>66300.0</td>\n",
       "      <td>19900.0</td>\n",
       "      <td>69.0</td>\n",
       "      <td>무료배송</td>\n",
       "      <td>http://item.gmarket.co.kr/Item?goodscode=18030...</td>\n",
       "    </tr>\n",
       "  </tbody>\n",
       "</table>\n",
       "</div>\n",
       "      <button class=\"colab-df-convert\" onclick=\"convertToInteractive('df-3d92fc1a-c78d-40b9-a66c-dc66b3ec0b23')\"\n",
       "              title=\"Convert this dataframe to an interactive table.\"\n",
       "              style=\"display:none;\">\n",
       "        \n",
       "  <svg xmlns=\"http://www.w3.org/2000/svg\" height=\"24px\"viewBox=\"0 0 24 24\"\n",
       "       width=\"24px\">\n",
       "    <path d=\"M0 0h24v24H0V0z\" fill=\"none\"/>\n",
       "    <path d=\"M18.56 5.44l.94 2.06.94-2.06 2.06-.94-2.06-.94-.94-2.06-.94 2.06-2.06.94zm-11 1L8.5 8.5l.94-2.06 2.06-.94-2.06-.94L8.5 2.5l-.94 2.06-2.06.94zm10 10l.94 2.06.94-2.06 2.06-.94-2.06-.94-.94-2.06-.94 2.06-2.06.94z\"/><path d=\"M17.41 7.96l-1.37-1.37c-.4-.4-.92-.59-1.43-.59-.52 0-1.04.2-1.43.59L10.3 9.45l-7.72 7.72c-.78.78-.78 2.05 0 2.83L4 21.41c.39.39.9.59 1.41.59.51 0 1.02-.2 1.41-.59l7.78-7.78 2.81-2.81c.8-.78.8-2.07 0-2.86zM5.41 20L4 18.59l7.72-7.72 1.47 1.35L5.41 20z\"/>\n",
       "  </svg>\n",
       "      </button>\n",
       "      \n",
       "  <style>\n",
       "    .colab-df-container {\n",
       "      display:flex;\n",
       "      flex-wrap:wrap;\n",
       "      gap: 12px;\n",
       "    }\n",
       "\n",
       "    .colab-df-convert {\n",
       "      background-color: #E8F0FE;\n",
       "      border: none;\n",
       "      border-radius: 50%;\n",
       "      cursor: pointer;\n",
       "      display: none;\n",
       "      fill: #1967D2;\n",
       "      height: 32px;\n",
       "      padding: 0 0 0 0;\n",
       "      width: 32px;\n",
       "    }\n",
       "\n",
       "    .colab-df-convert:hover {\n",
       "      background-color: #E2EBFA;\n",
       "      box-shadow: 0px 1px 2px rgba(60, 64, 67, 0.3), 0px 1px 3px 1px rgba(60, 64, 67, 0.15);\n",
       "      fill: #174EA6;\n",
       "    }\n",
       "\n",
       "    [theme=dark] .colab-df-convert {\n",
       "      background-color: #3B4455;\n",
       "      fill: #D2E3FC;\n",
       "    }\n",
       "\n",
       "    [theme=dark] .colab-df-convert:hover {\n",
       "      background-color: #434B5C;\n",
       "      box-shadow: 0px 1px 3px 1px rgba(0, 0, 0, 0.15);\n",
       "      filter: drop-shadow(0px 1px 2px rgba(0, 0, 0, 0.3));\n",
       "      fill: #FFFFFF;\n",
       "    }\n",
       "  </style>\n",
       "\n",
       "      <script>\n",
       "        const buttonEl =\n",
       "          document.querySelector('#df-3d92fc1a-c78d-40b9-a66c-dc66b3ec0b23 button.colab-df-convert');\n",
       "        buttonEl.style.display =\n",
       "          google.colab.kernel.accessAllowed ? 'block' : 'none';\n",
       "\n",
       "        async function convertToInteractive(key) {\n",
       "          const element = document.querySelector('#df-3d92fc1a-c78d-40b9-a66c-dc66b3ec0b23');\n",
       "          const dataTable =\n",
       "            await google.colab.kernel.invokeFunction('convertToInteractive',\n",
       "                                                     [key], {});\n",
       "          if (!dataTable) return;\n",
       "\n",
       "          const docLinkHtml = 'Like what you see? Visit the ' +\n",
       "            '<a target=\"_blank\" href=https://colab.research.google.com/notebooks/data_table.ipynb>data table notebook</a>'\n",
       "            + ' to learn more about interactive tables.';\n",
       "          element.innerHTML = '';\n",
       "          dataTable['output_type'] = 'display_data';\n",
       "          await google.colab.output.renderOutput(dataTable, element);\n",
       "          const docLink = document.createElement('div');\n",
       "          docLink.innerHTML = docLinkHtml;\n",
       "          element.appendChild(docLink);\n",
       "        }\n",
       "      </script>\n",
       "    </div>\n",
       "  </div>\n",
       "  "
      ],
      "text/plain": [
       "  main_category_name sub_category_name  ranking  \\\n",
       "0                ALL               ALL      1.0   \n",
       "1                 여행               ALL      1.0   \n",
       "2             e쿠폰/티켓               ALL      1.0   \n",
       "3              도서/음반               ALL      1.0   \n",
       "4            스포츠/자동차               ALL      1.0   \n",
       "\n",
       "                                               title  ori_price  dis_price  \\\n",
       "0                     [이마트24](빅스마일데이) 이마트24 디지털 1만원권    10000.0     7600.0   \n",
       "1              경주월드 5월 자유이용권 종일/오후 주말야간개장 (5/1~5/31)    20900.0    20900.0   \n",
       "2              [컬쳐랜드문화상품권](스마일클럽) 컬쳐랜드 온라인 문화상품권 5만원    50000.0    46500.0   \n",
       "3  아람키즈- 말하는 첫 발견 시리즈 (50권 전권 필름책 + 활동북20권 + QR활용...   600000.0   478700.0   \n",
       "4                [MLB]MLB 캠핑샌들 EVA샌들 슬리퍼 남성 여성 아동 여름    66300.0    19900.0   \n",
       "\n",
       "   discount_percent free_delivery  \\\n",
       "0              24.0        해당사항없음   \n",
       "1               0.0        해당사항없음   \n",
       "2               7.0        해당사항없음   \n",
       "3              20.0          무료배송   \n",
       "4              69.0          무료배송   \n",
       "\n",
       "                                       delivery_href  \n",
       "0  http://item.gmarket.co.kr/Item?goodscode=24313...  \n",
       "1  http://item.gmarket.co.kr/Item?goodscode=24231...  \n",
       "2  http://item.gmarket.co.kr/Item?goodscode=24299...  \n",
       "3  http://item.gmarket.co.kr/Item?goodscode=24377...  \n",
       "4  http://item.gmarket.co.kr/Item?goodscode=18030...  "
      ]
     },
     "execution_count": 5,
     "metadata": {},
     "output_type": "execute_result"
    }
   ],
   "source": [
    "df.head()"
   ]
  },
  {
   "cell_type": "code",
   "execution_count": null,
   "metadata": {
    "colab": {
     "base_uri": "https://localhost:8080/",
     "height": 488
    },
    "executionInfo": {
     "elapsed": 376,
     "status": "ok",
     "timestamp": 1653990502089,
     "user": {
      "displayName": "‍황수연[ 학부재학 / 컴퓨터융합소프트웨어학과 ]",
      "userId": "03365621454974662117"
     },
     "user_tz": -540
    },
    "id": "YfKeGqAQLCCL",
    "outputId": "963ab86d-fd80-4949-d3b7-e1daf7cd9842"
   },
   "outputs": [
    {
     "data": {
      "text/html": [
       "\n",
       "  <div id=\"df-f6097bfb-b0e5-46b8-bd38-b54ad516a340\">\n",
       "    <div class=\"colab-df-container\">\n",
       "      <div>\n",
       "<style scoped>\n",
       "    .dataframe tbody tr th:only-of-type {\n",
       "        vertical-align: middle;\n",
       "    }\n",
       "\n",
       "    .dataframe tbody tr th {\n",
       "        vertical-align: top;\n",
       "    }\n",
       "\n",
       "    .dataframe thead th {\n",
       "        text-align: right;\n",
       "    }\n",
       "</style>\n",
       "<table border=\"1\" class=\"dataframe\">\n",
       "  <thead>\n",
       "    <tr style=\"text-align: right;\">\n",
       "      <th></th>\n",
       "      <th>main_category_name</th>\n",
       "    </tr>\n",
       "  </thead>\n",
       "  <tbody>\n",
       "    <tr>\n",
       "      <th>컴퓨터/전자</th>\n",
       "      <td>4800</td>\n",
       "    </tr>\n",
       "    <tr>\n",
       "      <th>식품</th>\n",
       "      <td>4200</td>\n",
       "    </tr>\n",
       "    <tr>\n",
       "      <th>생활/주방/건강</th>\n",
       "      <td>4200</td>\n",
       "    </tr>\n",
       "    <tr>\n",
       "      <th>유아동/출산</th>\n",
       "      <td>3600</td>\n",
       "    </tr>\n",
       "    <tr>\n",
       "      <th>도서/음반</th>\n",
       "      <td>3057</td>\n",
       "    </tr>\n",
       "    <tr>\n",
       "      <th>신발/잡화</th>\n",
       "      <td>3000</td>\n",
       "    </tr>\n",
       "    <tr>\n",
       "      <th>스포츠/자동차</th>\n",
       "      <td>2700</td>\n",
       "    </tr>\n",
       "    <tr>\n",
       "      <th>화장품/헤어</th>\n",
       "      <td>2700</td>\n",
       "    </tr>\n",
       "    <tr>\n",
       "      <th>패션의류</th>\n",
       "      <td>2100</td>\n",
       "    </tr>\n",
       "    <tr>\n",
       "      <th>가구/침구</th>\n",
       "      <td>1548</td>\n",
       "    </tr>\n",
       "    <tr>\n",
       "      <th>e쿠폰/티켓</th>\n",
       "      <td>1524</td>\n",
       "    </tr>\n",
       "    <tr>\n",
       "      <th>여행</th>\n",
       "      <td>1203</td>\n",
       "    </tr>\n",
       "    <tr>\n",
       "      <th>ALL</th>\n",
       "      <td>600</td>\n",
       "    </tr>\n",
       "    <tr>\n",
       "      <th>main_category_name</th>\n",
       "      <td>2</td>\n",
       "    </tr>\n",
       "  </tbody>\n",
       "</table>\n",
       "</div>\n",
       "      <button class=\"colab-df-convert\" onclick=\"convertToInteractive('df-f6097bfb-b0e5-46b8-bd38-b54ad516a340')\"\n",
       "              title=\"Convert this dataframe to an interactive table.\"\n",
       "              style=\"display:none;\">\n",
       "        \n",
       "  <svg xmlns=\"http://www.w3.org/2000/svg\" height=\"24px\"viewBox=\"0 0 24 24\"\n",
       "       width=\"24px\">\n",
       "    <path d=\"M0 0h24v24H0V0z\" fill=\"none\"/>\n",
       "    <path d=\"M18.56 5.44l.94 2.06.94-2.06 2.06-.94-2.06-.94-.94-2.06-.94 2.06-2.06.94zm-11 1L8.5 8.5l.94-2.06 2.06-.94-2.06-.94L8.5 2.5l-.94 2.06-2.06.94zm10 10l.94 2.06.94-2.06 2.06-.94-2.06-.94-.94-2.06-.94 2.06-2.06.94z\"/><path d=\"M17.41 7.96l-1.37-1.37c-.4-.4-.92-.59-1.43-.59-.52 0-1.04.2-1.43.59L10.3 9.45l-7.72 7.72c-.78.78-.78 2.05 0 2.83L4 21.41c.39.39.9.59 1.41.59.51 0 1.02-.2 1.41-.59l7.78-7.78 2.81-2.81c.8-.78.8-2.07 0-2.86zM5.41 20L4 18.59l7.72-7.72 1.47 1.35L5.41 20z\"/>\n",
       "  </svg>\n",
       "      </button>\n",
       "      \n",
       "  <style>\n",
       "    .colab-df-container {\n",
       "      display:flex;\n",
       "      flex-wrap:wrap;\n",
       "      gap: 12px;\n",
       "    }\n",
       "\n",
       "    .colab-df-convert {\n",
       "      background-color: #E8F0FE;\n",
       "      border: none;\n",
       "      border-radius: 50%;\n",
       "      cursor: pointer;\n",
       "      display: none;\n",
       "      fill: #1967D2;\n",
       "      height: 32px;\n",
       "      padding: 0 0 0 0;\n",
       "      width: 32px;\n",
       "    }\n",
       "\n",
       "    .colab-df-convert:hover {\n",
       "      background-color: #E2EBFA;\n",
       "      box-shadow: 0px 1px 2px rgba(60, 64, 67, 0.3), 0px 1px 3px 1px rgba(60, 64, 67, 0.15);\n",
       "      fill: #174EA6;\n",
       "    }\n",
       "\n",
       "    [theme=dark] .colab-df-convert {\n",
       "      background-color: #3B4455;\n",
       "      fill: #D2E3FC;\n",
       "    }\n",
       "\n",
       "    [theme=dark] .colab-df-convert:hover {\n",
       "      background-color: #434B5C;\n",
       "      box-shadow: 0px 1px 3px 1px rgba(0, 0, 0, 0.15);\n",
       "      filter: drop-shadow(0px 1px 2px rgba(0, 0, 0, 0.3));\n",
       "      fill: #FFFFFF;\n",
       "    }\n",
       "  </style>\n",
       "\n",
       "      <script>\n",
       "        const buttonEl =\n",
       "          document.querySelector('#df-f6097bfb-b0e5-46b8-bd38-b54ad516a340 button.colab-df-convert');\n",
       "        buttonEl.style.display =\n",
       "          google.colab.kernel.accessAllowed ? 'block' : 'none';\n",
       "\n",
       "        async function convertToInteractive(key) {\n",
       "          const element = document.querySelector('#df-f6097bfb-b0e5-46b8-bd38-b54ad516a340');\n",
       "          const dataTable =\n",
       "            await google.colab.kernel.invokeFunction('convertToInteractive',\n",
       "                                                     [key], {});\n",
       "          if (!dataTable) return;\n",
       "\n",
       "          const docLinkHtml = 'Like what you see? Visit the ' +\n",
       "            '<a target=\"_blank\" href=https://colab.research.google.com/notebooks/data_table.ipynb>data table notebook</a>'\n",
       "            + ' to learn more about interactive tables.';\n",
       "          element.innerHTML = '';\n",
       "          dataTable['output_type'] = 'display_data';\n",
       "          await google.colab.output.renderOutput(dataTable, element);\n",
       "          const docLink = document.createElement('div');\n",
       "          docLink.innerHTML = docLinkHtml;\n",
       "          element.appendChild(docLink);\n",
       "        }\n",
       "      </script>\n",
       "    </div>\n",
       "  </div>\n",
       "  "
      ],
      "text/plain": [
       "                    main_category_name\n",
       "컴퓨터/전자                            4800\n",
       "식품                                4200\n",
       "생활/주방/건강                          4200\n",
       "유아동/출산                            3600\n",
       "도서/음반                             3057\n",
       "신발/잡화                             3000\n",
       "스포츠/자동차                           2700\n",
       "화장품/헤어                            2700\n",
       "패션의류                              2100\n",
       "가구/침구                             1548\n",
       "e쿠폰/티켓                            1524\n",
       "여행                                1203\n",
       "ALL                                600\n",
       "main_category_name                   2"
      ]
     },
     "execution_count": 6,
     "metadata": {},
     "output_type": "execute_result"
    }
   ],
   "source": [
    "df.main_category_name.value_counts().to_frame()"
   ]
  },
  {
   "cell_type": "markdown",
   "metadata": {
    "id": "_R57e6BMLbcx"
   },
   "source": [
    "# 2. Preprocess the data"
   ]
  },
  {
   "cell_type": "code",
   "execution_count": null,
   "metadata": {
    "colab": {
     "base_uri": "https://localhost:8080/"
    },
    "executionInfo": {
     "elapsed": 7,
     "status": "ok",
     "timestamp": 1653990505425,
     "user": {
      "displayName": "‍황수연[ 학부재학 / 컴퓨터융합소프트웨어학과 ]",
      "userId": "03365621454974662117"
     },
     "user_tz": -540
    },
    "id": "jC3jqf-KSqON",
    "outputId": "748ecbcd-20d0-4360-da33-77fcfa336f21"
   },
   "outputs": [
    {
     "data": {
      "text/plain": [
       "main_category_name    3\n",
       "sub_category_name     3\n",
       "ranking               5\n",
       "title                 3\n",
       "ori_price             5\n",
       "dis_price             5\n",
       "discount_percent      5\n",
       "free_delivery         3\n",
       "delivery_href         3\n",
       "dtype: int64"
      ]
     },
     "execution_count": 7,
     "metadata": {},
     "output_type": "execute_result"
    }
   ],
   "source": [
    "df.isnull().sum()"
   ]
  },
  {
   "cell_type": "code",
   "execution_count": null,
   "metadata": {
    "id": "petdwZtpR05P"
   },
   "outputs": [],
   "source": [
    "df = df.dropna(axis=0)"
   ]
  },
  {
   "cell_type": "markdown",
   "metadata": {
    "id": "K2EW1VNQVaAt"
   },
   "source": [
    "NaN 값이 있는 행 제거"
   ]
  },
  {
   "cell_type": "code",
   "execution_count": null,
   "metadata": {
    "colab": {
     "base_uri": "https://localhost:8080/"
    },
    "executionInfo": {
     "elapsed": 329,
     "status": "ok",
     "timestamp": 1653990510076,
     "user": {
      "displayName": "‍황수연[ 학부재학 / 컴퓨터융합소프트웨어학과 ]",
      "userId": "03365621454974662117"
     },
     "user_tz": -540
    },
    "id": "Tm1W4CQ-TDTq",
    "outputId": "722cd282-63b2-48f2-e49c-b8c98682a16b"
   },
   "outputs": [
    {
     "data": {
      "text/plain": [
       "main_category_name    0\n",
       "sub_category_name     0\n",
       "ranking               0\n",
       "title                 0\n",
       "ori_price             0\n",
       "dis_price             0\n",
       "discount_percent      0\n",
       "free_delivery         0\n",
       "delivery_href         0\n",
       "dtype: int64"
      ]
     },
     "execution_count": 9,
     "metadata": {},
     "output_type": "execute_result"
    }
   ],
   "source": [
    "df.isnull().sum()"
   ]
  },
  {
   "cell_type": "code",
   "execution_count": null,
   "metadata": {
    "id": "VaXWew95hFwb"
   },
   "outputs": [],
   "source": [
    "mask =  df['main_category_name'].isin(['ALL'])"
   ]
  },
  {
   "cell_type": "code",
   "execution_count": null,
   "metadata": {
    "id": "ybXss3ahiPvh"
   },
   "outputs": [],
   "source": [
    "mask2 = df['sub_category_name'].isin(['ALL'])"
   ]
  },
  {
   "cell_type": "code",
   "execution_count": null,
   "metadata": {
    "id": "PrF4SX8CiVhL"
   },
   "outputs": [],
   "source": [
    "df1 = df[~mask]"
   ]
  },
  {
   "cell_type": "code",
   "execution_count": null,
   "metadata": {
    "colab": {
     "base_uri": "https://localhost:8080/",
     "height": 1000
    },
    "executionInfo": {
     "elapsed": 300,
     "status": "ok",
     "timestamp": 1653990860600,
     "user": {
      "displayName": "‍황수연[ 학부재학 / 컴퓨터융합소프트웨어학과 ]",
      "userId": "03365621454974662117"
     },
     "user_tz": -540
    },
    "id": "tB265jwbiZM3",
    "outputId": "94f645ed-2ec0-4e46-fbc0-1af535ec8dfd"
   },
   "outputs": [
    {
     "data": {
      "text/html": [
       "\n",
       "  <div id=\"df-49690692-7b3f-4f5b-b1ae-2312a39fce8e\">\n",
       "    <div class=\"colab-df-container\">\n",
       "      <div>\n",
       "<style scoped>\n",
       "    .dataframe tbody tr th:only-of-type {\n",
       "        vertical-align: middle;\n",
       "    }\n",
       "\n",
       "    .dataframe tbody tr th {\n",
       "        vertical-align: top;\n",
       "    }\n",
       "\n",
       "    .dataframe thead th {\n",
       "        text-align: right;\n",
       "    }\n",
       "</style>\n",
       "<table border=\"1\" class=\"dataframe\">\n",
       "  <thead>\n",
       "    <tr style=\"text-align: right;\">\n",
       "      <th></th>\n",
       "      <th>main_category_name</th>\n",
       "      <th>sub_category_name</th>\n",
       "      <th>ranking</th>\n",
       "      <th>title</th>\n",
       "      <th>ori_price</th>\n",
       "      <th>dis_price</th>\n",
       "      <th>discount_percent</th>\n",
       "      <th>free_delivery</th>\n",
       "      <th>delivery_href</th>\n",
       "    </tr>\n",
       "  </thead>\n",
       "  <tbody>\n",
       "    <tr>\n",
       "      <th>1</th>\n",
       "      <td>여행</td>\n",
       "      <td>ALL</td>\n",
       "      <td>1.0</td>\n",
       "      <td>경주월드 5월 자유이용권 종일/오후 주말야간개장 (5/1~5/31)</td>\n",
       "      <td>20900.0</td>\n",
       "      <td>20900.0</td>\n",
       "      <td>0.0</td>\n",
       "      <td>해당사항없음</td>\n",
       "      <td>http://item.gmarket.co.kr/Item?goodscode=24231...</td>\n",
       "    </tr>\n",
       "    <tr>\n",
       "      <th>2</th>\n",
       "      <td>e쿠폰/티켓</td>\n",
       "      <td>ALL</td>\n",
       "      <td>1.0</td>\n",
       "      <td>[컬쳐랜드문화상품권](스마일클럽) 컬쳐랜드 온라인 문화상품권 5만원</td>\n",
       "      <td>50000.0</td>\n",
       "      <td>46500.0</td>\n",
       "      <td>7.0</td>\n",
       "      <td>해당사항없음</td>\n",
       "      <td>http://item.gmarket.co.kr/Item?goodscode=24299...</td>\n",
       "    </tr>\n",
       "    <tr>\n",
       "      <th>3</th>\n",
       "      <td>도서/음반</td>\n",
       "      <td>ALL</td>\n",
       "      <td>1.0</td>\n",
       "      <td>아람키즈- 말하는 첫 발견 시리즈 (50권 전권 필름책 + 활동북20권 + QR활용...</td>\n",
       "      <td>600000.0</td>\n",
       "      <td>478700.0</td>\n",
       "      <td>20.0</td>\n",
       "      <td>무료배송</td>\n",
       "      <td>http://item.gmarket.co.kr/Item?goodscode=24377...</td>\n",
       "    </tr>\n",
       "    <tr>\n",
       "      <th>4</th>\n",
       "      <td>스포츠/자동차</td>\n",
       "      <td>ALL</td>\n",
       "      <td>1.0</td>\n",
       "      <td>[MLB]MLB 캠핑샌들 EVA샌들 슬리퍼 남성 여성 아동 여름</td>\n",
       "      <td>66300.0</td>\n",
       "      <td>19900.0</td>\n",
       "      <td>69.0</td>\n",
       "      <td>무료배송</td>\n",
       "      <td>http://item.gmarket.co.kr/Item?goodscode=18030...</td>\n",
       "    </tr>\n",
       "    <tr>\n",
       "      <th>5</th>\n",
       "      <td>컴퓨터/전자</td>\n",
       "      <td>ALL</td>\n",
       "      <td>1.0</td>\n",
       "      <td>[로보락]로보락 S7 MaxV Ultra 로봇청소기 울트라 자동세척</td>\n",
       "      <td>1694110.0</td>\n",
       "      <td>1590000.0</td>\n",
       "      <td>6.0</td>\n",
       "      <td>무료배송</td>\n",
       "      <td>http://item.gmarket.co.kr/Item?goodscode=24139...</td>\n",
       "    </tr>\n",
       "    <tr>\n",
       "      <th>...</th>\n",
       "      <td>...</td>\n",
       "      <td>...</td>\n",
       "      <td>...</td>\n",
       "      <td>...</td>\n",
       "      <td>...</td>\n",
       "      <td>...</td>\n",
       "      <td>...</td>\n",
       "      <td>...</td>\n",
       "      <td>...</td>\n",
       "    </tr>\n",
       "    <tr>\n",
       "      <th>35232</th>\n",
       "      <td>도서/음반</td>\n",
       "      <td>경제/경영/개발</td>\n",
       "      <td>97.0</td>\n",
       "      <td>뜨겁게 투자하고 차갑게 승부하라 : 수익률 2200배의 비밀  BHAG 레버리지 집...</td>\n",
       "      <td>15120.0</td>\n",
       "      <td>15120.0</td>\n",
       "      <td>0.0</td>\n",
       "      <td>무료배송</td>\n",
       "      <td>http://item.gmarket.co.kr/Item?goodscode=23941...</td>\n",
       "    </tr>\n",
       "    <tr>\n",
       "      <th>35233</th>\n",
       "      <td>도서/음반</td>\n",
       "      <td>경제/경영/개발</td>\n",
       "      <td>98.0</td>\n",
       "      <td>10배의 법칙 - 성공과 실패를 가르는 유일한 차이</td>\n",
       "      <td>15120.0</td>\n",
       "      <td>15120.0</td>\n",
       "      <td>0.0</td>\n",
       "      <td>스마일배송</td>\n",
       "      <td>http://item.gmarket.co.kr/Item?goodscode=24055...</td>\n",
       "    </tr>\n",
       "    <tr>\n",
       "      <th>35234</th>\n",
       "      <td>도서/음반</td>\n",
       "      <td>경제/경영/개발</td>\n",
       "      <td>99.0</td>\n",
       "      <td>나는 대출 없이 0원으로 소형 아파트를 산다 300만 원으로 100억 자산을 이룬 ...</td>\n",
       "      <td>18000.0</td>\n",
       "      <td>18000.0</td>\n",
       "      <td>0.0</td>\n",
       "      <td>무료배송</td>\n",
       "      <td>http://item.gmarket.co.kr/Item?goodscode=24169...</td>\n",
       "    </tr>\n",
       "    <tr>\n",
       "      <th>35235</th>\n",
       "      <td>도서/음반</td>\n",
       "      <td>경제/경영/개발</td>\n",
       "      <td>100.0</td>\n",
       "      <td>엘리어트 파동 이론(ELLIOTT WAVE PRINCIPLE)</td>\n",
       "      <td>15210.0</td>\n",
       "      <td>15210.0</td>\n",
       "      <td>0.0</td>\n",
       "      <td>스마일배송</td>\n",
       "      <td>http://item.gmarket.co.kr/Item?goodscode=19205...</td>\n",
       "    </tr>\n",
       "    <tr>\n",
       "      <th>35236</th>\n",
       "      <td>도서/음반</td>\n",
       "      <td>인문/사회/과학/IT</td>\n",
       "      <td>100.0</td>\n",
       "      <td>삶이 던지는 질문은 언제나 같다 : 시대의 지성 찰스 핸디가 전하는 삶의 철학  찰...</td>\n",
       "      <td>15120.0</td>\n",
       "      <td>15120.0</td>\n",
       "      <td>0.0</td>\n",
       "      <td>무료배송</td>\n",
       "      <td>http://item.gmarket.co.kr/Item?goodscode=23318...</td>\n",
       "    </tr>\n",
       "  </tbody>\n",
       "</table>\n",
       "<p>34632 rows × 9 columns</p>\n",
       "</div>\n",
       "      <button class=\"colab-df-convert\" onclick=\"convertToInteractive('df-49690692-7b3f-4f5b-b1ae-2312a39fce8e')\"\n",
       "              title=\"Convert this dataframe to an interactive table.\"\n",
       "              style=\"display:none;\">\n",
       "        \n",
       "  <svg xmlns=\"http://www.w3.org/2000/svg\" height=\"24px\"viewBox=\"0 0 24 24\"\n",
       "       width=\"24px\">\n",
       "    <path d=\"M0 0h24v24H0V0z\" fill=\"none\"/>\n",
       "    <path d=\"M18.56 5.44l.94 2.06.94-2.06 2.06-.94-2.06-.94-.94-2.06-.94 2.06-2.06.94zm-11 1L8.5 8.5l.94-2.06 2.06-.94-2.06-.94L8.5 2.5l-.94 2.06-2.06.94zm10 10l.94 2.06.94-2.06 2.06-.94-2.06-.94-.94-2.06-.94 2.06-2.06.94z\"/><path d=\"M17.41 7.96l-1.37-1.37c-.4-.4-.92-.59-1.43-.59-.52 0-1.04.2-1.43.59L10.3 9.45l-7.72 7.72c-.78.78-.78 2.05 0 2.83L4 21.41c.39.39.9.59 1.41.59.51 0 1.02-.2 1.41-.59l7.78-7.78 2.81-2.81c.8-.78.8-2.07 0-2.86zM5.41 20L4 18.59l7.72-7.72 1.47 1.35L5.41 20z\"/>\n",
       "  </svg>\n",
       "      </button>\n",
       "      \n",
       "  <style>\n",
       "    .colab-df-container {\n",
       "      display:flex;\n",
       "      flex-wrap:wrap;\n",
       "      gap: 12px;\n",
       "    }\n",
       "\n",
       "    .colab-df-convert {\n",
       "      background-color: #E8F0FE;\n",
       "      border: none;\n",
       "      border-radius: 50%;\n",
       "      cursor: pointer;\n",
       "      display: none;\n",
       "      fill: #1967D2;\n",
       "      height: 32px;\n",
       "      padding: 0 0 0 0;\n",
       "      width: 32px;\n",
       "    }\n",
       "\n",
       "    .colab-df-convert:hover {\n",
       "      background-color: #E2EBFA;\n",
       "      box-shadow: 0px 1px 2px rgba(60, 64, 67, 0.3), 0px 1px 3px 1px rgba(60, 64, 67, 0.15);\n",
       "      fill: #174EA6;\n",
       "    }\n",
       "\n",
       "    [theme=dark] .colab-df-convert {\n",
       "      background-color: #3B4455;\n",
       "      fill: #D2E3FC;\n",
       "    }\n",
       "\n",
       "    [theme=dark] .colab-df-convert:hover {\n",
       "      background-color: #434B5C;\n",
       "      box-shadow: 0px 1px 3px 1px rgba(0, 0, 0, 0.15);\n",
       "      filter: drop-shadow(0px 1px 2px rgba(0, 0, 0, 0.3));\n",
       "      fill: #FFFFFF;\n",
       "    }\n",
       "  </style>\n",
       "\n",
       "      <script>\n",
       "        const buttonEl =\n",
       "          document.querySelector('#df-49690692-7b3f-4f5b-b1ae-2312a39fce8e button.colab-df-convert');\n",
       "        buttonEl.style.display =\n",
       "          google.colab.kernel.accessAllowed ? 'block' : 'none';\n",
       "\n",
       "        async function convertToInteractive(key) {\n",
       "          const element = document.querySelector('#df-49690692-7b3f-4f5b-b1ae-2312a39fce8e');\n",
       "          const dataTable =\n",
       "            await google.colab.kernel.invokeFunction('convertToInteractive',\n",
       "                                                     [key], {});\n",
       "          if (!dataTable) return;\n",
       "\n",
       "          const docLinkHtml = 'Like what you see? Visit the ' +\n",
       "            '<a target=\"_blank\" href=https://colab.research.google.com/notebooks/data_table.ipynb>data table notebook</a>'\n",
       "            + ' to learn more about interactive tables.';\n",
       "          element.innerHTML = '';\n",
       "          dataTable['output_type'] = 'display_data';\n",
       "          await google.colab.output.renderOutput(dataTable, element);\n",
       "          const docLink = document.createElement('div');\n",
       "          docLink.innerHTML = docLinkHtml;\n",
       "          element.appendChild(docLink);\n",
       "        }\n",
       "      </script>\n",
       "    </div>\n",
       "  </div>\n",
       "  "
      ],
      "text/plain": [
       "      main_category_name sub_category_name  ranking  \\\n",
       "1                     여행               ALL      1.0   \n",
       "2                 e쿠폰/티켓               ALL      1.0   \n",
       "3                  도서/음반               ALL      1.0   \n",
       "4                스포츠/자동차               ALL      1.0   \n",
       "5                 컴퓨터/전자               ALL      1.0   \n",
       "...                  ...               ...      ...   \n",
       "35232              도서/음반          경제/경영/개발     97.0   \n",
       "35233              도서/음반          경제/경영/개발     98.0   \n",
       "35234              도서/음반          경제/경영/개발     99.0   \n",
       "35235              도서/음반          경제/경영/개발    100.0   \n",
       "35236              도서/음반       인문/사회/과학/IT    100.0   \n",
       "\n",
       "                                                   title  ori_price  \\\n",
       "1                  경주월드 5월 자유이용권 종일/오후 주말야간개장 (5/1~5/31)    20900.0   \n",
       "2                  [컬쳐랜드문화상품권](스마일클럽) 컬쳐랜드 온라인 문화상품권 5만원    50000.0   \n",
       "3      아람키즈- 말하는 첫 발견 시리즈 (50권 전권 필름책 + 활동북20권 + QR활용...   600000.0   \n",
       "4                    [MLB]MLB 캠핑샌들 EVA샌들 슬리퍼 남성 여성 아동 여름    66300.0   \n",
       "5                  [로보락]로보락 S7 MaxV Ultra 로봇청소기 울트라 자동세척  1694110.0   \n",
       "...                                                  ...        ...   \n",
       "35232  뜨겁게 투자하고 차갑게 승부하라 : 수익률 2200배의 비밀  BHAG 레버리지 집...    15120.0   \n",
       "35233                       10배의 법칙 - 성공과 실패를 가르는 유일한 차이    15120.0   \n",
       "35234  나는 대출 없이 0원으로 소형 아파트를 산다 300만 원으로 100억 자산을 이룬 ...    18000.0   \n",
       "35235                 엘리어트 파동 이론(ELLIOTT WAVE PRINCIPLE)    15210.0   \n",
       "35236  삶이 던지는 질문은 언제나 같다 : 시대의 지성 찰스 핸디가 전하는 삶의 철학  찰...    15120.0   \n",
       "\n",
       "       dis_price  discount_percent free_delivery  \\\n",
       "1        20900.0               0.0        해당사항없음   \n",
       "2        46500.0               7.0        해당사항없음   \n",
       "3       478700.0              20.0          무료배송   \n",
       "4        19900.0              69.0          무료배송   \n",
       "5      1590000.0               6.0          무료배송   \n",
       "...          ...               ...           ...   \n",
       "35232    15120.0               0.0          무료배송   \n",
       "35233    15120.0               0.0         스마일배송   \n",
       "35234    18000.0               0.0          무료배송   \n",
       "35235    15210.0               0.0         스마일배송   \n",
       "35236    15120.0               0.0          무료배송   \n",
       "\n",
       "                                           delivery_href  \n",
       "1      http://item.gmarket.co.kr/Item?goodscode=24231...  \n",
       "2      http://item.gmarket.co.kr/Item?goodscode=24299...  \n",
       "3      http://item.gmarket.co.kr/Item?goodscode=24377...  \n",
       "4      http://item.gmarket.co.kr/Item?goodscode=18030...  \n",
       "5      http://item.gmarket.co.kr/Item?goodscode=24139...  \n",
       "...                                                  ...  \n",
       "35232  http://item.gmarket.co.kr/Item?goodscode=23941...  \n",
       "35233  http://item.gmarket.co.kr/Item?goodscode=24055...  \n",
       "35234  http://item.gmarket.co.kr/Item?goodscode=24169...  \n",
       "35235  http://item.gmarket.co.kr/Item?goodscode=19205...  \n",
       "35236  http://item.gmarket.co.kr/Item?goodscode=23318...  \n",
       "\n",
       "[34632 rows x 9 columns]"
      ]
     },
     "execution_count": 15,
     "metadata": {},
     "output_type": "execute_result"
    }
   ],
   "source": [
    "df1"
   ]
  },
  {
   "cell_type": "code",
   "execution_count": null,
   "metadata": {
    "colab": {
     "base_uri": "https://localhost:8080/"
    },
    "executionInfo": {
     "elapsed": 289,
     "status": "ok",
     "timestamp": 1653990909487,
     "user": {
      "displayName": "‍황수연[ 학부재학 / 컴퓨터융합소프트웨어학과 ]",
      "userId": "03365621454974662117"
     },
     "user_tz": -540
    },
    "id": "DEc9ZE8PiK96",
    "outputId": "4c30ee78-77f7-4b83-8338-efd8e22706fd"
   },
   "outputs": [
    {
     "name": "stderr",
     "output_type": "stream",
     "text": [
      "/usr/local/lib/python3.7/dist-packages/ipykernel_launcher.py:1: UserWarning: Boolean Series key will be reindexed to match DataFrame index.\n",
      "  \"\"\"Entry point for launching an IPython kernel.\n"
     ]
    }
   ],
   "source": [
    "df1 = df1[~mask2]"
   ]
  },
  {
   "cell_type": "code",
   "execution_count": null,
   "metadata": {
    "colab": {
     "base_uri": "https://localhost:8080/",
     "height": 1000
    },
    "executionInfo": {
     "elapsed": 331,
     "status": "ok",
     "timestamp": 1653990914704,
     "user": {
      "displayName": "‍황수연[ 학부재학 / 컴퓨터융합소프트웨어학과 ]",
      "userId": "03365621454974662117"
     },
     "user_tz": -540
    },
    "id": "4wInTq32im91",
    "outputId": "67d1043c-6859-4baa-be0c-d85fb76a036f"
   },
   "outputs": [
    {
     "data": {
      "text/html": [
       "\n",
       "  <div id=\"df-c238c784-c2a2-484f-bac1-b8ef8b98d4f4\">\n",
       "    <div class=\"colab-df-container\">\n",
       "      <div>\n",
       "<style scoped>\n",
       "    .dataframe tbody tr th:only-of-type {\n",
       "        vertical-align: middle;\n",
       "    }\n",
       "\n",
       "    .dataframe tbody tr th {\n",
       "        vertical-align: top;\n",
       "    }\n",
       "\n",
       "    .dataframe thead th {\n",
       "        text-align: right;\n",
       "    }\n",
       "</style>\n",
       "<table border=\"1\" class=\"dataframe\">\n",
       "  <thead>\n",
       "    <tr style=\"text-align: right;\">\n",
       "      <th></th>\n",
       "      <th>main_category_name</th>\n",
       "      <th>sub_category_name</th>\n",
       "      <th>ranking</th>\n",
       "      <th>title</th>\n",
       "      <th>ori_price</th>\n",
       "      <th>dis_price</th>\n",
       "      <th>discount_percent</th>\n",
       "      <th>free_delivery</th>\n",
       "      <th>delivery_href</th>\n",
       "    </tr>\n",
       "  </thead>\n",
       "  <tbody>\n",
       "    <tr>\n",
       "      <th>191</th>\n",
       "      <td>e쿠폰/티켓</td>\n",
       "      <td>외식</td>\n",
       "      <td>1.0</td>\n",
       "      <td>(파리바게뜨) 실키롤케익</td>\n",
       "      <td>11000.0</td>\n",
       "      <td>8800.0</td>\n",
       "      <td>20.0</td>\n",
       "      <td>해당사항없음</td>\n",
       "      <td>http://item.gmarket.co.kr/Item?goodscode=24358...</td>\n",
       "    </tr>\n",
       "    <tr>\n",
       "      <th>421</th>\n",
       "      <td>e쿠폰/티켓</td>\n",
       "      <td>외식</td>\n",
       "      <td>2.0</td>\n",
       "      <td>[설빙](설빙) 설빙 디지털 금액권 2만원권</td>\n",
       "      <td>20000.0</td>\n",
       "      <td>16200.0</td>\n",
       "      <td>19.0</td>\n",
       "      <td>해당사항없음</td>\n",
       "      <td>http://item.gmarket.co.kr/Item?goodscode=24279...</td>\n",
       "    </tr>\n",
       "    <tr>\n",
       "      <th>422</th>\n",
       "      <td>e쿠폰/티켓</td>\n",
       "      <td>외식</td>\n",
       "      <td>3.0</td>\n",
       "      <td>[아웃백스테이크하우스]아웃백 디지털 5만원권</td>\n",
       "      <td>50000.0</td>\n",
       "      <td>46450.0</td>\n",
       "      <td>7.0</td>\n",
       "      <td>해당사항없음</td>\n",
       "      <td>http://item.gmarket.co.kr/Item?goodscode=15365...</td>\n",
       "    </tr>\n",
       "    <tr>\n",
       "      <th>423</th>\n",
       "      <td>e쿠폰/티켓</td>\n",
       "      <td>외식</td>\n",
       "      <td>4.0</td>\n",
       "      <td>(파리바게뜨) 블레싱 초코베리 케이크</td>\n",
       "      <td>33000.0</td>\n",
       "      <td>26400.0</td>\n",
       "      <td>20.0</td>\n",
       "      <td>해당사항없음</td>\n",
       "      <td>http://item.gmarket.co.kr/Item?goodscode=24358...</td>\n",
       "    </tr>\n",
       "    <tr>\n",
       "      <th>424</th>\n",
       "      <td>e쿠폰/티켓</td>\n",
       "      <td>외식</td>\n",
       "      <td>5.0</td>\n",
       "      <td>[스타벅스](스타벅스)(APP전용) e카드 3만원 교환권</td>\n",
       "      <td>30000.0</td>\n",
       "      <td>30000.0</td>\n",
       "      <td>0.0</td>\n",
       "      <td>해당사항없음</td>\n",
       "      <td>http://item.gmarket.co.kr/Item?goodscode=22463...</td>\n",
       "    </tr>\n",
       "    <tr>\n",
       "      <th>...</th>\n",
       "      <td>...</td>\n",
       "      <td>...</td>\n",
       "      <td>...</td>\n",
       "      <td>...</td>\n",
       "      <td>...</td>\n",
       "      <td>...</td>\n",
       "      <td>...</td>\n",
       "      <td>...</td>\n",
       "      <td>...</td>\n",
       "    </tr>\n",
       "    <tr>\n",
       "      <th>35232</th>\n",
       "      <td>도서/음반</td>\n",
       "      <td>경제/경영/개발</td>\n",
       "      <td>97.0</td>\n",
       "      <td>뜨겁게 투자하고 차갑게 승부하라 : 수익률 2200배의 비밀  BHAG 레버리지 집...</td>\n",
       "      <td>15120.0</td>\n",
       "      <td>15120.0</td>\n",
       "      <td>0.0</td>\n",
       "      <td>무료배송</td>\n",
       "      <td>http://item.gmarket.co.kr/Item?goodscode=23941...</td>\n",
       "    </tr>\n",
       "    <tr>\n",
       "      <th>35233</th>\n",
       "      <td>도서/음반</td>\n",
       "      <td>경제/경영/개발</td>\n",
       "      <td>98.0</td>\n",
       "      <td>10배의 법칙 - 성공과 실패를 가르는 유일한 차이</td>\n",
       "      <td>15120.0</td>\n",
       "      <td>15120.0</td>\n",
       "      <td>0.0</td>\n",
       "      <td>스마일배송</td>\n",
       "      <td>http://item.gmarket.co.kr/Item?goodscode=24055...</td>\n",
       "    </tr>\n",
       "    <tr>\n",
       "      <th>35234</th>\n",
       "      <td>도서/음반</td>\n",
       "      <td>경제/경영/개발</td>\n",
       "      <td>99.0</td>\n",
       "      <td>나는 대출 없이 0원으로 소형 아파트를 산다 300만 원으로 100억 자산을 이룬 ...</td>\n",
       "      <td>18000.0</td>\n",
       "      <td>18000.0</td>\n",
       "      <td>0.0</td>\n",
       "      <td>무료배송</td>\n",
       "      <td>http://item.gmarket.co.kr/Item?goodscode=24169...</td>\n",
       "    </tr>\n",
       "    <tr>\n",
       "      <th>35235</th>\n",
       "      <td>도서/음반</td>\n",
       "      <td>경제/경영/개발</td>\n",
       "      <td>100.0</td>\n",
       "      <td>엘리어트 파동 이론(ELLIOTT WAVE PRINCIPLE)</td>\n",
       "      <td>15210.0</td>\n",
       "      <td>15210.0</td>\n",
       "      <td>0.0</td>\n",
       "      <td>스마일배송</td>\n",
       "      <td>http://item.gmarket.co.kr/Item?goodscode=19205...</td>\n",
       "    </tr>\n",
       "    <tr>\n",
       "      <th>35236</th>\n",
       "      <td>도서/음반</td>\n",
       "      <td>인문/사회/과학/IT</td>\n",
       "      <td>100.0</td>\n",
       "      <td>삶이 던지는 질문은 언제나 같다 : 시대의 지성 찰스 핸디가 전하는 삶의 철학  찰...</td>\n",
       "      <td>15120.0</td>\n",
       "      <td>15120.0</td>\n",
       "      <td>0.0</td>\n",
       "      <td>무료배송</td>\n",
       "      <td>http://item.gmarket.co.kr/Item?goodscode=23318...</td>\n",
       "    </tr>\n",
       "  </tbody>\n",
       "</table>\n",
       "<p>31032 rows × 9 columns</p>\n",
       "</div>\n",
       "      <button class=\"colab-df-convert\" onclick=\"convertToInteractive('df-c238c784-c2a2-484f-bac1-b8ef8b98d4f4')\"\n",
       "              title=\"Convert this dataframe to an interactive table.\"\n",
       "              style=\"display:none;\">\n",
       "        \n",
       "  <svg xmlns=\"http://www.w3.org/2000/svg\" height=\"24px\"viewBox=\"0 0 24 24\"\n",
       "       width=\"24px\">\n",
       "    <path d=\"M0 0h24v24H0V0z\" fill=\"none\"/>\n",
       "    <path d=\"M18.56 5.44l.94 2.06.94-2.06 2.06-.94-2.06-.94-.94-2.06-.94 2.06-2.06.94zm-11 1L8.5 8.5l.94-2.06 2.06-.94-2.06-.94L8.5 2.5l-.94 2.06-2.06.94zm10 10l.94 2.06.94-2.06 2.06-.94-2.06-.94-.94-2.06-.94 2.06-2.06.94z\"/><path d=\"M17.41 7.96l-1.37-1.37c-.4-.4-.92-.59-1.43-.59-.52 0-1.04.2-1.43.59L10.3 9.45l-7.72 7.72c-.78.78-.78 2.05 0 2.83L4 21.41c.39.39.9.59 1.41.59.51 0 1.02-.2 1.41-.59l7.78-7.78 2.81-2.81c.8-.78.8-2.07 0-2.86zM5.41 20L4 18.59l7.72-7.72 1.47 1.35L5.41 20z\"/>\n",
       "  </svg>\n",
       "      </button>\n",
       "      \n",
       "  <style>\n",
       "    .colab-df-container {\n",
       "      display:flex;\n",
       "      flex-wrap:wrap;\n",
       "      gap: 12px;\n",
       "    }\n",
       "\n",
       "    .colab-df-convert {\n",
       "      background-color: #E8F0FE;\n",
       "      border: none;\n",
       "      border-radius: 50%;\n",
       "      cursor: pointer;\n",
       "      display: none;\n",
       "      fill: #1967D2;\n",
       "      height: 32px;\n",
       "      padding: 0 0 0 0;\n",
       "      width: 32px;\n",
       "    }\n",
       "\n",
       "    .colab-df-convert:hover {\n",
       "      background-color: #E2EBFA;\n",
       "      box-shadow: 0px 1px 2px rgba(60, 64, 67, 0.3), 0px 1px 3px 1px rgba(60, 64, 67, 0.15);\n",
       "      fill: #174EA6;\n",
       "    }\n",
       "\n",
       "    [theme=dark] .colab-df-convert {\n",
       "      background-color: #3B4455;\n",
       "      fill: #D2E3FC;\n",
       "    }\n",
       "\n",
       "    [theme=dark] .colab-df-convert:hover {\n",
       "      background-color: #434B5C;\n",
       "      box-shadow: 0px 1px 3px 1px rgba(0, 0, 0, 0.15);\n",
       "      filter: drop-shadow(0px 1px 2px rgba(0, 0, 0, 0.3));\n",
       "      fill: #FFFFFF;\n",
       "    }\n",
       "  </style>\n",
       "\n",
       "      <script>\n",
       "        const buttonEl =\n",
       "          document.querySelector('#df-c238c784-c2a2-484f-bac1-b8ef8b98d4f4 button.colab-df-convert');\n",
       "        buttonEl.style.display =\n",
       "          google.colab.kernel.accessAllowed ? 'block' : 'none';\n",
       "\n",
       "        async function convertToInteractive(key) {\n",
       "          const element = document.querySelector('#df-c238c784-c2a2-484f-bac1-b8ef8b98d4f4');\n",
       "          const dataTable =\n",
       "            await google.colab.kernel.invokeFunction('convertToInteractive',\n",
       "                                                     [key], {});\n",
       "          if (!dataTable) return;\n",
       "\n",
       "          const docLinkHtml = 'Like what you see? Visit the ' +\n",
       "            '<a target=\"_blank\" href=https://colab.research.google.com/notebooks/data_table.ipynb>data table notebook</a>'\n",
       "            + ' to learn more about interactive tables.';\n",
       "          element.innerHTML = '';\n",
       "          dataTable['output_type'] = 'display_data';\n",
       "          await google.colab.output.renderOutput(dataTable, element);\n",
       "          const docLink = document.createElement('div');\n",
       "          docLink.innerHTML = docLinkHtml;\n",
       "          element.appendChild(docLink);\n",
       "        }\n",
       "      </script>\n",
       "    </div>\n",
       "  </div>\n",
       "  "
      ],
      "text/plain": [
       "      main_category_name sub_category_name  ranking  \\\n",
       "191               e쿠폰/티켓                외식      1.0   \n",
       "421               e쿠폰/티켓                외식      2.0   \n",
       "422               e쿠폰/티켓                외식      3.0   \n",
       "423               e쿠폰/티켓                외식      4.0   \n",
       "424               e쿠폰/티켓                외식      5.0   \n",
       "...                  ...               ...      ...   \n",
       "35232              도서/음반          경제/경영/개발     97.0   \n",
       "35233              도서/음반          경제/경영/개발     98.0   \n",
       "35234              도서/음반          경제/경영/개발     99.0   \n",
       "35235              도서/음반          경제/경영/개발    100.0   \n",
       "35236              도서/음반       인문/사회/과학/IT    100.0   \n",
       "\n",
       "                                                   title  ori_price  \\\n",
       "191                                        (파리바게뜨) 실키롤케익    11000.0   \n",
       "421                             [설빙](설빙) 설빙 디지털 금액권 2만원권    20000.0   \n",
       "422                             [아웃백스테이크하우스]아웃백 디지털 5만원권    50000.0   \n",
       "423                                 (파리바게뜨) 블레싱 초코베리 케이크    33000.0   \n",
       "424                      [스타벅스](스타벅스)(APP전용) e카드 3만원 교환권    30000.0   \n",
       "...                                                  ...        ...   \n",
       "35232  뜨겁게 투자하고 차갑게 승부하라 : 수익률 2200배의 비밀  BHAG 레버리지 집...    15120.0   \n",
       "35233                       10배의 법칙 - 성공과 실패를 가르는 유일한 차이    15120.0   \n",
       "35234  나는 대출 없이 0원으로 소형 아파트를 산다 300만 원으로 100억 자산을 이룬 ...    18000.0   \n",
       "35235                 엘리어트 파동 이론(ELLIOTT WAVE PRINCIPLE)    15210.0   \n",
       "35236  삶이 던지는 질문은 언제나 같다 : 시대의 지성 찰스 핸디가 전하는 삶의 철학  찰...    15120.0   \n",
       "\n",
       "       dis_price  discount_percent free_delivery  \\\n",
       "191       8800.0              20.0        해당사항없음   \n",
       "421      16200.0              19.0        해당사항없음   \n",
       "422      46450.0               7.0        해당사항없음   \n",
       "423      26400.0              20.0        해당사항없음   \n",
       "424      30000.0               0.0        해당사항없음   \n",
       "...          ...               ...           ...   \n",
       "35232    15120.0               0.0          무료배송   \n",
       "35233    15120.0               0.0         스마일배송   \n",
       "35234    18000.0               0.0          무료배송   \n",
       "35235    15210.0               0.0         스마일배송   \n",
       "35236    15120.0               0.0          무료배송   \n",
       "\n",
       "                                           delivery_href  \n",
       "191    http://item.gmarket.co.kr/Item?goodscode=24358...  \n",
       "421    http://item.gmarket.co.kr/Item?goodscode=24279...  \n",
       "422    http://item.gmarket.co.kr/Item?goodscode=15365...  \n",
       "423    http://item.gmarket.co.kr/Item?goodscode=24358...  \n",
       "424    http://item.gmarket.co.kr/Item?goodscode=22463...  \n",
       "...                                                  ...  \n",
       "35232  http://item.gmarket.co.kr/Item?goodscode=23941...  \n",
       "35233  http://item.gmarket.co.kr/Item?goodscode=24055...  \n",
       "35234  http://item.gmarket.co.kr/Item?goodscode=24169...  \n",
       "35235  http://item.gmarket.co.kr/Item?goodscode=19205...  \n",
       "35236  http://item.gmarket.co.kr/Item?goodscode=23318...  \n",
       "\n",
       "[31032 rows x 9 columns]"
      ]
     },
     "execution_count": 17,
     "metadata": {},
     "output_type": "execute_result"
    }
   ],
   "source": [
    "df1"
   ]
  },
  {
   "cell_type": "code",
   "execution_count": null,
   "metadata": {
    "id": "ValblupKipMD"
   },
   "outputs": [],
   "source": [
    "dataframe = pd.DataFrame(df1)\n",
    "dataframe.to_csv(\"/content/drive/Shareddrives/datamining_2022/remove_all.csv\", header=False, index = False,encoding='utf-8-sig')"
   ]
  },
  {
   "cell_type": "code",
   "execution_count": null,
   "metadata": {
    "id": "cju6zwSls7ey"
   },
   "outputs": [],
   "source": [
    "dataframe = dataframe.drop_duplicates(['main_category_name','sub_category_name','title','ori_price','dis_price'])"
   ]
  },
  {
   "cell_type": "code",
   "execution_count": null,
   "metadata": {
    "colab": {
     "base_uri": "https://localhost:8080/",
     "height": 1000
    },
    "executionInfo": {
     "elapsed": 435,
     "status": "ok",
     "timestamp": 1653994121277,
     "user": {
      "displayName": "‍황수연[ 학부재학 / 컴퓨터융합소프트웨어학과 ]",
      "userId": "03365621454974662117"
     },
     "user_tz": -540
    },
    "id": "5LOrVhLou1hq",
    "outputId": "dffbcb6d-a137-447f-999b-e52b93b47e65"
   },
   "outputs": [
    {
     "data": {
      "text/html": [
       "\n",
       "  <div id=\"df-83cfcebb-248e-4bc3-98cc-9b6bbc9786c0\">\n",
       "    <div class=\"colab-df-container\">\n",
       "      <div>\n",
       "<style scoped>\n",
       "    .dataframe tbody tr th:only-of-type {\n",
       "        vertical-align: middle;\n",
       "    }\n",
       "\n",
       "    .dataframe tbody tr th {\n",
       "        vertical-align: top;\n",
       "    }\n",
       "\n",
       "    .dataframe thead th {\n",
       "        text-align: right;\n",
       "    }\n",
       "</style>\n",
       "<table border=\"1\" class=\"dataframe\">\n",
       "  <thead>\n",
       "    <tr style=\"text-align: right;\">\n",
       "      <th></th>\n",
       "      <th>main_category_name</th>\n",
       "      <th>sub_category_name</th>\n",
       "      <th>ranking</th>\n",
       "      <th>title</th>\n",
       "      <th>ori_price</th>\n",
       "      <th>dis_price</th>\n",
       "      <th>discount_percent</th>\n",
       "      <th>free_delivery</th>\n",
       "      <th>delivery_href</th>\n",
       "    </tr>\n",
       "  </thead>\n",
       "  <tbody>\n",
       "    <tr>\n",
       "      <th>191</th>\n",
       "      <td>e쿠폰/티켓</td>\n",
       "      <td>외식</td>\n",
       "      <td>1.0</td>\n",
       "      <td>(파리바게뜨) 실키롤케익</td>\n",
       "      <td>11000.0</td>\n",
       "      <td>8800.0</td>\n",
       "      <td>20.0</td>\n",
       "      <td>해당사항없음</td>\n",
       "      <td>http://item.gmarket.co.kr/Item?goodscode=24358...</td>\n",
       "    </tr>\n",
       "    <tr>\n",
       "      <th>421</th>\n",
       "      <td>e쿠폰/티켓</td>\n",
       "      <td>외식</td>\n",
       "      <td>2.0</td>\n",
       "      <td>[설빙](설빙) 설빙 디지털 금액권 2만원권</td>\n",
       "      <td>20000.0</td>\n",
       "      <td>16200.0</td>\n",
       "      <td>19.0</td>\n",
       "      <td>해당사항없음</td>\n",
       "      <td>http://item.gmarket.co.kr/Item?goodscode=24279...</td>\n",
       "    </tr>\n",
       "    <tr>\n",
       "      <th>422</th>\n",
       "      <td>e쿠폰/티켓</td>\n",
       "      <td>외식</td>\n",
       "      <td>3.0</td>\n",
       "      <td>[아웃백스테이크하우스]아웃백 디지털 5만원권</td>\n",
       "      <td>50000.0</td>\n",
       "      <td>46450.0</td>\n",
       "      <td>7.0</td>\n",
       "      <td>해당사항없음</td>\n",
       "      <td>http://item.gmarket.co.kr/Item?goodscode=15365...</td>\n",
       "    </tr>\n",
       "    <tr>\n",
       "      <th>423</th>\n",
       "      <td>e쿠폰/티켓</td>\n",
       "      <td>외식</td>\n",
       "      <td>4.0</td>\n",
       "      <td>(파리바게뜨) 블레싱 초코베리 케이크</td>\n",
       "      <td>33000.0</td>\n",
       "      <td>26400.0</td>\n",
       "      <td>20.0</td>\n",
       "      <td>해당사항없음</td>\n",
       "      <td>http://item.gmarket.co.kr/Item?goodscode=24358...</td>\n",
       "    </tr>\n",
       "    <tr>\n",
       "      <th>424</th>\n",
       "      <td>e쿠폰/티켓</td>\n",
       "      <td>외식</td>\n",
       "      <td>5.0</td>\n",
       "      <td>[스타벅스](스타벅스)(APP전용) e카드 3만원 교환권</td>\n",
       "      <td>30000.0</td>\n",
       "      <td>30000.0</td>\n",
       "      <td>0.0</td>\n",
       "      <td>해당사항없음</td>\n",
       "      <td>http://item.gmarket.co.kr/Item?goodscode=22463...</td>\n",
       "    </tr>\n",
       "    <tr>\n",
       "      <th>...</th>\n",
       "      <td>...</td>\n",
       "      <td>...</td>\n",
       "      <td>...</td>\n",
       "      <td>...</td>\n",
       "      <td>...</td>\n",
       "      <td>...</td>\n",
       "      <td>...</td>\n",
       "      <td>...</td>\n",
       "      <td>...</td>\n",
       "    </tr>\n",
       "    <tr>\n",
       "      <th>11739</th>\n",
       "      <td>가구/침구</td>\n",
       "      <td>침구</td>\n",
       "      <td>98.0</td>\n",
       "      <td>시원한스노우리플여름누비이불패드풀세트SSQK사이즈</td>\n",
       "      <td>75900.0</td>\n",
       "      <td>75900.0</td>\n",
       "      <td>0.0</td>\n",
       "      <td>해당사항없음</td>\n",
       "      <td>http://item.gmarket.co.kr/Item?goodscode=20979...</td>\n",
       "    </tr>\n",
       "    <tr>\n",
       "      <th>11740</th>\n",
       "      <td>가구/침구</td>\n",
       "      <td>침구</td>\n",
       "      <td>99.0</td>\n",
       "      <td>순면누빔 고정밴딩 여름침대패드/인견패드</td>\n",
       "      <td>22900.0</td>\n",
       "      <td>22900.0</td>\n",
       "      <td>0.0</td>\n",
       "      <td>무료배송</td>\n",
       "      <td>http://item.gmarket.co.kr/Item?goodscode=54508...</td>\n",
       "    </tr>\n",
       "    <tr>\n",
       "      <th>11741</th>\n",
       "      <td>가구/침구</td>\n",
       "      <td>침구</td>\n",
       "      <td>100.0</td>\n",
       "      <td>[베드리움][금성침대 X 베드리움] [베드리움] 슈페르 프리미엄 300T 매트리스(...</td>\n",
       "      <td>274000.0</td>\n",
       "      <td>246600.0</td>\n",
       "      <td>10.0</td>\n",
       "      <td>무료배송</td>\n",
       "      <td>http://item.gmarket.co.kr/Item?goodscode=17521...</td>\n",
       "    </tr>\n",
       "    <tr>\n",
       "      <th>11742</th>\n",
       "      <td>여행</td>\n",
       "      <td>국내여행</td>\n",
       "      <td>99.0</td>\n",
       "      <td>네스트호텔 인천(인천 호텔/중구/인천국제공항(중구))</td>\n",
       "      <td>132000.0</td>\n",
       "      <td>129360.0</td>\n",
       "      <td>2.0</td>\n",
       "      <td>해당사항없음</td>\n",
       "      <td>http://item.gmarket.co.kr/Item?goodscode=15971...</td>\n",
       "    </tr>\n",
       "    <tr>\n",
       "      <th>11743</th>\n",
       "      <td>여행</td>\n",
       "      <td>국내여행</td>\n",
       "      <td>100.0</td>\n",
       "      <td>|경남 거제시| 한화리조트 거제 벨버디어(신규오픈/거제리조트/한화리조트</td>\n",
       "      <td>167000.0</td>\n",
       "      <td>167000.0</td>\n",
       "      <td>0.0</td>\n",
       "      <td>해당사항없음</td>\n",
       "      <td>http://item.gmarket.co.kr/Item?goodscode=16727...</td>\n",
       "    </tr>\n",
       "  </tbody>\n",
       "</table>\n",
       "<p>10327 rows × 9 columns</p>\n",
       "</div>\n",
       "      <button class=\"colab-df-convert\" onclick=\"convertToInteractive('df-83cfcebb-248e-4bc3-98cc-9b6bbc9786c0')\"\n",
       "              title=\"Convert this dataframe to an interactive table.\"\n",
       "              style=\"display:none;\">\n",
       "        \n",
       "  <svg xmlns=\"http://www.w3.org/2000/svg\" height=\"24px\"viewBox=\"0 0 24 24\"\n",
       "       width=\"24px\">\n",
       "    <path d=\"M0 0h24v24H0V0z\" fill=\"none\"/>\n",
       "    <path d=\"M18.56 5.44l.94 2.06.94-2.06 2.06-.94-2.06-.94-.94-2.06-.94 2.06-2.06.94zm-11 1L8.5 8.5l.94-2.06 2.06-.94-2.06-.94L8.5 2.5l-.94 2.06-2.06.94zm10 10l.94 2.06.94-2.06 2.06-.94-2.06-.94-.94-2.06-.94 2.06-2.06.94z\"/><path d=\"M17.41 7.96l-1.37-1.37c-.4-.4-.92-.59-1.43-.59-.52 0-1.04.2-1.43.59L10.3 9.45l-7.72 7.72c-.78.78-.78 2.05 0 2.83L4 21.41c.39.39.9.59 1.41.59.51 0 1.02-.2 1.41-.59l7.78-7.78 2.81-2.81c.8-.78.8-2.07 0-2.86zM5.41 20L4 18.59l7.72-7.72 1.47 1.35L5.41 20z\"/>\n",
       "  </svg>\n",
       "      </button>\n",
       "      \n",
       "  <style>\n",
       "    .colab-df-container {\n",
       "      display:flex;\n",
       "      flex-wrap:wrap;\n",
       "      gap: 12px;\n",
       "    }\n",
       "\n",
       "    .colab-df-convert {\n",
       "      background-color: #E8F0FE;\n",
       "      border: none;\n",
       "      border-radius: 50%;\n",
       "      cursor: pointer;\n",
       "      display: none;\n",
       "      fill: #1967D2;\n",
       "      height: 32px;\n",
       "      padding: 0 0 0 0;\n",
       "      width: 32px;\n",
       "    }\n",
       "\n",
       "    .colab-df-convert:hover {\n",
       "      background-color: #E2EBFA;\n",
       "      box-shadow: 0px 1px 2px rgba(60, 64, 67, 0.3), 0px 1px 3px 1px rgba(60, 64, 67, 0.15);\n",
       "      fill: #174EA6;\n",
       "    }\n",
       "\n",
       "    [theme=dark] .colab-df-convert {\n",
       "      background-color: #3B4455;\n",
       "      fill: #D2E3FC;\n",
       "    }\n",
       "\n",
       "    [theme=dark] .colab-df-convert:hover {\n",
       "      background-color: #434B5C;\n",
       "      box-shadow: 0px 1px 3px 1px rgba(0, 0, 0, 0.15);\n",
       "      filter: drop-shadow(0px 1px 2px rgba(0, 0, 0, 0.3));\n",
       "      fill: #FFFFFF;\n",
       "    }\n",
       "  </style>\n",
       "\n",
       "      <script>\n",
       "        const buttonEl =\n",
       "          document.querySelector('#df-83cfcebb-248e-4bc3-98cc-9b6bbc9786c0 button.colab-df-convert');\n",
       "        buttonEl.style.display =\n",
       "          google.colab.kernel.accessAllowed ? 'block' : 'none';\n",
       "\n",
       "        async function convertToInteractive(key) {\n",
       "          const element = document.querySelector('#df-83cfcebb-248e-4bc3-98cc-9b6bbc9786c0');\n",
       "          const dataTable =\n",
       "            await google.colab.kernel.invokeFunction('convertToInteractive',\n",
       "                                                     [key], {});\n",
       "          if (!dataTable) return;\n",
       "\n",
       "          const docLinkHtml = 'Like what you see? Visit the ' +\n",
       "            '<a target=\"_blank\" href=https://colab.research.google.com/notebooks/data_table.ipynb>data table notebook</a>'\n",
       "            + ' to learn more about interactive tables.';\n",
       "          element.innerHTML = '';\n",
       "          dataTable['output_type'] = 'display_data';\n",
       "          await google.colab.output.renderOutput(dataTable, element);\n",
       "          const docLink = document.createElement('div');\n",
       "          docLink.innerHTML = docLinkHtml;\n",
       "          element.appendChild(docLink);\n",
       "        }\n",
       "      </script>\n",
       "    </div>\n",
       "  </div>\n",
       "  "
      ],
      "text/plain": [
       "      main_category_name sub_category_name  ranking  \\\n",
       "191               e쿠폰/티켓                외식      1.0   \n",
       "421               e쿠폰/티켓                외식      2.0   \n",
       "422               e쿠폰/티켓                외식      3.0   \n",
       "423               e쿠폰/티켓                외식      4.0   \n",
       "424               e쿠폰/티켓                외식      5.0   \n",
       "...                  ...               ...      ...   \n",
       "11739              가구/침구                침구     98.0   \n",
       "11740              가구/침구                침구     99.0   \n",
       "11741              가구/침구                침구    100.0   \n",
       "11742                 여행              국내여행     99.0   \n",
       "11743                 여행              국내여행    100.0   \n",
       "\n",
       "                                                   title  ori_price  \\\n",
       "191                                        (파리바게뜨) 실키롤케익    11000.0   \n",
       "421                             [설빙](설빙) 설빙 디지털 금액권 2만원권    20000.0   \n",
       "422                             [아웃백스테이크하우스]아웃백 디지털 5만원권    50000.0   \n",
       "423                                 (파리바게뜨) 블레싱 초코베리 케이크    33000.0   \n",
       "424                      [스타벅스](스타벅스)(APP전용) e카드 3만원 교환권    30000.0   \n",
       "...                                                  ...        ...   \n",
       "11739                         시원한스노우리플여름누비이불패드풀세트SSQK사이즈    75900.0   \n",
       "11740                              순면누빔 고정밴딩 여름침대패드/인견패드    22900.0   \n",
       "11741  [베드리움][금성침대 X 베드리움] [베드리움] 슈페르 프리미엄 300T 매트리스(...   274000.0   \n",
       "11742                      네스트호텔 인천(인천 호텔/중구/인천국제공항(중구))   132000.0   \n",
       "11743            |경남 거제시| 한화리조트 거제 벨버디어(신규오픈/거제리조트/한화리조트   167000.0   \n",
       "\n",
       "       dis_price  discount_percent free_delivery  \\\n",
       "191       8800.0              20.0        해당사항없음   \n",
       "421      16200.0              19.0        해당사항없음   \n",
       "422      46450.0               7.0        해당사항없음   \n",
       "423      26400.0              20.0        해당사항없음   \n",
       "424      30000.0               0.0        해당사항없음   \n",
       "...          ...               ...           ...   \n",
       "11739    75900.0               0.0        해당사항없음   \n",
       "11740    22900.0               0.0          무료배송   \n",
       "11741   246600.0              10.0          무료배송   \n",
       "11742   129360.0               2.0        해당사항없음   \n",
       "11743   167000.0               0.0        해당사항없음   \n",
       "\n",
       "                                           delivery_href  \n",
       "191    http://item.gmarket.co.kr/Item?goodscode=24358...  \n",
       "421    http://item.gmarket.co.kr/Item?goodscode=24279...  \n",
       "422    http://item.gmarket.co.kr/Item?goodscode=15365...  \n",
       "423    http://item.gmarket.co.kr/Item?goodscode=24358...  \n",
       "424    http://item.gmarket.co.kr/Item?goodscode=22463...  \n",
       "...                                                  ...  \n",
       "11739  http://item.gmarket.co.kr/Item?goodscode=20979...  \n",
       "11740  http://item.gmarket.co.kr/Item?goodscode=54508...  \n",
       "11741  http://item.gmarket.co.kr/Item?goodscode=17521...  \n",
       "11742  http://item.gmarket.co.kr/Item?goodscode=15971...  \n",
       "11743  http://item.gmarket.co.kr/Item?goodscode=16727...  \n",
       "\n",
       "[10327 rows x 9 columns]"
      ]
     },
     "execution_count": 57,
     "metadata": {},
     "output_type": "execute_result"
    }
   ],
   "source": [
    "dataframe"
   ]
  },
  {
   "cell_type": "code",
   "execution_count": null,
   "metadata": {
    "id": "aGhinWTBqCVN"
   },
   "outputs": [],
   "source": [
    "dataframe = dataframe.drop_duplicates(['delivery_href'])"
   ]
  },
  {
   "cell_type": "code",
   "execution_count": null,
   "metadata": {
    "colab": {
     "base_uri": "https://localhost:8080/",
     "height": 1000
    },
    "executionInfo": {
     "elapsed": 281,
     "status": "ok",
     "timestamp": 1653994133003,
     "user": {
      "displayName": "‍황수연[ 학부재학 / 컴퓨터융합소프트웨어학과 ]",
      "userId": "03365621454974662117"
     },
     "user_tz": -540
    },
    "id": "voYaPsGou4ox",
    "outputId": "a6ae901d-2c29-44c8-90bc-a7851a055da0"
   },
   "outputs": [
    {
     "data": {
      "text/html": [
       "\n",
       "  <div id=\"df-e181ecaa-c216-41a6-9acf-e641b81d28e8\">\n",
       "    <div class=\"colab-df-container\">\n",
       "      <div>\n",
       "<style scoped>\n",
       "    .dataframe tbody tr th:only-of-type {\n",
       "        vertical-align: middle;\n",
       "    }\n",
       "\n",
       "    .dataframe tbody tr th {\n",
       "        vertical-align: top;\n",
       "    }\n",
       "\n",
       "    .dataframe thead th {\n",
       "        text-align: right;\n",
       "    }\n",
       "</style>\n",
       "<table border=\"1\" class=\"dataframe\">\n",
       "  <thead>\n",
       "    <tr style=\"text-align: right;\">\n",
       "      <th></th>\n",
       "      <th>main_category_name</th>\n",
       "      <th>sub_category_name</th>\n",
       "      <th>ranking</th>\n",
       "      <th>title</th>\n",
       "      <th>ori_price</th>\n",
       "      <th>dis_price</th>\n",
       "      <th>discount_percent</th>\n",
       "      <th>free_delivery</th>\n",
       "      <th>delivery_href</th>\n",
       "    </tr>\n",
       "  </thead>\n",
       "  <tbody>\n",
       "    <tr>\n",
       "      <th>191</th>\n",
       "      <td>e쿠폰/티켓</td>\n",
       "      <td>외식</td>\n",
       "      <td>1.0</td>\n",
       "      <td>(파리바게뜨) 실키롤케익</td>\n",
       "      <td>11000.0</td>\n",
       "      <td>8800.0</td>\n",
       "      <td>20.0</td>\n",
       "      <td>해당사항없음</td>\n",
       "      <td>http://item.gmarket.co.kr/Item?goodscode=24358...</td>\n",
       "    </tr>\n",
       "    <tr>\n",
       "      <th>421</th>\n",
       "      <td>e쿠폰/티켓</td>\n",
       "      <td>외식</td>\n",
       "      <td>2.0</td>\n",
       "      <td>[설빙](설빙) 설빙 디지털 금액권 2만원권</td>\n",
       "      <td>20000.0</td>\n",
       "      <td>16200.0</td>\n",
       "      <td>19.0</td>\n",
       "      <td>해당사항없음</td>\n",
       "      <td>http://item.gmarket.co.kr/Item?goodscode=24279...</td>\n",
       "    </tr>\n",
       "    <tr>\n",
       "      <th>422</th>\n",
       "      <td>e쿠폰/티켓</td>\n",
       "      <td>외식</td>\n",
       "      <td>3.0</td>\n",
       "      <td>[아웃백스테이크하우스]아웃백 디지털 5만원권</td>\n",
       "      <td>50000.0</td>\n",
       "      <td>46450.0</td>\n",
       "      <td>7.0</td>\n",
       "      <td>해당사항없음</td>\n",
       "      <td>http://item.gmarket.co.kr/Item?goodscode=15365...</td>\n",
       "    </tr>\n",
       "    <tr>\n",
       "      <th>423</th>\n",
       "      <td>e쿠폰/티켓</td>\n",
       "      <td>외식</td>\n",
       "      <td>4.0</td>\n",
       "      <td>(파리바게뜨) 블레싱 초코베리 케이크</td>\n",
       "      <td>33000.0</td>\n",
       "      <td>26400.0</td>\n",
       "      <td>20.0</td>\n",
       "      <td>해당사항없음</td>\n",
       "      <td>http://item.gmarket.co.kr/Item?goodscode=24358...</td>\n",
       "    </tr>\n",
       "    <tr>\n",
       "      <th>424</th>\n",
       "      <td>e쿠폰/티켓</td>\n",
       "      <td>외식</td>\n",
       "      <td>5.0</td>\n",
       "      <td>[스타벅스](스타벅스)(APP전용) e카드 3만원 교환권</td>\n",
       "      <td>30000.0</td>\n",
       "      <td>30000.0</td>\n",
       "      <td>0.0</td>\n",
       "      <td>해당사항없음</td>\n",
       "      <td>http://item.gmarket.co.kr/Item?goodscode=22463...</td>\n",
       "    </tr>\n",
       "    <tr>\n",
       "      <th>...</th>\n",
       "      <td>...</td>\n",
       "      <td>...</td>\n",
       "      <td>...</td>\n",
       "      <td>...</td>\n",
       "      <td>...</td>\n",
       "      <td>...</td>\n",
       "      <td>...</td>\n",
       "      <td>...</td>\n",
       "      <td>...</td>\n",
       "    </tr>\n",
       "    <tr>\n",
       "      <th>11739</th>\n",
       "      <td>가구/침구</td>\n",
       "      <td>침구</td>\n",
       "      <td>98.0</td>\n",
       "      <td>시원한스노우리플여름누비이불패드풀세트SSQK사이즈</td>\n",
       "      <td>75900.0</td>\n",
       "      <td>75900.0</td>\n",
       "      <td>0.0</td>\n",
       "      <td>해당사항없음</td>\n",
       "      <td>http://item.gmarket.co.kr/Item?goodscode=20979...</td>\n",
       "    </tr>\n",
       "    <tr>\n",
       "      <th>11740</th>\n",
       "      <td>가구/침구</td>\n",
       "      <td>침구</td>\n",
       "      <td>99.0</td>\n",
       "      <td>순면누빔 고정밴딩 여름침대패드/인견패드</td>\n",
       "      <td>22900.0</td>\n",
       "      <td>22900.0</td>\n",
       "      <td>0.0</td>\n",
       "      <td>무료배송</td>\n",
       "      <td>http://item.gmarket.co.kr/Item?goodscode=54508...</td>\n",
       "    </tr>\n",
       "    <tr>\n",
       "      <th>11741</th>\n",
       "      <td>가구/침구</td>\n",
       "      <td>침구</td>\n",
       "      <td>100.0</td>\n",
       "      <td>[베드리움][금성침대 X 베드리움] [베드리움] 슈페르 프리미엄 300T 매트리스(...</td>\n",
       "      <td>274000.0</td>\n",
       "      <td>246600.0</td>\n",
       "      <td>10.0</td>\n",
       "      <td>무료배송</td>\n",
       "      <td>http://item.gmarket.co.kr/Item?goodscode=17521...</td>\n",
       "    </tr>\n",
       "    <tr>\n",
       "      <th>11742</th>\n",
       "      <td>여행</td>\n",
       "      <td>국내여행</td>\n",
       "      <td>99.0</td>\n",
       "      <td>네스트호텔 인천(인천 호텔/중구/인천국제공항(중구))</td>\n",
       "      <td>132000.0</td>\n",
       "      <td>129360.0</td>\n",
       "      <td>2.0</td>\n",
       "      <td>해당사항없음</td>\n",
       "      <td>http://item.gmarket.co.kr/Item?goodscode=15971...</td>\n",
       "    </tr>\n",
       "    <tr>\n",
       "      <th>11743</th>\n",
       "      <td>여행</td>\n",
       "      <td>국내여행</td>\n",
       "      <td>100.0</td>\n",
       "      <td>|경남 거제시| 한화리조트 거제 벨버디어(신규오픈/거제리조트/한화리조트</td>\n",
       "      <td>167000.0</td>\n",
       "      <td>167000.0</td>\n",
       "      <td>0.0</td>\n",
       "      <td>해당사항없음</td>\n",
       "      <td>http://item.gmarket.co.kr/Item?goodscode=16727...</td>\n",
       "    </tr>\n",
       "  </tbody>\n",
       "</table>\n",
       "<p>10327 rows × 9 columns</p>\n",
       "</div>\n",
       "      <button class=\"colab-df-convert\" onclick=\"convertToInteractive('df-e181ecaa-c216-41a6-9acf-e641b81d28e8')\"\n",
       "              title=\"Convert this dataframe to an interactive table.\"\n",
       "              style=\"display:none;\">\n",
       "        \n",
       "  <svg xmlns=\"http://www.w3.org/2000/svg\" height=\"24px\"viewBox=\"0 0 24 24\"\n",
       "       width=\"24px\">\n",
       "    <path d=\"M0 0h24v24H0V0z\" fill=\"none\"/>\n",
       "    <path d=\"M18.56 5.44l.94 2.06.94-2.06 2.06-.94-2.06-.94-.94-2.06-.94 2.06-2.06.94zm-11 1L8.5 8.5l.94-2.06 2.06-.94-2.06-.94L8.5 2.5l-.94 2.06-2.06.94zm10 10l.94 2.06.94-2.06 2.06-.94-2.06-.94-.94-2.06-.94 2.06-2.06.94z\"/><path d=\"M17.41 7.96l-1.37-1.37c-.4-.4-.92-.59-1.43-.59-.52 0-1.04.2-1.43.59L10.3 9.45l-7.72 7.72c-.78.78-.78 2.05 0 2.83L4 21.41c.39.39.9.59 1.41.59.51 0 1.02-.2 1.41-.59l7.78-7.78 2.81-2.81c.8-.78.8-2.07 0-2.86zM5.41 20L4 18.59l7.72-7.72 1.47 1.35L5.41 20z\"/>\n",
       "  </svg>\n",
       "      </button>\n",
       "      \n",
       "  <style>\n",
       "    .colab-df-container {\n",
       "      display:flex;\n",
       "      flex-wrap:wrap;\n",
       "      gap: 12px;\n",
       "    }\n",
       "\n",
       "    .colab-df-convert {\n",
       "      background-color: #E8F0FE;\n",
       "      border: none;\n",
       "      border-radius: 50%;\n",
       "      cursor: pointer;\n",
       "      display: none;\n",
       "      fill: #1967D2;\n",
       "      height: 32px;\n",
       "      padding: 0 0 0 0;\n",
       "      width: 32px;\n",
       "    }\n",
       "\n",
       "    .colab-df-convert:hover {\n",
       "      background-color: #E2EBFA;\n",
       "      box-shadow: 0px 1px 2px rgba(60, 64, 67, 0.3), 0px 1px 3px 1px rgba(60, 64, 67, 0.15);\n",
       "      fill: #174EA6;\n",
       "    }\n",
       "\n",
       "    [theme=dark] .colab-df-convert {\n",
       "      background-color: #3B4455;\n",
       "      fill: #D2E3FC;\n",
       "    }\n",
       "\n",
       "    [theme=dark] .colab-df-convert:hover {\n",
       "      background-color: #434B5C;\n",
       "      box-shadow: 0px 1px 3px 1px rgba(0, 0, 0, 0.15);\n",
       "      filter: drop-shadow(0px 1px 2px rgba(0, 0, 0, 0.3));\n",
       "      fill: #FFFFFF;\n",
       "    }\n",
       "  </style>\n",
       "\n",
       "      <script>\n",
       "        const buttonEl =\n",
       "          document.querySelector('#df-e181ecaa-c216-41a6-9acf-e641b81d28e8 button.colab-df-convert');\n",
       "        buttonEl.style.display =\n",
       "          google.colab.kernel.accessAllowed ? 'block' : 'none';\n",
       "\n",
       "        async function convertToInteractive(key) {\n",
       "          const element = document.querySelector('#df-e181ecaa-c216-41a6-9acf-e641b81d28e8');\n",
       "          const dataTable =\n",
       "            await google.colab.kernel.invokeFunction('convertToInteractive',\n",
       "                                                     [key], {});\n",
       "          if (!dataTable) return;\n",
       "\n",
       "          const docLinkHtml = 'Like what you see? Visit the ' +\n",
       "            '<a target=\"_blank\" href=https://colab.research.google.com/notebooks/data_table.ipynb>data table notebook</a>'\n",
       "            + ' to learn more about interactive tables.';\n",
       "          element.innerHTML = '';\n",
       "          dataTable['output_type'] = 'display_data';\n",
       "          await google.colab.output.renderOutput(dataTable, element);\n",
       "          const docLink = document.createElement('div');\n",
       "          docLink.innerHTML = docLinkHtml;\n",
       "          element.appendChild(docLink);\n",
       "        }\n",
       "      </script>\n",
       "    </div>\n",
       "  </div>\n",
       "  "
      ],
      "text/plain": [
       "      main_category_name sub_category_name  ranking  \\\n",
       "191               e쿠폰/티켓                외식      1.0   \n",
       "421               e쿠폰/티켓                외식      2.0   \n",
       "422               e쿠폰/티켓                외식      3.0   \n",
       "423               e쿠폰/티켓                외식      4.0   \n",
       "424               e쿠폰/티켓                외식      5.0   \n",
       "...                  ...               ...      ...   \n",
       "11739              가구/침구                침구     98.0   \n",
       "11740              가구/침구                침구     99.0   \n",
       "11741              가구/침구                침구    100.0   \n",
       "11742                 여행              국내여행     99.0   \n",
       "11743                 여행              국내여행    100.0   \n",
       "\n",
       "                                                   title  ori_price  \\\n",
       "191                                        (파리바게뜨) 실키롤케익    11000.0   \n",
       "421                             [설빙](설빙) 설빙 디지털 금액권 2만원권    20000.0   \n",
       "422                             [아웃백스테이크하우스]아웃백 디지털 5만원권    50000.0   \n",
       "423                                 (파리바게뜨) 블레싱 초코베리 케이크    33000.0   \n",
       "424                      [스타벅스](스타벅스)(APP전용) e카드 3만원 교환권    30000.0   \n",
       "...                                                  ...        ...   \n",
       "11739                         시원한스노우리플여름누비이불패드풀세트SSQK사이즈    75900.0   \n",
       "11740                              순면누빔 고정밴딩 여름침대패드/인견패드    22900.0   \n",
       "11741  [베드리움][금성침대 X 베드리움] [베드리움] 슈페르 프리미엄 300T 매트리스(...   274000.0   \n",
       "11742                      네스트호텔 인천(인천 호텔/중구/인천국제공항(중구))   132000.0   \n",
       "11743            |경남 거제시| 한화리조트 거제 벨버디어(신규오픈/거제리조트/한화리조트   167000.0   \n",
       "\n",
       "       dis_price  discount_percent free_delivery  \\\n",
       "191       8800.0              20.0        해당사항없음   \n",
       "421      16200.0              19.0        해당사항없음   \n",
       "422      46450.0               7.0        해당사항없음   \n",
       "423      26400.0              20.0        해당사항없음   \n",
       "424      30000.0               0.0        해당사항없음   \n",
       "...          ...               ...           ...   \n",
       "11739    75900.0               0.0        해당사항없음   \n",
       "11740    22900.0               0.0          무료배송   \n",
       "11741   246600.0              10.0          무료배송   \n",
       "11742   129360.0               2.0        해당사항없음   \n",
       "11743   167000.0               0.0        해당사항없음   \n",
       "\n",
       "                                           delivery_href  \n",
       "191    http://item.gmarket.co.kr/Item?goodscode=24358...  \n",
       "421    http://item.gmarket.co.kr/Item?goodscode=24279...  \n",
       "422    http://item.gmarket.co.kr/Item?goodscode=15365...  \n",
       "423    http://item.gmarket.co.kr/Item?goodscode=24358...  \n",
       "424    http://item.gmarket.co.kr/Item?goodscode=22463...  \n",
       "...                                                  ...  \n",
       "11739  http://item.gmarket.co.kr/Item?goodscode=20979...  \n",
       "11740  http://item.gmarket.co.kr/Item?goodscode=54508...  \n",
       "11741  http://item.gmarket.co.kr/Item?goodscode=17521...  \n",
       "11742  http://item.gmarket.co.kr/Item?goodscode=15971...  \n",
       "11743  http://item.gmarket.co.kr/Item?goodscode=16727...  \n",
       "\n",
       "[10327 rows x 9 columns]"
      ]
     },
     "execution_count": 58,
     "metadata": {},
     "output_type": "execute_result"
    }
   ],
   "source": [
    "dataframe"
   ]
  },
  {
   "cell_type": "code",
   "execution_count": null,
   "metadata": {
    "id": "U17Zil3Hq6f0"
   },
   "outputs": [],
   "source": [
    "dataframe.to_csv(\"/content/drive/Shareddrives/datamining_2022/product.csv\", header=False, index = False,encoding='utf-8-sig')"
   ]
  },
  {
   "cell_type": "markdown",
   "metadata": {
    "id": "_ofgSzomq7tR"
   },
   "source": [
    "# 다음 과정 "
   ]
  },
  {
   "cell_type": "code",
   "execution_count": null,
   "metadata": {
    "id": "klXqIVBbLX4n"
   },
   "outputs": [],
   "source": [
    "count_vec = CountVectorizer()\n",
    "product = count_vec.fit_transform(df['title'])\n",
    "product = np.array(product.todense())"
   ]
  },
  {
   "cell_type": "code",
   "execution_count": null,
   "metadata": {
    "id": "bEwFq25MVK9L"
   },
   "outputs": [],
   "source": [
    "X = product\n",
    "y = df['main_category_name']"
   ]
  },
  {
   "cell_type": "code",
   "execution_count": null,
   "metadata": {
    "id": "sDFqQVtSVl9V"
   },
   "outputs": [],
   "source": [
    "X_train, X_test, y_train, y_test = train_test_split(X, y, test_size=0.3, stratify=y)"
   ]
  },
  {
   "cell_type": "markdown",
   "metadata": {
    "id": "-WfvIZD4V0Ex"
   },
   "source": [
    "# 3. Fit the model"
   ]
  },
  {
   "cell_type": "code",
   "execution_count": null,
   "metadata": {
    "id": "wjJ92RaLVyxJ"
   },
   "outputs": [],
   "source": [
    "model = MultinomialNB().fit(X_train, y_train)"
   ]
  },
  {
   "cell_type": "code",
   "execution_count": null,
   "metadata": {
    "id": "cu8SjzHSWStK"
   },
   "outputs": [],
   "source": [
    "y_pred = model.predict(X_test)\n",
    "accuracy_score(y_test, y_pred)"
   ]
  },
  {
   "cell_type": "code",
   "execution_count": null,
   "metadata": {
    "id": "dDbfCHrHWT37"
   },
   "outputs": [],
   "source": [
    "f1_score(y_test, y_pred, average=\"macro\")"
   ]
  },
  {
   "cell_type": "markdown",
   "metadata": {
    "id": "MqyhebfHWYMg"
   },
   "source": [
    "# 4. Examine the predictions"
   ]
  },
  {
   "cell_type": "code",
   "execution_count": null,
   "metadata": {
    "id": "O02yMHofWVxR"
   },
   "outputs": [],
   "source": [
    "print(classification_report(y_test, y_pred))"
   ]
  }
 ],
 "metadata": {
  "colab": {
   "authorship_tag": "ABX9TyNAd1J9tZJQV+rWFle8TSAj",
   "collapsed_sections": [
    "995dbf0d",
    "5c076c52",
    "vo2601Ov3vlP",
    "DUvMRs6zsB0Y",
    "0hQMnJ6Kk48w",
    "67Ht4Wv_-hLp",
    "_re_dr0lFopN",
    "u2vkTXwxpKvj",
    "_R57e6BMLbcx",
    "_ofgSzomq7tR",
    "-WfvIZD4V0Ex"
   ],
   "name": "datamining.ipynb",
   "provenance": []
  },
  "kernelspec": {
   "display_name": "Python 3 (ipykernel)",
   "language": "python",
   "name": "python3"
  },
  "language_info": {
   "codemirror_mode": {
    "name": "ipython",
    "version": 3
   },
   "file_extension": ".py",
   "mimetype": "text/x-python",
   "name": "python",
   "nbconvert_exporter": "python",
   "pygments_lexer": "ipython3",
   "version": "3.9.12"
  }
 },
 "nbformat": 4,
 "nbformat_minor": 1
}
