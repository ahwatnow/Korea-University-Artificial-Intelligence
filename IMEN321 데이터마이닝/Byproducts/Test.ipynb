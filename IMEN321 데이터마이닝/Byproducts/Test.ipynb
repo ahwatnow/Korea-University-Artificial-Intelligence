{
 "cells": [
  {
   "cell_type": "code",
   "execution_count": 1,
   "metadata": {},
   "outputs": [
    {
     "data": {
      "text/html": [
       "        <script type=\"text/javascript\">\n",
       "        window.PlotlyConfig = {MathJaxConfig: 'local'};\n",
       "        if (window.MathJax) {MathJax.Hub.Config({SVG: {font: \"STIX-Web\"}});}\n",
       "        if (typeof require !== 'undefined') {\n",
       "        require.undef(\"plotly\");\n",
       "        requirejs.config({\n",
       "            paths: {\n",
       "                'plotly': ['https://cdn.plot.ly/plotly-2.9.0.min']\n",
       "            }\n",
       "        });\n",
       "        require(['plotly'], function(Plotly) {\n",
       "            window._Plotly = Plotly;\n",
       "        });\n",
       "        }\n",
       "        </script>\n",
       "        "
      ]
     },
     "metadata": {},
     "output_type": "display_data"
    }
   ],
   "source": [
    "import pandas as pd\n",
    "import cufflinks as cf\n",
    "import chart_studio.plotly as py\n",
    "import plotly.graph_objects as go\n",
    "\n",
    "cf.go_offline(connected= True)"
   ]
  },
  {
   "cell_type": "code",
   "execution_count": 2,
   "metadata": {},
   "outputs": [],
   "source": [
    "df = pd.read_csv('okt_test.csv',encoding='cp949').iloc[1:,1:]"
   ]
  },
  {
   "cell_type": "code",
   "execution_count": 3,
   "metadata": {},
   "outputs": [
    {
     "data": {
      "text/html": [
       "<div>\n",
       "<style scoped>\n",
       "    .dataframe tbody tr th:only-of-type {\n",
       "        vertical-align: middle;\n",
       "    }\n",
       "\n",
       "    .dataframe tbody tr th {\n",
       "        vertical-align: top;\n",
       "    }\n",
       "\n",
       "    .dataframe thead th {\n",
       "        text-align: right;\n",
       "    }\n",
       "</style>\n",
       "<table border=\"1\" class=\"dataframe\">\n",
       "  <thead>\n",
       "    <tr style=\"text-align: right;\">\n",
       "      <th></th>\n",
       "      <th>Column2</th>\n",
       "      <th>Column3</th>\n",
       "    </tr>\n",
       "  </thead>\n",
       "  <tbody>\n",
       "    <tr>\n",
       "      <th>1</th>\n",
       "      <td>['[', '설빙', '](', '설빙', ')', '설빙', '디지털', '금액'...</td>\n",
       "      <td>['설빙', '설빙', '설빙', '디지털', '금액']</td>\n",
       "    </tr>\n",
       "    <tr>\n",
       "      <th>2</th>\n",
       "      <td>['[', '아웃백', '스테이크하우스', ']', '아웃백', '디지털', '5만...</td>\n",
       "      <td>['아웃백', '스테이크하우스', '아웃백', '디지털']</td>\n",
       "    </tr>\n",
       "    <tr>\n",
       "      <th>3</th>\n",
       "      <td>['(', '파리', '바게뜨', ')', '블레싱', '초코', '베리', '케이크']</td>\n",
       "      <td>['파리', '바게뜨', '블레싱', '초코', '베리', '케이크']</td>\n",
       "    </tr>\n",
       "    <tr>\n",
       "      <th>4</th>\n",
       "      <td>['[', '스타벅스', '](', '스타벅스', ')(', 'APP', '전용',...</td>\n",
       "      <td>['스타벅스', '스타벅스', '전용', '카드', '교환']</td>\n",
       "    </tr>\n",
       "    <tr>\n",
       "      <th>5</th>\n",
       "      <td>['(', '파리', '바게뜨', ')', '생', '딸기', '요거트', '케이크']</td>\n",
       "      <td>['파리', '바게뜨', '생', '딸기', '요거트', '케이크']</td>\n",
       "    </tr>\n",
       "    <tr>\n",
       "      <th>...</th>\n",
       "      <td>...</td>\n",
       "      <td>...</td>\n",
       "    </tr>\n",
       "    <tr>\n",
       "      <th>10294</th>\n",
       "      <td>['시원한', '스노우', '리플', '여름', '누비', '이불', '패드', '...</td>\n",
       "      <td>['스노우', '리플', '여름', '누비', '이불', '패드', '풀', '세트...</td>\n",
       "    </tr>\n",
       "    <tr>\n",
       "      <th>10295</th>\n",
       "      <td>['순면', '누빔', '고정', '밴딩', '여름', '침대', '패드', '/'...</td>\n",
       "      <td>['순면', '누빔', '고정', '밴딩', '여름', '침대', '패드', '인견...</td>\n",
       "    </tr>\n",
       "    <tr>\n",
       "      <th>10296</th>\n",
       "      <td>['[', '베드', '리움', '][', '금성', '침대', 'X', '베드',...</td>\n",
       "      <td>['베드', '리움', '금성', '침대', '베드', '리움', '베드', '리움...</td>\n",
       "    </tr>\n",
       "    <tr>\n",
       "      <th>10297</th>\n",
       "      <td>['네스트', '호텔', '인천', '(', '인천', '호텔', '/', '중구'...</td>\n",
       "      <td>['네스트', '호텔', '인천', '인천', '호텔', '중구', '인천', '국...</td>\n",
       "    </tr>\n",
       "    <tr>\n",
       "      <th>10298</th>\n",
       "      <td>['|', '경남', '거제시', '|', '한화', '리조트', '거제', '벨'...</td>\n",
       "      <td>['경남', '거제시', '한화', '리조트', '거제', '버디', '신규', '...</td>\n",
       "    </tr>\n",
       "  </tbody>\n",
       "</table>\n",
       "<p>10298 rows × 2 columns</p>\n",
       "</div>"
      ],
      "text/plain": [
       "                                                 Column2  \\\n",
       "1      ['[', '설빙', '](', '설빙', ')', '설빙', '디지털', '금액'...   \n",
       "2      ['[', '아웃백', '스테이크하우스', ']', '아웃백', '디지털', '5만...   \n",
       "3      ['(', '파리', '바게뜨', ')', '블레싱', '초코', '베리', '케이크']   \n",
       "4      ['[', '스타벅스', '](', '스타벅스', ')(', 'APP', '전용',...   \n",
       "5       ['(', '파리', '바게뜨', ')', '생', '딸기', '요거트', '케이크']   \n",
       "...                                                  ...   \n",
       "10294  ['시원한', '스노우', '리플', '여름', '누비', '이불', '패드', '...   \n",
       "10295  ['순면', '누빔', '고정', '밴딩', '여름', '침대', '패드', '/'...   \n",
       "10296  ['[', '베드', '리움', '][', '금성', '침대', 'X', '베드',...   \n",
       "10297  ['네스트', '호텔', '인천', '(', '인천', '호텔', '/', '중구'...   \n",
       "10298  ['|', '경남', '거제시', '|', '한화', '리조트', '거제', '벨'...   \n",
       "\n",
       "                                                 Column3  \n",
       "1                        ['설빙', '설빙', '설빙', '디지털', '금액']  \n",
       "2                       ['아웃백', '스테이크하우스', '아웃백', '디지털']  \n",
       "3                ['파리', '바게뜨', '블레싱', '초코', '베리', '케이크']  \n",
       "4                     ['스타벅스', '스타벅스', '전용', '카드', '교환']  \n",
       "5                 ['파리', '바게뜨', '생', '딸기', '요거트', '케이크']  \n",
       "...                                                  ...  \n",
       "10294  ['스노우', '리플', '여름', '누비', '이불', '패드', '풀', '세트...  \n",
       "10295  ['순면', '누빔', '고정', '밴딩', '여름', '침대', '패드', '인견...  \n",
       "10296  ['베드', '리움', '금성', '침대', '베드', '리움', '베드', '리움...  \n",
       "10297  ['네스트', '호텔', '인천', '인천', '호텔', '중구', '인천', '국...  \n",
       "10298  ['경남', '거제시', '한화', '리조트', '거제', '버디', '신규', '...  \n",
       "\n",
       "[10298 rows x 2 columns]"
      ]
     },
     "execution_count": 3,
     "metadata": {},
     "output_type": "execute_result"
    }
   ],
   "source": [
    "df"
   ]
  },
  {
   "cell_type": "code",
   "execution_count": 4,
   "metadata": {
    "scrolled": true
   },
   "outputs": [
    {
     "name": "stdout",
     "output_type": "stream",
     "text": [
      "OKT 형태소 분석 : ['열심히', '코딩', '한', '당신', ',', '연휴', '에는', '여행', '을', '가봐요']\n",
      "OKT 품사 태깅 : [('열심히', 'Adverb'), ('코딩', 'Noun'), ('한', 'Josa'), ('당신', 'Noun'), (',', 'Punctuation'), ('연휴', 'Noun'), ('에는', 'Josa'), ('여행', 'Noun'), ('을', 'Josa'), ('가봐요', 'Verb')]\n",
      "OKT 명사 추출 : ['코딩', '당신', '연휴', '여행']\n"
     ]
    }
   ],
   "source": [
    "from konlpy.tag import Okt\n",
    "from konlpy.tag import Kkma\n",
    "\n",
    "okt = Okt()\n",
    "kkma = Kkma()\n",
    "\n",
    "print('OKT 형태소 분석 :',okt.morphs(\"열심히 코딩한 당신, 연휴에는 여행을 가봐요\"))\n",
    "print('OKT 품사 태깅 :',okt.pos(\"열심히 코딩한 당신, 연휴에는 여행을 가봐요\"))\n",
    "print('OKT 명사 추출 :',okt.nouns(\"열심히 코딩한 당신, 연휴에는 여행을 가봐요\")) "
   ]
  },
  {
   "cell_type": "markdown",
   "metadata": {},
   "source": [
    "# 한국어 단어 토큰화(우리의 title은 문장이 아니므로, 단어 토큰화만 진행하면 된다.) 를 실행하여 보았다. 일단은 명사만 추출하여 정리하여보자."
   ]
  },
  {
   "cell_type": "code",
   "execution_count": 5,
   "metadata": {},
   "outputs": [],
   "source": [
    "df1 = pd.read_csv('product.csv',header = None)"
   ]
  },
  {
   "cell_type": "code",
   "execution_count": 6,
   "metadata": {},
   "outputs": [],
   "source": [
    "df_title =  df1.iloc[:,[3]]\n",
    "df_title.columns = ['title']"
   ]
  },
  {
   "cell_type": "code",
   "execution_count": 7,
   "metadata": {},
   "outputs": [],
   "source": [
    "df_title = df_title.drop_duplicates()"
   ]
  },
  {
   "cell_type": "code",
   "execution_count": 8,
   "metadata": {},
   "outputs": [],
   "source": [
    "# def make_okt(row):\n",
    "#     row['title'] = okt.nouns(row['title'])\n",
    "#     return row\n",
    "    \n",
    "    \n",
    "# df_title_spec = df_title.apply(make_okt,axis=1)"
   ]
  },
  {
   "cell_type": "code",
   "execution_count": 9,
   "metadata": {},
   "outputs": [
    {
     "name": "stderr",
     "output_type": "stream",
     "text": [
      "100%|████████████████████████████████████████████████████████████████████████████| 9968/9968 [00:09<00:00, 1001.28it/s]\n"
     ]
    }
   ],
   "source": [
    "from tqdm import tqdm\n",
    "\n",
    "word_count = {}\n",
    "\n",
    "\n",
    "for text in tqdm(df_title['title']):\n",
    "    for word in okt.nouns(text):\n",
    "        word_count[word] = word_count.get(word,0) + 1\n",
    "        \n",
    "    "
   ]
  },
  {
   "cell_type": "code",
   "execution_count": 10,
   "metadata": {},
   "outputs": [],
   "source": [
    "import operator\n",
    "\n",
    "sdict = sorted(word_count.items(), key=operator.itemgetter(1),reverse=True)\n"
   ]
  },
  {
   "cell_type": "markdown",
   "metadata": {},
   "source": [
    "# 데이터 정제 ; 길이 1 제거"
   ]
  },
  {
   "cell_type": "code",
   "execution_count": 11,
   "metadata": {},
   "outputs": [],
   "source": [
    "lst_word = []\n",
    "for i,j in sdict:\n",
    "    if len(i) <= 1:\n",
    "        pass\n",
    "    else:\n",
    "        lst_word.append([i,j])"
   ]
  },
  {
   "cell_type": "code",
   "execution_count": 12,
   "metadata": {},
   "outputs": [],
   "source": [
    "import konlpy\n",
    "from sklearn.feature_extraction.text import CountVectorizer"
   ]
  },
  {
   "cell_type": "code",
   "execution_count": 13,
   "metadata": {},
   "outputs": [
    {
     "data": {
      "text/html": [
       "<div>\n",
       "<style scoped>\n",
       "    .dataframe tbody tr th:only-of-type {\n",
       "        vertical-align: middle;\n",
       "    }\n",
       "\n",
       "    .dataframe tbody tr th {\n",
       "        vertical-align: top;\n",
       "    }\n",
       "\n",
       "    .dataframe thead th {\n",
       "        text-align: right;\n",
       "    }\n",
       "</style>\n",
       "<table border=\"1\" class=\"dataframe\">\n",
       "  <thead>\n",
       "    <tr style=\"text-align: right;\">\n",
       "      <th></th>\n",
       "      <th>word</th>\n",
       "      <th>num</th>\n",
       "    </tr>\n",
       "  </thead>\n",
       "  <tbody>\n",
       "    <tr>\n",
       "      <th>0</th>\n",
       "      <td>세트</td>\n",
       "      <td>624</td>\n",
       "    </tr>\n",
       "    <tr>\n",
       "      <th>1</th>\n",
       "      <td>삼성</td>\n",
       "      <td>369</td>\n",
       "    </tr>\n",
       "    <tr>\n",
       "      <th>2</th>\n",
       "      <td>전자</td>\n",
       "      <td>367</td>\n",
       "    </tr>\n",
       "    <tr>\n",
       "      <th>3</th>\n",
       "      <td>여름</td>\n",
       "      <td>313</td>\n",
       "    </tr>\n",
       "    <tr>\n",
       "      <th>4</th>\n",
       "      <td>남성</td>\n",
       "      <td>310</td>\n",
       "    </tr>\n",
       "    <tr>\n",
       "      <th>...</th>\n",
       "      <td>...</td>\n",
       "      <td>...</td>\n",
       "    </tr>\n",
       "    <tr>\n",
       "      <th>9128</th>\n",
       "      <td>바란</td>\n",
       "      <td>1</td>\n",
       "    </tr>\n",
       "    <tr>\n",
       "      <th>9129</th>\n",
       "      <td>예은</td>\n",
       "      <td>1</td>\n",
       "    </tr>\n",
       "    <tr>\n",
       "      <th>9130</th>\n",
       "      <td>파르페</td>\n",
       "      <td>1</td>\n",
       "    </tr>\n",
       "    <tr>\n",
       "      <th>9131</th>\n",
       "      <td>슈페르</td>\n",
       "      <td>1</td>\n",
       "    </tr>\n",
       "    <tr>\n",
       "      <th>9132</th>\n",
       "      <td>거제시</td>\n",
       "      <td>1</td>\n",
       "    </tr>\n",
       "  </tbody>\n",
       "</table>\n",
       "<p>9133 rows × 2 columns</p>\n",
       "</div>"
      ],
      "text/plain": [
       "     word  num\n",
       "0      세트  624\n",
       "1      삼성  369\n",
       "2      전자  367\n",
       "3      여름  313\n",
       "4      남성  310\n",
       "...   ...  ...\n",
       "9128   바란    1\n",
       "9129   예은    1\n",
       "9130  파르페    1\n",
       "9131  슈페르    1\n",
       "9132  거제시    1\n",
       "\n",
       "[9133 rows x 2 columns]"
      ]
     },
     "execution_count": 13,
     "metadata": {},
     "output_type": "execute_result"
    }
   ],
   "source": [
    "df_word =  pd.DataFrame(lst_word,columns = ['word', 'num'])\n",
    "df_word"
   ]
  },
  {
   "cell_type": "code",
   "execution_count": 14,
   "metadata": {},
   "outputs": [
    {
     "name": "stdout",
     "output_type": "stream",
     "text": [
      "CountVectorizer(max_df=0.5, max_features=3000, min_df=3,\n",
      "                vocabulary=0        세트\n",
      "1        삼성\n",
      "2        전자\n",
      "3        여름\n",
      "4        남성\n",
      "       ... \n",
      "9128     바란\n",
      "9129     예은\n",
      "9130    파르페\n",
      "9131    슈페르\n",
      "9132    거제시\n",
      "Name: word, Length: 9133, dtype: object)\n"
     ]
    }
   ],
   "source": [
    "cv = CountVectorizer(vocabulary = df_word['word'],max_features= 3000,min_df= 3, max_df= 0.5)\n",
    "print(cv)"
   ]
  },
  {
   "cell_type": "code",
   "execution_count": 15,
   "metadata": {},
   "outputs": [
    {
     "data": {
      "text/html": [
       "<div>\n",
       "<style scoped>\n",
       "    .dataframe tbody tr th:only-of-type {\n",
       "        vertical-align: middle;\n",
       "    }\n",
       "\n",
       "    .dataframe tbody tr th {\n",
       "        vertical-align: top;\n",
       "    }\n",
       "\n",
       "    .dataframe thead th {\n",
       "        text-align: right;\n",
       "    }\n",
       "</style>\n",
       "<table border=\"1\" class=\"dataframe\">\n",
       "  <thead>\n",
       "    <tr style=\"text-align: right;\">\n",
       "      <th></th>\n",
       "      <th>title</th>\n",
       "    </tr>\n",
       "  </thead>\n",
       "  <tbody>\n",
       "    <tr>\n",
       "      <th>0</th>\n",
       "      <td>(파리바게뜨) 실키롤케익</td>\n",
       "    </tr>\n",
       "    <tr>\n",
       "      <th>1</th>\n",
       "      <td>[설빙](설빙) 설빙 디지털 금액권 2만원권</td>\n",
       "    </tr>\n",
       "    <tr>\n",
       "      <th>2</th>\n",
       "      <td>[아웃백스테이크하우스]아웃백 디지털 5만원권</td>\n",
       "    </tr>\n",
       "    <tr>\n",
       "      <th>3</th>\n",
       "      <td>(파리바게뜨) 블레싱 초코베리 케이크</td>\n",
       "    </tr>\n",
       "    <tr>\n",
       "      <th>4</th>\n",
       "      <td>[스타벅스](스타벅스)(APP전용) e카드 3만원 교환권</td>\n",
       "    </tr>\n",
       "    <tr>\n",
       "      <th>...</th>\n",
       "      <td>...</td>\n",
       "    </tr>\n",
       "    <tr>\n",
       "      <th>10294</th>\n",
       "      <td>시원한스노우리플여름누비이불패드풀세트SSQK사이즈</td>\n",
       "    </tr>\n",
       "    <tr>\n",
       "      <th>10295</th>\n",
       "      <td>순면누빔 고정밴딩 여름침대패드/인견패드</td>\n",
       "    </tr>\n",
       "    <tr>\n",
       "      <th>10296</th>\n",
       "      <td>[베드리움][금성침대 X 베드리움] [베드리움] 슈페르 프리미엄 300T 매트리스(...</td>\n",
       "    </tr>\n",
       "    <tr>\n",
       "      <th>10297</th>\n",
       "      <td>네스트호텔 인천(인천 호텔/중구/인천국제공항(중구))</td>\n",
       "    </tr>\n",
       "    <tr>\n",
       "      <th>10298</th>\n",
       "      <td>|경남 거제시| 한화리조트 거제 벨버디어(신규오픈/거제리조트/한화리조트</td>\n",
       "    </tr>\n",
       "  </tbody>\n",
       "</table>\n",
       "<p>9968 rows × 1 columns</p>\n",
       "</div>"
      ],
      "text/plain": [
       "                                                   title\n",
       "0                                          (파리바게뜨) 실키롤케익\n",
       "1                               [설빙](설빙) 설빙 디지털 금액권 2만원권\n",
       "2                               [아웃백스테이크하우스]아웃백 디지털 5만원권\n",
       "3                                   (파리바게뜨) 블레싱 초코베리 케이크\n",
       "4                        [스타벅스](스타벅스)(APP전용) e카드 3만원 교환권\n",
       "...                                                  ...\n",
       "10294                         시원한스노우리플여름누비이불패드풀세트SSQK사이즈\n",
       "10295                              순면누빔 고정밴딩 여름침대패드/인견패드\n",
       "10296  [베드리움][금성침대 X 베드리움] [베드리움] 슈페르 프리미엄 300T 매트리스(...\n",
       "10297                      네스트호텔 인천(인천 호텔/중구/인천국제공항(중구))\n",
       "10298            |경남 거제시| 한화리조트 거제 벨버디어(신규오픈/거제리조트/한화리조트\n",
       "\n",
       "[9968 rows x 1 columns]"
      ]
     },
     "execution_count": 15,
     "metadata": {},
     "output_type": "execute_result"
    }
   ],
   "source": [
    "df_title"
   ]
  },
  {
   "cell_type": "code",
   "execution_count": 16,
   "metadata": {},
   "outputs": [],
   "source": [
    "review_cv = cv.fit_transform(df_title['title'])"
   ]
  },
  {
   "cell_type": "code",
   "execution_count": null,
   "metadata": {},
   "outputs": [],
   "source": []
  },
  {
   "cell_type": "markdown",
   "metadata": {},
   "source": [
    "### DTM table 계산 계산 및 적용"
   ]
  },
  {
   "cell_type": "code",
   "execution_count": 17,
   "metadata": {},
   "outputs": [
    {
     "name": "stdout",
     "output_type": "stream",
     "text": [
      "['세트', '삼성', '전자', '여름', '남성', '블랙', '키즈', '여성', '박스', '신세계', '아이', '증정', '정품', '가방', '마스크', '무선', '화이트', '티셔츠', '프로', '아동']\n",
      "[[0 0 0 ... 0 0 0]\n",
      " [0 0 0 ... 0 0 0]\n",
      " [0 0 0 ... 0 0 0]\n",
      " ...\n",
      " [0 0 0 ... 0 1 0]\n",
      " [0 0 0 ... 0 0 0]\n",
      " [0 0 0 ... 0 0 1]]\n"
     ]
    },
    {
     "name": "stderr",
     "output_type": "stream",
     "text": [
      "C:\\Users\\USER\\AppData\\Roaming\\Python\\Python37\\site-packages\\sklearn\\utils\\deprecation.py:87: FutureWarning:\n",
      "\n",
      "Function get_feature_names is deprecated; get_feature_names is deprecated in 1.0 and will be removed in 1.2. Please use get_feature_names_out instead.\n",
      "\n"
     ]
    }
   ],
   "source": [
    "print(cv.get_feature_names()[0:20])\n",
    "print(review_cv.toarray())"
   ]
  },
  {
   "cell_type": "code",
   "execution_count": null,
   "metadata": {},
   "outputs": [],
   "source": []
  },
  {
   "cell_type": "code",
   "execution_count": 18,
   "metadata": {},
   "outputs": [],
   "source": [
    "df_review_cv = pd.DataFrame(review_cv.toarray(),columns  =cv.get_feature_names() )"
   ]
  },
  {
   "cell_type": "code",
   "execution_count": 19,
   "metadata": {},
   "outputs": [],
   "source": [
    "cv = CountVectorizer(max_features= 9000,min_df= 2, max_df= 0.7,)"
   ]
  },
  {
   "cell_type": "code",
   "execution_count": 20,
   "metadata": {},
   "outputs": [],
   "source": [
    "test = cv.fit_transform(df_title['title'].tolist())"
   ]
  },
  {
   "cell_type": "code",
   "execution_count": 21,
   "metadata": {},
   "outputs": [],
   "source": [
    "df_test = pd.DataFrame(test.toarray(), columns= cv.get_feature_names())"
   ]
  },
  {
   "cell_type": "code",
   "execution_count": 22,
   "metadata": {},
   "outputs": [
    {
     "data": {
      "text/html": [
       "<div>\n",
       "<style scoped>\n",
       "    .dataframe tbody tr th:only-of-type {\n",
       "        vertical-align: middle;\n",
       "    }\n",
       "\n",
       "    .dataframe tbody tr th {\n",
       "        vertical-align: top;\n",
       "    }\n",
       "\n",
       "    .dataframe thead th {\n",
       "        text-align: right;\n",
       "    }\n",
       "</style>\n",
       "<table border=\"1\" class=\"dataframe\">\n",
       "  <thead>\n",
       "    <tr style=\"text-align: right;\">\n",
       "      <th></th>\n",
       "      <th>00</th>\n",
       "      <th>000</th>\n",
       "      <th>0001</th>\n",
       "      <th>000원</th>\n",
       "      <th>001</th>\n",
       "      <th>00198</th>\n",
       "      <th>002</th>\n",
       "      <th>003</th>\n",
       "      <th>004</th>\n",
       "      <th>005</th>\n",
       "      <th>...</th>\n",
       "      <th>히어로</th>\n",
       "      <th>히키스</th>\n",
       "      <th>힌지보호</th>\n",
       "      <th>힐링</th>\n",
       "      <th>힐링그린</th>\n",
       "      <th>힐링팩토리</th>\n",
       "      <th>힐튼</th>\n",
       "      <th>힙분유</th>\n",
       "      <th>힙색</th>\n",
       "      <th>힙팩</th>\n",
       "    </tr>\n",
       "  </thead>\n",
       "  <tbody>\n",
       "    <tr>\n",
       "      <th>0</th>\n",
       "      <td>0</td>\n",
       "      <td>0</td>\n",
       "      <td>0</td>\n",
       "      <td>0</td>\n",
       "      <td>0</td>\n",
       "      <td>0</td>\n",
       "      <td>0</td>\n",
       "      <td>0</td>\n",
       "      <td>0</td>\n",
       "      <td>0</td>\n",
       "      <td>...</td>\n",
       "      <td>0</td>\n",
       "      <td>0</td>\n",
       "      <td>0</td>\n",
       "      <td>0</td>\n",
       "      <td>0</td>\n",
       "      <td>0</td>\n",
       "      <td>0</td>\n",
       "      <td>0</td>\n",
       "      <td>0</td>\n",
       "      <td>0</td>\n",
       "    </tr>\n",
       "    <tr>\n",
       "      <th>1</th>\n",
       "      <td>0</td>\n",
       "      <td>0</td>\n",
       "      <td>0</td>\n",
       "      <td>0</td>\n",
       "      <td>0</td>\n",
       "      <td>0</td>\n",
       "      <td>0</td>\n",
       "      <td>0</td>\n",
       "      <td>0</td>\n",
       "      <td>0</td>\n",
       "      <td>...</td>\n",
       "      <td>0</td>\n",
       "      <td>0</td>\n",
       "      <td>0</td>\n",
       "      <td>0</td>\n",
       "      <td>0</td>\n",
       "      <td>0</td>\n",
       "      <td>0</td>\n",
       "      <td>0</td>\n",
       "      <td>0</td>\n",
       "      <td>0</td>\n",
       "    </tr>\n",
       "    <tr>\n",
       "      <th>2</th>\n",
       "      <td>0</td>\n",
       "      <td>0</td>\n",
       "      <td>0</td>\n",
       "      <td>0</td>\n",
       "      <td>0</td>\n",
       "      <td>0</td>\n",
       "      <td>0</td>\n",
       "      <td>0</td>\n",
       "      <td>0</td>\n",
       "      <td>0</td>\n",
       "      <td>...</td>\n",
       "      <td>0</td>\n",
       "      <td>0</td>\n",
       "      <td>0</td>\n",
       "      <td>0</td>\n",
       "      <td>0</td>\n",
       "      <td>0</td>\n",
       "      <td>0</td>\n",
       "      <td>0</td>\n",
       "      <td>0</td>\n",
       "      <td>0</td>\n",
       "    </tr>\n",
       "    <tr>\n",
       "      <th>3</th>\n",
       "      <td>0</td>\n",
       "      <td>0</td>\n",
       "      <td>0</td>\n",
       "      <td>0</td>\n",
       "      <td>0</td>\n",
       "      <td>0</td>\n",
       "      <td>0</td>\n",
       "      <td>0</td>\n",
       "      <td>0</td>\n",
       "      <td>0</td>\n",
       "      <td>...</td>\n",
       "      <td>0</td>\n",
       "      <td>0</td>\n",
       "      <td>0</td>\n",
       "      <td>0</td>\n",
       "      <td>0</td>\n",
       "      <td>0</td>\n",
       "      <td>0</td>\n",
       "      <td>0</td>\n",
       "      <td>0</td>\n",
       "      <td>0</td>\n",
       "    </tr>\n",
       "    <tr>\n",
       "      <th>4</th>\n",
       "      <td>0</td>\n",
       "      <td>0</td>\n",
       "      <td>0</td>\n",
       "      <td>0</td>\n",
       "      <td>0</td>\n",
       "      <td>0</td>\n",
       "      <td>0</td>\n",
       "      <td>0</td>\n",
       "      <td>0</td>\n",
       "      <td>0</td>\n",
       "      <td>...</td>\n",
       "      <td>0</td>\n",
       "      <td>0</td>\n",
       "      <td>0</td>\n",
       "      <td>0</td>\n",
       "      <td>0</td>\n",
       "      <td>0</td>\n",
       "      <td>0</td>\n",
       "      <td>0</td>\n",
       "      <td>0</td>\n",
       "      <td>0</td>\n",
       "    </tr>\n",
       "    <tr>\n",
       "      <th>...</th>\n",
       "      <td>...</td>\n",
       "      <td>...</td>\n",
       "      <td>...</td>\n",
       "      <td>...</td>\n",
       "      <td>...</td>\n",
       "      <td>...</td>\n",
       "      <td>...</td>\n",
       "      <td>...</td>\n",
       "      <td>...</td>\n",
       "      <td>...</td>\n",
       "      <td>...</td>\n",
       "      <td>...</td>\n",
       "      <td>...</td>\n",
       "      <td>...</td>\n",
       "      <td>...</td>\n",
       "      <td>...</td>\n",
       "      <td>...</td>\n",
       "      <td>...</td>\n",
       "      <td>...</td>\n",
       "      <td>...</td>\n",
       "      <td>...</td>\n",
       "    </tr>\n",
       "    <tr>\n",
       "      <th>9963</th>\n",
       "      <td>0</td>\n",
       "      <td>0</td>\n",
       "      <td>0</td>\n",
       "      <td>0</td>\n",
       "      <td>0</td>\n",
       "      <td>0</td>\n",
       "      <td>0</td>\n",
       "      <td>0</td>\n",
       "      <td>0</td>\n",
       "      <td>0</td>\n",
       "      <td>...</td>\n",
       "      <td>0</td>\n",
       "      <td>0</td>\n",
       "      <td>0</td>\n",
       "      <td>0</td>\n",
       "      <td>0</td>\n",
       "      <td>0</td>\n",
       "      <td>0</td>\n",
       "      <td>0</td>\n",
       "      <td>0</td>\n",
       "      <td>0</td>\n",
       "    </tr>\n",
       "    <tr>\n",
       "      <th>9964</th>\n",
       "      <td>0</td>\n",
       "      <td>0</td>\n",
       "      <td>0</td>\n",
       "      <td>0</td>\n",
       "      <td>0</td>\n",
       "      <td>0</td>\n",
       "      <td>0</td>\n",
       "      <td>0</td>\n",
       "      <td>0</td>\n",
       "      <td>0</td>\n",
       "      <td>...</td>\n",
       "      <td>0</td>\n",
       "      <td>0</td>\n",
       "      <td>0</td>\n",
       "      <td>0</td>\n",
       "      <td>0</td>\n",
       "      <td>0</td>\n",
       "      <td>0</td>\n",
       "      <td>0</td>\n",
       "      <td>0</td>\n",
       "      <td>0</td>\n",
       "    </tr>\n",
       "    <tr>\n",
       "      <th>9965</th>\n",
       "      <td>0</td>\n",
       "      <td>0</td>\n",
       "      <td>0</td>\n",
       "      <td>0</td>\n",
       "      <td>0</td>\n",
       "      <td>0</td>\n",
       "      <td>0</td>\n",
       "      <td>0</td>\n",
       "      <td>0</td>\n",
       "      <td>0</td>\n",
       "      <td>...</td>\n",
       "      <td>0</td>\n",
       "      <td>0</td>\n",
       "      <td>0</td>\n",
       "      <td>0</td>\n",
       "      <td>0</td>\n",
       "      <td>0</td>\n",
       "      <td>0</td>\n",
       "      <td>0</td>\n",
       "      <td>0</td>\n",
       "      <td>0</td>\n",
       "    </tr>\n",
       "    <tr>\n",
       "      <th>9966</th>\n",
       "      <td>0</td>\n",
       "      <td>0</td>\n",
       "      <td>0</td>\n",
       "      <td>0</td>\n",
       "      <td>0</td>\n",
       "      <td>0</td>\n",
       "      <td>0</td>\n",
       "      <td>0</td>\n",
       "      <td>0</td>\n",
       "      <td>0</td>\n",
       "      <td>...</td>\n",
       "      <td>0</td>\n",
       "      <td>0</td>\n",
       "      <td>0</td>\n",
       "      <td>0</td>\n",
       "      <td>0</td>\n",
       "      <td>0</td>\n",
       "      <td>0</td>\n",
       "      <td>0</td>\n",
       "      <td>0</td>\n",
       "      <td>0</td>\n",
       "    </tr>\n",
       "    <tr>\n",
       "      <th>9967</th>\n",
       "      <td>0</td>\n",
       "      <td>0</td>\n",
       "      <td>0</td>\n",
       "      <td>0</td>\n",
       "      <td>0</td>\n",
       "      <td>0</td>\n",
       "      <td>0</td>\n",
       "      <td>0</td>\n",
       "      <td>0</td>\n",
       "      <td>0</td>\n",
       "      <td>...</td>\n",
       "      <td>0</td>\n",
       "      <td>0</td>\n",
       "      <td>0</td>\n",
       "      <td>0</td>\n",
       "      <td>0</td>\n",
       "      <td>0</td>\n",
       "      <td>0</td>\n",
       "      <td>0</td>\n",
       "      <td>0</td>\n",
       "      <td>0</td>\n",
       "    </tr>\n",
       "  </tbody>\n",
       "</table>\n",
       "<p>9968 rows × 8163 columns</p>\n",
       "</div>"
      ],
      "text/plain": [
       "      00  000  0001  000원  001  00198  002  003  004  005  ...  히어로  히키스  \\\n",
       "0      0    0     0     0    0      0    0    0    0    0  ...    0    0   \n",
       "1      0    0     0     0    0      0    0    0    0    0  ...    0    0   \n",
       "2      0    0     0     0    0      0    0    0    0    0  ...    0    0   \n",
       "3      0    0     0     0    0      0    0    0    0    0  ...    0    0   \n",
       "4      0    0     0     0    0      0    0    0    0    0  ...    0    0   \n",
       "...   ..  ...   ...   ...  ...    ...  ...  ...  ...  ...  ...  ...  ...   \n",
       "9963   0    0     0     0    0      0    0    0    0    0  ...    0    0   \n",
       "9964   0    0     0     0    0      0    0    0    0    0  ...    0    0   \n",
       "9965   0    0     0     0    0      0    0    0    0    0  ...    0    0   \n",
       "9966   0    0     0     0    0      0    0    0    0    0  ...    0    0   \n",
       "9967   0    0     0     0    0      0    0    0    0    0  ...    0    0   \n",
       "\n",
       "      힌지보호  힐링  힐링그린  힐링팩토리  힐튼  힙분유  힙색  힙팩  \n",
       "0        0   0     0      0   0    0   0   0  \n",
       "1        0   0     0      0   0    0   0   0  \n",
       "2        0   0     0      0   0    0   0   0  \n",
       "3        0   0     0      0   0    0   0   0  \n",
       "4        0   0     0      0   0    0   0   0  \n",
       "...    ...  ..   ...    ...  ..  ...  ..  ..  \n",
       "9963     0   0     0      0   0    0   0   0  \n",
       "9964     0   0     0      0   0    0   0   0  \n",
       "9965     0   0     0      0   0    0   0   0  \n",
       "9966     0   0     0      0   0    0   0   0  \n",
       "9967     0   0     0      0   0    0   0   0  \n",
       "\n",
       "[9968 rows x 8163 columns]"
      ]
     },
     "execution_count": 22,
     "metadata": {},
     "output_type": "execute_result"
    }
   ],
   "source": [
    "df_test"
   ]
  },
  {
   "cell_type": "markdown",
   "metadata": {},
   "source": [
    "# 데이터 정규화 & 정제"
   ]
  },
  {
   "cell_type": "code",
   "execution_count": 23,
   "metadata": {},
   "outputs": [],
   "source": [
    "import re\n",
    "\n",
    "def hasNumber(stringVal):\n",
    "    if (re.search('\\d', stringVal) == None):\n",
    "        return False\n",
    "    else:\n",
    "        return True\n",
    "    \n",
    "    \n",
    "def hasEnglish(stringVal):\n",
    "    if (re.search('[A-Za-z]',stringVal) == None):\n",
    "        return False\n",
    "    else:\n",
    "        return True"
   ]
  },
  {
   "cell_type": "code",
   "execution_count": 24,
   "metadata": {},
   "outputs": [
    {
     "data": {
      "text/plain": [
       "True"
      ]
     },
     "execution_count": 24,
     "metadata": {},
     "output_type": "execute_result"
    }
   ],
   "source": [
    "hasEnglish('a')"
   ]
  },
  {
   "cell_type": "code",
   "execution_count": 25,
   "metadata": {},
   "outputs": [],
   "source": [
    "col_lst = []\n",
    "\n",
    "for col in df_test.columns:\n",
    "    if (hasNumber(col)) or (hasEnglish(col)):\n",
    "        pass\n",
    "    else:\n",
    "        col_lst.append(col)\n",
    "    "
   ]
  },
  {
   "cell_type": "code",
   "execution_count": 26,
   "metadata": {},
   "outputs": [],
   "source": [
    "df_test_2 = df_test.loc[:,col_lst].copy()"
   ]
  },
  {
   "cell_type": "code",
   "execution_count": 27,
   "metadata": {},
   "outputs": [],
   "source": [
    "word_value = df_test_2.iloc[:,1:].apply(sum,axis=0)"
   ]
  },
  {
   "cell_type": "code",
   "execution_count": 28,
   "metadata": {},
   "outputs": [
    {
     "data": {
      "application/vnd.plotly.v1+json": {
       "config": {
        "linkText": "Export to plot.ly",
        "plotlyServerURL": "https://plot.ly",
        "showLink": true
       },
       "data": [
        {
         "marker": {
          "color": "rgba(255, 153, 51, 0.6)",
          "line": {
           "color": "rgba(255, 153, 51, 1.0)",
           "width": 1
          }
         },
         "name": "0",
         "orientation": "v",
         "text": "",
         "type": "bar",
         "x": [
          "세트",
          "삼성전자",
          "남성",
          "블랙",
          "여성",
          "여름",
          "정품",
          "화이트",
          "대용량",
          "무선",
          "티셔츠",
          "증정",
          "정관장",
          "남자",
          "아디다스",
          "블루투스",
          "국산",
          "팬츠",
          "원피스",
          "샌들",
          "나이키",
          "닌텐도",
          "마스크",
          "아동",
          "키즈",
          "삼성",
          "빅사이즈",
          "슬리퍼",
          "대형",
          "프리미엄",
          "미니",
          "반팔",
          "지오다노",
          "크록스",
          "운동화",
          "스니커즈",
          "특가",
          "신상",
          "가방",
          "호텔",
          "갤럭시",
          "갤러리아",
          "캐리어",
          "모음",
          "크로스백",
          "소니",
          "샤오미",
          "유아",
          "여자",
          "무료배송",
          "스위치",
          "쿠폰",
          "반바지",
          "캡형",
          "신세계강남점",
          "행사상품",
          "사은품",
          "케이스",
          "로지텍",
          "클래식",
          "애플",
          "어린이",
          "핸드워시",
          "모음전",
          "휴대용",
          "접이식",
          "여행용",
          "신발",
          "올인원",
          "여행가방",
          "이어폰",
          "아이깨끗해",
          "크리넥스",
          "소형",
          "다우니",
          "여름신상",
          "시리즈",
          "스피커",
          "히키스",
          "인기",
          "기프트카드",
          "썸머",
          "자전거",
          "선풍기",
          "묶음할인",
          "전단상품",
          "블루",
          "국내산",
          "복사용지",
          "종가집",
          "여아",
          "팬티",
          "리필",
          "캠핑",
          "주니어",
          "양말",
          "스포츠",
          "물티슈",
          "팸퍼스",
          "울트라",
          "현대백화점",
          "데일리",
          "새부리형",
          "샌디스크",
          "디지털",
          "샴푸",
          "가정용",
          "아기물티슈",
          "게이밍",
          "반팔티",
          "학생",
          "중형",
          "린넨",
          "백팩",
          "푸마",
          "공용",
          "시그니처",
          "유기농",
          "로션",
          "카드",
          "남여공용",
          "카시오",
          "프로",
          "더블에이",
          "오리지널",
          "골드",
          "에디션",
          "베베숲",
          "노트북",
          "스타벅스",
          "선택구매",
          "쿠쿠",
          "구찌",
          "스마트",
          "플러스",
          "필터",
          "니트",
          "데님",
          "거치대",
          "순면",
          "베이직",
          "숄더백",
          "그린",
          "차량용",
          "랑방",
          "셔츠",
          "라이트",
          "원터치",
          "크림",
          "프로틴",
          "클로그",
          "생리대",
          "블라우스",
          "카드가능",
          "기능성",
          "피스넷",
          "할인",
          "해피바스",
          "핸드폰",
          "쿠션",
          "올젠",
          "홍삼정",
          "모자",
          "거실",
          "실버",
          "가죽",
          "슬랙스",
          "남아",
          "밸런스",
          "안전화",
          "쇼핑백",
          "핑크",
          "비비고",
          "마스크팩",
          "슬립온",
          "기저귀",
          "임산부",
          "스탠드",
          "자켓",
          "경량",
          "런닝화",
          "스트랩",
          "국내생산",
          "에어",
          "화장지",
          "베스트",
          "페라가모",
          "인스탁스",
          "포기김치",
          "스탠드형",
          "자급제",
          "본사직영",
          "파우치",
          "본사",
          "캐주얼",
          "신세계센텀점",
          "패키지",
          "스킨",
          "콜라겐",
          "자물쇠",
          "스탠리",
          "아기",
          "노스페이스",
          "남여",
          "방수",
          "패드",
          "휠라",
          "네파",
          "커튼",
          "향수",
          "강원",
          "커버",
          "헤드앤숄더",
          "반팔티셔츠",
          "선택",
          "옴므",
          "쿠폰가",
          "아이스",
          "필립스",
          "헤라",
          "해피머니",
          "스판",
          "상품권",
          "워킹화",
          "캐논",
          "섬유유연제",
          "아토팜",
          "소가죽",
          "멀티",
          "벌크",
          "일회용",
          "브라운",
          "화장솜",
          "키높이",
          "잠금",
          "바지",
          "침대",
          "컬러",
          "블루레이",
          "기내용",
          "도서문화상품권",
          "손세정제",
          "작업화",
          "속옷",
          "상하복",
          "와이어",
          "다용도",
          "바람막이",
          "드로즈",
          "모바일",
          "분홍코끼리",
          "신세계의정부점",
          "신세계상품권",
          "신세계하남점",
          "왁싱",
          "암막커튼",
          "스팸",
          "모니터",
          "브리츠",
          "세탁세제",
          "세타필",
          "모바일금액권",
          "디스커버리",
          "코튼",
          "대구신세계",
          "당일발송",
          "버버리",
          "백설",
          "바디워시",
          "랜덤",
          "슬라이드",
          "용기",
          "휠라키즈",
          "슬림",
          "균일가",
          "팬티형",
          "퍼퓸",
          "마미포코",
          "에센스",
          "프로스펙스",
          "캐릭터",
          "하기스",
          "마우스",
          "선글라스",
          "좋은느낌",
          "초경량",
          "블랙야크",
          "남녀공용",
          "의자",
          "특대형",
          "전용",
          "하이뮨",
          "골프",
          "디즈니",
          "질레트",
          "레드",
          "레노버",
          "에브리타임",
          "스틱",
          "레노마",
          "투명",
          "슈즈",
          "언더아머",
          "헤지스",
          "무형광",
          "제주",
          "메쉬",
          "상하치즈",
          "위한",
          "디퓨저",
          "브리타",
          "포함",
          "아쿠아",
          "일본",
          "최대",
          "키플링",
          "창문",
          "스커트",
          "슬링백",
          "일동후디스",
          "폴로",
          "닥터그루트",
          "방탄소년단",
          "냉동",
          "시원한",
          "사계절",
          "테팔",
          "블루투스이어폰",
          "카메라",
          "그레이",
          "벨트",
          "홈플러스",
          "치약",
          "우르오스",
          "성인",
          "정장",
          "명품직구",
          "롤스크린",
          "에센셜",
          "키트",
          "박스",
          "롯데",
          "사무실",
          "단화",
          "뱅뱅",
          "피죤",
          "아이더",
          "코카콜라",
          "파워",
          "밀크",
          "다이어트",
          "낚시",
          "코닥",
          "남녀",
          "신제품",
          "다이슨",
          "사이즈",
          "여행",
          "소프트",
          "골라담기",
          "파리바게뜨",
          "일반",
          "수영복",
          "투썸플레이스",
          "이유식",
          "선크림",
          "정기구독",
          "제모제",
          "레깅스",
          "자동",
          "기념",
          "청정원",
          "초특가",
          "사은품증정",
          "리모컨",
          "설빙",
          "테이블",
          "추가증정",
          "로얄캐닌",
          "탑텐키즈",
          "누빔",
          "셀렉스",
          "여성가방",
          "닥스",
          "자외선차단",
          "아쿠아슈즈",
          "킥보드",
          "부동산",
          "로퍼",
          "초등",
          "쉬크",
          "힙색",
          "빅세일",
          "국내",
          "블루독베이비",
          "빅스마일데이",
          "선물세트",
          "모든",
          "비스포크",
          "포켓몬",
          "공식인증",
          "업소용",
          "스케쳐스",
          "풀세트",
          "풀무원",
          "에어컨",
          "알파바운스",
          "기프트",
          "본체",
          "순수식품",
          "암막",
          "상하",
          "골프공",
          "메모리폼",
          "쿨맥스",
          "패션",
          "폴햄",
          "라운드",
          "케이투",
          "호환",
          "잠옷",
          "충전식",
          "굿매너",
          "아라크네",
          "코스트코",
          "설화수",
          "인텔",
          "제모크림",
          "에어팟",
          "이야기",
          "토트백",
          "캔버스",
          "아이오페",
          "래쉬가드",
          "구두",
          "명품",
          "혼합",
          "고양이사료",
          "아이폰",
          "유한킴벌리",
          "휴지",
          "보리보리",
          "레몬",
          "신세계본점",
          "와이드",
          "바디",
          "햇반",
          "구글",
          "프라다",
          "오랄비",
          "아기치즈",
          "남성용",
          "라코스테",
          "농협",
          "시어서커",
          "액체세제",
          "베이비드라이",
          "용품",
          "발목",
          "저분자",
          "옐로우",
          "실리콘",
          "써모스",
          "영어",
          "냉장고",
          "실내",
          "오버핏",
          "순수",
          "로티캠프",
          "트레이닝",
          "잠금장치",
          "리벤스",
          "선반",
          "초등학생",
          "뉴트로지나",
          "누리푸드",
          "스파클",
          "선물",
          "컨버스",
          "단백질",
          "아동화",
          "커플",
          "미니백",
          "단품",
          "미니앨범",
          "한정판",
          "레이스",
          "스티커",
          "종근당건강",
          "스트레치",
          "인견",
          "맨투맨",
          "지오지아",
          "항균",
          "아이패드",
          "기획",
          "무선청소기",
          "부산",
          "한글판",
          "브라질리언",
          "사운드바",
          "매일유업",
          "위닉스",
          "온라인",
          "하프클럽",
          "충전",
          "일리윤",
          "뉴케어",
          "고양이",
          "밴드",
          "카라",
          "덧신",
          "성주참외",
          "레노마키즈",
          "면도기",
          "책장",
          "당일출고",
          "로고",
          "버킷햇",
          "새상품",
          "닭가슴살",
          "홈웨어",
          "메신저백",
          "롯데백화점",
          "한샘",
          "쏘피",
          "솔리드",
          "미지아",
          "비너스",
          "키보드",
          "웨스턴디지털",
          "키친아트",
          "매트리스",
          "등산",
          "싱글",
          "여성용",
          "썬캡",
          "아침농산",
          "청소기",
          "미샤",
          "보조배터리",
          "리조트",
          "사각",
          "블랙야크키즈",
          "온더바디",
          "행사",
          "마더피아",
          "검정",
          "마이비데",
          "분유",
          "이노스",
          "게이밍모니터",
          "불스원",
          "올리브영",
          "퓨어",
          "라디오",
          "셀프",
          "셀프왁싱",
          "편집부",
          "닥터지",
          "특대",
          "기획세트",
          "추가",
          "나는",
          "이마트",
          "가보흙침대",
          "다이얼",
          "임부복",
          "윌슨",
          "컴퓨터",
          "컬렉션",
          "미국",
          "베이지",
          "고급형",
          "야외",
          "차렵이불",
          "개정판",
          "브랜드",
          "공식",
          "아동복",
          "갤럭시북",
          "제이비엘",
          "고당도",
          "슬림핏",
          "물놀이",
          "잘풀리는집",
          "스쿠터",
          "노이즈캔슬링",
          "티슈",
          "레트로",
          "무결점",
          "발편한",
          "이벤트",
          "비룡소",
          "매일",
          "최신상",
          "미쟝센",
          "기본",
          "의류",
          "삼각대",
          "맥스드라이",
          "투자",
          "신형",
          "에이수스",
          "카카오프렌즈",
          "유산균",
          "플랫",
          "캉골키즈",
          "천연",
          "자가설치",
          "신일전자",
          "도브",
          "캐츠랑",
          "손오공",
          "헬렌카민스키",
          "엠보싱",
          "세이펜",
          "신세계경기점",
          "구매",
          "핸드크림",
          "젤리",
          "화이트래빗",
          "신일",
          "스킨유",
          "남성화장품",
          "헤드폰",
          "충전기",
          "코리아보드게임즈",
          "아모스",
          "버킷백",
          "그늘막",
          "아메리칸투어리스터",
          "강아지",
          "그림책",
          "먼지없는",
          "체인",
          "파스퇴르",
          "볼캡",
          "뉴니끄",
          "제스프리",
          "캉골",
          "친환경",
          "방향제",
          "밴딩",
          "확장팩",
          "고려은단",
          "퍼펙트",
          "베베드피노",
          "포켓",
          "긴팔",
          "애견패드",
          "제모",
          "정품토너",
          "레인보우",
          "간치니",
          "확장형",
          "존바바토스",
          "목걸이",
          "폴라로이드",
          "맥도날드",
          "스타스포츠",
          "팔찌",
          "백화점",
          "에버콜라겐",
          "수납",
          "북앤라이프",
          "포맨",
          "그린핑거",
          "약산성",
          "금액권",
          "컬럼비아",
          "저자극",
          "천연펄프",
          "압소바",
          "나의",
          "트리트먼트",
          "큐씨와이",
          "무배",
          "테스터",
          "세일",
          "선불",
          "꿀고구마",
          "네이비",
          "예약판매",
          "텀블러",
          "노스페이스키즈",
          "무소음",
          "르까프",
          "내일도착",
          "특등급",
          "네이처",
          "벡셀",
          "테크",
          "화분",
          "실내복",
          "블루투스스피커",
          "최종",
          "리더스",
          "토퍼",
          "보스턴백",
          "지갑",
          "로봇청소기",
          "받침대",
          "생각의",
          "무지",
          "반소매",
          "스타",
          "루즈핏",
          "중목",
          "리복",
          "태블릿",
          "요미요미",
          "부산점",
          "포장",
          "실내화",
          "전하는",
          "이쌀이다",
          "와이파이",
          "오가니스트",
          "로보락",
          "카드지갑",
          "보닌",
          "겸용",
          "신세계",
          "바야밴드",
          "배스킨라빈스",
          "유아동",
          "면도날",
          "총각김치",
          "교환권",
          "정규앨범",
          "바이",
          "포도씨유",
          "카페",
          "빅토리아",
          "무선마이크",
          "슈퍼싱글",
          "손소독제",
          "가디건",
          "블로퍼",
          "대구백화점",
          "보드게임",
          "페브리즈",
          "맥심",
          "실중량",
          "헤어",
          "점퍼",
          "어드벤쳐",
          "마사지",
          "벽걸이",
          "여행용캐리어",
          "블라인드",
          "모다모다",
          "타이틀리스트",
          "바디로션",
          "서울우유",
          "문재인의",
          "베이비",
          "갤럭시탭",
          "바디피트",
          "공기청정기",
          "물걸레",
          "오징어",
          "봄신상",
          "공식판매점",
          "일반형",
          "열쇠",
          "베베쥬",
          "메디힐",
          "반지갑",
          "비보북",
          "농심",
          "뉴발란스",
          "파라솔",
          "일반판",
          "이디야커피",
          "혜택가",
          "데일리룩",
          "통굽",
          "아토세이프",
          "월간",
          "우리",
          "어댑터",
          "듀얼",
          "보테가베네타",
          "참존",
          "특가전",
          "침대패드",
          "락포트",
          "케이블",
          "락토핏",
          "홈플러스시그니처",
          "써큘레이터",
          "좋은",
          "칫솔",
          "블랙박스",
          "참치",
          "수향미",
          "이동식",
          "모던",
          "라이트라이드",
          "아이피타임",
          "라벨영",
          "밀레",
          "발송",
          "서울",
          "에코백",
          "중복",
          "더페이스샵",
          "동원참치",
          "삼각",
          "애터미",
          "살림백서",
          "동원",
          "박스테이프",
          "반지",
          "디자인",
          "오디세이",
          "가벼운",
          "무항생제",
          "깔창",
          "깨끗한나라",
          "리큐",
          "몽블랑",
          "필름",
          "비말차단",
          "튼살크림",
          "특상",
          "수학",
          "고농축",
          "오버나이트",
          "핸드백",
          "수분",
          "헤리티지",
          "남성여성",
          "골프웨어",
          "보쉬",
          "자동차",
          "실내건조",
          "냉장",
          "매직",
          "실전",
          "비치",
          "파자마",
          "스프레이",
          "스페셜",
          "경기",
          "만화",
          "외장하드",
          "슈프림",
          "만드는",
          "멸균우유",
          "프로베스트",
          "스몰",
          "마시는",
          "피쉬",
          "고급",
          "과일나라",
          "릴리유",
          "포스터",
          "불가리",
          "이용권",
          "금강제화",
          "페이크삭스",
          "공유기",
          "마끼다",
          "인덕션",
          "인도어",
          "빠른직구",
          "심리스",
          "타미힐피거",
          "롱티",
          "아이",
          "코로나",
          "다샵",
          "고속",
          "버전선택",
          "코드",
          "아식스",
          "개별포장",
          "빅토리아앤프렌즈",
          "컴포트",
          "컬쳐랜드문화상품권",
          "컬쳐랜드",
          "전자레인지",
          "베개커버",
          "속초",
          "미국산",
          "가정의달",
          "아이러브베베",
          "커텐",
          "캘빈클라인",
          "당일도정",
          "강아지패드",
          "배터리",
          "런닝",
          "고밀도",
          "학산문화사",
          "베개",
          "베비언스",
          "베이스어스",
          "한율",
          "후라이팬",
          "전국택배",
          "넥시",
          "쇼츠",
          "크록밴드",
          "매트리스커버",
          "원형",
          "저소음",
          "클린",
          "베란다",
          "뉴발란스키즈",
          "베네통키즈",
          "문화상품권",
          "맥스",
          "바디네이처",
          "에그머니",
          "요기요",
          "원목",
          "웨지",
          "우먼",
          "에디파이어",
          "메디케이알",
          "메디플라워",
          "우븐",
          "메모리",
          "워터파크",
          "유맥스",
          "정직한패드",
          "주방세제",
          "생수",
          "예작",
          "생수전문배송",
          "잠금벨트",
          "로지텍코리아",
          "라인어디션",
          "영실업",
          "장화",
          "에코",
          "전기면도기",
          "생유산균",
          "생활공작소",
          "삼척",
          "제로",
          "화장품",
          "엡손",
          "젠북",
          "에이블루",
          "왁스",
          "리뉴",
          "이랜드잇",
          "모달",
          "마리오",
          "인기상품",
          "올리브유",
          "오은영",
          "오엠티",
          "랩신",
          "리얼메디",
          "에어데이즈",
          "리빙박스",
          "리빙",
          "입장권",
          "오렌지",
          "자가진단키트",
          "아이보리",
          "콜핑",
          "학생가방",
          "식품",
          "대원",
          "대우",
          "스마일",
          "나시",
          "강아지사료",
          "아이스박스",
          "대란",
          "패치",
          "캐치티니핑",
          "백산수",
          "아이숲",
          "해찬들",
          "아이배냇",
          "신도리코",
          "나비잠",
          "비오틴",
          "핸드",
          "특판",
          "대천김",
          "보호대",
          "배변",
          "세제",
          "시크릿",
          "게스",
          "티피링크",
          "더블",
          "아키클래식",
          "한상궁김치",
          "파우더향",
          "봄여름"
         ],
         "y": [
          305,
          248,
          216,
          210,
          182,
          178,
          158,
          134,
          129,
          122,
          121,
          119,
          115,
          106,
          106,
          106,
          103,
          100,
          99,
          97,
          97,
          96,
          94,
          94,
          92,
          92,
          89,
          85,
          85,
          80,
          80,
          77,
          75,
          75,
          75,
          72,
          72,
          72,
          72,
          69,
          69,
          64,
          62,
          61,
          60,
          59,
          58,
          58,
          57,
          57,
          57,
          56,
          56,
          55,
          55,
          55,
          55,
          54,
          53,
          53,
          53,
          53,
          52,
          51,
          51,
          48,
          48,
          48,
          47,
          47,
          47,
          46,
          45,
          45,
          45,
          45,
          45,
          45,
          44,
          44,
          44,
          44,
          44,
          44,
          44,
          43,
          43,
          43,
          43,
          43,
          42,
          42,
          42,
          42,
          42,
          41,
          40,
          40,
          39,
          39,
          39,
          39,
          39,
          39,
          39,
          39,
          38,
          38,
          38,
          38,
          38,
          37,
          37,
          37,
          37,
          36,
          36,
          36,
          35,
          35,
          35,
          35,
          35,
          34,
          34,
          34,
          34,
          33,
          33,
          33,
          33,
          33,
          32,
          32,
          32,
          32,
          32,
          32,
          32,
          31,
          31,
          31,
          31,
          31,
          31,
          31,
          30,
          30,
          30,
          30,
          30,
          30,
          30,
          30,
          30,
          30,
          30,
          29,
          29,
          29,
          29,
          29,
          29,
          29,
          29,
          29,
          29,
          29,
          28,
          28,
          28,
          28,
          28,
          28,
          28,
          28,
          28,
          28,
          28,
          28,
          27,
          27,
          27,
          27,
          27,
          27,
          27,
          27,
          27,
          27,
          26,
          26,
          26,
          26,
          26,
          26,
          26,
          26,
          26,
          26,
          26,
          26,
          26,
          25,
          25,
          25,
          25,
          25,
          25,
          25,
          25,
          25,
          24,
          24,
          24,
          24,
          24,
          24,
          24,
          24,
          24,
          24,
          24,
          24,
          24,
          24,
          23,
          23,
          23,
          23,
          23,
          23,
          23,
          23,
          23,
          23,
          23,
          23,
          22,
          22,
          22,
          22,
          22,
          22,
          22,
          22,
          22,
          22,
          22,
          22,
          22,
          21,
          21,
          21,
          21,
          21,
          21,
          21,
          21,
          21,
          21,
          21,
          21,
          21,
          21,
          21,
          21,
          21,
          20,
          20,
          20,
          20,
          20,
          20,
          20,
          20,
          20,
          20,
          20,
          20,
          20,
          20,
          20,
          20,
          19,
          19,
          19,
          19,
          19,
          19,
          19,
          19,
          19,
          19,
          19,
          19,
          19,
          19,
          19,
          19,
          19,
          19,
          19,
          19,
          19,
          19,
          19,
          19,
          19,
          18,
          18,
          18,
          18,
          18,
          18,
          18,
          18,
          18,
          18,
          18,
          18,
          18,
          18,
          18,
          18,
          18,
          18,
          18,
          18,
          18,
          18,
          18,
          18,
          18,
          18,
          18,
          18,
          18,
          18,
          17,
          17,
          17,
          17,
          17,
          17,
          17,
          17,
          17,
          17,
          17,
          17,
          17,
          17,
          17,
          17,
          17,
          17,
          17,
          17,
          17,
          17,
          17,
          17,
          17,
          16,
          16,
          16,
          16,
          16,
          16,
          16,
          16,
          16,
          16,
          16,
          16,
          16,
          16,
          16,
          16,
          16,
          16,
          16,
          16,
          16,
          16,
          16,
          16,
          16,
          16,
          16,
          16,
          16,
          16,
          16,
          16,
          16,
          16,
          16,
          16,
          16,
          16,
          16,
          16,
          15,
          15,
          15,
          15,
          15,
          15,
          15,
          15,
          15,
          15,
          15,
          15,
          15,
          15,
          15,
          15,
          15,
          15,
          15,
          15,
          15,
          15,
          15,
          15,
          15,
          15,
          15,
          15,
          15,
          15,
          15,
          15,
          15,
          15,
          15,
          15,
          15,
          15,
          15,
          14,
          14,
          14,
          14,
          14,
          14,
          14,
          14,
          14,
          14,
          14,
          14,
          14,
          14,
          14,
          14,
          14,
          14,
          14,
          14,
          14,
          14,
          14,
          14,
          14,
          14,
          14,
          14,
          14,
          14,
          14,
          14,
          14,
          14,
          14,
          14,
          14,
          14,
          14,
          14,
          14,
          14,
          14,
          14,
          14,
          14,
          14,
          14,
          14,
          14,
          14,
          14,
          14,
          14,
          14,
          14,
          14,
          14,
          14,
          14,
          14,
          14,
          14,
          14,
          13,
          13,
          13,
          13,
          13,
          13,
          13,
          13,
          13,
          13,
          13,
          13,
          13,
          13,
          13,
          13,
          13,
          13,
          13,
          13,
          13,
          13,
          13,
          13,
          13,
          13,
          13,
          13,
          13,
          13,
          13,
          13,
          13,
          13,
          13,
          13,
          13,
          13,
          13,
          13,
          13,
          13,
          13,
          13,
          13,
          13,
          13,
          13,
          13,
          13,
          13,
          13,
          12,
          12,
          12,
          12,
          12,
          12,
          12,
          12,
          12,
          12,
          12,
          12,
          12,
          12,
          12,
          12,
          12,
          12,
          12,
          12,
          12,
          12,
          12,
          12,
          12,
          12,
          12,
          12,
          12,
          12,
          12,
          12,
          12,
          12,
          12,
          12,
          12,
          12,
          12,
          12,
          12,
          12,
          12,
          12,
          12,
          12,
          12,
          12,
          12,
          12,
          12,
          12,
          12,
          12,
          12,
          12,
          12,
          12,
          12,
          12,
          12,
          12,
          12,
          12,
          12,
          12,
          11,
          11,
          11,
          11,
          11,
          11,
          11,
          11,
          11,
          11,
          11,
          11,
          11,
          11,
          11,
          11,
          11,
          11,
          11,
          11,
          11,
          11,
          11,
          11,
          11,
          11,
          11,
          11,
          11,
          11,
          11,
          11,
          11,
          11,
          11,
          11,
          11,
          11,
          11,
          11,
          11,
          11,
          11,
          11,
          11,
          11,
          11,
          11,
          11,
          11,
          11,
          11,
          11,
          11,
          11,
          11,
          11,
          11,
          11,
          11,
          11,
          11,
          11,
          11,
          11,
          11,
          11,
          11,
          11,
          11,
          11,
          11,
          11,
          11,
          11,
          11,
          11,
          11,
          11,
          10,
          10,
          10,
          10,
          10,
          10,
          10,
          10,
          10,
          10,
          10,
          10,
          10,
          10,
          10,
          10,
          10,
          10,
          10,
          10,
          10,
          10,
          10,
          10,
          10,
          10,
          10,
          10,
          10,
          10,
          10,
          10,
          10,
          10,
          10,
          10,
          10,
          10,
          10,
          10,
          10,
          10,
          10,
          10,
          10,
          10,
          10,
          10,
          10,
          10,
          10,
          10,
          10,
          10,
          10,
          10,
          10,
          10,
          10,
          10,
          10,
          10,
          10,
          10,
          10,
          10,
          10,
          10,
          10,
          10,
          10,
          10,
          10,
          10,
          10,
          10,
          10,
          10,
          10,
          10,
          10,
          10,
          10,
          10,
          10,
          10,
          10,
          10,
          10,
          10,
          10,
          10,
          10,
          10,
          10,
          10,
          10,
          9,
          9,
          9,
          9,
          9,
          9,
          9,
          9,
          9,
          9,
          9,
          9,
          9,
          9,
          9,
          9,
          9,
          9,
          9,
          9,
          9,
          9,
          9,
          9,
          9,
          9,
          9,
          9,
          9,
          9,
          9,
          9,
          9,
          9,
          9,
          9,
          9,
          9,
          9,
          9,
          9,
          9,
          9,
          9,
          9,
          9,
          9,
          9,
          9,
          9,
          9,
          9,
          9,
          9,
          9,
          9,
          9,
          9,
          9,
          9,
          9,
          9,
          9,
          9,
          9,
          9,
          9,
          9,
          9,
          9,
          9,
          9,
          9,
          9,
          9,
          9,
          9,
          9,
          9,
          9,
          9,
          9,
          9,
          9,
          9,
          9,
          9,
          9,
          9,
          9,
          9,
          9,
          9,
          9,
          9,
          9,
          9,
          9,
          9,
          9,
          9,
          9,
          9,
          9,
          9,
          9,
          9,
          9,
          9,
          9,
          9,
          9,
          9,
          9,
          9,
          8,
          8,
          8,
          8,
          8,
          8,
          8,
          8,
          8,
          8,
          8,
          8,
          8,
          8,
          8,
          8,
          8,
          8,
          8,
          8,
          8,
          8,
          8,
          8,
          8,
          8,
          8,
          8,
          8,
          8,
          8,
          8,
          8,
          8,
          8,
          8,
          8,
          8,
          8,
          8,
          8,
          8,
          8,
          8,
          8,
          8,
          8,
          8,
          8,
          8,
          8,
          8,
          8,
          8,
          8,
          8,
          8,
          8,
          8,
          8,
          8,
          8,
          8,
          8,
          8,
          8,
          8,
          8,
          8,
          8,
          8,
          8,
          8,
          8,
          8,
          8,
          8,
          8,
          8,
          8,
          8,
          8,
          8,
          8
         ]
        }
       ],
       "layout": {
        "legend": {
         "bgcolor": "#F5F6F9",
         "font": {
          "color": "#4D5663"
         }
        },
        "paper_bgcolor": "#F5F6F9",
        "plot_bgcolor": "#F5F6F9",
        "template": {
         "data": {
          "bar": [
           {
            "error_x": {
             "color": "#2a3f5f"
            },
            "error_y": {
             "color": "#2a3f5f"
            },
            "marker": {
             "line": {
              "color": "#E5ECF6",
              "width": 0.5
             },
             "pattern": {
              "fillmode": "overlay",
              "size": 10,
              "solidity": 0.2
             }
            },
            "type": "bar"
           }
          ],
          "barpolar": [
           {
            "marker": {
             "line": {
              "color": "#E5ECF6",
              "width": 0.5
             },
             "pattern": {
              "fillmode": "overlay",
              "size": 10,
              "solidity": 0.2
             }
            },
            "type": "barpolar"
           }
          ],
          "carpet": [
           {
            "aaxis": {
             "endlinecolor": "#2a3f5f",
             "gridcolor": "white",
             "linecolor": "white",
             "minorgridcolor": "white",
             "startlinecolor": "#2a3f5f"
            },
            "baxis": {
             "endlinecolor": "#2a3f5f",
             "gridcolor": "white",
             "linecolor": "white",
             "minorgridcolor": "white",
             "startlinecolor": "#2a3f5f"
            },
            "type": "carpet"
           }
          ],
          "choropleth": [
           {
            "colorbar": {
             "outlinewidth": 0,
             "ticks": ""
            },
            "type": "choropleth"
           }
          ],
          "contour": [
           {
            "colorbar": {
             "outlinewidth": 0,
             "ticks": ""
            },
            "colorscale": [
             [
              0,
              "#0d0887"
             ],
             [
              0.1111111111111111,
              "#46039f"
             ],
             [
              0.2222222222222222,
              "#7201a8"
             ],
             [
              0.3333333333333333,
              "#9c179e"
             ],
             [
              0.4444444444444444,
              "#bd3786"
             ],
             [
              0.5555555555555556,
              "#d8576b"
             ],
             [
              0.6666666666666666,
              "#ed7953"
             ],
             [
              0.7777777777777778,
              "#fb9f3a"
             ],
             [
              0.8888888888888888,
              "#fdca26"
             ],
             [
              1,
              "#f0f921"
             ]
            ],
            "type": "contour"
           }
          ],
          "contourcarpet": [
           {
            "colorbar": {
             "outlinewidth": 0,
             "ticks": ""
            },
            "type": "contourcarpet"
           }
          ],
          "heatmap": [
           {
            "colorbar": {
             "outlinewidth": 0,
             "ticks": ""
            },
            "colorscale": [
             [
              0,
              "#0d0887"
             ],
             [
              0.1111111111111111,
              "#46039f"
             ],
             [
              0.2222222222222222,
              "#7201a8"
             ],
             [
              0.3333333333333333,
              "#9c179e"
             ],
             [
              0.4444444444444444,
              "#bd3786"
             ],
             [
              0.5555555555555556,
              "#d8576b"
             ],
             [
              0.6666666666666666,
              "#ed7953"
             ],
             [
              0.7777777777777778,
              "#fb9f3a"
             ],
             [
              0.8888888888888888,
              "#fdca26"
             ],
             [
              1,
              "#f0f921"
             ]
            ],
            "type": "heatmap"
           }
          ],
          "heatmapgl": [
           {
            "colorbar": {
             "outlinewidth": 0,
             "ticks": ""
            },
            "colorscale": [
             [
              0,
              "#0d0887"
             ],
             [
              0.1111111111111111,
              "#46039f"
             ],
             [
              0.2222222222222222,
              "#7201a8"
             ],
             [
              0.3333333333333333,
              "#9c179e"
             ],
             [
              0.4444444444444444,
              "#bd3786"
             ],
             [
              0.5555555555555556,
              "#d8576b"
             ],
             [
              0.6666666666666666,
              "#ed7953"
             ],
             [
              0.7777777777777778,
              "#fb9f3a"
             ],
             [
              0.8888888888888888,
              "#fdca26"
             ],
             [
              1,
              "#f0f921"
             ]
            ],
            "type": "heatmapgl"
           }
          ],
          "histogram": [
           {
            "marker": {
             "pattern": {
              "fillmode": "overlay",
              "size": 10,
              "solidity": 0.2
             }
            },
            "type": "histogram"
           }
          ],
          "histogram2d": [
           {
            "colorbar": {
             "outlinewidth": 0,
             "ticks": ""
            },
            "colorscale": [
             [
              0,
              "#0d0887"
             ],
             [
              0.1111111111111111,
              "#46039f"
             ],
             [
              0.2222222222222222,
              "#7201a8"
             ],
             [
              0.3333333333333333,
              "#9c179e"
             ],
             [
              0.4444444444444444,
              "#bd3786"
             ],
             [
              0.5555555555555556,
              "#d8576b"
             ],
             [
              0.6666666666666666,
              "#ed7953"
             ],
             [
              0.7777777777777778,
              "#fb9f3a"
             ],
             [
              0.8888888888888888,
              "#fdca26"
             ],
             [
              1,
              "#f0f921"
             ]
            ],
            "type": "histogram2d"
           }
          ],
          "histogram2dcontour": [
           {
            "colorbar": {
             "outlinewidth": 0,
             "ticks": ""
            },
            "colorscale": [
             [
              0,
              "#0d0887"
             ],
             [
              0.1111111111111111,
              "#46039f"
             ],
             [
              0.2222222222222222,
              "#7201a8"
             ],
             [
              0.3333333333333333,
              "#9c179e"
             ],
             [
              0.4444444444444444,
              "#bd3786"
             ],
             [
              0.5555555555555556,
              "#d8576b"
             ],
             [
              0.6666666666666666,
              "#ed7953"
             ],
             [
              0.7777777777777778,
              "#fb9f3a"
             ],
             [
              0.8888888888888888,
              "#fdca26"
             ],
             [
              1,
              "#f0f921"
             ]
            ],
            "type": "histogram2dcontour"
           }
          ],
          "mesh3d": [
           {
            "colorbar": {
             "outlinewidth": 0,
             "ticks": ""
            },
            "type": "mesh3d"
           }
          ],
          "parcoords": [
           {
            "line": {
             "colorbar": {
              "outlinewidth": 0,
              "ticks": ""
             }
            },
            "type": "parcoords"
           }
          ],
          "pie": [
           {
            "automargin": true,
            "type": "pie"
           }
          ],
          "scatter": [
           {
            "marker": {
             "colorbar": {
              "outlinewidth": 0,
              "ticks": ""
             }
            },
            "type": "scatter"
           }
          ],
          "scatter3d": [
           {
            "line": {
             "colorbar": {
              "outlinewidth": 0,
              "ticks": ""
             }
            },
            "marker": {
             "colorbar": {
              "outlinewidth": 0,
              "ticks": ""
             }
            },
            "type": "scatter3d"
           }
          ],
          "scattercarpet": [
           {
            "marker": {
             "colorbar": {
              "outlinewidth": 0,
              "ticks": ""
             }
            },
            "type": "scattercarpet"
           }
          ],
          "scattergeo": [
           {
            "marker": {
             "colorbar": {
              "outlinewidth": 0,
              "ticks": ""
             }
            },
            "type": "scattergeo"
           }
          ],
          "scattergl": [
           {
            "marker": {
             "colorbar": {
              "outlinewidth": 0,
              "ticks": ""
             }
            },
            "type": "scattergl"
           }
          ],
          "scattermapbox": [
           {
            "marker": {
             "colorbar": {
              "outlinewidth": 0,
              "ticks": ""
             }
            },
            "type": "scattermapbox"
           }
          ],
          "scatterpolar": [
           {
            "marker": {
             "colorbar": {
              "outlinewidth": 0,
              "ticks": ""
             }
            },
            "type": "scatterpolar"
           }
          ],
          "scatterpolargl": [
           {
            "marker": {
             "colorbar": {
              "outlinewidth": 0,
              "ticks": ""
             }
            },
            "type": "scatterpolargl"
           }
          ],
          "scatterternary": [
           {
            "marker": {
             "colorbar": {
              "outlinewidth": 0,
              "ticks": ""
             }
            },
            "type": "scatterternary"
           }
          ],
          "surface": [
           {
            "colorbar": {
             "outlinewidth": 0,
             "ticks": ""
            },
            "colorscale": [
             [
              0,
              "#0d0887"
             ],
             [
              0.1111111111111111,
              "#46039f"
             ],
             [
              0.2222222222222222,
              "#7201a8"
             ],
             [
              0.3333333333333333,
              "#9c179e"
             ],
             [
              0.4444444444444444,
              "#bd3786"
             ],
             [
              0.5555555555555556,
              "#d8576b"
             ],
             [
              0.6666666666666666,
              "#ed7953"
             ],
             [
              0.7777777777777778,
              "#fb9f3a"
             ],
             [
              0.8888888888888888,
              "#fdca26"
             ],
             [
              1,
              "#f0f921"
             ]
            ],
            "type": "surface"
           }
          ],
          "table": [
           {
            "cells": {
             "fill": {
              "color": "#EBF0F8"
             },
             "line": {
              "color": "white"
             }
            },
            "header": {
             "fill": {
              "color": "#C8D4E3"
             },
             "line": {
              "color": "white"
             }
            },
            "type": "table"
           }
          ]
         },
         "layout": {
          "annotationdefaults": {
           "arrowcolor": "#2a3f5f",
           "arrowhead": 0,
           "arrowwidth": 1
          },
          "autotypenumbers": "strict",
          "coloraxis": {
           "colorbar": {
            "outlinewidth": 0,
            "ticks": ""
           }
          },
          "colorscale": {
           "diverging": [
            [
             0,
             "#8e0152"
            ],
            [
             0.1,
             "#c51b7d"
            ],
            [
             0.2,
             "#de77ae"
            ],
            [
             0.3,
             "#f1b6da"
            ],
            [
             0.4,
             "#fde0ef"
            ],
            [
             0.5,
             "#f7f7f7"
            ],
            [
             0.6,
             "#e6f5d0"
            ],
            [
             0.7,
             "#b8e186"
            ],
            [
             0.8,
             "#7fbc41"
            ],
            [
             0.9,
             "#4d9221"
            ],
            [
             1,
             "#276419"
            ]
           ],
           "sequential": [
            [
             0,
             "#0d0887"
            ],
            [
             0.1111111111111111,
             "#46039f"
            ],
            [
             0.2222222222222222,
             "#7201a8"
            ],
            [
             0.3333333333333333,
             "#9c179e"
            ],
            [
             0.4444444444444444,
             "#bd3786"
            ],
            [
             0.5555555555555556,
             "#d8576b"
            ],
            [
             0.6666666666666666,
             "#ed7953"
            ],
            [
             0.7777777777777778,
             "#fb9f3a"
            ],
            [
             0.8888888888888888,
             "#fdca26"
            ],
            [
             1,
             "#f0f921"
            ]
           ],
           "sequentialminus": [
            [
             0,
             "#0d0887"
            ],
            [
             0.1111111111111111,
             "#46039f"
            ],
            [
             0.2222222222222222,
             "#7201a8"
            ],
            [
             0.3333333333333333,
             "#9c179e"
            ],
            [
             0.4444444444444444,
             "#bd3786"
            ],
            [
             0.5555555555555556,
             "#d8576b"
            ],
            [
             0.6666666666666666,
             "#ed7953"
            ],
            [
             0.7777777777777778,
             "#fb9f3a"
            ],
            [
             0.8888888888888888,
             "#fdca26"
            ],
            [
             1,
             "#f0f921"
            ]
           ]
          },
          "colorway": [
           "#636efa",
           "#EF553B",
           "#00cc96",
           "#ab63fa",
           "#FFA15A",
           "#19d3f3",
           "#FF6692",
           "#B6E880",
           "#FF97FF",
           "#FECB52"
          ],
          "font": {
           "color": "#2a3f5f"
          },
          "geo": {
           "bgcolor": "white",
           "lakecolor": "white",
           "landcolor": "#E5ECF6",
           "showlakes": true,
           "showland": true,
           "subunitcolor": "white"
          },
          "hoverlabel": {
           "align": "left"
          },
          "hovermode": "closest",
          "mapbox": {
           "style": "light"
          },
          "paper_bgcolor": "white",
          "plot_bgcolor": "#E5ECF6",
          "polar": {
           "angularaxis": {
            "gridcolor": "white",
            "linecolor": "white",
            "ticks": ""
           },
           "bgcolor": "#E5ECF6",
           "radialaxis": {
            "gridcolor": "white",
            "linecolor": "white",
            "ticks": ""
           }
          },
          "scene": {
           "xaxis": {
            "backgroundcolor": "#E5ECF6",
            "gridcolor": "white",
            "gridwidth": 2,
            "linecolor": "white",
            "showbackground": true,
            "ticks": "",
            "zerolinecolor": "white"
           },
           "yaxis": {
            "backgroundcolor": "#E5ECF6",
            "gridcolor": "white",
            "gridwidth": 2,
            "linecolor": "white",
            "showbackground": true,
            "ticks": "",
            "zerolinecolor": "white"
           },
           "zaxis": {
            "backgroundcolor": "#E5ECF6",
            "gridcolor": "white",
            "gridwidth": 2,
            "linecolor": "white",
            "showbackground": true,
            "ticks": "",
            "zerolinecolor": "white"
           }
          },
          "shapedefaults": {
           "line": {
            "color": "#2a3f5f"
           }
          },
          "ternary": {
           "aaxis": {
            "gridcolor": "white",
            "linecolor": "white",
            "ticks": ""
           },
           "baxis": {
            "gridcolor": "white",
            "linecolor": "white",
            "ticks": ""
           },
           "bgcolor": "#E5ECF6",
           "caxis": {
            "gridcolor": "white",
            "linecolor": "white",
            "ticks": ""
           }
          },
          "title": {
           "x": 0.05
          },
          "xaxis": {
           "automargin": true,
           "gridcolor": "white",
           "linecolor": "white",
           "ticks": "",
           "title": {
            "standoff": 15
           },
           "zerolinecolor": "white",
           "zerolinewidth": 2
          },
          "yaxis": {
           "automargin": true,
           "gridcolor": "white",
           "linecolor": "white",
           "ticks": "",
           "title": {
            "standoff": 15
           },
           "zerolinecolor": "white",
           "zerolinewidth": 2
          }
         }
        },
        "title": {
         "font": {
          "color": "#4D5663"
         },
         "text": "단어 별 발생 빈도 1000순위 까지"
        },
        "xaxis": {
         "gridcolor": "#E1E5ED",
         "showgrid": true,
         "tickfont": {
          "color": "#4D5663"
         },
         "title": {
          "font": {
           "color": "#4D5663"
          },
          "text": ""
         },
         "zerolinecolor": "#E1E5ED"
        },
        "yaxis": {
         "gridcolor": "#E1E5ED",
         "showgrid": true,
         "tickfont": {
          "color": "#4D5663"
         },
         "title": {
          "font": {
           "color": "#4D5663"
          },
          "text": ""
         },
         "zerolinecolor": "#E1E5ED"
        }
       }
      },
      "text/html": [
       "<div>                            <div id=\"e25be27d-8332-4f95-932f-2f695a4e8dbd\" class=\"plotly-graph-div\" style=\"height:525px; width:100%;\"></div>            <script type=\"text/javascript\">                require([\"plotly\"], function(Plotly) {                    window.PLOTLYENV=window.PLOTLYENV || {};\n",
       "                    window.PLOTLYENV.BASE_URL='https://plot.ly';                                    if (document.getElementById(\"e25be27d-8332-4f95-932f-2f695a4e8dbd\")) {                    Plotly.newPlot(                        \"e25be27d-8332-4f95-932f-2f695a4e8dbd\",                        [{\"marker\":{\"color\":\"rgba(255, 153, 51, 0.6)\",\"line\":{\"color\":\"rgba(255, 153, 51, 1.0)\",\"width\":1}},\"name\":\"0\",\"orientation\":\"v\",\"text\":\"\",\"x\":[\"\\uc138\\ud2b8\",\"\\uc0bc\\uc131\\uc804\\uc790\",\"\\ub0a8\\uc131\",\"\\ube14\\ub799\",\"\\uc5ec\\uc131\",\"\\uc5ec\\ub984\",\"\\uc815\\ud488\",\"\\ud654\\uc774\\ud2b8\",\"\\ub300\\uc6a9\\ub7c9\",\"\\ubb34\\uc120\",\"\\ud2f0\\uc154\\uce20\",\"\\uc99d\\uc815\",\"\\uc815\\uad00\\uc7a5\",\"\\ub0a8\\uc790\",\"\\uc544\\ub514\\ub2e4\\uc2a4\",\"\\ube14\\ub8e8\\ud22c\\uc2a4\",\"\\uad6d\\uc0b0\",\"\\ud32c\\uce20\",\"\\uc6d0\\ud53c\\uc2a4\",\"\\uc0cc\\ub4e4\",\"\\ub098\\uc774\\ud0a4\",\"\\ub2cc\\ud150\\ub3c4\",\"\\ub9c8\\uc2a4\\ud06c\",\"\\uc544\\ub3d9\",\"\\ud0a4\\uc988\",\"\\uc0bc\\uc131\",\"\\ube45\\uc0ac\\uc774\\uc988\",\"\\uc2ac\\ub9ac\\ud37c\",\"\\ub300\\ud615\",\"\\ud504\\ub9ac\\ubbf8\\uc5c4\",\"\\ubbf8\\ub2c8\",\"\\ubc18\\ud314\",\"\\uc9c0\\uc624\\ub2e4\\ub178\",\"\\ud06c\\ub85d\\uc2a4\",\"\\uc6b4\\ub3d9\\ud654\",\"\\uc2a4\\ub2c8\\ucee4\\uc988\",\"\\ud2b9\\uac00\",\"\\uc2e0\\uc0c1\",\"\\uac00\\ubc29\",\"\\ud638\\ud154\",\"\\uac24\\ub7ed\\uc2dc\",\"\\uac24\\ub7ec\\ub9ac\\uc544\",\"\\uce90\\ub9ac\\uc5b4\",\"\\ubaa8\\uc74c\",\"\\ud06c\\ub85c\\uc2a4\\ubc31\",\"\\uc18c\\ub2c8\",\"\\uc0e4\\uc624\\ubbf8\",\"\\uc720\\uc544\",\"\\uc5ec\\uc790\",\"\\ubb34\\ub8cc\\ubc30\\uc1a1\",\"\\uc2a4\\uc704\\uce58\",\"\\ucfe0\\ud3f0\",\"\\ubc18\\ubc14\\uc9c0\",\"\\ucea1\\ud615\",\"\\uc2e0\\uc138\\uacc4\\uac15\\ub0a8\\uc810\",\"\\ud589\\uc0ac\\uc0c1\\ud488\",\"\\uc0ac\\uc740\\ud488\",\"\\ucf00\\uc774\\uc2a4\",\"\\ub85c\\uc9c0\\ud14d\",\"\\ud074\\ub798\\uc2dd\",\"\\uc560\\ud50c\",\"\\uc5b4\\ub9b0\\uc774\",\"\\ud578\\ub4dc\\uc6cc\\uc2dc\",\"\\ubaa8\\uc74c\\uc804\",\"\\ud734\\ub300\\uc6a9\",\"\\uc811\\uc774\\uc2dd\",\"\\uc5ec\\ud589\\uc6a9\",\"\\uc2e0\\ubc1c\",\"\\uc62c\\uc778\\uc6d0\",\"\\uc5ec\\ud589\\uac00\\ubc29\",\"\\uc774\\uc5b4\\ud3f0\",\"\\uc544\\uc774\\uae68\\ub057\\ud574\",\"\\ud06c\\ub9ac\\ub125\\uc2a4\",\"\\uc18c\\ud615\",\"\\ub2e4\\uc6b0\\ub2c8\",\"\\uc5ec\\ub984\\uc2e0\\uc0c1\",\"\\uc2dc\\ub9ac\\uc988\",\"\\uc2a4\\ud53c\\ucee4\",\"\\ud788\\ud0a4\\uc2a4\",\"\\uc778\\uae30\",\"\\uae30\\ud504\\ud2b8\\uce74\\ub4dc\",\"\\uc378\\uba38\",\"\\uc790\\uc804\\uac70\",\"\\uc120\\ud48d\\uae30\",\"\\ubb36\\uc74c\\ud560\\uc778\",\"\\uc804\\ub2e8\\uc0c1\\ud488\",\"\\ube14\\ub8e8\",\"\\uad6d\\ub0b4\\uc0b0\",\"\\ubcf5\\uc0ac\\uc6a9\\uc9c0\",\"\\uc885\\uac00\\uc9d1\",\"\\uc5ec\\uc544\",\"\\ud32c\\ud2f0\",\"\\ub9ac\\ud544\",\"\\ucea0\\ud551\",\"\\uc8fc\\ub2c8\\uc5b4\",\"\\uc591\\ub9d0\",\"\\uc2a4\\ud3ec\\uce20\",\"\\ubb3c\\ud2f0\\uc288\",\"\\ud338\\ud37c\\uc2a4\",\"\\uc6b8\\ud2b8\\ub77c\",\"\\ud604\\ub300\\ubc31\\ud654\\uc810\",\"\\ub370\\uc77c\\ub9ac\",\"\\uc0c8\\ubd80\\ub9ac\\ud615\",\"\\uc0cc\\ub514\\uc2a4\\ud06c\",\"\\ub514\\uc9c0\\ud138\",\"\\uc0f4\\ud478\",\"\\uac00\\uc815\\uc6a9\",\"\\uc544\\uae30\\ubb3c\\ud2f0\\uc288\",\"\\uac8c\\uc774\\ubc0d\",\"\\ubc18\\ud314\\ud2f0\",\"\\ud559\\uc0dd\",\"\\uc911\\ud615\",\"\\ub9b0\\ub128\",\"\\ubc31\\ud329\",\"\\ud478\\ub9c8\",\"\\uacf5\\uc6a9\",\"\\uc2dc\\uadf8\\ub2c8\\ucc98\",\"\\uc720\\uae30\\ub18d\",\"\\ub85c\\uc158\",\"\\uce74\\ub4dc\",\"\\ub0a8\\uc5ec\\uacf5\\uc6a9\",\"\\uce74\\uc2dc\\uc624\",\"\\ud504\\ub85c\",\"\\ub354\\ube14\\uc5d0\\uc774\",\"\\uc624\\ub9ac\\uc9c0\\ub110\",\"\\uace8\\ub4dc\",\"\\uc5d0\\ub514\\uc158\",\"\\ubca0\\ubca0\\uc232\",\"\\ub178\\ud2b8\\ubd81\",\"\\uc2a4\\ud0c0\\ubc85\\uc2a4\",\"\\uc120\\ud0dd\\uad6c\\ub9e4\",\"\\ucfe0\\ucfe0\",\"\\uad6c\\ucc0c\",\"\\uc2a4\\ub9c8\\ud2b8\",\"\\ud50c\\ub7ec\\uc2a4\",\"\\ud544\\ud130\",\"\\ub2c8\\ud2b8\",\"\\ub370\\ub2d8\",\"\\uac70\\uce58\\ub300\",\"\\uc21c\\uba74\",\"\\ubca0\\uc774\\uc9c1\",\"\\uc204\\ub354\\ubc31\",\"\\uadf8\\ub9b0\",\"\\ucc28\\ub7c9\\uc6a9\",\"\\ub791\\ubc29\",\"\\uc154\\uce20\",\"\\ub77c\\uc774\\ud2b8\",\"\\uc6d0\\ud130\\uce58\",\"\\ud06c\\ub9bc\",\"\\ud504\\ub85c\\ud2f4\",\"\\ud074\\ub85c\\uadf8\",\"\\uc0dd\\ub9ac\\ub300\",\"\\ube14\\ub77c\\uc6b0\\uc2a4\",\"\\uce74\\ub4dc\\uac00\\ub2a5\",\"\\uae30\\ub2a5\\uc131\",\"\\ud53c\\uc2a4\\ub137\",\"\\ud560\\uc778\",\"\\ud574\\ud53c\\ubc14\\uc2a4\",\"\\ud578\\ub4dc\\ud3f0\",\"\\ucfe0\\uc158\",\"\\uc62c\\uc820\",\"\\ud64d\\uc0bc\\uc815\",\"\\ubaa8\\uc790\",\"\\uac70\\uc2e4\",\"\\uc2e4\\ubc84\",\"\\uac00\\uc8fd\",\"\\uc2ac\\ub799\\uc2a4\",\"\\ub0a8\\uc544\",\"\\ubc38\\ub7f0\\uc2a4\",\"\\uc548\\uc804\\ud654\",\"\\uc1fc\\ud551\\ubc31\",\"\\ud551\\ud06c\",\"\\ube44\\ube44\\uace0\",\"\\ub9c8\\uc2a4\\ud06c\\ud329\",\"\\uc2ac\\ub9bd\\uc628\",\"\\uae30\\uc800\\uadc0\",\"\\uc784\\uc0b0\\ubd80\",\"\\uc2a4\\ud0e0\\ub4dc\",\"\\uc790\\ucf13\",\"\\uacbd\\ub7c9\",\"\\ub7f0\\ub2dd\\ud654\",\"\\uc2a4\\ud2b8\\ub7a9\",\"\\uad6d\\ub0b4\\uc0dd\\uc0b0\",\"\\uc5d0\\uc5b4\",\"\\ud654\\uc7a5\\uc9c0\",\"\\ubca0\\uc2a4\\ud2b8\",\"\\ud398\\ub77c\\uac00\\ubaa8\",\"\\uc778\\uc2a4\\ud0c1\\uc2a4\",\"\\ud3ec\\uae30\\uae40\\uce58\",\"\\uc2a4\\ud0e0\\ub4dc\\ud615\",\"\\uc790\\uae09\\uc81c\",\"\\ubcf8\\uc0ac\\uc9c1\\uc601\",\"\\ud30c\\uc6b0\\uce58\",\"\\ubcf8\\uc0ac\",\"\\uce90\\uc8fc\\uc5bc\",\"\\uc2e0\\uc138\\uacc4\\uc13c\\ud140\\uc810\",\"\\ud328\\ud0a4\\uc9c0\",\"\\uc2a4\\ud0a8\",\"\\ucf5c\\ub77c\\uac90\",\"\\uc790\\ubb3c\\uc1e0\",\"\\uc2a4\\ud0e0\\ub9ac\",\"\\uc544\\uae30\",\"\\ub178\\uc2a4\\ud398\\uc774\\uc2a4\",\"\\ub0a8\\uc5ec\",\"\\ubc29\\uc218\",\"\\ud328\\ub4dc\",\"\\ud720\\ub77c\",\"\\ub124\\ud30c\",\"\\ucee4\\ud2bc\",\"\\ud5a5\\uc218\",\"\\uac15\\uc6d0\",\"\\ucee4\\ubc84\",\"\\ud5e4\\ub4dc\\uc564\\uc204\\ub354\",\"\\ubc18\\ud314\\ud2f0\\uc154\\uce20\",\"\\uc120\\ud0dd\",\"\\uc634\\ubbc0\",\"\\ucfe0\\ud3f0\\uac00\",\"\\uc544\\uc774\\uc2a4\",\"\\ud544\\ub9bd\\uc2a4\",\"\\ud5e4\\ub77c\",\"\\ud574\\ud53c\\uba38\\ub2c8\",\"\\uc2a4\\ud310\",\"\\uc0c1\\ud488\\uad8c\",\"\\uc6cc\\ud0b9\\ud654\",\"\\uce90\\ub17c\",\"\\uc12c\\uc720\\uc720\\uc5f0\\uc81c\",\"\\uc544\\ud1a0\\ud31c\",\"\\uc18c\\uac00\\uc8fd\",\"\\uba40\\ud2f0\",\"\\ubc8c\\ud06c\",\"\\uc77c\\ud68c\\uc6a9\",\"\\ube0c\\ub77c\\uc6b4\",\"\\ud654\\uc7a5\\uc19c\",\"\\ud0a4\\ub192\\uc774\",\"\\uc7a0\\uae08\",\"\\ubc14\\uc9c0\",\"\\uce68\\ub300\",\"\\uceec\\ub7ec\",\"\\ube14\\ub8e8\\ub808\\uc774\",\"\\uae30\\ub0b4\\uc6a9\",\"\\ub3c4\\uc11c\\ubb38\\ud654\\uc0c1\\ud488\\uad8c\",\"\\uc190\\uc138\\uc815\\uc81c\",\"\\uc791\\uc5c5\\ud654\",\"\\uc18d\\uc637\",\"\\uc0c1\\ud558\\ubcf5\",\"\\uc640\\uc774\\uc5b4\",\"\\ub2e4\\uc6a9\\ub3c4\",\"\\ubc14\\ub78c\\ub9c9\\uc774\",\"\\ub4dc\\ub85c\\uc988\",\"\\ubaa8\\ubc14\\uc77c\",\"\\ubd84\\ud64d\\ucf54\\ub07c\\ub9ac\",\"\\uc2e0\\uc138\\uacc4\\uc758\\uc815\\ubd80\\uc810\",\"\\uc2e0\\uc138\\uacc4\\uc0c1\\ud488\\uad8c\",\"\\uc2e0\\uc138\\uacc4\\ud558\\ub0a8\\uc810\",\"\\uc641\\uc2f1\",\"\\uc554\\ub9c9\\ucee4\\ud2bc\",\"\\uc2a4\\ud338\",\"\\ubaa8\\ub2c8\\ud130\",\"\\ube0c\\ub9ac\\uce20\",\"\\uc138\\ud0c1\\uc138\\uc81c\",\"\\uc138\\ud0c0\\ud544\",\"\\ubaa8\\ubc14\\uc77c\\uae08\\uc561\\uad8c\",\"\\ub514\\uc2a4\\ucee4\\ubc84\\ub9ac\",\"\\ucf54\\ud2bc\",\"\\ub300\\uad6c\\uc2e0\\uc138\\uacc4\",\"\\ub2f9\\uc77c\\ubc1c\\uc1a1\",\"\\ubc84\\ubc84\\ub9ac\",\"\\ubc31\\uc124\",\"\\ubc14\\ub514\\uc6cc\\uc2dc\",\"\\ub79c\\ub364\",\"\\uc2ac\\ub77c\\uc774\\ub4dc\",\"\\uc6a9\\uae30\",\"\\ud720\\ub77c\\ud0a4\\uc988\",\"\\uc2ac\\ub9bc\",\"\\uade0\\uc77c\\uac00\",\"\\ud32c\\ud2f0\\ud615\",\"\\ud37c\\ud4f8\",\"\\ub9c8\\ubbf8\\ud3ec\\ucf54\",\"\\uc5d0\\uc13c\\uc2a4\",\"\\ud504\\ub85c\\uc2a4\\ud399\\uc2a4\",\"\\uce90\\ub9ad\\ud130\",\"\\ud558\\uae30\\uc2a4\",\"\\ub9c8\\uc6b0\\uc2a4\",\"\\uc120\\uae00\\ub77c\\uc2a4\",\"\\uc88b\\uc740\\ub290\\ub08c\",\"\\ucd08\\uacbd\\ub7c9\",\"\\ube14\\ub799\\uc57c\\ud06c\",\"\\ub0a8\\ub140\\uacf5\\uc6a9\",\"\\uc758\\uc790\",\"\\ud2b9\\ub300\\ud615\",\"\\uc804\\uc6a9\",\"\\ud558\\uc774\\ubba8\",\"\\uace8\\ud504\",\"\\ub514\\uc988\\ub2c8\",\"\\uc9c8\\ub808\\ud2b8\",\"\\ub808\\ub4dc\",\"\\ub808\\ub178\\ubc84\",\"\\uc5d0\\ube0c\\ub9ac\\ud0c0\\uc784\",\"\\uc2a4\\ud2f1\",\"\\ub808\\ub178\\ub9c8\",\"\\ud22c\\uba85\",\"\\uc288\\uc988\",\"\\uc5b8\\ub354\\uc544\\uba38\",\"\\ud5e4\\uc9c0\\uc2a4\",\"\\ubb34\\ud615\\uad11\",\"\\uc81c\\uc8fc\",\"\\uba54\\uc26c\",\"\\uc0c1\\ud558\\uce58\\uc988\",\"\\uc704\\ud55c\",\"\\ub514\\ud4e8\\uc800\",\"\\ube0c\\ub9ac\\ud0c0\",\"\\ud3ec\\ud568\",\"\\uc544\\ucfe0\\uc544\",\"\\uc77c\\ubcf8\",\"\\ucd5c\\ub300\",\"\\ud0a4\\ud50c\\ub9c1\",\"\\ucc3d\\ubb38\",\"\\uc2a4\\ucee4\\ud2b8\",\"\\uc2ac\\ub9c1\\ubc31\",\"\\uc77c\\ub3d9\\ud6c4\\ub514\\uc2a4\",\"\\ud3f4\\ub85c\",\"\\ub2e5\\ud130\\uadf8\\ub8e8\\ud2b8\",\"\\ubc29\\ud0c4\\uc18c\\ub144\\ub2e8\",\"\\ub0c9\\ub3d9\",\"\\uc2dc\\uc6d0\\ud55c\",\"\\uc0ac\\uacc4\\uc808\",\"\\ud14c\\ud314\",\"\\ube14\\ub8e8\\ud22c\\uc2a4\\uc774\\uc5b4\\ud3f0\",\"\\uce74\\uba54\\ub77c\",\"\\uadf8\\ub808\\uc774\",\"\\ubca8\\ud2b8\",\"\\ud648\\ud50c\\ub7ec\\uc2a4\",\"\\uce58\\uc57d\",\"\\uc6b0\\ub974\\uc624\\uc2a4\",\"\\uc131\\uc778\",\"\\uc815\\uc7a5\",\"\\uba85\\ud488\\uc9c1\\uad6c\",\"\\ub864\\uc2a4\\ud06c\\ub9b0\",\"\\uc5d0\\uc13c\\uc15c\",\"\\ud0a4\\ud2b8\",\"\\ubc15\\uc2a4\",\"\\ub86f\\ub370\",\"\\uc0ac\\ubb34\\uc2e4\",\"\\ub2e8\\ud654\",\"\\ubc45\\ubc45\",\"\\ud53c\\uc8e4\",\"\\uc544\\uc774\\ub354\",\"\\ucf54\\uce74\\ucf5c\\ub77c\",\"\\ud30c\\uc6cc\",\"\\ubc00\\ud06c\",\"\\ub2e4\\uc774\\uc5b4\\ud2b8\",\"\\ub09a\\uc2dc\",\"\\ucf54\\ub2e5\",\"\\ub0a8\\ub140\",\"\\uc2e0\\uc81c\\ud488\",\"\\ub2e4\\uc774\\uc2a8\",\"\\uc0ac\\uc774\\uc988\",\"\\uc5ec\\ud589\",\"\\uc18c\\ud504\\ud2b8\",\"\\uace8\\ub77c\\ub2f4\\uae30\",\"\\ud30c\\ub9ac\\ubc14\\uac8c\\ub728\",\"\\uc77c\\ubc18\",\"\\uc218\\uc601\\ubcf5\",\"\\ud22c\\uc378\\ud50c\\ub808\\uc774\\uc2a4\",\"\\uc774\\uc720\\uc2dd\",\"\\uc120\\ud06c\\ub9bc\",\"\\uc815\\uae30\\uad6c\\ub3c5\",\"\\uc81c\\ubaa8\\uc81c\",\"\\ub808\\uae45\\uc2a4\",\"\\uc790\\ub3d9\",\"\\uae30\\ub150\",\"\\uccad\\uc815\\uc6d0\",\"\\ucd08\\ud2b9\\uac00\",\"\\uc0ac\\uc740\\ud488\\uc99d\\uc815\",\"\\ub9ac\\ubaa8\\ucee8\",\"\\uc124\\ube59\",\"\\ud14c\\uc774\\ube14\",\"\\ucd94\\uac00\\uc99d\\uc815\",\"\\ub85c\\uc584\\uce90\\ub2cc\",\"\\ud0d1\\ud150\\ud0a4\\uc988\",\"\\ub204\\ube54\",\"\\uc140\\ub809\\uc2a4\",\"\\uc5ec\\uc131\\uac00\\ubc29\",\"\\ub2e5\\uc2a4\",\"\\uc790\\uc678\\uc120\\ucc28\\ub2e8\",\"\\uc544\\ucfe0\\uc544\\uc288\\uc988\",\"\\ud0a5\\ubcf4\\ub4dc\",\"\\ubd80\\ub3d9\\uc0b0\",\"\\ub85c\\ud37c\",\"\\ucd08\\ub4f1\",\"\\uc26c\\ud06c\",\"\\ud799\\uc0c9\",\"\\ube45\\uc138\\uc77c\",\"\\uad6d\\ub0b4\",\"\\ube14\\ub8e8\\ub3c5\\ubca0\\uc774\\ube44\",\"\\ube45\\uc2a4\\ub9c8\\uc77c\\ub370\\uc774\",\"\\uc120\\ubb3c\\uc138\\ud2b8\",\"\\ubaa8\\ub4e0\",\"\\ube44\\uc2a4\\ud3ec\\ud06c\",\"\\ud3ec\\ucf13\\ubaac\",\"\\uacf5\\uc2dd\\uc778\\uc99d\",\"\\uc5c5\\uc18c\\uc6a9\",\"\\uc2a4\\ucf00\\uccd0\\uc2a4\",\"\\ud480\\uc138\\ud2b8\",\"\\ud480\\ubb34\\uc6d0\",\"\\uc5d0\\uc5b4\\ucee8\",\"\\uc54c\\ud30c\\ubc14\\uc6b4\\uc2a4\",\"\\uae30\\ud504\\ud2b8\",\"\\ubcf8\\uccb4\",\"\\uc21c\\uc218\\uc2dd\\ud488\",\"\\uc554\\ub9c9\",\"\\uc0c1\\ud558\",\"\\uace8\\ud504\\uacf5\",\"\\uba54\\ubaa8\\ub9ac\\ud3fc\",\"\\ucfe8\\ub9e5\\uc2a4\",\"\\ud328\\uc158\",\"\\ud3f4\\ud584\",\"\\ub77c\\uc6b4\\ub4dc\",\"\\ucf00\\uc774\\ud22c\",\"\\ud638\\ud658\",\"\\uc7a0\\uc637\",\"\\ucda9\\uc804\\uc2dd\",\"\\uad7f\\ub9e4\\ub108\",\"\\uc544\\ub77c\\ud06c\\ub124\",\"\\ucf54\\uc2a4\\ud2b8\\ucf54\",\"\\uc124\\ud654\\uc218\",\"\\uc778\\ud154\",\"\\uc81c\\ubaa8\\ud06c\\ub9bc\",\"\\uc5d0\\uc5b4\\ud31f\",\"\\uc774\\uc57c\\uae30\",\"\\ud1a0\\ud2b8\\ubc31\",\"\\uce94\\ubc84\\uc2a4\",\"\\uc544\\uc774\\uc624\\ud398\",\"\\ub798\\uc26c\\uac00\\ub4dc\",\"\\uad6c\\ub450\",\"\\uba85\\ud488\",\"\\ud63c\\ud569\",\"\\uace0\\uc591\\uc774\\uc0ac\\ub8cc\",\"\\uc544\\uc774\\ud3f0\",\"\\uc720\\ud55c\\ud0b4\\ubc8c\\ub9ac\",\"\\ud734\\uc9c0\",\"\\ubcf4\\ub9ac\\ubcf4\\ub9ac\",\"\\ub808\\ubaac\",\"\\uc2e0\\uc138\\uacc4\\ubcf8\\uc810\",\"\\uc640\\uc774\\ub4dc\",\"\\ubc14\\ub514\",\"\\ud587\\ubc18\",\"\\uad6c\\uae00\",\"\\ud504\\ub77c\\ub2e4\",\"\\uc624\\ub784\\ube44\",\"\\uc544\\uae30\\uce58\\uc988\",\"\\ub0a8\\uc131\\uc6a9\",\"\\ub77c\\ucf54\\uc2a4\\ud14c\",\"\\ub18d\\ud611\",\"\\uc2dc\\uc5b4\\uc11c\\ucee4\",\"\\uc561\\uccb4\\uc138\\uc81c\",\"\\ubca0\\uc774\\ube44\\ub4dc\\ub77c\\uc774\",\"\\uc6a9\\ud488\",\"\\ubc1c\\ubaa9\",\"\\uc800\\ubd84\\uc790\",\"\\uc610\\ub85c\\uc6b0\",\"\\uc2e4\\ub9ac\\ucf58\",\"\\uc368\\ubaa8\\uc2a4\",\"\\uc601\\uc5b4\",\"\\ub0c9\\uc7a5\\uace0\",\"\\uc2e4\\ub0b4\",\"\\uc624\\ubc84\\ud54f\",\"\\uc21c\\uc218\",\"\\ub85c\\ud2f0\\ucea0\\ud504\",\"\\ud2b8\\ub808\\uc774\\ub2dd\",\"\\uc7a0\\uae08\\uc7a5\\uce58\",\"\\ub9ac\\ubca4\\uc2a4\",\"\\uc120\\ubc18\",\"\\ucd08\\ub4f1\\ud559\\uc0dd\",\"\\ub274\\ud2b8\\ub85c\\uc9c0\\ub098\",\"\\ub204\\ub9ac\\ud478\\ub4dc\",\"\\uc2a4\\ud30c\\ud074\",\"\\uc120\\ubb3c\",\"\\ucee8\\ubc84\\uc2a4\",\"\\ub2e8\\ubc31\\uc9c8\",\"\\uc544\\ub3d9\\ud654\",\"\\ucee4\\ud50c\",\"\\ubbf8\\ub2c8\\ubc31\",\"\\ub2e8\\ud488\",\"\\ubbf8\\ub2c8\\uc568\\ubc94\",\"\\ud55c\\uc815\\ud310\",\"\\ub808\\uc774\\uc2a4\",\"\\uc2a4\\ud2f0\\ucee4\",\"\\uc885\\uadfc\\ub2f9\\uac74\\uac15\",\"\\uc2a4\\ud2b8\\ub808\\uce58\",\"\\uc778\\uacac\",\"\\ub9e8\\ud22c\\ub9e8\",\"\\uc9c0\\uc624\\uc9c0\\uc544\",\"\\ud56d\\uade0\",\"\\uc544\\uc774\\ud328\\ub4dc\",\"\\uae30\\ud68d\",\"\\ubb34\\uc120\\uccad\\uc18c\\uae30\",\"\\ubd80\\uc0b0\",\"\\ud55c\\uae00\\ud310\",\"\\ube0c\\ub77c\\uc9c8\\ub9ac\\uc5b8\",\"\\uc0ac\\uc6b4\\ub4dc\\ubc14\",\"\\ub9e4\\uc77c\\uc720\\uc5c5\",\"\\uc704\\ub2c9\\uc2a4\",\"\\uc628\\ub77c\\uc778\",\"\\ud558\\ud504\\ud074\\ub7fd\",\"\\ucda9\\uc804\",\"\\uc77c\\ub9ac\\uc724\",\"\\ub274\\ucf00\\uc5b4\",\"\\uace0\\uc591\\uc774\",\"\\ubc34\\ub4dc\",\"\\uce74\\ub77c\",\"\\ub367\\uc2e0\",\"\\uc131\\uc8fc\\ucc38\\uc678\",\"\\ub808\\ub178\\ub9c8\\ud0a4\\uc988\",\"\\uba74\\ub3c4\\uae30\",\"\\ucc45\\uc7a5\",\"\\ub2f9\\uc77c\\ucd9c\\uace0\",\"\\ub85c\\uace0\",\"\\ubc84\\ud0b7\\ud587\",\"\\uc0c8\\uc0c1\\ud488\",\"\\ub2ed\\uac00\\uc2b4\\uc0b4\",\"\\ud648\\uc6e8\\uc5b4\",\"\\uba54\\uc2e0\\uc800\\ubc31\",\"\\ub86f\\ub370\\ubc31\\ud654\\uc810\",\"\\ud55c\\uc0d8\",\"\\uc3d8\\ud53c\",\"\\uc194\\ub9ac\\ub4dc\",\"\\ubbf8\\uc9c0\\uc544\",\"\\ube44\\ub108\\uc2a4\",\"\\ud0a4\\ubcf4\\ub4dc\",\"\\uc6e8\\uc2a4\\ud134\\ub514\\uc9c0\\ud138\",\"\\ud0a4\\uce5c\\uc544\\ud2b8\",\"\\ub9e4\\ud2b8\\ub9ac\\uc2a4\",\"\\ub4f1\\uc0b0\",\"\\uc2f1\\uae00\",\"\\uc5ec\\uc131\\uc6a9\",\"\\uc36c\\ucea1\",\"\\uc544\\uce68\\ub18d\\uc0b0\",\"\\uccad\\uc18c\\uae30\",\"\\ubbf8\\uc0e4\",\"\\ubcf4\\uc870\\ubc30\\ud130\\ub9ac\",\"\\ub9ac\\uc870\\ud2b8\",\"\\uc0ac\\uac01\",\"\\ube14\\ub799\\uc57c\\ud06c\\ud0a4\\uc988\",\"\\uc628\\ub354\\ubc14\\ub514\",\"\\ud589\\uc0ac\",\"\\ub9c8\\ub354\\ud53c\\uc544\",\"\\uac80\\uc815\",\"\\ub9c8\\uc774\\ube44\\ub370\",\"\\ubd84\\uc720\",\"\\uc774\\ub178\\uc2a4\",\"\\uac8c\\uc774\\ubc0d\\ubaa8\\ub2c8\\ud130\",\"\\ubd88\\uc2a4\\uc6d0\",\"\\uc62c\\ub9ac\\ube0c\\uc601\",\"\\ud4e8\\uc5b4\",\"\\ub77c\\ub514\\uc624\",\"\\uc140\\ud504\",\"\\uc140\\ud504\\uc641\\uc2f1\",\"\\ud3b8\\uc9d1\\ubd80\",\"\\ub2e5\\ud130\\uc9c0\",\"\\ud2b9\\ub300\",\"\\uae30\\ud68d\\uc138\\ud2b8\",\"\\ucd94\\uac00\",\"\\ub098\\ub294\",\"\\uc774\\ub9c8\\ud2b8\",\"\\uac00\\ubcf4\\ud759\\uce68\\ub300\",\"\\ub2e4\\uc774\\uc5bc\",\"\\uc784\\ubd80\\ubcf5\",\"\\uc70c\\uc2a8\",\"\\ucef4\\ud4e8\\ud130\",\"\\uceec\\ub809\\uc158\",\"\\ubbf8\\uad6d\",\"\\ubca0\\uc774\\uc9c0\",\"\\uace0\\uae09\\ud615\",\"\\uc57c\\uc678\",\"\\ucc28\\ub835\\uc774\\ubd88\",\"\\uac1c\\uc815\\ud310\",\"\\ube0c\\ub79c\\ub4dc\",\"\\uacf5\\uc2dd\",\"\\uc544\\ub3d9\\ubcf5\",\"\\uac24\\ub7ed\\uc2dc\\ubd81\",\"\\uc81c\\uc774\\ube44\\uc5d8\",\"\\uace0\\ub2f9\\ub3c4\",\"\\uc2ac\\ub9bc\\ud54f\",\"\\ubb3c\\ub180\\uc774\",\"\\uc798\\ud480\\ub9ac\\ub294\\uc9d1\",\"\\uc2a4\\ucfe0\\ud130\",\"\\ub178\\uc774\\uc988\\uce94\\uc2ac\\ub9c1\",\"\\ud2f0\\uc288\",\"\\ub808\\ud2b8\\ub85c\",\"\\ubb34\\uacb0\\uc810\",\"\\ubc1c\\ud3b8\\ud55c\",\"\\uc774\\ubca4\\ud2b8\",\"\\ube44\\ub8e1\\uc18c\",\"\\ub9e4\\uc77c\",\"\\ucd5c\\uc2e0\\uc0c1\",\"\\ubbf8\\uc7dd\\uc13c\",\"\\uae30\\ubcf8\",\"\\uc758\\ub958\",\"\\uc0bc\\uac01\\ub300\",\"\\ub9e5\\uc2a4\\ub4dc\\ub77c\\uc774\",\"\\ud22c\\uc790\",\"\\uc2e0\\ud615\",\"\\uc5d0\\uc774\\uc218\\uc2a4\",\"\\uce74\\uce74\\uc624\\ud504\\ub80c\\uc988\",\"\\uc720\\uc0b0\\uade0\",\"\\ud50c\\ub7ab\",\"\\uce89\\uace8\\ud0a4\\uc988\",\"\\ucc9c\\uc5f0\",\"\\uc790\\uac00\\uc124\\uce58\",\"\\uc2e0\\uc77c\\uc804\\uc790\",\"\\ub3c4\\ube0c\",\"\\uce90\\uce20\\ub791\",\"\\uc190\\uc624\\uacf5\",\"\\ud5ec\\ub80c\\uce74\\ubbfc\\uc2a4\\ud0a4\",\"\\uc5e0\\ubcf4\\uc2f1\",\"\\uc138\\uc774\\ud39c\",\"\\uc2e0\\uc138\\uacc4\\uacbd\\uae30\\uc810\",\"\\uad6c\\ub9e4\",\"\\ud578\\ub4dc\\ud06c\\ub9bc\",\"\\uc824\\ub9ac\",\"\\ud654\\uc774\\ud2b8\\ub798\\ube57\",\"\\uc2e0\\uc77c\",\"\\uc2a4\\ud0a8\\uc720\",\"\\ub0a8\\uc131\\ud654\\uc7a5\\ud488\",\"\\ud5e4\\ub4dc\\ud3f0\",\"\\ucda9\\uc804\\uae30\",\"\\ucf54\\ub9ac\\uc544\\ubcf4\\ub4dc\\uac8c\\uc784\\uc988\",\"\\uc544\\ubaa8\\uc2a4\",\"\\ubc84\\ud0b7\\ubc31\",\"\\uadf8\\ub298\\ub9c9\",\"\\uc544\\uba54\\ub9ac\\uce78\\ud22c\\uc5b4\\ub9ac\\uc2a4\\ud130\",\"\\uac15\\uc544\\uc9c0\",\"\\uadf8\\ub9bc\\ucc45\",\"\\uba3c\\uc9c0\\uc5c6\\ub294\",\"\\uccb4\\uc778\",\"\\ud30c\\uc2a4\\ud1f4\\ub974\",\"\\ubcfc\\ucea1\",\"\\ub274\\ub2c8\\ub044\",\"\\uc81c\\uc2a4\\ud504\\ub9ac\",\"\\uce89\\uace8\",\"\\uce5c\\ud658\\uacbd\",\"\\ubc29\\ud5a5\\uc81c\",\"\\ubc34\\ub529\",\"\\ud655\\uc7a5\\ud329\",\"\\uace0\\ub824\\uc740\\ub2e8\",\"\\ud37c\\ud399\\ud2b8\",\"\\ubca0\\ubca0\\ub4dc\\ud53c\\ub178\",\"\\ud3ec\\ucf13\",\"\\uae34\\ud314\",\"\\uc560\\uacac\\ud328\\ub4dc\",\"\\uc81c\\ubaa8\",\"\\uc815\\ud488\\ud1a0\\ub108\",\"\\ub808\\uc778\\ubcf4\\uc6b0\",\"\\uac04\\uce58\\ub2c8\",\"\\ud655\\uc7a5\\ud615\",\"\\uc874\\ubc14\\ubc14\\ud1a0\\uc2a4\",\"\\ubaa9\\uac78\\uc774\",\"\\ud3f4\\ub77c\\ub85c\\uc774\\ub4dc\",\"\\ub9e5\\ub3c4\\ub0a0\\ub4dc\",\"\\uc2a4\\ud0c0\\uc2a4\\ud3ec\\uce20\",\"\\ud314\\ucc0c\",\"\\ubc31\\ud654\\uc810\",\"\\uc5d0\\ubc84\\ucf5c\\ub77c\\uac90\",\"\\uc218\\ub0a9\",\"\\ubd81\\uc564\\ub77c\\uc774\\ud504\",\"\\ud3ec\\ub9e8\",\"\\uadf8\\ub9b0\\ud551\\uac70\",\"\\uc57d\\uc0b0\\uc131\",\"\\uae08\\uc561\\uad8c\",\"\\uceec\\ub7fc\\ube44\\uc544\",\"\\uc800\\uc790\\uadf9\",\"\\ucc9c\\uc5f0\\ud384\\ud504\",\"\\uc555\\uc18c\\ubc14\",\"\\ub098\\uc758\",\"\\ud2b8\\ub9ac\\ud2b8\\uba3c\\ud2b8\",\"\\ud050\\uc528\\uc640\\uc774\",\"\\ubb34\\ubc30\",\"\\ud14c\\uc2a4\\ud130\",\"\\uc138\\uc77c\",\"\\uc120\\ubd88\",\"\\uafc0\\uace0\\uad6c\\ub9c8\",\"\\ub124\\uc774\\ube44\",\"\\uc608\\uc57d\\ud310\\ub9e4\",\"\\ud140\\ube14\\ub7ec\",\"\\ub178\\uc2a4\\ud398\\uc774\\uc2a4\\ud0a4\\uc988\",\"\\ubb34\\uc18c\\uc74c\",\"\\ub974\\uae4c\\ud504\",\"\\ub0b4\\uc77c\\ub3c4\\ucc29\",\"\\ud2b9\\ub4f1\\uae09\",\"\\ub124\\uc774\\ucc98\",\"\\ubca1\\uc140\",\"\\ud14c\\ud06c\",\"\\ud654\\ubd84\",\"\\uc2e4\\ub0b4\\ubcf5\",\"\\ube14\\ub8e8\\ud22c\\uc2a4\\uc2a4\\ud53c\\ucee4\",\"\\ucd5c\\uc885\",\"\\ub9ac\\ub354\\uc2a4\",\"\\ud1a0\\ud37c\",\"\\ubcf4\\uc2a4\\ud134\\ubc31\",\"\\uc9c0\\uac11\",\"\\ub85c\\ubd07\\uccad\\uc18c\\uae30\",\"\\ubc1b\\uce68\\ub300\",\"\\uc0dd\\uac01\\uc758\",\"\\ubb34\\uc9c0\",\"\\ubc18\\uc18c\\ub9e4\",\"\\uc2a4\\ud0c0\",\"\\ub8e8\\uc988\\ud54f\",\"\\uc911\\ubaa9\",\"\\ub9ac\\ubcf5\",\"\\ud0dc\\ube14\\ub9bf\",\"\\uc694\\ubbf8\\uc694\\ubbf8\",\"\\ubd80\\uc0b0\\uc810\",\"\\ud3ec\\uc7a5\",\"\\uc2e4\\ub0b4\\ud654\",\"\\uc804\\ud558\\ub294\",\"\\uc774\\uc300\\uc774\\ub2e4\",\"\\uc640\\uc774\\ud30c\\uc774\",\"\\uc624\\uac00\\ub2c8\\uc2a4\\ud2b8\",\"\\ub85c\\ubcf4\\ub77d\",\"\\uce74\\ub4dc\\uc9c0\\uac11\",\"\\ubcf4\\ub2cc\",\"\\uacb8\\uc6a9\",\"\\uc2e0\\uc138\\uacc4\",\"\\ubc14\\uc57c\\ubc34\\ub4dc\",\"\\ubc30\\uc2a4\\ud0a8\\ub77c\\ube48\\uc2a4\",\"\\uc720\\uc544\\ub3d9\",\"\\uba74\\ub3c4\\ub0a0\",\"\\ucd1d\\uac01\\uae40\\uce58\",\"\\uad50\\ud658\\uad8c\",\"\\uc815\\uaddc\\uc568\\ubc94\",\"\\ubc14\\uc774\",\"\\ud3ec\\ub3c4\\uc528\\uc720\",\"\\uce74\\ud398\",\"\\ube45\\ud1a0\\ub9ac\\uc544\",\"\\ubb34\\uc120\\ub9c8\\uc774\\ud06c\",\"\\uc288\\ud37c\\uc2f1\\uae00\",\"\\uc190\\uc18c\\ub3c5\\uc81c\",\"\\uac00\\ub514\\uac74\",\"\\ube14\\ub85c\\ud37c\",\"\\ub300\\uad6c\\ubc31\\ud654\\uc810\",\"\\ubcf4\\ub4dc\\uac8c\\uc784\",\"\\ud398\\ube0c\\ub9ac\\uc988\",\"\\ub9e5\\uc2ec\",\"\\uc2e4\\uc911\\ub7c9\",\"\\ud5e4\\uc5b4\",\"\\uc810\\ud37c\",\"\\uc5b4\\ub4dc\\ubca4\\uccd0\",\"\\ub9c8\\uc0ac\\uc9c0\",\"\\ubcbd\\uac78\\uc774\",\"\\uc5ec\\ud589\\uc6a9\\uce90\\ub9ac\\uc5b4\",\"\\ube14\\ub77c\\uc778\\ub4dc\",\"\\ubaa8\\ub2e4\\ubaa8\\ub2e4\",\"\\ud0c0\\uc774\\ud2c0\\ub9ac\\uc2a4\\ud2b8\",\"\\ubc14\\ub514\\ub85c\\uc158\",\"\\uc11c\\uc6b8\\uc6b0\\uc720\",\"\\ubb38\\uc7ac\\uc778\\uc758\",\"\\ubca0\\uc774\\ube44\",\"\\uac24\\ub7ed\\uc2dc\\ud0ed\",\"\\ubc14\\ub514\\ud53c\\ud2b8\",\"\\uacf5\\uae30\\uccad\\uc815\\uae30\",\"\\ubb3c\\uac78\\ub808\",\"\\uc624\\uc9d5\\uc5b4\",\"\\ubd04\\uc2e0\\uc0c1\",\"\\uacf5\\uc2dd\\ud310\\ub9e4\\uc810\",\"\\uc77c\\ubc18\\ud615\",\"\\uc5f4\\uc1e0\",\"\\ubca0\\ubca0\\uc96c\",\"\\uba54\\ub514\\ud790\",\"\\ubc18\\uc9c0\\uac11\",\"\\ube44\\ubcf4\\ubd81\",\"\\ub18d\\uc2ec\",\"\\ub274\\ubc1c\\ub780\\uc2a4\",\"\\ud30c\\ub77c\\uc194\",\"\\uc77c\\ubc18\\ud310\",\"\\uc774\\ub514\\uc57c\\ucee4\\ud53c\",\"\\ud61c\\ud0dd\\uac00\",\"\\ub370\\uc77c\\ub9ac\\ub8e9\",\"\\ud1b5\\uad7d\",\"\\uc544\\ud1a0\\uc138\\uc774\\ud504\",\"\\uc6d4\\uac04\",\"\\uc6b0\\ub9ac\",\"\\uc5b4\\ub311\\ud130\",\"\\ub4c0\\uc5bc\",\"\\ubcf4\\ud14c\\uac00\\ubca0\\ub124\\ud0c0\",\"\\ucc38\\uc874\",\"\\ud2b9\\uac00\\uc804\",\"\\uce68\\ub300\\ud328\\ub4dc\",\"\\ub77d\\ud3ec\\ud2b8\",\"\\ucf00\\uc774\\ube14\",\"\\ub77d\\ud1a0\\ud54f\",\"\\ud648\\ud50c\\ub7ec\\uc2a4\\uc2dc\\uadf8\\ub2c8\\ucc98\",\"\\uc368\\ud058\\ub808\\uc774\\ud130\",\"\\uc88b\\uc740\",\"\\uce6b\\uc194\",\"\\ube14\\ub799\\ubc15\\uc2a4\",\"\\ucc38\\uce58\",\"\\uc218\\ud5a5\\ubbf8\",\"\\uc774\\ub3d9\\uc2dd\",\"\\ubaa8\\ub358\",\"\\ub77c\\uc774\\ud2b8\\ub77c\\uc774\\ub4dc\",\"\\uc544\\uc774\\ud53c\\ud0c0\\uc784\",\"\\ub77c\\ubca8\\uc601\",\"\\ubc00\\ub808\",\"\\ubc1c\\uc1a1\",\"\\uc11c\\uc6b8\",\"\\uc5d0\\ucf54\\ubc31\",\"\\uc911\\ubcf5\",\"\\ub354\\ud398\\uc774\\uc2a4\\uc0f5\",\"\\ub3d9\\uc6d0\\ucc38\\uce58\",\"\\uc0bc\\uac01\",\"\\uc560\\ud130\\ubbf8\",\"\\uc0b4\\ub9bc\\ubc31\\uc11c\",\"\\ub3d9\\uc6d0\",\"\\ubc15\\uc2a4\\ud14c\\uc774\\ud504\",\"\\ubc18\\uc9c0\",\"\\ub514\\uc790\\uc778\",\"\\uc624\\ub514\\uc138\\uc774\",\"\\uac00\\ubcbc\\uc6b4\",\"\\ubb34\\ud56d\\uc0dd\\uc81c\",\"\\uae54\\ucc3d\",\"\\uae68\\ub057\\ud55c\\ub098\\ub77c\",\"\\ub9ac\\ud050\",\"\\ubabd\\ube14\\ub791\",\"\\ud544\\ub984\",\"\\ube44\\ub9d0\\ucc28\\ub2e8\",\"\\ud2bc\\uc0b4\\ud06c\\ub9bc\",\"\\ud2b9\\uc0c1\",\"\\uc218\\ud559\",\"\\uace0\\ub18d\\ucd95\",\"\\uc624\\ubc84\\ub098\\uc774\\ud2b8\",\"\\ud578\\ub4dc\\ubc31\",\"\\uc218\\ubd84\",\"\\ud5e4\\ub9ac\\ud2f0\\uc9c0\",\"\\ub0a8\\uc131\\uc5ec\\uc131\",\"\\uace8\\ud504\\uc6e8\\uc5b4\",\"\\ubcf4\\uc26c\",\"\\uc790\\ub3d9\\ucc28\",\"\\uc2e4\\ub0b4\\uac74\\uc870\",\"\\ub0c9\\uc7a5\",\"\\ub9e4\\uc9c1\",\"\\uc2e4\\uc804\",\"\\ube44\\uce58\",\"\\ud30c\\uc790\\ub9c8\",\"\\uc2a4\\ud504\\ub808\\uc774\",\"\\uc2a4\\ud398\\uc15c\",\"\\uacbd\\uae30\",\"\\ub9cc\\ud654\",\"\\uc678\\uc7a5\\ud558\\ub4dc\",\"\\uc288\\ud504\\ub9bc\",\"\\ub9cc\\ub4dc\\ub294\",\"\\uba78\\uade0\\uc6b0\\uc720\",\"\\ud504\\ub85c\\ubca0\\uc2a4\\ud2b8\",\"\\uc2a4\\ubab0\",\"\\ub9c8\\uc2dc\\ub294\",\"\\ud53c\\uc26c\",\"\\uace0\\uae09\",\"\\uacfc\\uc77c\\ub098\\ub77c\",\"\\ub9b4\\ub9ac\\uc720\",\"\\ud3ec\\uc2a4\\ud130\",\"\\ubd88\\uac00\\ub9ac\",\"\\uc774\\uc6a9\\uad8c\",\"\\uae08\\uac15\\uc81c\\ud654\",\"\\ud398\\uc774\\ud06c\\uc0ad\\uc2a4\",\"\\uacf5\\uc720\\uae30\",\"\\ub9c8\\ub07c\\ub2e4\",\"\\uc778\\ub355\\uc158\",\"\\uc778\\ub3c4\\uc5b4\",\"\\ube60\\ub978\\uc9c1\\uad6c\",\"\\uc2ec\\ub9ac\\uc2a4\",\"\\ud0c0\\ubbf8\\ud790\\ud53c\\uac70\",\"\\ub871\\ud2f0\",\"\\uc544\\uc774\",\"\\ucf54\\ub85c\\ub098\",\"\\ub2e4\\uc0f5\",\"\\uace0\\uc18d\",\"\\ubc84\\uc804\\uc120\\ud0dd\",\"\\ucf54\\ub4dc\",\"\\uc544\\uc2dd\\uc2a4\",\"\\uac1c\\ubcc4\\ud3ec\\uc7a5\",\"\\ube45\\ud1a0\\ub9ac\\uc544\\uc564\\ud504\\ub80c\\uc988\",\"\\ucef4\\ud3ec\\ud2b8\",\"\\uceec\\uccd0\\ub79c\\ub4dc\\ubb38\\ud654\\uc0c1\\ud488\\uad8c\",\"\\uceec\\uccd0\\ub79c\\ub4dc\",\"\\uc804\\uc790\\ub808\\uc778\\uc9c0\",\"\\ubca0\\uac1c\\ucee4\\ubc84\",\"\\uc18d\\ucd08\",\"\\ubbf8\\uad6d\\uc0b0\",\"\\uac00\\uc815\\uc758\\ub2ec\",\"\\uc544\\uc774\\ub7ec\\ube0c\\ubca0\\ubca0\",\"\\ucee4\\ud150\",\"\\uce98\\ube48\\ud074\\ub77c\\uc778\",\"\\ub2f9\\uc77c\\ub3c4\\uc815\",\"\\uac15\\uc544\\uc9c0\\ud328\\ub4dc\",\"\\ubc30\\ud130\\ub9ac\",\"\\ub7f0\\ub2dd\",\"\\uace0\\ubc00\\ub3c4\",\"\\ud559\\uc0b0\\ubb38\\ud654\\uc0ac\",\"\\ubca0\\uac1c\",\"\\ubca0\\ube44\\uc5b8\\uc2a4\",\"\\ubca0\\uc774\\uc2a4\\uc5b4\\uc2a4\",\"\\ud55c\\uc728\",\"\\ud6c4\\ub77c\\uc774\\ud32c\",\"\\uc804\\uad6d\\ud0dd\\ubc30\",\"\\ub125\\uc2dc\",\"\\uc1fc\\uce20\",\"\\ud06c\\ub85d\\ubc34\\ub4dc\",\"\\ub9e4\\ud2b8\\ub9ac\\uc2a4\\ucee4\\ubc84\",\"\\uc6d0\\ud615\",\"\\uc800\\uc18c\\uc74c\",\"\\ud074\\ub9b0\",\"\\ubca0\\ub780\\ub2e4\",\"\\ub274\\ubc1c\\ub780\\uc2a4\\ud0a4\\uc988\",\"\\ubca0\\ub124\\ud1b5\\ud0a4\\uc988\",\"\\ubb38\\ud654\\uc0c1\\ud488\\uad8c\",\"\\ub9e5\\uc2a4\",\"\\ubc14\\ub514\\ub124\\uc774\\ucc98\",\"\\uc5d0\\uadf8\\uba38\\ub2c8\",\"\\uc694\\uae30\\uc694\",\"\\uc6d0\\ubaa9\",\"\\uc6e8\\uc9c0\",\"\\uc6b0\\uba3c\",\"\\uc5d0\\ub514\\ud30c\\uc774\\uc5b4\",\"\\uba54\\ub514\\ucf00\\uc774\\uc54c\",\"\\uba54\\ub514\\ud50c\\ub77c\\uc6cc\",\"\\uc6b0\\ube10\",\"\\uba54\\ubaa8\\ub9ac\",\"\\uc6cc\\ud130\\ud30c\\ud06c\",\"\\uc720\\ub9e5\\uc2a4\",\"\\uc815\\uc9c1\\ud55c\\ud328\\ub4dc\",\"\\uc8fc\\ubc29\\uc138\\uc81c\",\"\\uc0dd\\uc218\",\"\\uc608\\uc791\",\"\\uc0dd\\uc218\\uc804\\ubb38\\ubc30\\uc1a1\",\"\\uc7a0\\uae08\\ubca8\\ud2b8\",\"\\ub85c\\uc9c0\\ud14d\\ucf54\\ub9ac\\uc544\",\"\\ub77c\\uc778\\uc5b4\\ub514\\uc158\",\"\\uc601\\uc2e4\\uc5c5\",\"\\uc7a5\\ud654\",\"\\uc5d0\\ucf54\",\"\\uc804\\uae30\\uba74\\ub3c4\\uae30\",\"\\uc0dd\\uc720\\uc0b0\\uade0\",\"\\uc0dd\\ud65c\\uacf5\\uc791\\uc18c\",\"\\uc0bc\\ucc99\",\"\\uc81c\\ub85c\",\"\\ud654\\uc7a5\\ud488\",\"\\uc5e1\\uc190\",\"\\uc820\\ubd81\",\"\\uc5d0\\uc774\\ube14\\ub8e8\",\"\\uc641\\uc2a4\",\"\\ub9ac\\ub274\",\"\\uc774\\ub79c\\ub4dc\\uc787\",\"\\ubaa8\\ub2ec\",\"\\ub9c8\\ub9ac\\uc624\",\"\\uc778\\uae30\\uc0c1\\ud488\",\"\\uc62c\\ub9ac\\ube0c\\uc720\",\"\\uc624\\uc740\\uc601\",\"\\uc624\\uc5e0\\ud2f0\",\"\\ub7a9\\uc2e0\",\"\\ub9ac\\uc5bc\\uba54\\ub514\",\"\\uc5d0\\uc5b4\\ub370\\uc774\\uc988\",\"\\ub9ac\\ube59\\ubc15\\uc2a4\",\"\\ub9ac\\ube59\",\"\\uc785\\uc7a5\\uad8c\",\"\\uc624\\ub80c\\uc9c0\",\"\\uc790\\uac00\\uc9c4\\ub2e8\\ud0a4\\ud2b8\",\"\\uc544\\uc774\\ubcf4\\ub9ac\",\"\\ucf5c\\ud551\",\"\\ud559\\uc0dd\\uac00\\ubc29\",\"\\uc2dd\\ud488\",\"\\ub300\\uc6d0\",\"\\ub300\\uc6b0\",\"\\uc2a4\\ub9c8\\uc77c\",\"\\ub098\\uc2dc\",\"\\uac15\\uc544\\uc9c0\\uc0ac\\ub8cc\",\"\\uc544\\uc774\\uc2a4\\ubc15\\uc2a4\",\"\\ub300\\ub780\",\"\\ud328\\uce58\",\"\\uce90\\uce58\\ud2f0\\ub2c8\\ud551\",\"\\ubc31\\uc0b0\\uc218\",\"\\uc544\\uc774\\uc232\",\"\\ud574\\ucc2c\\ub4e4\",\"\\uc544\\uc774\\ubc30\\ub0c7\",\"\\uc2e0\\ub3c4\\ub9ac\\ucf54\",\"\\ub098\\ube44\\uc7a0\",\"\\ube44\\uc624\\ud2f4\",\"\\ud578\\ub4dc\",\"\\ud2b9\\ud310\",\"\\ub300\\ucc9c\\uae40\",\"\\ubcf4\\ud638\\ub300\",\"\\ubc30\\ubcc0\",\"\\uc138\\uc81c\",\"\\uc2dc\\ud06c\\ub9bf\",\"\\uac8c\\uc2a4\",\"\\ud2f0\\ud53c\\ub9c1\\ud06c\",\"\\ub354\\ube14\",\"\\uc544\\ud0a4\\ud074\\ub798\\uc2dd\",\"\\ud55c\\uc0c1\\uad81\\uae40\\uce58\",\"\\ud30c\\uc6b0\\ub354\\ud5a5\",\"\\ubd04\\uc5ec\\ub984\"],\"y\":[305,248,216,210,182,178,158,134,129,122,121,119,115,106,106,106,103,100,99,97,97,96,94,94,92,92,89,85,85,80,80,77,75,75,75,72,72,72,72,69,69,64,62,61,60,59,58,58,57,57,57,56,56,55,55,55,55,54,53,53,53,53,52,51,51,48,48,48,47,47,47,46,45,45,45,45,45,45,44,44,44,44,44,44,44,43,43,43,43,43,42,42,42,42,42,41,40,40,39,39,39,39,39,39,39,39,38,38,38,38,38,37,37,37,37,36,36,36,35,35,35,35,35,34,34,34,34,33,33,33,33,33,32,32,32,32,32,32,32,31,31,31,31,31,31,31,30,30,30,30,30,30,30,30,30,30,30,29,29,29,29,29,29,29,29,29,29,29,28,28,28,28,28,28,28,28,28,28,28,28,27,27,27,27,27,27,27,27,27,27,26,26,26,26,26,26,26,26,26,26,26,26,26,25,25,25,25,25,25,25,25,25,24,24,24,24,24,24,24,24,24,24,24,24,24,24,23,23,23,23,23,23,23,23,23,23,23,23,22,22,22,22,22,22,22,22,22,22,22,22,22,21,21,21,21,21,21,21,21,21,21,21,21,21,21,21,21,21,20,20,20,20,20,20,20,20,20,20,20,20,20,20,20,20,19,19,19,19,19,19,19,19,19,19,19,19,19,19,19,19,19,19,19,19,19,19,19,19,19,18,18,18,18,18,18,18,18,18,18,18,18,18,18,18,18,18,18,18,18,18,18,18,18,18,18,18,18,18,18,17,17,17,17,17,17,17,17,17,17,17,17,17,17,17,17,17,17,17,17,17,17,17,17,17,16,16,16,16,16,16,16,16,16,16,16,16,16,16,16,16,16,16,16,16,16,16,16,16,16,16,16,16,16,16,16,16,16,16,16,16,16,16,16,16,15,15,15,15,15,15,15,15,15,15,15,15,15,15,15,15,15,15,15,15,15,15,15,15,15,15,15,15,15,15,15,15,15,15,15,15,15,15,15,14,14,14,14,14,14,14,14,14,14,14,14,14,14,14,14,14,14,14,14,14,14,14,14,14,14,14,14,14,14,14,14,14,14,14,14,14,14,14,14,14,14,14,14,14,14,14,14,14,14,14,14,14,14,14,14,14,14,14,14,14,14,14,14,13,13,13,13,13,13,13,13,13,13,13,13,13,13,13,13,13,13,13,13,13,13,13,13,13,13,13,13,13,13,13,13,13,13,13,13,13,13,13,13,13,13,13,13,13,13,13,13,13,13,13,13,12,12,12,12,12,12,12,12,12,12,12,12,12,12,12,12,12,12,12,12,12,12,12,12,12,12,12,12,12,12,12,12,12,12,12,12,12,12,12,12,12,12,12,12,12,12,12,12,12,12,12,12,12,12,12,12,12,12,12,12,12,12,12,12,12,12,11,11,11,11,11,11,11,11,11,11,11,11,11,11,11,11,11,11,11,11,11,11,11,11,11,11,11,11,11,11,11,11,11,11,11,11,11,11,11,11,11,11,11,11,11,11,11,11,11,11,11,11,11,11,11,11,11,11,11,11,11,11,11,11,11,11,11,11,11,11,11,11,11,11,11,11,11,11,11,10,10,10,10,10,10,10,10,10,10,10,10,10,10,10,10,10,10,10,10,10,10,10,10,10,10,10,10,10,10,10,10,10,10,10,10,10,10,10,10,10,10,10,10,10,10,10,10,10,10,10,10,10,10,10,10,10,10,10,10,10,10,10,10,10,10,10,10,10,10,10,10,10,10,10,10,10,10,10,10,10,10,10,10,10,10,10,10,10,10,10,10,10,10,10,10,10,9,9,9,9,9,9,9,9,9,9,9,9,9,9,9,9,9,9,9,9,9,9,9,9,9,9,9,9,9,9,9,9,9,9,9,9,9,9,9,9,9,9,9,9,9,9,9,9,9,9,9,9,9,9,9,9,9,9,9,9,9,9,9,9,9,9,9,9,9,9,9,9,9,9,9,9,9,9,9,9,9,9,9,9,9,9,9,9,9,9,9,9,9,9,9,9,9,9,9,9,9,9,9,9,9,9,9,9,9,9,9,9,9,9,9,8,8,8,8,8,8,8,8,8,8,8,8,8,8,8,8,8,8,8,8,8,8,8,8,8,8,8,8,8,8,8,8,8,8,8,8,8,8,8,8,8,8,8,8,8,8,8,8,8,8,8,8,8,8,8,8,8,8,8,8,8,8,8,8,8,8,8,8,8,8,8,8,8,8,8,8,8,8,8,8,8,8,8,8],\"type\":\"bar\"}],                        {\"legend\":{\"bgcolor\":\"#F5F6F9\",\"font\":{\"color\":\"#4D5663\"}},\"paper_bgcolor\":\"#F5F6F9\",\"plot_bgcolor\":\"#F5F6F9\",\"template\":{\"data\":{\"barpolar\":[{\"marker\":{\"line\":{\"color\":\"#E5ECF6\",\"width\":0.5},\"pattern\":{\"fillmode\":\"overlay\",\"size\":10,\"solidity\":0.2}},\"type\":\"barpolar\"}],\"bar\":[{\"error_x\":{\"color\":\"#2a3f5f\"},\"error_y\":{\"color\":\"#2a3f5f\"},\"marker\":{\"line\":{\"color\":\"#E5ECF6\",\"width\":0.5},\"pattern\":{\"fillmode\":\"overlay\",\"size\":10,\"solidity\":0.2}},\"type\":\"bar\"}],\"carpet\":[{\"aaxis\":{\"endlinecolor\":\"#2a3f5f\",\"gridcolor\":\"white\",\"linecolor\":\"white\",\"minorgridcolor\":\"white\",\"startlinecolor\":\"#2a3f5f\"},\"baxis\":{\"endlinecolor\":\"#2a3f5f\",\"gridcolor\":\"white\",\"linecolor\":\"white\",\"minorgridcolor\":\"white\",\"startlinecolor\":\"#2a3f5f\"},\"type\":\"carpet\"}],\"choropleth\":[{\"colorbar\":{\"outlinewidth\":0,\"ticks\":\"\"},\"type\":\"choropleth\"}],\"contourcarpet\":[{\"colorbar\":{\"outlinewidth\":0,\"ticks\":\"\"},\"type\":\"contourcarpet\"}],\"contour\":[{\"colorbar\":{\"outlinewidth\":0,\"ticks\":\"\"},\"colorscale\":[[0.0,\"#0d0887\"],[0.1111111111111111,\"#46039f\"],[0.2222222222222222,\"#7201a8\"],[0.3333333333333333,\"#9c179e\"],[0.4444444444444444,\"#bd3786\"],[0.5555555555555556,\"#d8576b\"],[0.6666666666666666,\"#ed7953\"],[0.7777777777777778,\"#fb9f3a\"],[0.8888888888888888,\"#fdca26\"],[1.0,\"#f0f921\"]],\"type\":\"contour\"}],\"heatmapgl\":[{\"colorbar\":{\"outlinewidth\":0,\"ticks\":\"\"},\"colorscale\":[[0.0,\"#0d0887\"],[0.1111111111111111,\"#46039f\"],[0.2222222222222222,\"#7201a8\"],[0.3333333333333333,\"#9c179e\"],[0.4444444444444444,\"#bd3786\"],[0.5555555555555556,\"#d8576b\"],[0.6666666666666666,\"#ed7953\"],[0.7777777777777778,\"#fb9f3a\"],[0.8888888888888888,\"#fdca26\"],[1.0,\"#f0f921\"]],\"type\":\"heatmapgl\"}],\"heatmap\":[{\"colorbar\":{\"outlinewidth\":0,\"ticks\":\"\"},\"colorscale\":[[0.0,\"#0d0887\"],[0.1111111111111111,\"#46039f\"],[0.2222222222222222,\"#7201a8\"],[0.3333333333333333,\"#9c179e\"],[0.4444444444444444,\"#bd3786\"],[0.5555555555555556,\"#d8576b\"],[0.6666666666666666,\"#ed7953\"],[0.7777777777777778,\"#fb9f3a\"],[0.8888888888888888,\"#fdca26\"],[1.0,\"#f0f921\"]],\"type\":\"heatmap\"}],\"histogram2dcontour\":[{\"colorbar\":{\"outlinewidth\":0,\"ticks\":\"\"},\"colorscale\":[[0.0,\"#0d0887\"],[0.1111111111111111,\"#46039f\"],[0.2222222222222222,\"#7201a8\"],[0.3333333333333333,\"#9c179e\"],[0.4444444444444444,\"#bd3786\"],[0.5555555555555556,\"#d8576b\"],[0.6666666666666666,\"#ed7953\"],[0.7777777777777778,\"#fb9f3a\"],[0.8888888888888888,\"#fdca26\"],[1.0,\"#f0f921\"]],\"type\":\"histogram2dcontour\"}],\"histogram2d\":[{\"colorbar\":{\"outlinewidth\":0,\"ticks\":\"\"},\"colorscale\":[[0.0,\"#0d0887\"],[0.1111111111111111,\"#46039f\"],[0.2222222222222222,\"#7201a8\"],[0.3333333333333333,\"#9c179e\"],[0.4444444444444444,\"#bd3786\"],[0.5555555555555556,\"#d8576b\"],[0.6666666666666666,\"#ed7953\"],[0.7777777777777778,\"#fb9f3a\"],[0.8888888888888888,\"#fdca26\"],[1.0,\"#f0f921\"]],\"type\":\"histogram2d\"}],\"histogram\":[{\"marker\":{\"pattern\":{\"fillmode\":\"overlay\",\"size\":10,\"solidity\":0.2}},\"type\":\"histogram\"}],\"mesh3d\":[{\"colorbar\":{\"outlinewidth\":0,\"ticks\":\"\"},\"type\":\"mesh3d\"}],\"parcoords\":[{\"line\":{\"colorbar\":{\"outlinewidth\":0,\"ticks\":\"\"}},\"type\":\"parcoords\"}],\"pie\":[{\"automargin\":true,\"type\":\"pie\"}],\"scatter3d\":[{\"line\":{\"colorbar\":{\"outlinewidth\":0,\"ticks\":\"\"}},\"marker\":{\"colorbar\":{\"outlinewidth\":0,\"ticks\":\"\"}},\"type\":\"scatter3d\"}],\"scattercarpet\":[{\"marker\":{\"colorbar\":{\"outlinewidth\":0,\"ticks\":\"\"}},\"type\":\"scattercarpet\"}],\"scattergeo\":[{\"marker\":{\"colorbar\":{\"outlinewidth\":0,\"ticks\":\"\"}},\"type\":\"scattergeo\"}],\"scattergl\":[{\"marker\":{\"colorbar\":{\"outlinewidth\":0,\"ticks\":\"\"}},\"type\":\"scattergl\"}],\"scattermapbox\":[{\"marker\":{\"colorbar\":{\"outlinewidth\":0,\"ticks\":\"\"}},\"type\":\"scattermapbox\"}],\"scatterpolargl\":[{\"marker\":{\"colorbar\":{\"outlinewidth\":0,\"ticks\":\"\"}},\"type\":\"scatterpolargl\"}],\"scatterpolar\":[{\"marker\":{\"colorbar\":{\"outlinewidth\":0,\"ticks\":\"\"}},\"type\":\"scatterpolar\"}],\"scatter\":[{\"marker\":{\"colorbar\":{\"outlinewidth\":0,\"ticks\":\"\"}},\"type\":\"scatter\"}],\"scatterternary\":[{\"marker\":{\"colorbar\":{\"outlinewidth\":0,\"ticks\":\"\"}},\"type\":\"scatterternary\"}],\"surface\":[{\"colorbar\":{\"outlinewidth\":0,\"ticks\":\"\"},\"colorscale\":[[0.0,\"#0d0887\"],[0.1111111111111111,\"#46039f\"],[0.2222222222222222,\"#7201a8\"],[0.3333333333333333,\"#9c179e\"],[0.4444444444444444,\"#bd3786\"],[0.5555555555555556,\"#d8576b\"],[0.6666666666666666,\"#ed7953\"],[0.7777777777777778,\"#fb9f3a\"],[0.8888888888888888,\"#fdca26\"],[1.0,\"#f0f921\"]],\"type\":\"surface\"}],\"table\":[{\"cells\":{\"fill\":{\"color\":\"#EBF0F8\"},\"line\":{\"color\":\"white\"}},\"header\":{\"fill\":{\"color\":\"#C8D4E3\"},\"line\":{\"color\":\"white\"}},\"type\":\"table\"}]},\"layout\":{\"annotationdefaults\":{\"arrowcolor\":\"#2a3f5f\",\"arrowhead\":0,\"arrowwidth\":1},\"autotypenumbers\":\"strict\",\"coloraxis\":{\"colorbar\":{\"outlinewidth\":0,\"ticks\":\"\"}},\"colorscale\":{\"diverging\":[[0,\"#8e0152\"],[0.1,\"#c51b7d\"],[0.2,\"#de77ae\"],[0.3,\"#f1b6da\"],[0.4,\"#fde0ef\"],[0.5,\"#f7f7f7\"],[0.6,\"#e6f5d0\"],[0.7,\"#b8e186\"],[0.8,\"#7fbc41\"],[0.9,\"#4d9221\"],[1,\"#276419\"]],\"sequential\":[[0.0,\"#0d0887\"],[0.1111111111111111,\"#46039f\"],[0.2222222222222222,\"#7201a8\"],[0.3333333333333333,\"#9c179e\"],[0.4444444444444444,\"#bd3786\"],[0.5555555555555556,\"#d8576b\"],[0.6666666666666666,\"#ed7953\"],[0.7777777777777778,\"#fb9f3a\"],[0.8888888888888888,\"#fdca26\"],[1.0,\"#f0f921\"]],\"sequentialminus\":[[0.0,\"#0d0887\"],[0.1111111111111111,\"#46039f\"],[0.2222222222222222,\"#7201a8\"],[0.3333333333333333,\"#9c179e\"],[0.4444444444444444,\"#bd3786\"],[0.5555555555555556,\"#d8576b\"],[0.6666666666666666,\"#ed7953\"],[0.7777777777777778,\"#fb9f3a\"],[0.8888888888888888,\"#fdca26\"],[1.0,\"#f0f921\"]]},\"colorway\":[\"#636efa\",\"#EF553B\",\"#00cc96\",\"#ab63fa\",\"#FFA15A\",\"#19d3f3\",\"#FF6692\",\"#B6E880\",\"#FF97FF\",\"#FECB52\"],\"font\":{\"color\":\"#2a3f5f\"},\"geo\":{\"bgcolor\":\"white\",\"lakecolor\":\"white\",\"landcolor\":\"#E5ECF6\",\"showlakes\":true,\"showland\":true,\"subunitcolor\":\"white\"},\"hoverlabel\":{\"align\":\"left\"},\"hovermode\":\"closest\",\"mapbox\":{\"style\":\"light\"},\"paper_bgcolor\":\"white\",\"plot_bgcolor\":\"#E5ECF6\",\"polar\":{\"angularaxis\":{\"gridcolor\":\"white\",\"linecolor\":\"white\",\"ticks\":\"\"},\"bgcolor\":\"#E5ECF6\",\"radialaxis\":{\"gridcolor\":\"white\",\"linecolor\":\"white\",\"ticks\":\"\"}},\"scene\":{\"xaxis\":{\"backgroundcolor\":\"#E5ECF6\",\"gridcolor\":\"white\",\"gridwidth\":2,\"linecolor\":\"white\",\"showbackground\":true,\"ticks\":\"\",\"zerolinecolor\":\"white\"},\"yaxis\":{\"backgroundcolor\":\"#E5ECF6\",\"gridcolor\":\"white\",\"gridwidth\":2,\"linecolor\":\"white\",\"showbackground\":true,\"ticks\":\"\",\"zerolinecolor\":\"white\"},\"zaxis\":{\"backgroundcolor\":\"#E5ECF6\",\"gridcolor\":\"white\",\"gridwidth\":2,\"linecolor\":\"white\",\"showbackground\":true,\"ticks\":\"\",\"zerolinecolor\":\"white\"}},\"shapedefaults\":{\"line\":{\"color\":\"#2a3f5f\"}},\"ternary\":{\"aaxis\":{\"gridcolor\":\"white\",\"linecolor\":\"white\",\"ticks\":\"\"},\"baxis\":{\"gridcolor\":\"white\",\"linecolor\":\"white\",\"ticks\":\"\"},\"bgcolor\":\"#E5ECF6\",\"caxis\":{\"gridcolor\":\"white\",\"linecolor\":\"white\",\"ticks\":\"\"}},\"title\":{\"x\":0.05},\"xaxis\":{\"automargin\":true,\"gridcolor\":\"white\",\"linecolor\":\"white\",\"ticks\":\"\",\"title\":{\"standoff\":15},\"zerolinecolor\":\"white\",\"zerolinewidth\":2},\"yaxis\":{\"automargin\":true,\"gridcolor\":\"white\",\"linecolor\":\"white\",\"ticks\":\"\",\"title\":{\"standoff\":15},\"zerolinecolor\":\"white\",\"zerolinewidth\":2}}},\"title\":{\"font\":{\"color\":\"#4D5663\"},\"text\":\"\\ub2e8\\uc5b4 \\ubcc4 \\ubc1c\\uc0dd \\ube48\\ub3c4 1000\\uc21c\\uc704 \\uae4c\\uc9c0\"},\"xaxis\":{\"gridcolor\":\"#E1E5ED\",\"showgrid\":true,\"tickfont\":{\"color\":\"#4D5663\"},\"title\":{\"font\":{\"color\":\"#4D5663\"},\"text\":\"\"},\"zerolinecolor\":\"#E1E5ED\"},\"yaxis\":{\"gridcolor\":\"#E1E5ED\",\"showgrid\":true,\"tickfont\":{\"color\":\"#4D5663\"},\"title\":{\"font\":{\"color\":\"#4D5663\"},\"text\":\"\"},\"zerolinecolor\":\"#E1E5ED\"}},                        {\"showLink\": true, \"linkText\": \"Export to plot.ly\", \"plotlyServerURL\": \"https://plot.ly\", \"responsive\": true}                    ).then(function(){\n",
       "                            \n",
       "var gd = document.getElementById('e25be27d-8332-4f95-932f-2f695a4e8dbd');\n",
       "var x = new MutationObserver(function (mutations, observer) {{\n",
       "        var display = window.getComputedStyle(gd).display;\n",
       "        if (!display || display === 'none') {{\n",
       "            console.log([gd, 'removed!']);\n",
       "            Plotly.purge(gd);\n",
       "            observer.disconnect();\n",
       "        }}\n",
       "}});\n",
       "\n",
       "// Listen for the removal of the full notebook cells\n",
       "var notebookContainer = gd.closest('#notebook-container');\n",
       "if (notebookContainer) {{\n",
       "    x.observe(notebookContainer, {childList: true});\n",
       "}}\n",
       "\n",
       "// Listen for the clearing of the current output cell\n",
       "var outputEl = gd.closest('.output');\n",
       "if (outputEl) {{\n",
       "    x.observe(outputEl, {childList: true});\n",
       "}}\n",
       "\n",
       "                        })                };                });            </script>        </div>"
      ]
     },
     "metadata": {},
     "output_type": "display_data"
    }
   ],
   "source": [
    "pd.DataFrame(word_value).sort_values(0,ascending=False)[0:1000].iplot('bar', title = '단어 별 발생 빈도 1000순위 까지')"
   ]
  },
  {
   "cell_type": "code",
   "execution_count": 29,
   "metadata": {},
   "outputs": [],
   "source": [
    "lst_len = []\n",
    "for i in df_test_2.columns:\n",
    "    lst_len.append(len(i))"
   ]
  },
  {
   "cell_type": "code",
   "execution_count": 30,
   "metadata": {},
   "outputs": [
    {
     "data": {
      "application/vnd.plotly.v1+json": {
       "config": {
        "linkText": "Export to plot.ly",
        "plotlyServerURL": "https://plot.ly",
        "showLink": true
       },
       "data": [
        {
         "marker": {
          "color": "rgba(255, 153, 51, 0.6)",
          "line": {
           "color": "rgba(255, 153, 51, 1.0)",
           "width": 1
          }
         },
         "name": "None",
         "orientation": "v",
         "text": "",
         "type": "bar",
         "x": [
          3,
          2,
          4,
          5,
          6,
          7,
          8,
          9,
          10,
          12,
          14
         ],
         "y": [
          1896,
          1531,
          1419,
          630,
          216,
          74,
          26,
          12,
          4,
          2,
          1
         ]
        }
       ],
       "layout": {
        "legend": {
         "bgcolor": "#F5F6F9",
         "font": {
          "color": "#4D5663"
         }
        },
        "paper_bgcolor": "#F5F6F9",
        "plot_bgcolor": "#F5F6F9",
        "template": {
         "data": {
          "bar": [
           {
            "error_x": {
             "color": "#2a3f5f"
            },
            "error_y": {
             "color": "#2a3f5f"
            },
            "marker": {
             "line": {
              "color": "#E5ECF6",
              "width": 0.5
             },
             "pattern": {
              "fillmode": "overlay",
              "size": 10,
              "solidity": 0.2
             }
            },
            "type": "bar"
           }
          ],
          "barpolar": [
           {
            "marker": {
             "line": {
              "color": "#E5ECF6",
              "width": 0.5
             },
             "pattern": {
              "fillmode": "overlay",
              "size": 10,
              "solidity": 0.2
             }
            },
            "type": "barpolar"
           }
          ],
          "carpet": [
           {
            "aaxis": {
             "endlinecolor": "#2a3f5f",
             "gridcolor": "white",
             "linecolor": "white",
             "minorgridcolor": "white",
             "startlinecolor": "#2a3f5f"
            },
            "baxis": {
             "endlinecolor": "#2a3f5f",
             "gridcolor": "white",
             "linecolor": "white",
             "minorgridcolor": "white",
             "startlinecolor": "#2a3f5f"
            },
            "type": "carpet"
           }
          ],
          "choropleth": [
           {
            "colorbar": {
             "outlinewidth": 0,
             "ticks": ""
            },
            "type": "choropleth"
           }
          ],
          "contour": [
           {
            "colorbar": {
             "outlinewidth": 0,
             "ticks": ""
            },
            "colorscale": [
             [
              0,
              "#0d0887"
             ],
             [
              0.1111111111111111,
              "#46039f"
             ],
             [
              0.2222222222222222,
              "#7201a8"
             ],
             [
              0.3333333333333333,
              "#9c179e"
             ],
             [
              0.4444444444444444,
              "#bd3786"
             ],
             [
              0.5555555555555556,
              "#d8576b"
             ],
             [
              0.6666666666666666,
              "#ed7953"
             ],
             [
              0.7777777777777778,
              "#fb9f3a"
             ],
             [
              0.8888888888888888,
              "#fdca26"
             ],
             [
              1,
              "#f0f921"
             ]
            ],
            "type": "contour"
           }
          ],
          "contourcarpet": [
           {
            "colorbar": {
             "outlinewidth": 0,
             "ticks": ""
            },
            "type": "contourcarpet"
           }
          ],
          "heatmap": [
           {
            "colorbar": {
             "outlinewidth": 0,
             "ticks": ""
            },
            "colorscale": [
             [
              0,
              "#0d0887"
             ],
             [
              0.1111111111111111,
              "#46039f"
             ],
             [
              0.2222222222222222,
              "#7201a8"
             ],
             [
              0.3333333333333333,
              "#9c179e"
             ],
             [
              0.4444444444444444,
              "#bd3786"
             ],
             [
              0.5555555555555556,
              "#d8576b"
             ],
             [
              0.6666666666666666,
              "#ed7953"
             ],
             [
              0.7777777777777778,
              "#fb9f3a"
             ],
             [
              0.8888888888888888,
              "#fdca26"
             ],
             [
              1,
              "#f0f921"
             ]
            ],
            "type": "heatmap"
           }
          ],
          "heatmapgl": [
           {
            "colorbar": {
             "outlinewidth": 0,
             "ticks": ""
            },
            "colorscale": [
             [
              0,
              "#0d0887"
             ],
             [
              0.1111111111111111,
              "#46039f"
             ],
             [
              0.2222222222222222,
              "#7201a8"
             ],
             [
              0.3333333333333333,
              "#9c179e"
             ],
             [
              0.4444444444444444,
              "#bd3786"
             ],
             [
              0.5555555555555556,
              "#d8576b"
             ],
             [
              0.6666666666666666,
              "#ed7953"
             ],
             [
              0.7777777777777778,
              "#fb9f3a"
             ],
             [
              0.8888888888888888,
              "#fdca26"
             ],
             [
              1,
              "#f0f921"
             ]
            ],
            "type": "heatmapgl"
           }
          ],
          "histogram": [
           {
            "marker": {
             "pattern": {
              "fillmode": "overlay",
              "size": 10,
              "solidity": 0.2
             }
            },
            "type": "histogram"
           }
          ],
          "histogram2d": [
           {
            "colorbar": {
             "outlinewidth": 0,
             "ticks": ""
            },
            "colorscale": [
             [
              0,
              "#0d0887"
             ],
             [
              0.1111111111111111,
              "#46039f"
             ],
             [
              0.2222222222222222,
              "#7201a8"
             ],
             [
              0.3333333333333333,
              "#9c179e"
             ],
             [
              0.4444444444444444,
              "#bd3786"
             ],
             [
              0.5555555555555556,
              "#d8576b"
             ],
             [
              0.6666666666666666,
              "#ed7953"
             ],
             [
              0.7777777777777778,
              "#fb9f3a"
             ],
             [
              0.8888888888888888,
              "#fdca26"
             ],
             [
              1,
              "#f0f921"
             ]
            ],
            "type": "histogram2d"
           }
          ],
          "histogram2dcontour": [
           {
            "colorbar": {
             "outlinewidth": 0,
             "ticks": ""
            },
            "colorscale": [
             [
              0,
              "#0d0887"
             ],
             [
              0.1111111111111111,
              "#46039f"
             ],
             [
              0.2222222222222222,
              "#7201a8"
             ],
             [
              0.3333333333333333,
              "#9c179e"
             ],
             [
              0.4444444444444444,
              "#bd3786"
             ],
             [
              0.5555555555555556,
              "#d8576b"
             ],
             [
              0.6666666666666666,
              "#ed7953"
             ],
             [
              0.7777777777777778,
              "#fb9f3a"
             ],
             [
              0.8888888888888888,
              "#fdca26"
             ],
             [
              1,
              "#f0f921"
             ]
            ],
            "type": "histogram2dcontour"
           }
          ],
          "mesh3d": [
           {
            "colorbar": {
             "outlinewidth": 0,
             "ticks": ""
            },
            "type": "mesh3d"
           }
          ],
          "parcoords": [
           {
            "line": {
             "colorbar": {
              "outlinewidth": 0,
              "ticks": ""
             }
            },
            "type": "parcoords"
           }
          ],
          "pie": [
           {
            "automargin": true,
            "type": "pie"
           }
          ],
          "scatter": [
           {
            "marker": {
             "colorbar": {
              "outlinewidth": 0,
              "ticks": ""
             }
            },
            "type": "scatter"
           }
          ],
          "scatter3d": [
           {
            "line": {
             "colorbar": {
              "outlinewidth": 0,
              "ticks": ""
             }
            },
            "marker": {
             "colorbar": {
              "outlinewidth": 0,
              "ticks": ""
             }
            },
            "type": "scatter3d"
           }
          ],
          "scattercarpet": [
           {
            "marker": {
             "colorbar": {
              "outlinewidth": 0,
              "ticks": ""
             }
            },
            "type": "scattercarpet"
           }
          ],
          "scattergeo": [
           {
            "marker": {
             "colorbar": {
              "outlinewidth": 0,
              "ticks": ""
             }
            },
            "type": "scattergeo"
           }
          ],
          "scattergl": [
           {
            "marker": {
             "colorbar": {
              "outlinewidth": 0,
              "ticks": ""
             }
            },
            "type": "scattergl"
           }
          ],
          "scattermapbox": [
           {
            "marker": {
             "colorbar": {
              "outlinewidth": 0,
              "ticks": ""
             }
            },
            "type": "scattermapbox"
           }
          ],
          "scatterpolar": [
           {
            "marker": {
             "colorbar": {
              "outlinewidth": 0,
              "ticks": ""
             }
            },
            "type": "scatterpolar"
           }
          ],
          "scatterpolargl": [
           {
            "marker": {
             "colorbar": {
              "outlinewidth": 0,
              "ticks": ""
             }
            },
            "type": "scatterpolargl"
           }
          ],
          "scatterternary": [
           {
            "marker": {
             "colorbar": {
              "outlinewidth": 0,
              "ticks": ""
             }
            },
            "type": "scatterternary"
           }
          ],
          "surface": [
           {
            "colorbar": {
             "outlinewidth": 0,
             "ticks": ""
            },
            "colorscale": [
             [
              0,
              "#0d0887"
             ],
             [
              0.1111111111111111,
              "#46039f"
             ],
             [
              0.2222222222222222,
              "#7201a8"
             ],
             [
              0.3333333333333333,
              "#9c179e"
             ],
             [
              0.4444444444444444,
              "#bd3786"
             ],
             [
              0.5555555555555556,
              "#d8576b"
             ],
             [
              0.6666666666666666,
              "#ed7953"
             ],
             [
              0.7777777777777778,
              "#fb9f3a"
             ],
             [
              0.8888888888888888,
              "#fdca26"
             ],
             [
              1,
              "#f0f921"
             ]
            ],
            "type": "surface"
           }
          ],
          "table": [
           {
            "cells": {
             "fill": {
              "color": "#EBF0F8"
             },
             "line": {
              "color": "white"
             }
            },
            "header": {
             "fill": {
              "color": "#C8D4E3"
             },
             "line": {
              "color": "white"
             }
            },
            "type": "table"
           }
          ]
         },
         "layout": {
          "annotationdefaults": {
           "arrowcolor": "#2a3f5f",
           "arrowhead": 0,
           "arrowwidth": 1
          },
          "autotypenumbers": "strict",
          "coloraxis": {
           "colorbar": {
            "outlinewidth": 0,
            "ticks": ""
           }
          },
          "colorscale": {
           "diverging": [
            [
             0,
             "#8e0152"
            ],
            [
             0.1,
             "#c51b7d"
            ],
            [
             0.2,
             "#de77ae"
            ],
            [
             0.3,
             "#f1b6da"
            ],
            [
             0.4,
             "#fde0ef"
            ],
            [
             0.5,
             "#f7f7f7"
            ],
            [
             0.6,
             "#e6f5d0"
            ],
            [
             0.7,
             "#b8e186"
            ],
            [
             0.8,
             "#7fbc41"
            ],
            [
             0.9,
             "#4d9221"
            ],
            [
             1,
             "#276419"
            ]
           ],
           "sequential": [
            [
             0,
             "#0d0887"
            ],
            [
             0.1111111111111111,
             "#46039f"
            ],
            [
             0.2222222222222222,
             "#7201a8"
            ],
            [
             0.3333333333333333,
             "#9c179e"
            ],
            [
             0.4444444444444444,
             "#bd3786"
            ],
            [
             0.5555555555555556,
             "#d8576b"
            ],
            [
             0.6666666666666666,
             "#ed7953"
            ],
            [
             0.7777777777777778,
             "#fb9f3a"
            ],
            [
             0.8888888888888888,
             "#fdca26"
            ],
            [
             1,
             "#f0f921"
            ]
           ],
           "sequentialminus": [
            [
             0,
             "#0d0887"
            ],
            [
             0.1111111111111111,
             "#46039f"
            ],
            [
             0.2222222222222222,
             "#7201a8"
            ],
            [
             0.3333333333333333,
             "#9c179e"
            ],
            [
             0.4444444444444444,
             "#bd3786"
            ],
            [
             0.5555555555555556,
             "#d8576b"
            ],
            [
             0.6666666666666666,
             "#ed7953"
            ],
            [
             0.7777777777777778,
             "#fb9f3a"
            ],
            [
             0.8888888888888888,
             "#fdca26"
            ],
            [
             1,
             "#f0f921"
            ]
           ]
          },
          "colorway": [
           "#636efa",
           "#EF553B",
           "#00cc96",
           "#ab63fa",
           "#FFA15A",
           "#19d3f3",
           "#FF6692",
           "#B6E880",
           "#FF97FF",
           "#FECB52"
          ],
          "font": {
           "color": "#2a3f5f"
          },
          "geo": {
           "bgcolor": "white",
           "lakecolor": "white",
           "landcolor": "#E5ECF6",
           "showlakes": true,
           "showland": true,
           "subunitcolor": "white"
          },
          "hoverlabel": {
           "align": "left"
          },
          "hovermode": "closest",
          "mapbox": {
           "style": "light"
          },
          "paper_bgcolor": "white",
          "plot_bgcolor": "#E5ECF6",
          "polar": {
           "angularaxis": {
            "gridcolor": "white",
            "linecolor": "white",
            "ticks": ""
           },
           "bgcolor": "#E5ECF6",
           "radialaxis": {
            "gridcolor": "white",
            "linecolor": "white",
            "ticks": ""
           }
          },
          "scene": {
           "xaxis": {
            "backgroundcolor": "#E5ECF6",
            "gridcolor": "white",
            "gridwidth": 2,
            "linecolor": "white",
            "showbackground": true,
            "ticks": "",
            "zerolinecolor": "white"
           },
           "yaxis": {
            "backgroundcolor": "#E5ECF6",
            "gridcolor": "white",
            "gridwidth": 2,
            "linecolor": "white",
            "showbackground": true,
            "ticks": "",
            "zerolinecolor": "white"
           },
           "zaxis": {
            "backgroundcolor": "#E5ECF6",
            "gridcolor": "white",
            "gridwidth": 2,
            "linecolor": "white",
            "showbackground": true,
            "ticks": "",
            "zerolinecolor": "white"
           }
          },
          "shapedefaults": {
           "line": {
            "color": "#2a3f5f"
           }
          },
          "ternary": {
           "aaxis": {
            "gridcolor": "white",
            "linecolor": "white",
            "ticks": ""
           },
           "baxis": {
            "gridcolor": "white",
            "linecolor": "white",
            "ticks": ""
           },
           "bgcolor": "#E5ECF6",
           "caxis": {
            "gridcolor": "white",
            "linecolor": "white",
            "ticks": ""
           }
          },
          "title": {
           "x": 0.05
          },
          "xaxis": {
           "automargin": true,
           "gridcolor": "white",
           "linecolor": "white",
           "ticks": "",
           "title": {
            "standoff": 15
           },
           "zerolinecolor": "white",
           "zerolinewidth": 2
          },
          "yaxis": {
           "automargin": true,
           "gridcolor": "white",
           "linecolor": "white",
           "ticks": "",
           "title": {
            "standoff": 15
           },
           "zerolinecolor": "white",
           "zerolinewidth": 2
          }
         }
        },
        "title": {
         "font": {
          "color": "#4D5663"
         },
         "text": "단어길이(x)에 따라 토큰화된 문자의 수"
        },
        "xaxis": {
         "gridcolor": "#E1E5ED",
         "showgrid": true,
         "tickfont": {
          "color": "#4D5663"
         },
         "title": {
          "font": {
           "color": "#4D5663"
          },
          "text": ""
         },
         "zerolinecolor": "#E1E5ED"
        },
        "yaxis": {
         "gridcolor": "#E1E5ED",
         "showgrid": true,
         "tickfont": {
          "color": "#4D5663"
         },
         "title": {
          "font": {
           "color": "#4D5663"
          },
          "text": ""
         },
         "zerolinecolor": "#E1E5ED"
        }
       }
      },
      "text/html": [
       "<div>                            <div id=\"22bb377b-4c0d-4f47-9040-b99b510ac181\" class=\"plotly-graph-div\" style=\"height:525px; width:100%;\"></div>            <script type=\"text/javascript\">                require([\"plotly\"], function(Plotly) {                    window.PLOTLYENV=window.PLOTLYENV || {};\n",
       "                    window.PLOTLYENV.BASE_URL='https://plot.ly';                                    if (document.getElementById(\"22bb377b-4c0d-4f47-9040-b99b510ac181\")) {                    Plotly.newPlot(                        \"22bb377b-4c0d-4f47-9040-b99b510ac181\",                        [{\"marker\":{\"color\":\"rgba(255, 153, 51, 0.6)\",\"line\":{\"color\":\"rgba(255, 153, 51, 1.0)\",\"width\":1}},\"name\":\"None\",\"orientation\":\"v\",\"text\":\"\",\"x\":[3,2,4,5,6,7,8,9,10,12,14],\"y\":[1896,1531,1419,630,216,74,26,12,4,2,1],\"type\":\"bar\"}],                        {\"legend\":{\"bgcolor\":\"#F5F6F9\",\"font\":{\"color\":\"#4D5663\"}},\"paper_bgcolor\":\"#F5F6F9\",\"plot_bgcolor\":\"#F5F6F9\",\"template\":{\"data\":{\"barpolar\":[{\"marker\":{\"line\":{\"color\":\"#E5ECF6\",\"width\":0.5},\"pattern\":{\"fillmode\":\"overlay\",\"size\":10,\"solidity\":0.2}},\"type\":\"barpolar\"}],\"bar\":[{\"error_x\":{\"color\":\"#2a3f5f\"},\"error_y\":{\"color\":\"#2a3f5f\"},\"marker\":{\"line\":{\"color\":\"#E5ECF6\",\"width\":0.5},\"pattern\":{\"fillmode\":\"overlay\",\"size\":10,\"solidity\":0.2}},\"type\":\"bar\"}],\"carpet\":[{\"aaxis\":{\"endlinecolor\":\"#2a3f5f\",\"gridcolor\":\"white\",\"linecolor\":\"white\",\"minorgridcolor\":\"white\",\"startlinecolor\":\"#2a3f5f\"},\"baxis\":{\"endlinecolor\":\"#2a3f5f\",\"gridcolor\":\"white\",\"linecolor\":\"white\",\"minorgridcolor\":\"white\",\"startlinecolor\":\"#2a3f5f\"},\"type\":\"carpet\"}],\"choropleth\":[{\"colorbar\":{\"outlinewidth\":0,\"ticks\":\"\"},\"type\":\"choropleth\"}],\"contourcarpet\":[{\"colorbar\":{\"outlinewidth\":0,\"ticks\":\"\"},\"type\":\"contourcarpet\"}],\"contour\":[{\"colorbar\":{\"outlinewidth\":0,\"ticks\":\"\"},\"colorscale\":[[0.0,\"#0d0887\"],[0.1111111111111111,\"#46039f\"],[0.2222222222222222,\"#7201a8\"],[0.3333333333333333,\"#9c179e\"],[0.4444444444444444,\"#bd3786\"],[0.5555555555555556,\"#d8576b\"],[0.6666666666666666,\"#ed7953\"],[0.7777777777777778,\"#fb9f3a\"],[0.8888888888888888,\"#fdca26\"],[1.0,\"#f0f921\"]],\"type\":\"contour\"}],\"heatmapgl\":[{\"colorbar\":{\"outlinewidth\":0,\"ticks\":\"\"},\"colorscale\":[[0.0,\"#0d0887\"],[0.1111111111111111,\"#46039f\"],[0.2222222222222222,\"#7201a8\"],[0.3333333333333333,\"#9c179e\"],[0.4444444444444444,\"#bd3786\"],[0.5555555555555556,\"#d8576b\"],[0.6666666666666666,\"#ed7953\"],[0.7777777777777778,\"#fb9f3a\"],[0.8888888888888888,\"#fdca26\"],[1.0,\"#f0f921\"]],\"type\":\"heatmapgl\"}],\"heatmap\":[{\"colorbar\":{\"outlinewidth\":0,\"ticks\":\"\"},\"colorscale\":[[0.0,\"#0d0887\"],[0.1111111111111111,\"#46039f\"],[0.2222222222222222,\"#7201a8\"],[0.3333333333333333,\"#9c179e\"],[0.4444444444444444,\"#bd3786\"],[0.5555555555555556,\"#d8576b\"],[0.6666666666666666,\"#ed7953\"],[0.7777777777777778,\"#fb9f3a\"],[0.8888888888888888,\"#fdca26\"],[1.0,\"#f0f921\"]],\"type\":\"heatmap\"}],\"histogram2dcontour\":[{\"colorbar\":{\"outlinewidth\":0,\"ticks\":\"\"},\"colorscale\":[[0.0,\"#0d0887\"],[0.1111111111111111,\"#46039f\"],[0.2222222222222222,\"#7201a8\"],[0.3333333333333333,\"#9c179e\"],[0.4444444444444444,\"#bd3786\"],[0.5555555555555556,\"#d8576b\"],[0.6666666666666666,\"#ed7953\"],[0.7777777777777778,\"#fb9f3a\"],[0.8888888888888888,\"#fdca26\"],[1.0,\"#f0f921\"]],\"type\":\"histogram2dcontour\"}],\"histogram2d\":[{\"colorbar\":{\"outlinewidth\":0,\"ticks\":\"\"},\"colorscale\":[[0.0,\"#0d0887\"],[0.1111111111111111,\"#46039f\"],[0.2222222222222222,\"#7201a8\"],[0.3333333333333333,\"#9c179e\"],[0.4444444444444444,\"#bd3786\"],[0.5555555555555556,\"#d8576b\"],[0.6666666666666666,\"#ed7953\"],[0.7777777777777778,\"#fb9f3a\"],[0.8888888888888888,\"#fdca26\"],[1.0,\"#f0f921\"]],\"type\":\"histogram2d\"}],\"histogram\":[{\"marker\":{\"pattern\":{\"fillmode\":\"overlay\",\"size\":10,\"solidity\":0.2}},\"type\":\"histogram\"}],\"mesh3d\":[{\"colorbar\":{\"outlinewidth\":0,\"ticks\":\"\"},\"type\":\"mesh3d\"}],\"parcoords\":[{\"line\":{\"colorbar\":{\"outlinewidth\":0,\"ticks\":\"\"}},\"type\":\"parcoords\"}],\"pie\":[{\"automargin\":true,\"type\":\"pie\"}],\"scatter3d\":[{\"line\":{\"colorbar\":{\"outlinewidth\":0,\"ticks\":\"\"}},\"marker\":{\"colorbar\":{\"outlinewidth\":0,\"ticks\":\"\"}},\"type\":\"scatter3d\"}],\"scattercarpet\":[{\"marker\":{\"colorbar\":{\"outlinewidth\":0,\"ticks\":\"\"}},\"type\":\"scattercarpet\"}],\"scattergeo\":[{\"marker\":{\"colorbar\":{\"outlinewidth\":0,\"ticks\":\"\"}},\"type\":\"scattergeo\"}],\"scattergl\":[{\"marker\":{\"colorbar\":{\"outlinewidth\":0,\"ticks\":\"\"}},\"type\":\"scattergl\"}],\"scattermapbox\":[{\"marker\":{\"colorbar\":{\"outlinewidth\":0,\"ticks\":\"\"}},\"type\":\"scattermapbox\"}],\"scatterpolargl\":[{\"marker\":{\"colorbar\":{\"outlinewidth\":0,\"ticks\":\"\"}},\"type\":\"scatterpolargl\"}],\"scatterpolar\":[{\"marker\":{\"colorbar\":{\"outlinewidth\":0,\"ticks\":\"\"}},\"type\":\"scatterpolar\"}],\"scatter\":[{\"marker\":{\"colorbar\":{\"outlinewidth\":0,\"ticks\":\"\"}},\"type\":\"scatter\"}],\"scatterternary\":[{\"marker\":{\"colorbar\":{\"outlinewidth\":0,\"ticks\":\"\"}},\"type\":\"scatterternary\"}],\"surface\":[{\"colorbar\":{\"outlinewidth\":0,\"ticks\":\"\"},\"colorscale\":[[0.0,\"#0d0887\"],[0.1111111111111111,\"#46039f\"],[0.2222222222222222,\"#7201a8\"],[0.3333333333333333,\"#9c179e\"],[0.4444444444444444,\"#bd3786\"],[0.5555555555555556,\"#d8576b\"],[0.6666666666666666,\"#ed7953\"],[0.7777777777777778,\"#fb9f3a\"],[0.8888888888888888,\"#fdca26\"],[1.0,\"#f0f921\"]],\"type\":\"surface\"}],\"table\":[{\"cells\":{\"fill\":{\"color\":\"#EBF0F8\"},\"line\":{\"color\":\"white\"}},\"header\":{\"fill\":{\"color\":\"#C8D4E3\"},\"line\":{\"color\":\"white\"}},\"type\":\"table\"}]},\"layout\":{\"annotationdefaults\":{\"arrowcolor\":\"#2a3f5f\",\"arrowhead\":0,\"arrowwidth\":1},\"autotypenumbers\":\"strict\",\"coloraxis\":{\"colorbar\":{\"outlinewidth\":0,\"ticks\":\"\"}},\"colorscale\":{\"diverging\":[[0,\"#8e0152\"],[0.1,\"#c51b7d\"],[0.2,\"#de77ae\"],[0.3,\"#f1b6da\"],[0.4,\"#fde0ef\"],[0.5,\"#f7f7f7\"],[0.6,\"#e6f5d0\"],[0.7,\"#b8e186\"],[0.8,\"#7fbc41\"],[0.9,\"#4d9221\"],[1,\"#276419\"]],\"sequential\":[[0.0,\"#0d0887\"],[0.1111111111111111,\"#46039f\"],[0.2222222222222222,\"#7201a8\"],[0.3333333333333333,\"#9c179e\"],[0.4444444444444444,\"#bd3786\"],[0.5555555555555556,\"#d8576b\"],[0.6666666666666666,\"#ed7953\"],[0.7777777777777778,\"#fb9f3a\"],[0.8888888888888888,\"#fdca26\"],[1.0,\"#f0f921\"]],\"sequentialminus\":[[0.0,\"#0d0887\"],[0.1111111111111111,\"#46039f\"],[0.2222222222222222,\"#7201a8\"],[0.3333333333333333,\"#9c179e\"],[0.4444444444444444,\"#bd3786\"],[0.5555555555555556,\"#d8576b\"],[0.6666666666666666,\"#ed7953\"],[0.7777777777777778,\"#fb9f3a\"],[0.8888888888888888,\"#fdca26\"],[1.0,\"#f0f921\"]]},\"colorway\":[\"#636efa\",\"#EF553B\",\"#00cc96\",\"#ab63fa\",\"#FFA15A\",\"#19d3f3\",\"#FF6692\",\"#B6E880\",\"#FF97FF\",\"#FECB52\"],\"font\":{\"color\":\"#2a3f5f\"},\"geo\":{\"bgcolor\":\"white\",\"lakecolor\":\"white\",\"landcolor\":\"#E5ECF6\",\"showlakes\":true,\"showland\":true,\"subunitcolor\":\"white\"},\"hoverlabel\":{\"align\":\"left\"},\"hovermode\":\"closest\",\"mapbox\":{\"style\":\"light\"},\"paper_bgcolor\":\"white\",\"plot_bgcolor\":\"#E5ECF6\",\"polar\":{\"angularaxis\":{\"gridcolor\":\"white\",\"linecolor\":\"white\",\"ticks\":\"\"},\"bgcolor\":\"#E5ECF6\",\"radialaxis\":{\"gridcolor\":\"white\",\"linecolor\":\"white\",\"ticks\":\"\"}},\"scene\":{\"xaxis\":{\"backgroundcolor\":\"#E5ECF6\",\"gridcolor\":\"white\",\"gridwidth\":2,\"linecolor\":\"white\",\"showbackground\":true,\"ticks\":\"\",\"zerolinecolor\":\"white\"},\"yaxis\":{\"backgroundcolor\":\"#E5ECF6\",\"gridcolor\":\"white\",\"gridwidth\":2,\"linecolor\":\"white\",\"showbackground\":true,\"ticks\":\"\",\"zerolinecolor\":\"white\"},\"zaxis\":{\"backgroundcolor\":\"#E5ECF6\",\"gridcolor\":\"white\",\"gridwidth\":2,\"linecolor\":\"white\",\"showbackground\":true,\"ticks\":\"\",\"zerolinecolor\":\"white\"}},\"shapedefaults\":{\"line\":{\"color\":\"#2a3f5f\"}},\"ternary\":{\"aaxis\":{\"gridcolor\":\"white\",\"linecolor\":\"white\",\"ticks\":\"\"},\"baxis\":{\"gridcolor\":\"white\",\"linecolor\":\"white\",\"ticks\":\"\"},\"bgcolor\":\"#E5ECF6\",\"caxis\":{\"gridcolor\":\"white\",\"linecolor\":\"white\",\"ticks\":\"\"}},\"title\":{\"x\":0.05},\"xaxis\":{\"automargin\":true,\"gridcolor\":\"white\",\"linecolor\":\"white\",\"ticks\":\"\",\"title\":{\"standoff\":15},\"zerolinecolor\":\"white\",\"zerolinewidth\":2},\"yaxis\":{\"automargin\":true,\"gridcolor\":\"white\",\"linecolor\":\"white\",\"ticks\":\"\",\"title\":{\"standoff\":15},\"zerolinecolor\":\"white\",\"zerolinewidth\":2}}},\"title\":{\"font\":{\"color\":\"#4D5663\"},\"text\":\"\\ub2e8\\uc5b4\\uae38\\uc774(x)\\uc5d0 \\ub530\\ub77c \\ud1a0\\ud070\\ud654\\ub41c \\ubb38\\uc790\\uc758 \\uc218\"},\"xaxis\":{\"gridcolor\":\"#E1E5ED\",\"showgrid\":true,\"tickfont\":{\"color\":\"#4D5663\"},\"title\":{\"font\":{\"color\":\"#4D5663\"},\"text\":\"\"},\"zerolinecolor\":\"#E1E5ED\"},\"yaxis\":{\"gridcolor\":\"#E1E5ED\",\"showgrid\":true,\"tickfont\":{\"color\":\"#4D5663\"},\"title\":{\"font\":{\"color\":\"#4D5663\"},\"text\":\"\"},\"zerolinecolor\":\"#E1E5ED\"}},                        {\"showLink\": true, \"linkText\": \"Export to plot.ly\", \"plotlyServerURL\": \"https://plot.ly\", \"responsive\": true}                    ).then(function(){\n",
       "                            \n",
       "var gd = document.getElementById('22bb377b-4c0d-4f47-9040-b99b510ac181');\n",
       "var x = new MutationObserver(function (mutations, observer) {{\n",
       "        var display = window.getComputedStyle(gd).display;\n",
       "        if (!display || display === 'none') {{\n",
       "            console.log([gd, 'removed!']);\n",
       "            Plotly.purge(gd);\n",
       "            observer.disconnect();\n",
       "        }}\n",
       "}});\n",
       "\n",
       "// Listen for the removal of the full notebook cells\n",
       "var notebookContainer = gd.closest('#notebook-container');\n",
       "if (notebookContainer) {{\n",
       "    x.observe(notebookContainer, {childList: true});\n",
       "}}\n",
       "\n",
       "// Listen for the clearing of the current output cell\n",
       "var outputEl = gd.closest('.output');\n",
       "if (outputEl) {{\n",
       "    x.observe(outputEl, {childList: true});\n",
       "}}\n",
       "\n",
       "                        })                };                });            </script>        </div>"
      ]
     },
     "metadata": {},
     "output_type": "display_data"
    }
   ],
   "source": [
    "pd.Series(lst_len).value_counts().iplot('bar',title = '단어길이(x)에 따라 토큰화된 문자의 수')"
   ]
  },
  {
   "cell_type": "code",
   "execution_count": 31,
   "metadata": {},
   "outputs": [],
   "source": [
    "df_test_2.insert(0,'Main_category',df1[0])"
   ]
  },
  {
   "cell_type": "code",
   "execution_count": 32,
   "metadata": {},
   "outputs": [
    {
     "data": {
      "text/html": [
       "<div>\n",
       "<style scoped>\n",
       "    .dataframe tbody tr th:only-of-type {\n",
       "        vertical-align: middle;\n",
       "    }\n",
       "\n",
       "    .dataframe tbody tr th {\n",
       "        vertical-align: top;\n",
       "    }\n",
       "\n",
       "    .dataframe thead th {\n",
       "        text-align: right;\n",
       "    }\n",
       "</style>\n",
       "<table border=\"1\" class=\"dataframe\">\n",
       "  <thead>\n",
       "    <tr style=\"text-align: right;\">\n",
       "      <th></th>\n",
       "      <th>Main_category</th>\n",
       "      <th>_편백나무</th>\n",
       "      <th>正品</th>\n",
       "      <th>防彈少年團</th>\n",
       "      <th>가게놀이</th>\n",
       "      <th>가격인하</th>\n",
       "      <th>가고</th>\n",
       "      <th>가그린</th>\n",
       "      <th>가나양말</th>\n",
       "      <th>가난한</th>\n",
       "      <th>...</th>\n",
       "      <th>히어로</th>\n",
       "      <th>히키스</th>\n",
       "      <th>힌지보호</th>\n",
       "      <th>힐링</th>\n",
       "      <th>힐링그린</th>\n",
       "      <th>힐링팩토리</th>\n",
       "      <th>힐튼</th>\n",
       "      <th>힙분유</th>\n",
       "      <th>힙색</th>\n",
       "      <th>힙팩</th>\n",
       "    </tr>\n",
       "  </thead>\n",
       "  <tbody>\n",
       "    <tr>\n",
       "      <th>0</th>\n",
       "      <td>e쿠폰/티켓</td>\n",
       "      <td>0</td>\n",
       "      <td>0</td>\n",
       "      <td>0</td>\n",
       "      <td>0</td>\n",
       "      <td>0</td>\n",
       "      <td>0</td>\n",
       "      <td>0</td>\n",
       "      <td>0</td>\n",
       "      <td>0</td>\n",
       "      <td>...</td>\n",
       "      <td>0</td>\n",
       "      <td>0</td>\n",
       "      <td>0</td>\n",
       "      <td>0</td>\n",
       "      <td>0</td>\n",
       "      <td>0</td>\n",
       "      <td>0</td>\n",
       "      <td>0</td>\n",
       "      <td>0</td>\n",
       "      <td>0</td>\n",
       "    </tr>\n",
       "    <tr>\n",
       "      <th>1</th>\n",
       "      <td>e쿠폰/티켓</td>\n",
       "      <td>0</td>\n",
       "      <td>0</td>\n",
       "      <td>0</td>\n",
       "      <td>0</td>\n",
       "      <td>0</td>\n",
       "      <td>0</td>\n",
       "      <td>0</td>\n",
       "      <td>0</td>\n",
       "      <td>0</td>\n",
       "      <td>...</td>\n",
       "      <td>0</td>\n",
       "      <td>0</td>\n",
       "      <td>0</td>\n",
       "      <td>0</td>\n",
       "      <td>0</td>\n",
       "      <td>0</td>\n",
       "      <td>0</td>\n",
       "      <td>0</td>\n",
       "      <td>0</td>\n",
       "      <td>0</td>\n",
       "    </tr>\n",
       "    <tr>\n",
       "      <th>2</th>\n",
       "      <td>e쿠폰/티켓</td>\n",
       "      <td>0</td>\n",
       "      <td>0</td>\n",
       "      <td>0</td>\n",
       "      <td>0</td>\n",
       "      <td>0</td>\n",
       "      <td>0</td>\n",
       "      <td>0</td>\n",
       "      <td>0</td>\n",
       "      <td>0</td>\n",
       "      <td>...</td>\n",
       "      <td>0</td>\n",
       "      <td>0</td>\n",
       "      <td>0</td>\n",
       "      <td>0</td>\n",
       "      <td>0</td>\n",
       "      <td>0</td>\n",
       "      <td>0</td>\n",
       "      <td>0</td>\n",
       "      <td>0</td>\n",
       "      <td>0</td>\n",
       "    </tr>\n",
       "    <tr>\n",
       "      <th>3</th>\n",
       "      <td>e쿠폰/티켓</td>\n",
       "      <td>0</td>\n",
       "      <td>0</td>\n",
       "      <td>0</td>\n",
       "      <td>0</td>\n",
       "      <td>0</td>\n",
       "      <td>0</td>\n",
       "      <td>0</td>\n",
       "      <td>0</td>\n",
       "      <td>0</td>\n",
       "      <td>...</td>\n",
       "      <td>0</td>\n",
       "      <td>0</td>\n",
       "      <td>0</td>\n",
       "      <td>0</td>\n",
       "      <td>0</td>\n",
       "      <td>0</td>\n",
       "      <td>0</td>\n",
       "      <td>0</td>\n",
       "      <td>0</td>\n",
       "      <td>0</td>\n",
       "    </tr>\n",
       "    <tr>\n",
       "      <th>4</th>\n",
       "      <td>e쿠폰/티켓</td>\n",
       "      <td>0</td>\n",
       "      <td>0</td>\n",
       "      <td>0</td>\n",
       "      <td>0</td>\n",
       "      <td>0</td>\n",
       "      <td>0</td>\n",
       "      <td>0</td>\n",
       "      <td>0</td>\n",
       "      <td>0</td>\n",
       "      <td>...</td>\n",
       "      <td>0</td>\n",
       "      <td>0</td>\n",
       "      <td>0</td>\n",
       "      <td>0</td>\n",
       "      <td>0</td>\n",
       "      <td>0</td>\n",
       "      <td>0</td>\n",
       "      <td>0</td>\n",
       "      <td>0</td>\n",
       "      <td>0</td>\n",
       "    </tr>\n",
       "    <tr>\n",
       "      <th>...</th>\n",
       "      <td>...</td>\n",
       "      <td>...</td>\n",
       "      <td>...</td>\n",
       "      <td>...</td>\n",
       "      <td>...</td>\n",
       "      <td>...</td>\n",
       "      <td>...</td>\n",
       "      <td>...</td>\n",
       "      <td>...</td>\n",
       "      <td>...</td>\n",
       "      <td>...</td>\n",
       "      <td>...</td>\n",
       "      <td>...</td>\n",
       "      <td>...</td>\n",
       "      <td>...</td>\n",
       "      <td>...</td>\n",
       "      <td>...</td>\n",
       "      <td>...</td>\n",
       "      <td>...</td>\n",
       "      <td>...</td>\n",
       "      <td>...</td>\n",
       "    </tr>\n",
       "    <tr>\n",
       "      <th>9963</th>\n",
       "      <td>가구/침구</td>\n",
       "      <td>0</td>\n",
       "      <td>0</td>\n",
       "      <td>0</td>\n",
       "      <td>0</td>\n",
       "      <td>0</td>\n",
       "      <td>0</td>\n",
       "      <td>0</td>\n",
       "      <td>0</td>\n",
       "      <td>0</td>\n",
       "      <td>...</td>\n",
       "      <td>0</td>\n",
       "      <td>0</td>\n",
       "      <td>0</td>\n",
       "      <td>0</td>\n",
       "      <td>0</td>\n",
       "      <td>0</td>\n",
       "      <td>0</td>\n",
       "      <td>0</td>\n",
       "      <td>0</td>\n",
       "      <td>0</td>\n",
       "    </tr>\n",
       "    <tr>\n",
       "      <th>9964</th>\n",
       "      <td>가구/침구</td>\n",
       "      <td>0</td>\n",
       "      <td>0</td>\n",
       "      <td>0</td>\n",
       "      <td>0</td>\n",
       "      <td>0</td>\n",
       "      <td>0</td>\n",
       "      <td>0</td>\n",
       "      <td>0</td>\n",
       "      <td>0</td>\n",
       "      <td>...</td>\n",
       "      <td>0</td>\n",
       "      <td>0</td>\n",
       "      <td>0</td>\n",
       "      <td>0</td>\n",
       "      <td>0</td>\n",
       "      <td>0</td>\n",
       "      <td>0</td>\n",
       "      <td>0</td>\n",
       "      <td>0</td>\n",
       "      <td>0</td>\n",
       "    </tr>\n",
       "    <tr>\n",
       "      <th>9965</th>\n",
       "      <td>가구/침구</td>\n",
       "      <td>0</td>\n",
       "      <td>0</td>\n",
       "      <td>0</td>\n",
       "      <td>0</td>\n",
       "      <td>0</td>\n",
       "      <td>0</td>\n",
       "      <td>0</td>\n",
       "      <td>0</td>\n",
       "      <td>0</td>\n",
       "      <td>...</td>\n",
       "      <td>0</td>\n",
       "      <td>0</td>\n",
       "      <td>0</td>\n",
       "      <td>0</td>\n",
       "      <td>0</td>\n",
       "      <td>0</td>\n",
       "      <td>0</td>\n",
       "      <td>0</td>\n",
       "      <td>0</td>\n",
       "      <td>0</td>\n",
       "    </tr>\n",
       "    <tr>\n",
       "      <th>9966</th>\n",
       "      <td>가구/침구</td>\n",
       "      <td>0</td>\n",
       "      <td>0</td>\n",
       "      <td>0</td>\n",
       "      <td>0</td>\n",
       "      <td>0</td>\n",
       "      <td>0</td>\n",
       "      <td>0</td>\n",
       "      <td>0</td>\n",
       "      <td>0</td>\n",
       "      <td>...</td>\n",
       "      <td>0</td>\n",
       "      <td>0</td>\n",
       "      <td>0</td>\n",
       "      <td>0</td>\n",
       "      <td>0</td>\n",
       "      <td>0</td>\n",
       "      <td>0</td>\n",
       "      <td>0</td>\n",
       "      <td>0</td>\n",
       "      <td>0</td>\n",
       "    </tr>\n",
       "    <tr>\n",
       "      <th>9967</th>\n",
       "      <td>가구/침구</td>\n",
       "      <td>0</td>\n",
       "      <td>0</td>\n",
       "      <td>0</td>\n",
       "      <td>0</td>\n",
       "      <td>0</td>\n",
       "      <td>0</td>\n",
       "      <td>0</td>\n",
       "      <td>0</td>\n",
       "      <td>0</td>\n",
       "      <td>...</td>\n",
       "      <td>0</td>\n",
       "      <td>0</td>\n",
       "      <td>0</td>\n",
       "      <td>0</td>\n",
       "      <td>0</td>\n",
       "      <td>0</td>\n",
       "      <td>0</td>\n",
       "      <td>0</td>\n",
       "      <td>0</td>\n",
       "      <td>0</td>\n",
       "    </tr>\n",
       "  </tbody>\n",
       "</table>\n",
       "<p>9968 rows × 5812 columns</p>\n",
       "</div>"
      ],
      "text/plain": [
       "     Main_category  _편백나무  正品  防彈少年團  가게놀이  가격인하  가고  가그린  가나양말  가난한  ...  \\\n",
       "0           e쿠폰/티켓      0   0      0     0     0   0    0     0    0  ...   \n",
       "1           e쿠폰/티켓      0   0      0     0     0   0    0     0    0  ...   \n",
       "2           e쿠폰/티켓      0   0      0     0     0   0    0     0    0  ...   \n",
       "3           e쿠폰/티켓      0   0      0     0     0   0    0     0    0  ...   \n",
       "4           e쿠폰/티켓      0   0      0     0     0   0    0     0    0  ...   \n",
       "...            ...    ...  ..    ...   ...   ...  ..  ...   ...  ...  ...   \n",
       "9963         가구/침구      0   0      0     0     0   0    0     0    0  ...   \n",
       "9964         가구/침구      0   0      0     0     0   0    0     0    0  ...   \n",
       "9965         가구/침구      0   0      0     0     0   0    0     0    0  ...   \n",
       "9966         가구/침구      0   0      0     0     0   0    0     0    0  ...   \n",
       "9967         가구/침구      0   0      0     0     0   0    0     0    0  ...   \n",
       "\n",
       "      히어로  히키스  힌지보호  힐링  힐링그린  힐링팩토리  힐튼  힙분유  힙색  힙팩  \n",
       "0       0    0     0   0     0      0   0    0   0   0  \n",
       "1       0    0     0   0     0      0   0    0   0   0  \n",
       "2       0    0     0   0     0      0   0    0   0   0  \n",
       "3       0    0     0   0     0      0   0    0   0   0  \n",
       "4       0    0     0   0     0      0   0    0   0   0  \n",
       "...   ...  ...   ...  ..   ...    ...  ..  ...  ..  ..  \n",
       "9963    0    0     0   0     0      0   0    0   0   0  \n",
       "9964    0    0     0   0     0      0   0    0   0   0  \n",
       "9965    0    0     0   0     0      0   0    0   0   0  \n",
       "9966    0    0     0   0     0      0   0    0   0   0  \n",
       "9967    0    0     0   0     0      0   0    0   0   0  \n",
       "\n",
       "[9968 rows x 5812 columns]"
      ]
     },
     "execution_count": 32,
     "metadata": {},
     "output_type": "execute_result"
    }
   ],
   "source": [
    "df_test_2"
   ]
  },
  {
   "cell_type": "code",
   "execution_count": 33,
   "metadata": {},
   "outputs": [
    {
     "name": "stderr",
     "output_type": "stream",
     "text": [
      "D:\\anaconda\\lib\\site-packages\\ipykernel_launcher.py:2: DeprecationWarning:\n",
      "\n",
      "This function is deprecated. Please call randint(0, 9967 + 1) instead\n",
      "\n"
     ]
    },
    {
     "data": {
      "text/html": [
       "<div>\n",
       "<style scoped>\n",
       "    .dataframe tbody tr th:only-of-type {\n",
       "        vertical-align: middle;\n",
       "    }\n",
       "\n",
       "    .dataframe tbody tr th {\n",
       "        vertical-align: top;\n",
       "    }\n",
       "\n",
       "    .dataframe thead th {\n",
       "        text-align: right;\n",
       "    }\n",
       "</style>\n",
       "<table border=\"1\" class=\"dataframe\">\n",
       "  <thead>\n",
       "    <tr style=\"text-align: right;\">\n",
       "      <th></th>\n",
       "      <th>Main_category</th>\n",
       "      <th>_편백나무</th>\n",
       "      <th>正品</th>\n",
       "      <th>防彈少年團</th>\n",
       "      <th>가게놀이</th>\n",
       "      <th>가격인하</th>\n",
       "      <th>가고</th>\n",
       "      <th>가그린</th>\n",
       "      <th>가나양말</th>\n",
       "      <th>가난한</th>\n",
       "      <th>...</th>\n",
       "      <th>히어로</th>\n",
       "      <th>히키스</th>\n",
       "      <th>힌지보호</th>\n",
       "      <th>힐링</th>\n",
       "      <th>힐링그린</th>\n",
       "      <th>힐링팩토리</th>\n",
       "      <th>힐튼</th>\n",
       "      <th>힙분유</th>\n",
       "      <th>힙색</th>\n",
       "      <th>힙팩</th>\n",
       "    </tr>\n",
       "  </thead>\n",
       "  <tbody>\n",
       "    <tr>\n",
       "      <th>1</th>\n",
       "      <td>e쿠폰/티켓</td>\n",
       "      <td>0</td>\n",
       "      <td>0</td>\n",
       "      <td>0</td>\n",
       "      <td>0</td>\n",
       "      <td>0</td>\n",
       "      <td>0</td>\n",
       "      <td>0</td>\n",
       "      <td>0</td>\n",
       "      <td>0</td>\n",
       "      <td>...</td>\n",
       "      <td>0</td>\n",
       "      <td>0</td>\n",
       "      <td>0</td>\n",
       "      <td>0</td>\n",
       "      <td>0</td>\n",
       "      <td>0</td>\n",
       "      <td>0</td>\n",
       "      <td>0</td>\n",
       "      <td>0</td>\n",
       "      <td>0</td>\n",
       "    </tr>\n",
       "    <tr>\n",
       "      <th>2</th>\n",
       "      <td>e쿠폰/티켓</td>\n",
       "      <td>0</td>\n",
       "      <td>0</td>\n",
       "      <td>0</td>\n",
       "      <td>0</td>\n",
       "      <td>0</td>\n",
       "      <td>0</td>\n",
       "      <td>0</td>\n",
       "      <td>0</td>\n",
       "      <td>0</td>\n",
       "      <td>...</td>\n",
       "      <td>0</td>\n",
       "      <td>0</td>\n",
       "      <td>0</td>\n",
       "      <td>0</td>\n",
       "      <td>0</td>\n",
       "      <td>0</td>\n",
       "      <td>0</td>\n",
       "      <td>0</td>\n",
       "      <td>0</td>\n",
       "      <td>0</td>\n",
       "    </tr>\n",
       "    <tr>\n",
       "      <th>3</th>\n",
       "      <td>e쿠폰/티켓</td>\n",
       "      <td>0</td>\n",
       "      <td>0</td>\n",
       "      <td>0</td>\n",
       "      <td>0</td>\n",
       "      <td>0</td>\n",
       "      <td>0</td>\n",
       "      <td>0</td>\n",
       "      <td>0</td>\n",
       "      <td>0</td>\n",
       "      <td>...</td>\n",
       "      <td>0</td>\n",
       "      <td>0</td>\n",
       "      <td>0</td>\n",
       "      <td>0</td>\n",
       "      <td>0</td>\n",
       "      <td>0</td>\n",
       "      <td>0</td>\n",
       "      <td>0</td>\n",
       "      <td>0</td>\n",
       "      <td>0</td>\n",
       "    </tr>\n",
       "    <tr>\n",
       "      <th>4</th>\n",
       "      <td>e쿠폰/티켓</td>\n",
       "      <td>0</td>\n",
       "      <td>0</td>\n",
       "      <td>0</td>\n",
       "      <td>0</td>\n",
       "      <td>0</td>\n",
       "      <td>0</td>\n",
       "      <td>0</td>\n",
       "      <td>0</td>\n",
       "      <td>0</td>\n",
       "      <td>...</td>\n",
       "      <td>0</td>\n",
       "      <td>0</td>\n",
       "      <td>0</td>\n",
       "      <td>0</td>\n",
       "      <td>0</td>\n",
       "      <td>0</td>\n",
       "      <td>0</td>\n",
       "      <td>0</td>\n",
       "      <td>0</td>\n",
       "      <td>0</td>\n",
       "    </tr>\n",
       "    <tr>\n",
       "      <th>5</th>\n",
       "      <td>e쿠폰/티켓</td>\n",
       "      <td>0</td>\n",
       "      <td>0</td>\n",
       "      <td>0</td>\n",
       "      <td>0</td>\n",
       "      <td>0</td>\n",
       "      <td>0</td>\n",
       "      <td>0</td>\n",
       "      <td>0</td>\n",
       "      <td>0</td>\n",
       "      <td>...</td>\n",
       "      <td>0</td>\n",
       "      <td>0</td>\n",
       "      <td>0</td>\n",
       "      <td>0</td>\n",
       "      <td>0</td>\n",
       "      <td>0</td>\n",
       "      <td>0</td>\n",
       "      <td>0</td>\n",
       "      <td>0</td>\n",
       "      <td>0</td>\n",
       "    </tr>\n",
       "    <tr>\n",
       "      <th>...</th>\n",
       "      <td>...</td>\n",
       "      <td>...</td>\n",
       "      <td>...</td>\n",
       "      <td>...</td>\n",
       "      <td>...</td>\n",
       "      <td>...</td>\n",
       "      <td>...</td>\n",
       "      <td>...</td>\n",
       "      <td>...</td>\n",
       "      <td>...</td>\n",
       "      <td>...</td>\n",
       "      <td>...</td>\n",
       "      <td>...</td>\n",
       "      <td>...</td>\n",
       "      <td>...</td>\n",
       "      <td>...</td>\n",
       "      <td>...</td>\n",
       "      <td>...</td>\n",
       "      <td>...</td>\n",
       "      <td>...</td>\n",
       "      <td>...</td>\n",
       "    </tr>\n",
       "    <tr>\n",
       "      <th>9962</th>\n",
       "      <td>가구/침구</td>\n",
       "      <td>0</td>\n",
       "      <td>0</td>\n",
       "      <td>0</td>\n",
       "      <td>0</td>\n",
       "      <td>0</td>\n",
       "      <td>0</td>\n",
       "      <td>0</td>\n",
       "      <td>0</td>\n",
       "      <td>0</td>\n",
       "      <td>...</td>\n",
       "      <td>0</td>\n",
       "      <td>0</td>\n",
       "      <td>0</td>\n",
       "      <td>0</td>\n",
       "      <td>0</td>\n",
       "      <td>0</td>\n",
       "      <td>0</td>\n",
       "      <td>0</td>\n",
       "      <td>0</td>\n",
       "      <td>0</td>\n",
       "    </tr>\n",
       "    <tr>\n",
       "      <th>9963</th>\n",
       "      <td>가구/침구</td>\n",
       "      <td>0</td>\n",
       "      <td>0</td>\n",
       "      <td>0</td>\n",
       "      <td>0</td>\n",
       "      <td>0</td>\n",
       "      <td>0</td>\n",
       "      <td>0</td>\n",
       "      <td>0</td>\n",
       "      <td>0</td>\n",
       "      <td>...</td>\n",
       "      <td>0</td>\n",
       "      <td>0</td>\n",
       "      <td>0</td>\n",
       "      <td>0</td>\n",
       "      <td>0</td>\n",
       "      <td>0</td>\n",
       "      <td>0</td>\n",
       "      <td>0</td>\n",
       "      <td>0</td>\n",
       "      <td>0</td>\n",
       "    </tr>\n",
       "    <tr>\n",
       "      <th>9964</th>\n",
       "      <td>가구/침구</td>\n",
       "      <td>0</td>\n",
       "      <td>0</td>\n",
       "      <td>0</td>\n",
       "      <td>0</td>\n",
       "      <td>0</td>\n",
       "      <td>0</td>\n",
       "      <td>0</td>\n",
       "      <td>0</td>\n",
       "      <td>0</td>\n",
       "      <td>...</td>\n",
       "      <td>0</td>\n",
       "      <td>0</td>\n",
       "      <td>0</td>\n",
       "      <td>0</td>\n",
       "      <td>0</td>\n",
       "      <td>0</td>\n",
       "      <td>0</td>\n",
       "      <td>0</td>\n",
       "      <td>0</td>\n",
       "      <td>0</td>\n",
       "    </tr>\n",
       "    <tr>\n",
       "      <th>9965</th>\n",
       "      <td>가구/침구</td>\n",
       "      <td>0</td>\n",
       "      <td>0</td>\n",
       "      <td>0</td>\n",
       "      <td>0</td>\n",
       "      <td>0</td>\n",
       "      <td>0</td>\n",
       "      <td>0</td>\n",
       "      <td>0</td>\n",
       "      <td>0</td>\n",
       "      <td>...</td>\n",
       "      <td>0</td>\n",
       "      <td>0</td>\n",
       "      <td>0</td>\n",
       "      <td>0</td>\n",
       "      <td>0</td>\n",
       "      <td>0</td>\n",
       "      <td>0</td>\n",
       "      <td>0</td>\n",
       "      <td>0</td>\n",
       "      <td>0</td>\n",
       "    </tr>\n",
       "    <tr>\n",
       "      <th>9967</th>\n",
       "      <td>가구/침구</td>\n",
       "      <td>0</td>\n",
       "      <td>0</td>\n",
       "      <td>0</td>\n",
       "      <td>0</td>\n",
       "      <td>0</td>\n",
       "      <td>0</td>\n",
       "      <td>0</td>\n",
       "      <td>0</td>\n",
       "      <td>0</td>\n",
       "      <td>...</td>\n",
       "      <td>0</td>\n",
       "      <td>0</td>\n",
       "      <td>0</td>\n",
       "      <td>0</td>\n",
       "      <td>0</td>\n",
       "      <td>0</td>\n",
       "      <td>0</td>\n",
       "      <td>0</td>\n",
       "      <td>0</td>\n",
       "      <td>0</td>\n",
       "    </tr>\n",
       "  </tbody>\n",
       "</table>\n",
       "<p>8154 rows × 5812 columns</p>\n",
       "</div>"
      ],
      "text/plain": [
       "     Main_category  _편백나무  正品  防彈少年團  가게놀이  가격인하  가고  가그린  가나양말  가난한  ...  \\\n",
       "1           e쿠폰/티켓      0   0      0     0     0   0    0     0    0  ...   \n",
       "2           e쿠폰/티켓      0   0      0     0     0   0    0     0    0  ...   \n",
       "3           e쿠폰/티켓      0   0      0     0     0   0    0     0    0  ...   \n",
       "4           e쿠폰/티켓      0   0      0     0     0   0    0     0    0  ...   \n",
       "5           e쿠폰/티켓      0   0      0     0     0   0    0     0    0  ...   \n",
       "...            ...    ...  ..    ...   ...   ...  ..  ...   ...  ...  ...   \n",
       "9962         가구/침구      0   0      0     0     0   0    0     0    0  ...   \n",
       "9963         가구/침구      0   0      0     0     0   0    0     0    0  ...   \n",
       "9964         가구/침구      0   0      0     0     0   0    0     0    0  ...   \n",
       "9965         가구/침구      0   0      0     0     0   0    0     0    0  ...   \n",
       "9967         가구/침구      0   0      0     0     0   0    0     0    0  ...   \n",
       "\n",
       "      히어로  히키스  힌지보호  힐링  힐링그린  힐링팩토리  힐튼  힙분유  힙색  힙팩  \n",
       "1       0    0     0   0     0      0   0    0   0   0  \n",
       "2       0    0     0   0     0      0   0    0   0   0  \n",
       "3       0    0     0   0     0      0   0    0   0   0  \n",
       "4       0    0     0   0     0      0   0    0   0   0  \n",
       "5       0    0     0   0     0      0   0    0   0   0  \n",
       "...   ...  ...   ...  ..   ...    ...  ..  ...  ..  ..  \n",
       "9962    0    0     0   0     0      0   0    0   0   0  \n",
       "9963    0    0     0   0     0      0   0    0   0   0  \n",
       "9964    0    0     0   0     0      0   0    0   0   0  \n",
       "9965    0    0     0   0     0      0   0    0   0   0  \n",
       "9967    0    0     0   0     0      0   0    0   0   0  \n",
       "\n",
       "[8154 rows x 5812 columns]"
      ]
     },
     "execution_count": 33,
     "metadata": {},
     "output_type": "execute_result"
    }
   ],
   "source": [
    "import numpy as np\n",
    "random = np.random.random_integers(0,9967,size = int(9967* 0.2)).tolist()\n",
    "df_test_3 = df_test_2.drop(random,axis=0).copy()\n",
    "df_test_3"
   ]
  },
  {
   "cell_type": "code",
   "execution_count": 34,
   "metadata": {},
   "outputs": [
    {
     "data": {
      "text/plain": [
       "_편백나무     3\n",
       "正品        4\n",
       "防彈少年團     2\n",
       "가게놀이      2\n",
       "가격인하      3\n",
       "         ..\n",
       "힐링팩토리     2\n",
       "힐튼        3\n",
       "힙분유       4\n",
       "힙색       13\n",
       "힙팩        2\n",
       "Length: 5811, dtype: int64"
      ]
     },
     "execution_count": 34,
     "metadata": {},
     "output_type": "execute_result"
    }
   ],
   "source": [
    "df_test_3.set_index('Main_category').apply(sum,axis=0)"
   ]
  },
  {
   "cell_type": "code",
   "execution_count": 35,
   "metadata": {},
   "outputs": [],
   "source": [
    "name_lst  = [i for i in [df_test_3.set_index('Main_category').apply(sum,axis=0) > 0][0]]"
   ]
  },
  {
   "cell_type": "code",
   "execution_count": 45,
   "metadata": {},
   "outputs": [
    {
     "data": {
      "text/plain": [
       "[True,\n",
       " True,\n",
       " True,\n",
       " True,\n",
       " True,\n",
       " True,\n",
       " True,\n",
       " True,\n",
       " True,\n",
       " True,\n",
       " True,\n",
       " False,\n",
       " True,\n",
       " True,\n",
       " True,\n",
       " True,\n",
       " True,\n",
       " True,\n",
       " True,\n",
       " True,\n",
       " True,\n",
       " True,\n",
       " True,\n",
       " True,\n",
       " True,\n",
       " True,\n",
       " True,\n",
       " True,\n",
       " True,\n",
       " True,\n",
       " True,\n",
       " True,\n",
       " True,\n",
       " True,\n",
       " True,\n",
       " True,\n",
       " True,\n",
       " True,\n",
       " True,\n",
       " True,\n",
       " True,\n",
       " True,\n",
       " True,\n",
       " True,\n",
       " True,\n",
       " True,\n",
       " True,\n",
       " True,\n",
       " True,\n",
       " True,\n",
       " True,\n",
       " True,\n",
       " True,\n",
       " True,\n",
       " False,\n",
       " True,\n",
       " True,\n",
       " True,\n",
       " True,\n",
       " True,\n",
       " True,\n",
       " True,\n",
       " True,\n",
       " True,\n",
       " True,\n",
       " True,\n",
       " True,\n",
       " True,\n",
       " True,\n",
       " True,\n",
       " True,\n",
       " True,\n",
       " True,\n",
       " True,\n",
       " True,\n",
       " True,\n",
       " True,\n",
       " True,\n",
       " True,\n",
       " True,\n",
       " True,\n",
       " True,\n",
       " True,\n",
       " True,\n",
       " True,\n",
       " True,\n",
       " True,\n",
       " True,\n",
       " True,\n",
       " True,\n",
       " True,\n",
       " True,\n",
       " True,\n",
       " True,\n",
       " True,\n",
       " True,\n",
       " True,\n",
       " True,\n",
       " True,\n",
       " True,\n",
       " True,\n",
       " True,\n",
       " True,\n",
       " True,\n",
       " True,\n",
       " True,\n",
       " True,\n",
       " True,\n",
       " True,\n",
       " True,\n",
       " True,\n",
       " True,\n",
       " True,\n",
       " True,\n",
       " True,\n",
       " True,\n",
       " True,\n",
       " True,\n",
       " True,\n",
       " True,\n",
       " True,\n",
       " True,\n",
       " True,\n",
       " True,\n",
       " True,\n",
       " True,\n",
       " True,\n",
       " True,\n",
       " False,\n",
       " True,\n",
       " True,\n",
       " True,\n",
       " True,\n",
       " True,\n",
       " True,\n",
       " True,\n",
       " True,\n",
       " True,\n",
       " True,\n",
       " True,\n",
       " True,\n",
       " True,\n",
       " True,\n",
       " True,\n",
       " True,\n",
       " True,\n",
       " True,\n",
       " True,\n",
       " True,\n",
       " True,\n",
       " True,\n",
       " True,\n",
       " True,\n",
       " True,\n",
       " True,\n",
       " True,\n",
       " True,\n",
       " True,\n",
       " True,\n",
       " True,\n",
       " True,\n",
       " True,\n",
       " True,\n",
       " True,\n",
       " True,\n",
       " True,\n",
       " True,\n",
       " True,\n",
       " True,\n",
       " True,\n",
       " True,\n",
       " True,\n",
       " True,\n",
       " True,\n",
       " True,\n",
       " True,\n",
       " True,\n",
       " True,\n",
       " True,\n",
       " True,\n",
       " True,\n",
       " True,\n",
       " True,\n",
       " True,\n",
       " True,\n",
       " True,\n",
       " True,\n",
       " True,\n",
       " True,\n",
       " True,\n",
       " True,\n",
       " True,\n",
       " True,\n",
       " True,\n",
       " True,\n",
       " True,\n",
       " True,\n",
       " True,\n",
       " True,\n",
       " True,\n",
       " True,\n",
       " True,\n",
       " True,\n",
       " True,\n",
       " True,\n",
       " True,\n",
       " True,\n",
       " True,\n",
       " True,\n",
       " True,\n",
       " True,\n",
       " True,\n",
       " True,\n",
       " True,\n",
       " True,\n",
       " True,\n",
       " True,\n",
       " True,\n",
       " True,\n",
       " True,\n",
       " True,\n",
       " True,\n",
       " True,\n",
       " True,\n",
       " True,\n",
       " True,\n",
       " True,\n",
       " True,\n",
       " True,\n",
       " True,\n",
       " True,\n",
       " True,\n",
       " True,\n",
       " True,\n",
       " True,\n",
       " True,\n",
       " True,\n",
       " True,\n",
       " True,\n",
       " True,\n",
       " True,\n",
       " True,\n",
       " True,\n",
       " True,\n",
       " True,\n",
       " True,\n",
       " True,\n",
       " True,\n",
       " True,\n",
       " True,\n",
       " True,\n",
       " True,\n",
       " True,\n",
       " True,\n",
       " True,\n",
       " True,\n",
       " True,\n",
       " True,\n",
       " True,\n",
       " True,\n",
       " True,\n",
       " True,\n",
       " True,\n",
       " True,\n",
       " True,\n",
       " True,\n",
       " True,\n",
       " True,\n",
       " True,\n",
       " True,\n",
       " True,\n",
       " True,\n",
       " True,\n",
       " True,\n",
       " True,\n",
       " True,\n",
       " True,\n",
       " True,\n",
       " True,\n",
       " True,\n",
       " True,\n",
       " True,\n",
       " True,\n",
       " True,\n",
       " True,\n",
       " True,\n",
       " True,\n",
       " True,\n",
       " True,\n",
       " True,\n",
       " False,\n",
       " True,\n",
       " True,\n",
       " True,\n",
       " True,\n",
       " True,\n",
       " True,\n",
       " True,\n",
       " True,\n",
       " True,\n",
       " True,\n",
       " True,\n",
       " True,\n",
       " True,\n",
       " True,\n",
       " True,\n",
       " True,\n",
       " True,\n",
       " True,\n",
       " True,\n",
       " True,\n",
       " True,\n",
       " True,\n",
       " True,\n",
       " True,\n",
       " True,\n",
       " True,\n",
       " True,\n",
       " True,\n",
       " True,\n",
       " True,\n",
       " True,\n",
       " True,\n",
       " True,\n",
       " True,\n",
       " True,\n",
       " True,\n",
       " True,\n",
       " True,\n",
       " True,\n",
       " True,\n",
       " True,\n",
       " True,\n",
       " True,\n",
       " True,\n",
       " True,\n",
       " True,\n",
       " True,\n",
       " True,\n",
       " True,\n",
       " True,\n",
       " True,\n",
       " True,\n",
       " True,\n",
       " True,\n",
       " True,\n",
       " True,\n",
       " True,\n",
       " True,\n",
       " True,\n",
       " True,\n",
       " True,\n",
       " True,\n",
       " True,\n",
       " True,\n",
       " True,\n",
       " True,\n",
       " True,\n",
       " True,\n",
       " True,\n",
       " True,\n",
       " True,\n",
       " True,\n",
       " True,\n",
       " True,\n",
       " True,\n",
       " True,\n",
       " True,\n",
       " True,\n",
       " True,\n",
       " True,\n",
       " True,\n",
       " True,\n",
       " True,\n",
       " True,\n",
       " True,\n",
       " True,\n",
       " True,\n",
       " True,\n",
       " True,\n",
       " True,\n",
       " True,\n",
       " True,\n",
       " True,\n",
       " True,\n",
       " True,\n",
       " False,\n",
       " False,\n",
       " True,\n",
       " True,\n",
       " True,\n",
       " True,\n",
       " True,\n",
       " True,\n",
       " True,\n",
       " True,\n",
       " True,\n",
       " True,\n",
       " True,\n",
       " True,\n",
       " True,\n",
       " True,\n",
       " True,\n",
       " True,\n",
       " False,\n",
       " True,\n",
       " True,\n",
       " True,\n",
       " True,\n",
       " True,\n",
       " True,\n",
       " True,\n",
       " True,\n",
       " True,\n",
       " True,\n",
       " True,\n",
       " True,\n",
       " True,\n",
       " True,\n",
       " True,\n",
       " True,\n",
       " True,\n",
       " True,\n",
       " True,\n",
       " True,\n",
       " True,\n",
       " True,\n",
       " True,\n",
       " True,\n",
       " True,\n",
       " True,\n",
       " True,\n",
       " True,\n",
       " True,\n",
       " True,\n",
       " True,\n",
       " True,\n",
       " True,\n",
       " True,\n",
       " True,\n",
       " True,\n",
       " True,\n",
       " True,\n",
       " True,\n",
       " True,\n",
       " True,\n",
       " True,\n",
       " True,\n",
       " True,\n",
       " True,\n",
       " True,\n",
       " True,\n",
       " True,\n",
       " True,\n",
       " True,\n",
       " True,\n",
       " True,\n",
       " True,\n",
       " True,\n",
       " True,\n",
       " True,\n",
       " True,\n",
       " True,\n",
       " True,\n",
       " True,\n",
       " True,\n",
       " True,\n",
       " True,\n",
       " True,\n",
       " True,\n",
       " True,\n",
       " True,\n",
       " True,\n",
       " True,\n",
       " True,\n",
       " True,\n",
       " True,\n",
       " True,\n",
       " True,\n",
       " True,\n",
       " True,\n",
       " True,\n",
       " True,\n",
       " True,\n",
       " True,\n",
       " True,\n",
       " True,\n",
       " True,\n",
       " True,\n",
       " True,\n",
       " True,\n",
       " True,\n",
       " True,\n",
       " True,\n",
       " True,\n",
       " True,\n",
       " True,\n",
       " True,\n",
       " True,\n",
       " True,\n",
       " True,\n",
       " True,\n",
       " True,\n",
       " True,\n",
       " True,\n",
       " True,\n",
       " True,\n",
       " True,\n",
       " True,\n",
       " True,\n",
       " True,\n",
       " True,\n",
       " True,\n",
       " True,\n",
       " True,\n",
       " True,\n",
       " True,\n",
       " True,\n",
       " True,\n",
       " True,\n",
       " True,\n",
       " True,\n",
       " True,\n",
       " True,\n",
       " True,\n",
       " True,\n",
       " True,\n",
       " True,\n",
       " True,\n",
       " True,\n",
       " True,\n",
       " True,\n",
       " True,\n",
       " True,\n",
       " True,\n",
       " True,\n",
       " True,\n",
       " True,\n",
       " True,\n",
       " True,\n",
       " True,\n",
       " True,\n",
       " True,\n",
       " True,\n",
       " True,\n",
       " True,\n",
       " True,\n",
       " True,\n",
       " True,\n",
       " True,\n",
       " True,\n",
       " True,\n",
       " True,\n",
       " True,\n",
       " True,\n",
       " True,\n",
       " True,\n",
       " True,\n",
       " True,\n",
       " False,\n",
       " True,\n",
       " True,\n",
       " True,\n",
       " True,\n",
       " True,\n",
       " True,\n",
       " True,\n",
       " True,\n",
       " True,\n",
       " True,\n",
       " True,\n",
       " True,\n",
       " True,\n",
       " True,\n",
       " True,\n",
       " True,\n",
       " True,\n",
       " True,\n",
       " True,\n",
       " True,\n",
       " True,\n",
       " True,\n",
       " True,\n",
       " True,\n",
       " True,\n",
       " True,\n",
       " True,\n",
       " True,\n",
       " True,\n",
       " True,\n",
       " False,\n",
       " True,\n",
       " True,\n",
       " True,\n",
       " True,\n",
       " True,\n",
       " True,\n",
       " True,\n",
       " True,\n",
       " True,\n",
       " True,\n",
       " True,\n",
       " True,\n",
       " True,\n",
       " True,\n",
       " True,\n",
       " False,\n",
       " True,\n",
       " True,\n",
       " True,\n",
       " True,\n",
       " True,\n",
       " False,\n",
       " True,\n",
       " True,\n",
       " True,\n",
       " True,\n",
       " True,\n",
       " True,\n",
       " True,\n",
       " True,\n",
       " True,\n",
       " True,\n",
       " True,\n",
       " True,\n",
       " True,\n",
       " True,\n",
       " True,\n",
       " True,\n",
       " True,\n",
       " True,\n",
       " True,\n",
       " True,\n",
       " True,\n",
       " True,\n",
       " True,\n",
       " True,\n",
       " True,\n",
       " True,\n",
       " True,\n",
       " True,\n",
       " True,\n",
       " True,\n",
       " True,\n",
       " True,\n",
       " True,\n",
       " True,\n",
       " True,\n",
       " True,\n",
       " True,\n",
       " True,\n",
       " True,\n",
       " True,\n",
       " True,\n",
       " True,\n",
       " True,\n",
       " True,\n",
       " True,\n",
       " True,\n",
       " True,\n",
       " True,\n",
       " True,\n",
       " True,\n",
       " True,\n",
       " True,\n",
       " True,\n",
       " True,\n",
       " True,\n",
       " True,\n",
       " True,\n",
       " True,\n",
       " True,\n",
       " True,\n",
       " True,\n",
       " True,\n",
       " True,\n",
       " True,\n",
       " True,\n",
       " True,\n",
       " True,\n",
       " True,\n",
       " True,\n",
       " True,\n",
       " True,\n",
       " True,\n",
       " True,\n",
       " True,\n",
       " True,\n",
       " True,\n",
       " True,\n",
       " True,\n",
       " True,\n",
       " True,\n",
       " True,\n",
       " True,\n",
       " True,\n",
       " True,\n",
       " True,\n",
       " True,\n",
       " True,\n",
       " True,\n",
       " True,\n",
       " True,\n",
       " True,\n",
       " True,\n",
       " True,\n",
       " True,\n",
       " True,\n",
       " True,\n",
       " True,\n",
       " True,\n",
       " True,\n",
       " True,\n",
       " True,\n",
       " True,\n",
       " True,\n",
       " True,\n",
       " True,\n",
       " True,\n",
       " True,\n",
       " True,\n",
       " True,\n",
       " True,\n",
       " True,\n",
       " True,\n",
       " True,\n",
       " True,\n",
       " True,\n",
       " True,\n",
       " True,\n",
       " True,\n",
       " True,\n",
       " True,\n",
       " True,\n",
       " True,\n",
       " True,\n",
       " True,\n",
       " True,\n",
       " True,\n",
       " True,\n",
       " True,\n",
       " True,\n",
       " True,\n",
       " True,\n",
       " True,\n",
       " True,\n",
       " True,\n",
       " True,\n",
       " True,\n",
       " True,\n",
       " True,\n",
       " True,\n",
       " True,\n",
       " True,\n",
       " True,\n",
       " True,\n",
       " True,\n",
       " True,\n",
       " True,\n",
       " True,\n",
       " True,\n",
       " True,\n",
       " True,\n",
       " True,\n",
       " True,\n",
       " True,\n",
       " False,\n",
       " True,\n",
       " True,\n",
       " True,\n",
       " True,\n",
       " True,\n",
       " True,\n",
       " True,\n",
       " True,\n",
       " True,\n",
       " True,\n",
       " True,\n",
       " True,\n",
       " True,\n",
       " True,\n",
       " True,\n",
       " True,\n",
       " True,\n",
       " True,\n",
       " True,\n",
       " True,\n",
       " True,\n",
       " True,\n",
       " True,\n",
       " True,\n",
       " True,\n",
       " True,\n",
       " True,\n",
       " True,\n",
       " True,\n",
       " True,\n",
       " True,\n",
       " True,\n",
       " True,\n",
       " True,\n",
       " True,\n",
       " True,\n",
       " True,\n",
       " True,\n",
       " True,\n",
       " True,\n",
       " True,\n",
       " True,\n",
       " True,\n",
       " True,\n",
       " True,\n",
       " True,\n",
       " True,\n",
       " True,\n",
       " True,\n",
       " True,\n",
       " True,\n",
       " True,\n",
       " True,\n",
       " True,\n",
       " True,\n",
       " True,\n",
       " True,\n",
       " True,\n",
       " True,\n",
       " True,\n",
       " True,\n",
       " True,\n",
       " True,\n",
       " True,\n",
       " True,\n",
       " True,\n",
       " True,\n",
       " True,\n",
       " True,\n",
       " True,\n",
       " True,\n",
       " True,\n",
       " True,\n",
       " True,\n",
       " True,\n",
       " True,\n",
       " True,\n",
       " True,\n",
       " True,\n",
       " True,\n",
       " True,\n",
       " True,\n",
       " True,\n",
       " True,\n",
       " True,\n",
       " True,\n",
       " True,\n",
       " True,\n",
       " True,\n",
       " True,\n",
       " True,\n",
       " True,\n",
       " True,\n",
       " True,\n",
       " True,\n",
       " True,\n",
       " True,\n",
       " True,\n",
       " True,\n",
       " True,\n",
       " True,\n",
       " True,\n",
       " True,\n",
       " True,\n",
       " True,\n",
       " True,\n",
       " False,\n",
       " True,\n",
       " True,\n",
       " True,\n",
       " True,\n",
       " True,\n",
       " True,\n",
       " True,\n",
       " True,\n",
       " True,\n",
       " True,\n",
       " True,\n",
       " True,\n",
       " True,\n",
       " True,\n",
       " True,\n",
       " True,\n",
       " True,\n",
       " True,\n",
       " True,\n",
       " True,\n",
       " True,\n",
       " True,\n",
       " True,\n",
       " False,\n",
       " True,\n",
       " True,\n",
       " True,\n",
       " True,\n",
       " True,\n",
       " True,\n",
       " True,\n",
       " True,\n",
       " True,\n",
       " True,\n",
       " True,\n",
       " True,\n",
       " True,\n",
       " True,\n",
       " True,\n",
       " True,\n",
       " True,\n",
       " True,\n",
       " True,\n",
       " True,\n",
       " True,\n",
       " True,\n",
       " True,\n",
       " True,\n",
       " True,\n",
       " True,\n",
       " True,\n",
       " True,\n",
       " True,\n",
       " True,\n",
       " True,\n",
       " True,\n",
       " True,\n",
       " True,\n",
       " True,\n",
       " True,\n",
       " True,\n",
       " True,\n",
       " True,\n",
       " True,\n",
       " True,\n",
       " True,\n",
       " True,\n",
       " True,\n",
       " True,\n",
       " True,\n",
       " True,\n",
       " True,\n",
       " True,\n",
       " True,\n",
       " True,\n",
       " True,\n",
       " True,\n",
       " True,\n",
       " True,\n",
       " True,\n",
       " True,\n",
       " True,\n",
       " True,\n",
       " False,\n",
       " True,\n",
       " True,\n",
       " True,\n",
       " True,\n",
       " True,\n",
       " True,\n",
       " True,\n",
       " True,\n",
       " True,\n",
       " True,\n",
       " True,\n",
       " True,\n",
       " True,\n",
       " True,\n",
       " True,\n",
       " True,\n",
       " True,\n",
       " True,\n",
       " True,\n",
       " True,\n",
       " True,\n",
       " True,\n",
       " True,\n",
       " True,\n",
       " True,\n",
       " True,\n",
       " True,\n",
       " True,\n",
       " True,\n",
       " True,\n",
       " True,\n",
       " True,\n",
       " True,\n",
       " True,\n",
       " True,\n",
       " True,\n",
       " True,\n",
       " True,\n",
       " True,\n",
       " True,\n",
       " True,\n",
       " True,\n",
       " ...]"
      ]
     },
     "execution_count": 45,
     "metadata": {},
     "output_type": "execute_result"
    }
   ],
   "source": [
    "name_lst"
   ]
  },
  {
   "cell_type": "code",
   "execution_count": 36,
   "metadata": {},
   "outputs": [],
   "source": [
    "df_test_4 = df_test_3.set_index('Main_category').copy()"
   ]
  },
  {
   "cell_type": "code",
   "execution_count": 37,
   "metadata": {},
   "outputs": [],
   "source": [
    "df_test_5 = df_test_4.loc[:,name_lst].copy()"
   ]
  },
  {
   "cell_type": "code",
   "execution_count": 39,
   "metadata": {},
   "outputs": [],
   "source": [
    "# df_test_5.to_csv('TF.csv')"
   ]
  },
  {
   "cell_type": "code",
   "execution_count": 40,
   "metadata": {},
   "outputs": [],
   "source": [
    "df1 = df1.drop_duplicates(3).copy()"
   ]
  },
  {
   "cell_type": "code",
   "execution_count": 41,
   "metadata": {},
   "outputs": [],
   "source": [
    "df_title['Main_category'] = df1[0]"
   ]
  },
  {
   "cell_type": "code",
   "execution_count": 42,
   "metadata": {},
   "outputs": [],
   "source": [
    "df_title_2 = df_title.set_index('Main_category').copy()"
   ]
  },
  {
   "cell_type": "code",
   "execution_count": 43,
   "metadata": {},
   "outputs": [
    {
     "data": {
      "text/html": [
       "<div>\n",
       "<style scoped>\n",
       "    .dataframe tbody tr th:only-of-type {\n",
       "        vertical-align: middle;\n",
       "    }\n",
       "\n",
       "    .dataframe tbody tr th {\n",
       "        vertical-align: top;\n",
       "    }\n",
       "\n",
       "    .dataframe thead th {\n",
       "        text-align: right;\n",
       "    }\n",
       "</style>\n",
       "<table border=\"1\" class=\"dataframe\">\n",
       "  <thead>\n",
       "    <tr style=\"text-align: right;\">\n",
       "      <th></th>\n",
       "      <th>title</th>\n",
       "    </tr>\n",
       "    <tr>\n",
       "      <th>Main_category</th>\n",
       "      <th></th>\n",
       "    </tr>\n",
       "  </thead>\n",
       "  <tbody>\n",
       "    <tr>\n",
       "      <th>e쿠폰/티켓</th>\n",
       "      <td>(파리바게뜨) 실키롤케익</td>\n",
       "    </tr>\n",
       "    <tr>\n",
       "      <th>e쿠폰/티켓</th>\n",
       "      <td>[설빙](설빙) 설빙 디지털 금액권 2만원권</td>\n",
       "    </tr>\n",
       "    <tr>\n",
       "      <th>e쿠폰/티켓</th>\n",
       "      <td>[아웃백스테이크하우스]아웃백 디지털 5만원권</td>\n",
       "    </tr>\n",
       "    <tr>\n",
       "      <th>e쿠폰/티켓</th>\n",
       "      <td>(파리바게뜨) 블레싱 초코베리 케이크</td>\n",
       "    </tr>\n",
       "    <tr>\n",
       "      <th>e쿠폰/티켓</th>\n",
       "      <td>[스타벅스](스타벅스)(APP전용) e카드 3만원 교환권</td>\n",
       "    </tr>\n",
       "    <tr>\n",
       "      <th>...</th>\n",
       "      <td>...</td>\n",
       "    </tr>\n",
       "    <tr>\n",
       "      <th>가구/침구</th>\n",
       "      <td>시원한스노우리플여름누비이불패드풀세트SSQK사이즈</td>\n",
       "    </tr>\n",
       "    <tr>\n",
       "      <th>가구/침구</th>\n",
       "      <td>순면누빔 고정밴딩 여름침대패드/인견패드</td>\n",
       "    </tr>\n",
       "    <tr>\n",
       "      <th>가구/침구</th>\n",
       "      <td>[베드리움][금성침대 X 베드리움] [베드리움] 슈페르 프리미엄 300T 매트리스(...</td>\n",
       "    </tr>\n",
       "    <tr>\n",
       "      <th>여행</th>\n",
       "      <td>네스트호텔 인천(인천 호텔/중구/인천국제공항(중구))</td>\n",
       "    </tr>\n",
       "    <tr>\n",
       "      <th>여행</th>\n",
       "      <td>|경남 거제시| 한화리조트 거제 벨버디어(신규오픈/거제리조트/한화리조트</td>\n",
       "    </tr>\n",
       "  </tbody>\n",
       "</table>\n",
       "<p>9968 rows × 1 columns</p>\n",
       "</div>"
      ],
      "text/plain": [
       "                                                           title\n",
       "Main_category                                                   \n",
       "e쿠폰/티켓                                             (파리바게뜨) 실키롤케익\n",
       "e쿠폰/티켓                                  [설빙](설빙) 설빙 디지털 금액권 2만원권\n",
       "e쿠폰/티켓                                  [아웃백스테이크하우스]아웃백 디지털 5만원권\n",
       "e쿠폰/티켓                                      (파리바게뜨) 블레싱 초코베리 케이크\n",
       "e쿠폰/티켓                           [스타벅스](스타벅스)(APP전용) e카드 3만원 교환권\n",
       "...                                                          ...\n",
       "가구/침구                                 시원한스노우리플여름누비이불패드풀세트SSQK사이즈\n",
       "가구/침구                                      순면누빔 고정밴딩 여름침대패드/인견패드\n",
       "가구/침구          [베드리움][금성침대 X 베드리움] [베드리움] 슈페르 프리미엄 300T 매트리스(...\n",
       "여행                                 네스트호텔 인천(인천 호텔/중구/인천국제공항(중구))\n",
       "여행                       |경남 거제시| 한화리조트 거제 벨버디어(신규오픈/거제리조트/한화리조트\n",
       "\n",
       "[9968 rows x 1 columns]"
      ]
     },
     "execution_count": 43,
     "metadata": {},
     "output_type": "execute_result"
    }
   ],
   "source": [
    "df_title_2"
   ]
  },
  {
   "cell_type": "code",
   "execution_count": 44,
   "metadata": {},
   "outputs": [
    {
     "data": {
      "text/plain": [
       "array([[0, 0, 0, ..., 0, 0, 0],\n",
       "       [0, 0, 0, ..., 0, 0, 0],\n",
       "       [0, 0, 0, ..., 0, 0, 0],\n",
       "       ...,\n",
       "       [0, 0, 0, ..., 0, 0, 0],\n",
       "       [0, 0, 0, ..., 0, 0, 0],\n",
       "       [0, 0, 0, ..., 0, 0, 0]], dtype=int64)"
      ]
     },
     "execution_count": 44,
     "metadata": {},
     "output_type": "execute_result"
    }
   ],
   "source": [
    "df_test_5.values"
   ]
  },
  {
   "cell_type": "code",
   "execution_count": null,
   "metadata": {},
   "outputs": [],
   "source": [
    "from sklearn.model_selection import train_test_split\n",
    "\n",
    "x_train, x_test, y_train, y_test = train_test_split(df_test_5.values, df_test_5.index, test_size=0.2)\n",
    "\n",
    "\n"
   ]
  },
  {
   "cell_type": "markdown",
   "metadata": {},
   "source": [
    "### "
   ]
  },
  {
   "cell_type": "markdown",
   "metadata": {},
   "source": [
    "## TF 에서는 빈도 수 중 0인 것만 제거하여야 더 좋게 성능이 나온다."
   ]
  },
  {
   "cell_type": "code",
   "execution_count": null,
   "metadata": {},
   "outputs": [],
   "source": [
    "y_train"
   ]
  },
  {
   "cell_type": "code",
   "execution_count": null,
   "metadata": {},
   "outputs": [],
   "source": [
    "from sklearn.naive_bayes import MultinomialNB #sklearn이 제공하는 MultinomialNB 를 사용\n",
    "NB_clf = MultinomialNB() # 분류기 선언\n",
    "\n",
    "NB_clf.fit(x_train, y_train) #train set을 이용하여 분류기(classifier)를 학습\n",
    "\n",
    "print('Train set score: {:.3f}'.format(NB_clf.score(x_train, y_train))) #train set에 대한 예측정확도를 확인\n",
    "print('Test set score: {:.3f}'.format(NB_clf.score(x_test, y_test))) #test set에 대한 예측정확도를 확인"
   ]
  },
  {
   "cell_type": "code",
   "execution_count": null,
   "metadata": {},
   "outputs": [],
   "source": []
  },
  {
   "cell_type": "code",
   "execution_count": null,
   "metadata": {},
   "outputs": [],
   "source": [
    "df_title_2"
   ]
  },
  {
   "cell_type": "code",
   "execution_count": null,
   "metadata": {},
   "outputs": [],
   "source": [
    "from sklearn.model_selection import train_test_split\n",
    "\n",
    "x_train, x_test, y_train, y_test = train_test_split(df_title_2,\n",
    "                                                      df_title_2.index, test_size=0.2, shuffle=True, stratify=df_title_2.index\n",
    "                                                     ,random_state=34)"
   ]
  },
  {
   "cell_type": "code",
   "execution_count": null,
   "metadata": {},
   "outputs": [],
   "source": [
    "x_train['title'].values.tolist()"
   ]
  },
  {
   "cell_type": "markdown",
   "metadata": {},
   "source": [
    "## TF-IDF를 적용시킬 때 각각 따로 해야한다는 것을 잊지 말자."
   ]
  },
  {
   "cell_type": "code",
   "execution_count": null,
   "metadata": {},
   "outputs": [],
   "source": [
    "from sklearn.feature_extraction.text import TfidfVectorizer\n",
    "\n",
    "\n",
    "tfidf = TfidfVectorizer(max_features=2000,) \n",
    "\n",
    "tfidf_title_2 = tfidf.fit_transform(df_title_2['title'].tolist()).toarray()\n",
    "\n",
    "pd.DataFrame(tfidf_title_2, columns = tfidf.get_feature_names_out())"
   ]
  },
  {
   "cell_type": "code",
   "execution_count": null,
   "metadata": {},
   "outputs": [],
   "source": []
  },
  {
   "cell_type": "code",
   "execution_count": null,
   "metadata": {},
   "outputs": [],
   "source": [
    "df_title_2.head()"
   ]
  },
  {
   "cell_type": "code",
   "execution_count": null,
   "metadata": {},
   "outputs": [],
   "source": []
  },
  {
   "cell_type": "code",
   "execution_count": null,
   "metadata": {},
   "outputs": [],
   "source": []
  },
  {
   "cell_type": "code",
   "execution_count": null,
   "metadata": {},
   "outputs": [],
   "source": [
    "x_train"
   ]
  },
  {
   "cell_type": "code",
   "execution_count": null,
   "metadata": {},
   "outputs": [],
   "source": [
    "from sklearn.feature_extraction.text import TfidfVectorizer\n",
    "\n",
    "tfidf = TfidfVectorizer(max_features=2000,) \n",
    "X_train_tfidf = tfidf.fit_transform(x_train['title'].values.tolist()) # train set을 변환\n",
    "a = tfidf.get_feature_names_out()\n",
    "X_test_tfidf = tfidf.transform(x_test['title'].values.tolist()) # test set을 변환\n",
    "b = tfidf.get_feature_names_out()"
   ]
  },
  {
   "cell_type": "code",
   "execution_count": null,
   "metadata": {},
   "outputs": [],
   "source": [
    " "
   ]
  },
  {
   "cell_type": "code",
   "execution_count": null,
   "metadata": {},
   "outputs": [],
   "source": [
    "y_train"
   ]
  },
  {
   "cell_type": "code",
   "execution_count": null,
   "metadata": {},
   "outputs": [],
   "source": [
    "import re\n",
    "\n",
    "def hasNumber(stringVal):\n",
    "    if (re.search('\\d', stringVal) == None):\n",
    "        return True\n",
    "    else:\n",
    "        return False\n",
    "    \n",
    "    \n",
    "def hasEnglish(stringVal):\n",
    "    if (re.search('[A-Za-z]',stringVal) == None):\n",
    "        return True\n",
    "    else:\n",
    "        return False"
   ]
  },
  {
   "cell_type": "code",
   "execution_count": null,
   "metadata": {},
   "outputs": [],
   "source": [
    "X_train_tfidf_df = pd.DataFrame(X_train_tfidf.toarray(),columns = tfidf.get_feature_names_out() )"
   ]
  },
  {
   "cell_type": "code",
   "execution_count": null,
   "metadata": {},
   "outputs": [],
   "source": [
    "lst_bool = []\n",
    "for i in X_train_tfidf_df.columns:\n",
    "    if hasNumber(i) and hasEnglish(i):\n",
    "        lst_bool.append(i)\n",
    "        \n",
    "    else:\n",
    "        pass\n"
   ]
  },
  {
   "cell_type": "code",
   "execution_count": null,
   "metadata": {},
   "outputs": [],
   "source": [
    "X_train_tfidf_df_2 = X_train_tfidf_df.loc[:,lst_bool].copy()"
   ]
  },
  {
   "cell_type": "code",
   "execution_count": null,
   "metadata": {},
   "outputs": [],
   "source": [
    "X_train_tfidf_df_2.index = x_train.index"
   ]
  },
  {
   "cell_type": "code",
   "execution_count": null,
   "metadata": {},
   "outputs": [],
   "source": [
    "X_test_tfidf_df = pd.DataFrame(X_test_tfidf.toarray(),columns = tfidf.get_feature_names_out() )"
   ]
  },
  {
   "cell_type": "code",
   "execution_count": null,
   "metadata": {},
   "outputs": [],
   "source": [
    "lst_bool = []\n",
    "for i in X_test_tfidf_df.columns:\n",
    "    if hasNumber(i) and hasEnglish(i):\n",
    "        lst_bool.append(i)\n",
    "        \n",
    "    else:\n",
    "        pass"
   ]
  },
  {
   "cell_type": "code",
   "execution_count": null,
   "metadata": {},
   "outputs": [],
   "source": [
    "X_test_tfidf_df_2 = X_test_tfidf_df.loc[:,lst_bool].copy()"
   ]
  },
  {
   "cell_type": "code",
   "execution_count": null,
   "metadata": {},
   "outputs": [],
   "source": [
    "X_test_tfidf_df_2.index = x_test.index"
   ]
  },
  {
   "cell_type": "code",
   "execution_count": null,
   "metadata": {},
   "outputs": [],
   "source": [
    "X_test_tfidf_df_2"
   ]
  },
  {
   "cell_type": "code",
   "execution_count": null,
   "metadata": {},
   "outputs": [],
   "source": [
    "import pandas as pd\n",
    "import numpy as np # 각 모델에서 내부적으로 관련 라이브러리 사용 가능\n",
    "\n",
    "from sklearn.model_selection import cross_val_score\n",
    "from sklearn.model_selection import GridSearchCV\n",
    "from sklearn.model_selection import RandomizedSearchCV\n",
    "from scipy import stats\n",
    "\n",
    "from sklearn.neighbors import KNeighborsClassifier             # 1. K-Nearest Neighbor(KNN)\n",
    "from sklearn.linear_model import LogisticRegression            # 2. Logistic Regression\n",
    "from sklearn.svm import SVC                                                # 3. SVC\n",
    "from sklearn.tree import DecisionTreeClassifier                   # 4. Decision Tree\n",
    "from sklearn.ensemble import RandomForestClassifier       # 5. Random Forest\n",
    "from sklearn.ensemble import ExtraTreesClassifier             # 6. Extra Tree\n",
    "from sklearn.ensemble import GradientBoostingClassifier  # 7. GBM\n",
    "from sklearn.naive_bayes import GaussianNB                     # 8. GaussianNB\n",
    "from xgboost import XGBClassifier                                     # 9. XGBoost\n",
    "from lightgbm import LGBMClassifier                                 # 10. LightGBM\n",
    "import warnings\n",
    "\n",
    "warnings.filterwarnings('ignore')"
   ]
  },
  {
   "cell_type": "code",
   "execution_count": null,
   "metadata": {},
   "outputs": [],
   "source": []
  },
  {
   "cell_type": "code",
   "execution_count": null,
   "metadata": {
    "scrolled": true
   },
   "outputs": [],
   "source": [
    "NB_clf.fit(X_train_tfidf_df_2, y_train) #tfidf train set을 이용하여 분류기(classifier)를 새로 학습\n",
    "print('Train set score: {:.3f}'.format(NB_clf.score(X_train_tfidf_df_2.values, y_train))) #train set에 대한 예측정확도를 확인\n",
    "print('Test set score: {:.3f}'.format(NB_clf.score(X_test_tfidf_df_2.values, y_test))) #test set에 대한 예측정확도를 확인\n"
   ]
  },
  {
   "cell_type": "code",
   "execution_count": null,
   "metadata": {},
   "outputs": [],
   "source": [
    "# from sklearn.tree import DecisionTreeClassifier\n",
    "\n",
    "\n",
    "# tree3 = DecisionTreeClassifier(min_samples_split=50,random_state=7)\n",
    "# #tree3 = DecisionTreeClassifier(random_state=7)\n",
    "# #tree3 = DecisionTreeClassifier(max_depth=2,random_state=7)\n",
    "\n",
    "# tree3.fit(X_train_tfidf_df_2.values, y_train)\n",
    "# print('#Decision Tree train set score: {:.3f}'.format(tree3.score(X_train_tfidf_df_2.values, y_train)))\n",
    "# print('#Decision Tree test set score: {:.3f}'.format(tree3.score(X_test_tfidf_df_2.values, y_test)))"
   ]
  },
  {
   "cell_type": "code",
   "execution_count": null,
   "metadata": {},
   "outputs": [],
   "source": []
  },
  {
   "cell_type": "markdown",
   "metadata": {},
   "source": [
    "## 여러 모델 적용 \n"
   ]
  },
  {
   "cell_type": "code",
   "execution_count": null,
   "metadata": {},
   "outputs": [],
   "source": [
    "\n",
    "\n",
    "from sklearn.decomposition import PCA"
   ]
  },
  {
   "cell_type": "markdown",
   "metadata": {},
   "source": [
    "### 말이 안된다. 로지스틱 회귀는 이진 분류기인데 어떻게 여러 개의 분류를......?"
   ]
  },
  {
   "cell_type": "code",
   "execution_count": null,
   "metadata": {
    "scrolled": true
   },
   "outputs": [],
   "source": [
    "from sklearn.linear_model import LogisticRegression \n",
    "LR_clf = LogisticRegression() #분류기 선언\n",
    "\n",
    "LR_clf.fit(X_train_tfidf_df_2.values, y_train) # train data를 이용하여 분류기를 학습\n",
    "print('#Train set score: {:.3f}'.format(LR_clf.score(X_train_tfidf_df_2.values, y_train)))\n",
    "print('#Test set score: {:.3f}'.format(LR_clf.score(X_test_tfidf_df_2.values, y_test))) "
   ]
  },
  {
   "cell_type": "code",
   "execution_count": null,
   "metadata": {},
   "outputs": [],
   "source": [
    "# X_train_tfidf_df_2.to_csv('X_train_tfidf.csv')\n",
    "# X_test_tfidf_df_2.to_csv('X_test_tfidf.csv')\n",
    "# pd.DataFrame(y_train).to_csv('y_train.csv')\n",
    "# pd.DataFrame(y_test).to_csv('y_test.csv')\n"
   ]
  },
  {
   "cell_type": "code",
   "execution_count": null,
   "metadata": {},
   "outputs": [],
   "source": [
    "from sklearn.decomposition import PCA\n",
    "\n",
    "pca = PCA(n_components=750, random_state=7)\n",
    "X_train_pca = pca.fit_transform(X_train_tfidf_df_2.values)\n",
    "X_test_pca = pca.transform(X_test_tfidf_df_2.values)\n",
    "\n",
    "print('Original tfidf matrix shape:', X_train_tfidf_df_2.shape)\n",
    "print('PCA Converted matrix shape:', X_train_pca.shape)\n",
    "print('Sum of explained variance ratio: {:.3f}'.format(pca.explained_variance_ratio_.sum()))"
   ]
  },
  {
   "cell_type": "code",
   "execution_count": null,
   "metadata": {},
   "outputs": [],
   "source": [
    "X_test_pca"
   ]
  },
  {
   "cell_type": "code",
   "execution_count": null,
   "metadata": {},
   "outputs": [],
   "source": [
    "from sklearn.decomposition import PCA\n",
    "\n",
    "\n",
    "\n",
    "gd = GradientBoostingClassifier()\n",
    "\n",
    "gd.fit(X_train_pca, y_train)\n",
    "\n",
    "\n",
    "# xgb_clf = XGBClassifier()\n",
    "# pca = PCA(n_components=1000, random_state=7)\n",
    "# x.fit(X_train_pca, y_train)\n",
    "# print('#Train set score: {:.3f}'.format(LR_clf.score()))\n",
    "# print('#Test set score: {:.3f}'.format(LR_clf.score(X_test_pca, y_test)))"
   ]
  },
  {
   "cell_type": "code",
   "execution_count": null,
   "metadata": {},
   "outputs": [],
   "source": [
    "# import joblib \n",
    "# joblib.dump(gd, 'Gradient_boosting.pkl')\n",
    "\n",
    " "
   ]
  },
  {
   "cell_type": "code",
   "execution_count": null,
   "metadata": {},
   "outputs": [],
   "source": [
    "print('#Train set score: {:.3f}'.format(gd.score(X_train_pca, y_train)))\n",
    "print('#Test set score: {:.3f}'.format(gd.score(X_test_pca, y_test))) \n",
    "\n"
   ]
  },
  {
   "cell_type": "code",
   "execution_count": null,
   "metadata": {},
   "outputs": [],
   "source": [
    "from sklearn.preprocessing import MinMaxScaler #fixed import\n",
    "\n",
    "#ValueError: Negative values in data passed to MultinomialNB (input X) 에러 방지\n",
    "scaler = MinMaxScaler()\n",
    "X_train_pca = scaler.fit_transform(X_train_pca)\n",
    "X_test_pca = scaler.transform(X_test_pca)\n",
    "\n",
    "\n",
    "n_estimators = [10, 50]\n",
    "max_depth = [3, None] \n",
    "max_features = [0.1, 0.2, 0.5] # feature 수\n",
    "min_samples_split = [2, 4, 6] # 노드를 분할하기 위한 최소 샘플 수\n",
    "min_samples_leaf = [2, 4, 6] # 리프 노드가 되기 위해 필요한 최소 샘플 수\n",
    "\n",
    "hyperparams = {\n",
    "    'n_estimators': n_estimators, \n",
    "    'max_depth': max_depth, \n",
    "    'max_features': max_features,\n",
    "    'min_samples_split': min_samples_split, \n",
    "    'min_samples_leaf': min_samples_leaf\n",
    "}\n",
    "\n",
    "RF=GridSearchCV(\n",
    "    estimator = RandomForestClassifier(random_state=1), \n",
    "    param_grid = hyperparams, \n",
    "    verbose=True, \n",
    "    cv=5, \n",
    "    scoring = \"accuracy\", \n",
    "    n_jobs=-1\n",
    ")\n",
    "\n",
    "\n",
    "RF.fit(X_train_pca, y_train)\n"
   ]
  },
  {
   "cell_type": "code",
   "execution_count": null,
   "metadata": {},
   "outputs": [],
   "source": [
    "# import joblib \n",
    "# joblib.dump(RF, 'RandomForest.pkl')"
   ]
  },
  {
   "cell_type": "code",
   "execution_count": null,
   "metadata": {},
   "outputs": [],
   "source": [
    "print('#Train set score: {:.3f}'.format(RF.score(X_train_pca, y_train)))\n",
    "print('#Test set score: {:.3f}'.format(RF.score(X_test_pca, y_test))) \n"
   ]
  },
  {
   "cell_type": "code",
   "execution_count": null,
   "metadata": {},
   "outputs": [],
   "source": []
  },
  {
   "cell_type": "code",
   "execution_count": null,
   "metadata": {},
   "outputs": [],
   "source": []
  },
  {
   "cell_type": "code",
   "execution_count": null,
   "metadata": {},
   "outputs": [],
   "source": []
  },
  {
   "cell_type": "code",
   "execution_count": null,
   "metadata": {},
   "outputs": [],
   "source": []
  },
  {
   "cell_type": "code",
   "execution_count": null,
   "metadata": {},
   "outputs": [],
   "source": []
  },
  {
   "cell_type": "code",
   "execution_count": null,
   "metadata": {},
   "outputs": [],
   "source": []
  },
  {
   "cell_type": "code",
   "execution_count": null,
   "metadata": {},
   "outputs": [],
   "source": []
  },
  {
   "cell_type": "code",
   "execution_count": null,
   "metadata": {},
   "outputs": [],
   "source": []
  },
  {
   "cell_type": "code",
   "execution_count": null,
   "metadata": {},
   "outputs": [],
   "source": []
  },
  {
   "cell_type": "code",
   "execution_count": null,
   "metadata": {},
   "outputs": [],
   "source": []
  },
  {
   "cell_type": "code",
   "execution_count": null,
   "metadata": {},
   "outputs": [],
   "source": []
  },
  {
   "cell_type": "code",
   "execution_count": null,
   "metadata": {},
   "outputs": [],
   "source": []
  },
  {
   "cell_type": "code",
   "execution_count": null,
   "metadata": {},
   "outputs": [],
   "source": [
    "# from tensorflow.python.client import device_lib\n",
    "# device_lib.list_local_devices()"
   ]
  },
  {
   "cell_type": "code",
   "execution_count": null,
   "metadata": {},
   "outputs": [],
   "source": []
  },
  {
   "cell_type": "code",
   "execution_count": null,
   "metadata": {},
   "outputs": [],
   "source": []
  },
  {
   "cell_type": "code",
   "execution_count": null,
   "metadata": {},
   "outputs": [],
   "source": []
  },
  {
   "cell_type": "code",
   "execution_count": null,
   "metadata": {},
   "outputs": [],
   "source": []
  },
  {
   "cell_type": "code",
   "execution_count": null,
   "metadata": {},
   "outputs": [],
   "source": []
  },
  {
   "cell_type": "code",
   "execution_count": null,
   "metadata": {},
   "outputs": [],
   "source": []
  },
  {
   "cell_type": "markdown",
   "metadata": {},
   "source": [
    "## TF-IDF 계산"
   ]
  },
  {
   "cell_type": "code",
   "execution_count": null,
   "metadata": {},
   "outputs": [],
   "source": []
  },
  {
   "cell_type": "code",
   "execution_count": null,
   "metadata": {},
   "outputs": [],
   "source": [
    "from sklearn.feature_extraction.text import TfidfTransformer\n",
    "\n",
    "\n",
    "transformer  = TfidfTransformer()\n",
    "\n",
    "title_tfidf = transformer.fit_transform(review_cv)"
   ]
  },
  {
   "cell_type": "code",
   "execution_count": null,
   "metadata": {},
   "outputs": [],
   "source": [
    "print('shape of tf-idf :' ,title_tfidf.shape)"
   ]
  },
  {
   "cell_type": "code",
   "execution_count": null,
   "metadata": {},
   "outputs": [],
   "source": [
    "cv = CountVectorizer(vocabulary = df_word['word'],max_features= 3000,min_df= 3, max_df= 0.5)"
   ]
  },
  {
   "cell_type": "code",
   "execution_count": null,
   "metadata": {},
   "outputs": [],
   "source": [
    "pd.DataFrame(title_tfidf.toarray())"
   ]
  },
  {
   "cell_type": "code",
   "execution_count": null,
   "metadata": {},
   "outputs": [],
   "source": [
    "tfidf_df =pd.DataFrame(title_tfidf.toarray(),columns = cv.get_feature_names())"
   ]
  },
  {
   "cell_type": "code",
   "execution_count": null,
   "metadata": {},
   "outputs": [],
   "source": [
    "tfidf_df.index = df1.drop_duplicates([3])[0]"
   ]
  },
  {
   "cell_type": "code",
   "execution_count": null,
   "metadata": {},
   "outputs": [],
   "source": [
    "tfidf_df"
   ]
  },
  {
   "cell_type": "code",
   "execution_count": null,
   "metadata": {},
   "outputs": [],
   "source": [
    "col_lst = []\n",
    "\n",
    "for col in tfidf_df.columns:\n",
    "    if (hasNumber(col)) or (hasEnglish(col)):\n",
    "        pass\n",
    "    else:\n",
    "        col_lst.append(col)\n",
    "    "
   ]
  },
  {
   "cell_type": "code",
   "execution_count": null,
   "metadata": {},
   "outputs": [],
   "source": [
    "tfidf_df_2 = tfidf_df[col_lst].copy()"
   ]
  },
  {
   "cell_type": "code",
   "execution_count": null,
   "metadata": {},
   "outputs": [],
   "source": [
    "from sklearn.model_selection import train_test_split\n",
    "\n",
    "x_train, x_test, y_train, y_test = train_test_split(tfidf_df_2,\n",
    "                                                      tfidf_df_2.index, test_size=0.2, shuffle=True, stratify=tfidf_df_2.index, random_state=34)\n",
    "\n",
    "\n",
    "\n"
   ]
  },
  {
   "cell_type": "code",
   "execution_count": null,
   "metadata": {},
   "outputs": [],
   "source": [
    "NB_clf.fit(x_train,y_train) #tfidf train set을 이용하여 분류기(classifier)를 새로 학습\n",
    "print('Train set score: {:.3f}'.format(NB_clf.score(x_train, y_train))) #train set에 대한 예측정확도를 확인\n",
    "print('Test set score: {:.3f}'.format(NB_clf.score(x_test, y_test))) #test set에 대한 예측정확도를 확인"
   ]
  },
  {
   "cell_type": "markdown",
   "metadata": {},
   "source": [
    "### TF-IDF 먼저 나누고 계산하여 적용"
   ]
  },
  {
   "cell_type": "code",
   "execution_count": null,
   "metadata": {},
   "outputs": [],
   "source": []
  },
  {
   "cell_type": "code",
   "execution_count": null,
   "metadata": {},
   "outputs": [],
   "source": []
  },
  {
   "cell_type": "code",
   "execution_count": null,
   "metadata": {},
   "outputs": [],
   "source": []
  },
  {
   "cell_type": "code",
   "execution_count": null,
   "metadata": {},
   "outputs": [],
   "source": []
  },
  {
   "cell_type": "code",
   "execution_count": null,
   "metadata": {},
   "outputs": [],
   "source": []
  }
 ],
 "metadata": {
  "kernelspec": {
   "display_name": "Python 3",
   "language": "python",
   "name": "python3"
  },
  "language_info": {
   "codemirror_mode": {
    "name": "ipython",
    "version": 3
   },
   "file_extension": ".py",
   "mimetype": "text/x-python",
   "name": "python",
   "nbconvert_exporter": "python",
   "pygments_lexer": "ipython3",
   "version": "3.7.4"
  },
  "toc": {
   "base_numbering": 1,
   "nav_menu": {},
   "number_sections": true,
   "sideBar": true,
   "skip_h1_title": false,
   "title_cell": "Table of Contents",
   "title_sidebar": "Contents",
   "toc_cell": false,
   "toc_position": {},
   "toc_section_display": true,
   "toc_window_display": false
  },
  "varInspector": {
   "cols": {
    "lenName": 16,
    "lenType": 16,
    "lenVar": 40
   },
   "kernels_config": {
    "python": {
     "delete_cmd_postfix": "",
     "delete_cmd_prefix": "del ",
     "library": "var_list.py",
     "varRefreshCmd": "print(var_dic_list())"
    },
    "r": {
     "delete_cmd_postfix": ") ",
     "delete_cmd_prefix": "rm(",
     "library": "var_list.r",
     "varRefreshCmd": "cat(var_dic_list()) "
    }
   },
   "types_to_exclude": [
    "module",
    "function",
    "builtin_function_or_method",
    "instance",
    "_Feature"
   ],
   "window_display": false
  }
 },
 "nbformat": 4,
 "nbformat_minor": 2
}
